{
 "cells": [
  {
   "cell_type": "markdown",
   "id": "22664fcf",
   "metadata": {},
   "source": [
    "# T20 World Cup 2022 Analysis using Python"
   ]
  },
  {
   "cell_type": "markdown",
   "id": "8e3155fb",
   "metadata": {},
   "source": [
    "Every sports event generates a lot of data which we can use to analyze the performance of players, teams, and many highlights of the game. As the ICC Men’s T20 world cup has just finished, it has generated a lot of data we can use to summarize the event. So, if you want to learn how to analyze a sports event like the t20 world cup, this article is for you. This article will take you through the task of T20 World Cup 2022 analysis using Python."
   ]
  },
  {
   "cell_type": "code",
   "execution_count": 3,
   "id": "8132546b",
   "metadata": {},
   "outputs": [
    {
     "ename": "ModuleNotFoundError",
     "evalue": "No module named 'plotly'",
     "output_type": "error",
     "traceback": [
      "\u001b[1;31m---------------------------------------------------------------------------\u001b[0m",
      "\u001b[1;31mModuleNotFoundError\u001b[0m                       Traceback (most recent call last)",
      "\u001b[1;32m<ipython-input-3-c484a187c834>\u001b[0m in \u001b[0;36m<module>\u001b[1;34m\u001b[0m\n\u001b[0;32m      3\u001b[0m \u001b[1;32mimport\u001b[0m \u001b[0mmatplotlib\u001b[0m\u001b[1;33m.\u001b[0m\u001b[0mpyplot\u001b[0m \u001b[1;32mas\u001b[0m \u001b[0mplt\u001b[0m\u001b[1;33m\u001b[0m\u001b[1;33m\u001b[0m\u001b[0m\n\u001b[0;32m      4\u001b[0m \u001b[1;32mimport\u001b[0m \u001b[0mseaborn\u001b[0m \u001b[1;32mas\u001b[0m \u001b[0msns\u001b[0m\u001b[1;33m\u001b[0m\u001b[1;33m\u001b[0m\u001b[0m\n\u001b[1;32m----> 5\u001b[1;33m \u001b[1;32mimport\u001b[0m \u001b[0mplotly\u001b[0m\u001b[1;33m.\u001b[0m\u001b[0mexpress\u001b[0m \u001b[1;32mas\u001b[0m \u001b[0mpx\u001b[0m\u001b[1;33m\u001b[0m\u001b[1;33m\u001b[0m\u001b[0m\n\u001b[0m",
      "\u001b[1;31mModuleNotFoundError\u001b[0m: No module named 'plotly'"
     ]
    }
   ],
   "source": [
    "import numpy as np\n",
    "import pandas as pd\n",
    "import matplotlib.pyplot as plt\n",
    "import seaborn as sns\n",
    "import plotly.express as px"
   ]
  },
  {
   "cell_type": "code",
   "execution_count": 2,
   "id": "16cf2040",
   "metadata": {},
   "outputs": [],
   "source": [
    "df=pd.read_csv('t20-world-cup-22.csv')"
   ]
  },
  {
   "cell_type": "code",
   "execution_count": 3,
   "id": "e158e513",
   "metadata": {},
   "outputs": [
    {
     "data": {
      "text/html": [
       "<div>\n",
       "<style scoped>\n",
       "    .dataframe tbody tr th:only-of-type {\n",
       "        vertical-align: middle;\n",
       "    }\n",
       "\n",
       "    .dataframe tbody tr th {\n",
       "        vertical-align: top;\n",
       "    }\n",
       "\n",
       "    .dataframe thead th {\n",
       "        text-align: right;\n",
       "    }\n",
       "</style>\n",
       "<table border=\"1\" class=\"dataframe\">\n",
       "  <thead>\n",
       "    <tr style=\"text-align: right;\">\n",
       "      <th></th>\n",
       "      <th>venue</th>\n",
       "      <th>team1</th>\n",
       "      <th>team2</th>\n",
       "      <th>stage</th>\n",
       "      <th>toss winner</th>\n",
       "      <th>toss decision</th>\n",
       "      <th>first innings score</th>\n",
       "      <th>first innings wickets</th>\n",
       "      <th>second innings score</th>\n",
       "      <th>second innings wickets</th>\n",
       "      <th>winner</th>\n",
       "      <th>won by</th>\n",
       "      <th>player of the match</th>\n",
       "      <th>top scorer</th>\n",
       "      <th>highest score</th>\n",
       "      <th>best bowler</th>\n",
       "      <th>best bowling figure</th>\n",
       "    </tr>\n",
       "  </thead>\n",
       "  <tbody>\n",
       "    <tr>\n",
       "      <th>0</th>\n",
       "      <td>SCG</td>\n",
       "      <td>New Zealand</td>\n",
       "      <td>Australia</td>\n",
       "      <td>Super 12</td>\n",
       "      <td>Australia</td>\n",
       "      <td>Field</td>\n",
       "      <td>200.0</td>\n",
       "      <td>3.0</td>\n",
       "      <td>111.0</td>\n",
       "      <td>10.0</td>\n",
       "      <td>New Zealand</td>\n",
       "      <td>Runs</td>\n",
       "      <td>Devon Conway</td>\n",
       "      <td>Devon Conway</td>\n",
       "      <td>92.0</td>\n",
       "      <td>Tim Southee</td>\n",
       "      <td>3-6</td>\n",
       "    </tr>\n",
       "    <tr>\n",
       "      <th>1</th>\n",
       "      <td>Optus Stadium</td>\n",
       "      <td>Afghanistan</td>\n",
       "      <td>England</td>\n",
       "      <td>Super 12</td>\n",
       "      <td>England</td>\n",
       "      <td>Field</td>\n",
       "      <td>112.0</td>\n",
       "      <td>10.0</td>\n",
       "      <td>113.0</td>\n",
       "      <td>5.0</td>\n",
       "      <td>England</td>\n",
       "      <td>Wickets</td>\n",
       "      <td>Sam Curran</td>\n",
       "      <td>Ibrahim Zadran</td>\n",
       "      <td>32.0</td>\n",
       "      <td>Sam Curran</td>\n",
       "      <td>5-10</td>\n",
       "    </tr>\n",
       "    <tr>\n",
       "      <th>2</th>\n",
       "      <td>Blundstone Arena</td>\n",
       "      <td>Ireland</td>\n",
       "      <td>Sri lanka</td>\n",
       "      <td>Super 12</td>\n",
       "      <td>Ireland</td>\n",
       "      <td>Bat</td>\n",
       "      <td>128.0</td>\n",
       "      <td>8.0</td>\n",
       "      <td>133.0</td>\n",
       "      <td>1.0</td>\n",
       "      <td>Sri lanka</td>\n",
       "      <td>Wickets</td>\n",
       "      <td>Kusal Mendis</td>\n",
       "      <td>Kusal Mendis</td>\n",
       "      <td>68.0</td>\n",
       "      <td>Maheesh Theekshana</td>\n",
       "      <td>2-19</td>\n",
       "    </tr>\n",
       "    <tr>\n",
       "      <th>3</th>\n",
       "      <td>MCG</td>\n",
       "      <td>Pakistan</td>\n",
       "      <td>India</td>\n",
       "      <td>Super 12</td>\n",
       "      <td>India</td>\n",
       "      <td>Field</td>\n",
       "      <td>159.0</td>\n",
       "      <td>8.0</td>\n",
       "      <td>160.0</td>\n",
       "      <td>6.0</td>\n",
       "      <td>India</td>\n",
       "      <td>Wickets</td>\n",
       "      <td>Virat Kohli</td>\n",
       "      <td>Virat Kohli</td>\n",
       "      <td>82.0</td>\n",
       "      <td>Hardik Pandya</td>\n",
       "      <td>3-30</td>\n",
       "    </tr>\n",
       "    <tr>\n",
       "      <th>4</th>\n",
       "      <td>Blundstone Arena</td>\n",
       "      <td>Bangladesh</td>\n",
       "      <td>Netherlands</td>\n",
       "      <td>Super 12</td>\n",
       "      <td>Netherlands</td>\n",
       "      <td>Field</td>\n",
       "      <td>144.0</td>\n",
       "      <td>8.0</td>\n",
       "      <td>135.0</td>\n",
       "      <td>10.0</td>\n",
       "      <td>Bangladesh</td>\n",
       "      <td>Runs</td>\n",
       "      <td>Taskin Ahmed</td>\n",
       "      <td>Colin Ackermann</td>\n",
       "      <td>62.0</td>\n",
       "      <td>Taskin Ahmed</td>\n",
       "      <td>4-25</td>\n",
       "    </tr>\n",
       "    <tr>\n",
       "      <th>5</th>\n",
       "      <td>Blundstone Arena</td>\n",
       "      <td>Zimbabwe</td>\n",
       "      <td>South Africa</td>\n",
       "      <td>Super 12</td>\n",
       "      <td>Zimbabwe</td>\n",
       "      <td>Bat</td>\n",
       "      <td>79.0</td>\n",
       "      <td>5.0</td>\n",
       "      <td>51.0</td>\n",
       "      <td>0.0</td>\n",
       "      <td>NaN</td>\n",
       "      <td>NaN</td>\n",
       "      <td>NaN</td>\n",
       "      <td>Quinton de Kock</td>\n",
       "      <td>47.0</td>\n",
       "      <td>Lungi Ngidi</td>\n",
       "      <td>2-20</td>\n",
       "    </tr>\n",
       "    <tr>\n",
       "      <th>6</th>\n",
       "      <td>Optus Stadium</td>\n",
       "      <td>Sri lanka</td>\n",
       "      <td>Australia</td>\n",
       "      <td>Super 12</td>\n",
       "      <td>Australia</td>\n",
       "      <td>Field</td>\n",
       "      <td>157.0</td>\n",
       "      <td>6.0</td>\n",
       "      <td>158.0</td>\n",
       "      <td>3.0</td>\n",
       "      <td>Australia</td>\n",
       "      <td>Wickets</td>\n",
       "      <td>Marcus Stoinis</td>\n",
       "      <td>Marcus Stoinis</td>\n",
       "      <td>59.0</td>\n",
       "      <td>Glenn Maxwell</td>\n",
       "      <td>1-5</td>\n",
       "    </tr>\n",
       "    <tr>\n",
       "      <th>7</th>\n",
       "      <td>MCG</td>\n",
       "      <td>Ireland</td>\n",
       "      <td>England</td>\n",
       "      <td>Super 12</td>\n",
       "      <td>England</td>\n",
       "      <td>Field</td>\n",
       "      <td>157.0</td>\n",
       "      <td>10.0</td>\n",
       "      <td>105.0</td>\n",
       "      <td>5.0</td>\n",
       "      <td>Ireland</td>\n",
       "      <td>Runs</td>\n",
       "      <td>Andrew Balbirnie</td>\n",
       "      <td>Andrew Balbirnie</td>\n",
       "      <td>62.0</td>\n",
       "      <td>Liam Livingstone</td>\n",
       "      <td>3-17</td>\n",
       "    </tr>\n",
       "    <tr>\n",
       "      <th>8</th>\n",
       "      <td>MCG</td>\n",
       "      <td>New Zealand</td>\n",
       "      <td>Afghanistan</td>\n",
       "      <td>Super 12</td>\n",
       "      <td>NaN</td>\n",
       "      <td>NaN</td>\n",
       "      <td>NaN</td>\n",
       "      <td>NaN</td>\n",
       "      <td>NaN</td>\n",
       "      <td>NaN</td>\n",
       "      <td>NaN</td>\n",
       "      <td>NaN</td>\n",
       "      <td>NaN</td>\n",
       "      <td>NaN</td>\n",
       "      <td>NaN</td>\n",
       "      <td>NaN</td>\n",
       "      <td>NaN</td>\n",
       "    </tr>\n",
       "    <tr>\n",
       "      <th>9</th>\n",
       "      <td>SCG</td>\n",
       "      <td>South Africa</td>\n",
       "      <td>Bangladesh</td>\n",
       "      <td>Super 12</td>\n",
       "      <td>South Africa</td>\n",
       "      <td>Bat</td>\n",
       "      <td>205.0</td>\n",
       "      <td>5.0</td>\n",
       "      <td>101.0</td>\n",
       "      <td>10.0</td>\n",
       "      <td>South Africa</td>\n",
       "      <td>Runs</td>\n",
       "      <td>Rilee Rossouw</td>\n",
       "      <td>Rilee Rossouw</td>\n",
       "      <td>109.0</td>\n",
       "      <td>Anrich Nortje</td>\n",
       "      <td>4-10</td>\n",
       "    </tr>\n",
       "    <tr>\n",
       "      <th>10</th>\n",
       "      <td>SCG</td>\n",
       "      <td>India</td>\n",
       "      <td>Netherlands</td>\n",
       "      <td>Super 12</td>\n",
       "      <td>India</td>\n",
       "      <td>Bat</td>\n",
       "      <td>179.0</td>\n",
       "      <td>2.0</td>\n",
       "      <td>123.0</td>\n",
       "      <td>9.0</td>\n",
       "      <td>India</td>\n",
       "      <td>Runs</td>\n",
       "      <td>Suryakumar Yadav</td>\n",
       "      <td>Virat Kohli</td>\n",
       "      <td>62.0</td>\n",
       "      <td>Bhuvneshwar Kumar</td>\n",
       "      <td>2-19</td>\n",
       "    </tr>\n",
       "    <tr>\n",
       "      <th>11</th>\n",
       "      <td>Optus Stadium</td>\n",
       "      <td>Zimbabwe</td>\n",
       "      <td>Pakistan</td>\n",
       "      <td>Super 12</td>\n",
       "      <td>Zimbabwe</td>\n",
       "      <td>Bat</td>\n",
       "      <td>130.0</td>\n",
       "      <td>8.0</td>\n",
       "      <td>129.0</td>\n",
       "      <td>8.0</td>\n",
       "      <td>Zimbabwe</td>\n",
       "      <td>Runs</td>\n",
       "      <td>Sikandar Raza</td>\n",
       "      <td>Shan Masood</td>\n",
       "      <td>44.0</td>\n",
       "      <td>Mohammad Wasim</td>\n",
       "      <td>4-24</td>\n",
       "    </tr>\n",
       "    <tr>\n",
       "      <th>12</th>\n",
       "      <td>MCG</td>\n",
       "      <td>Afghanistan</td>\n",
       "      <td>Ireland</td>\n",
       "      <td>Super 12</td>\n",
       "      <td>NaN</td>\n",
       "      <td>NaN</td>\n",
       "      <td>NaN</td>\n",
       "      <td>NaN</td>\n",
       "      <td>NaN</td>\n",
       "      <td>NaN</td>\n",
       "      <td>NaN</td>\n",
       "      <td>NaN</td>\n",
       "      <td>NaN</td>\n",
       "      <td>NaN</td>\n",
       "      <td>NaN</td>\n",
       "      <td>NaN</td>\n",
       "      <td>NaN</td>\n",
       "    </tr>\n",
       "    <tr>\n",
       "      <th>13</th>\n",
       "      <td>MCG</td>\n",
       "      <td>Australia</td>\n",
       "      <td>England</td>\n",
       "      <td>Super 12</td>\n",
       "      <td>NaN</td>\n",
       "      <td>NaN</td>\n",
       "      <td>NaN</td>\n",
       "      <td>NaN</td>\n",
       "      <td>NaN</td>\n",
       "      <td>NaN</td>\n",
       "      <td>NaN</td>\n",
       "      <td>NaN</td>\n",
       "      <td>NaN</td>\n",
       "      <td>NaN</td>\n",
       "      <td>NaN</td>\n",
       "      <td>NaN</td>\n",
       "      <td>NaN</td>\n",
       "    </tr>\n",
       "    <tr>\n",
       "      <th>14</th>\n",
       "      <td>SCG</td>\n",
       "      <td>New Zealand</td>\n",
       "      <td>Sri lanka</td>\n",
       "      <td>Super 12</td>\n",
       "      <td>New Zealand</td>\n",
       "      <td>Bat</td>\n",
       "      <td>167.0</td>\n",
       "      <td>7.0</td>\n",
       "      <td>102.0</td>\n",
       "      <td>10.0</td>\n",
       "      <td>New Zealand</td>\n",
       "      <td>Runs</td>\n",
       "      <td>Glenn Phillips</td>\n",
       "      <td>Glenn Phillips</td>\n",
       "      <td>104.0</td>\n",
       "      <td>Trent Boult</td>\n",
       "      <td>4-13</td>\n",
       "    </tr>\n",
       "    <tr>\n",
       "      <th>15</th>\n",
       "      <td>The Gabba</td>\n",
       "      <td>Bangladesh</td>\n",
       "      <td>Zimbabwe</td>\n",
       "      <td>Super 12</td>\n",
       "      <td>Bangladesh</td>\n",
       "      <td>Bat</td>\n",
       "      <td>150.0</td>\n",
       "      <td>7.0</td>\n",
       "      <td>147.0</td>\n",
       "      <td>8.0</td>\n",
       "      <td>Bangladesh</td>\n",
       "      <td>Runs</td>\n",
       "      <td>Taskin Ahmed</td>\n",
       "      <td>Najmul Hossain</td>\n",
       "      <td>71.0</td>\n",
       "      <td>Taskin Ahmed</td>\n",
       "      <td>3-19</td>\n",
       "    </tr>\n",
       "    <tr>\n",
       "      <th>16</th>\n",
       "      <td>Optus Stadium</td>\n",
       "      <td>Netherlands</td>\n",
       "      <td>Pakistan</td>\n",
       "      <td>Super 12</td>\n",
       "      <td>Netherlands</td>\n",
       "      <td>Bat</td>\n",
       "      <td>91.0</td>\n",
       "      <td>9.0</td>\n",
       "      <td>95.0</td>\n",
       "      <td>4.0</td>\n",
       "      <td>Pakistan</td>\n",
       "      <td>Wickets</td>\n",
       "      <td>Shadab Khan</td>\n",
       "      <td>Mohammad Rizwan</td>\n",
       "      <td>49.0</td>\n",
       "      <td>Shadab Khan</td>\n",
       "      <td>3-22</td>\n",
       "    </tr>\n",
       "    <tr>\n",
       "      <th>17</th>\n",
       "      <td>Optus Stadium</td>\n",
       "      <td>India</td>\n",
       "      <td>South Africa</td>\n",
       "      <td>Super 12</td>\n",
       "      <td>India</td>\n",
       "      <td>Bat</td>\n",
       "      <td>133.0</td>\n",
       "      <td>9.0</td>\n",
       "      <td>137.0</td>\n",
       "      <td>5.0</td>\n",
       "      <td>South Africa</td>\n",
       "      <td>Wickets</td>\n",
       "      <td>Lungi Ngidi</td>\n",
       "      <td>Suryakumar Yadav</td>\n",
       "      <td>68.0</td>\n",
       "      <td>Lungi Ngidi</td>\n",
       "      <td>4-29</td>\n",
       "    </tr>\n",
       "    <tr>\n",
       "      <th>18</th>\n",
       "      <td>The Gabba</td>\n",
       "      <td>Australia</td>\n",
       "      <td>Ireland</td>\n",
       "      <td>Super 12</td>\n",
       "      <td>Ireland</td>\n",
       "      <td>Field</td>\n",
       "      <td>179.0</td>\n",
       "      <td>5.0</td>\n",
       "      <td>137.0</td>\n",
       "      <td>10.0</td>\n",
       "      <td>Australia</td>\n",
       "      <td>Runs</td>\n",
       "      <td>Aaron Finch</td>\n",
       "      <td>Lorcan Tucker</td>\n",
       "      <td>71.0</td>\n",
       "      <td>Barry McCarthy</td>\n",
       "      <td>3-29</td>\n",
       "    </tr>\n",
       "    <tr>\n",
       "      <th>19</th>\n",
       "      <td>The Gabba</td>\n",
       "      <td>Afghanistan</td>\n",
       "      <td>Sri lanka</td>\n",
       "      <td>Super 12</td>\n",
       "      <td>Afghanistan</td>\n",
       "      <td>Bat</td>\n",
       "      <td>144.0</td>\n",
       "      <td>8.0</td>\n",
       "      <td>148.0</td>\n",
       "      <td>4.0</td>\n",
       "      <td>Sri lanka</td>\n",
       "      <td>Wickets</td>\n",
       "      <td>Wanindu Hasaranga</td>\n",
       "      <td>de Silva</td>\n",
       "      <td>66.0</td>\n",
       "      <td>Wanindu Hasaranga</td>\n",
       "      <td>3-13</td>\n",
       "    </tr>\n",
       "    <tr>\n",
       "      <th>20</th>\n",
       "      <td>The Gabba</td>\n",
       "      <td>England</td>\n",
       "      <td>New Zealand</td>\n",
       "      <td>Super 12</td>\n",
       "      <td>England</td>\n",
       "      <td>Bat</td>\n",
       "      <td>179.0</td>\n",
       "      <td>6.0</td>\n",
       "      <td>159.0</td>\n",
       "      <td>6.0</td>\n",
       "      <td>England</td>\n",
       "      <td>Runs</td>\n",
       "      <td>Jos Buttler</td>\n",
       "      <td>Jos Buttler</td>\n",
       "      <td>73.0</td>\n",
       "      <td>Sam Curran</td>\n",
       "      <td>2-26</td>\n",
       "    </tr>\n",
       "    <tr>\n",
       "      <th>21</th>\n",
       "      <td>Adelaide Oval</td>\n",
       "      <td>Zimbabwe</td>\n",
       "      <td>Netherlands</td>\n",
       "      <td>Super 12</td>\n",
       "      <td>Zimbabwe</td>\n",
       "      <td>Bat</td>\n",
       "      <td>117.0</td>\n",
       "      <td>10.0</td>\n",
       "      <td>120.0</td>\n",
       "      <td>5.0</td>\n",
       "      <td>Netherlands</td>\n",
       "      <td>Wickets</td>\n",
       "      <td>Max O'Dowd</td>\n",
       "      <td>Max O'Dowd</td>\n",
       "      <td>52.0</td>\n",
       "      <td>Paul van Meekeren</td>\n",
       "      <td>3-29</td>\n",
       "    </tr>\n",
       "    <tr>\n",
       "      <th>22</th>\n",
       "      <td>Adelaide Oval</td>\n",
       "      <td>India</td>\n",
       "      <td>Bangladesh</td>\n",
       "      <td>Super 12</td>\n",
       "      <td>Bangladesh</td>\n",
       "      <td>Field</td>\n",
       "      <td>184.0</td>\n",
       "      <td>6.0</td>\n",
       "      <td>145.0</td>\n",
       "      <td>6.0</td>\n",
       "      <td>India</td>\n",
       "      <td>Runs</td>\n",
       "      <td>Virat Kohli</td>\n",
       "      <td>Virat Kohli</td>\n",
       "      <td>64.0</td>\n",
       "      <td>Hasan Mahmud</td>\n",
       "      <td>3-47</td>\n",
       "    </tr>\n",
       "    <tr>\n",
       "      <th>23</th>\n",
       "      <td>SCG</td>\n",
       "      <td>Pakistan</td>\n",
       "      <td>South Africa</td>\n",
       "      <td>Super 12</td>\n",
       "      <td>Pakistan</td>\n",
       "      <td>Bat</td>\n",
       "      <td>185.0</td>\n",
       "      <td>9.0</td>\n",
       "      <td>108.0</td>\n",
       "      <td>9.0</td>\n",
       "      <td>Pakistan</td>\n",
       "      <td>Runs</td>\n",
       "      <td>Shadab Khan</td>\n",
       "      <td>Shadab Khan</td>\n",
       "      <td>52.0</td>\n",
       "      <td>Anrich Nortje</td>\n",
       "      <td>4-41</td>\n",
       "    </tr>\n",
       "    <tr>\n",
       "      <th>24</th>\n",
       "      <td>Adelaide Oval</td>\n",
       "      <td>New Zealand</td>\n",
       "      <td>Ireland</td>\n",
       "      <td>Super 12</td>\n",
       "      <td>Ireland</td>\n",
       "      <td>Field</td>\n",
       "      <td>185.0</td>\n",
       "      <td>6.0</td>\n",
       "      <td>150.0</td>\n",
       "      <td>9.0</td>\n",
       "      <td>New Zealand</td>\n",
       "      <td>Runs</td>\n",
       "      <td>Kane Williamson</td>\n",
       "      <td>Kane Williamson</td>\n",
       "      <td>61.0</td>\n",
       "      <td>Lockie Ferguson</td>\n",
       "      <td>3-22</td>\n",
       "    </tr>\n",
       "    <tr>\n",
       "      <th>25</th>\n",
       "      <td>Adelaide Oval</td>\n",
       "      <td>Australia</td>\n",
       "      <td>Afghanistan</td>\n",
       "      <td>Super 12</td>\n",
       "      <td>Afghanistan</td>\n",
       "      <td>Field</td>\n",
       "      <td>168.0</td>\n",
       "      <td>8.0</td>\n",
       "      <td>164.0</td>\n",
       "      <td>7.0</td>\n",
       "      <td>Australia</td>\n",
       "      <td>Runs</td>\n",
       "      <td>Glenn Maxwell</td>\n",
       "      <td>Glenn Maxwell</td>\n",
       "      <td>54.0</td>\n",
       "      <td>Naveen-ul-Haq</td>\n",
       "      <td>3-21</td>\n",
       "    </tr>\n",
       "    <tr>\n",
       "      <th>26</th>\n",
       "      <td>SCG</td>\n",
       "      <td>Sri lanka</td>\n",
       "      <td>England</td>\n",
       "      <td>Super 12</td>\n",
       "      <td>Sri lanka</td>\n",
       "      <td>Bat</td>\n",
       "      <td>141.0</td>\n",
       "      <td>8.0</td>\n",
       "      <td>144.0</td>\n",
       "      <td>6.0</td>\n",
       "      <td>England</td>\n",
       "      <td>Wickets</td>\n",
       "      <td>Adil Rashid</td>\n",
       "      <td>Pathum Nissanka</td>\n",
       "      <td>67.0</td>\n",
       "      <td>Mark Wood</td>\n",
       "      <td>3-26</td>\n",
       "    </tr>\n",
       "    <tr>\n",
       "      <th>27</th>\n",
       "      <td>Adelaide Oval</td>\n",
       "      <td>Netherlands</td>\n",
       "      <td>South Africa</td>\n",
       "      <td>Super 12</td>\n",
       "      <td>South Africa</td>\n",
       "      <td>Field</td>\n",
       "      <td>158.0</td>\n",
       "      <td>4.0</td>\n",
       "      <td>145.0</td>\n",
       "      <td>8.0</td>\n",
       "      <td>Netherlands</td>\n",
       "      <td>Runs</td>\n",
       "      <td>Colin Ackermann</td>\n",
       "      <td>Colin Ackermann</td>\n",
       "      <td>41.0</td>\n",
       "      <td>Brandon Glover</td>\n",
       "      <td>3-9</td>\n",
       "    </tr>\n",
       "    <tr>\n",
       "      <th>28</th>\n",
       "      <td>Adelaide Oval</td>\n",
       "      <td>Bangladesh</td>\n",
       "      <td>Pakistan</td>\n",
       "      <td>Super 12</td>\n",
       "      <td>Bangladesh</td>\n",
       "      <td>Bat</td>\n",
       "      <td>127.0</td>\n",
       "      <td>8.0</td>\n",
       "      <td>128.0</td>\n",
       "      <td>5.0</td>\n",
       "      <td>Pakistan</td>\n",
       "      <td>Wickets</td>\n",
       "      <td>Shaheen Afridi</td>\n",
       "      <td>Najmul Hossain</td>\n",
       "      <td>54.0</td>\n",
       "      <td>Shaheen Afridi</td>\n",
       "      <td>4-22</td>\n",
       "    </tr>\n",
       "    <tr>\n",
       "      <th>29</th>\n",
       "      <td>MCG</td>\n",
       "      <td>India</td>\n",
       "      <td>Zimbabwe</td>\n",
       "      <td>Super 12</td>\n",
       "      <td>India</td>\n",
       "      <td>Bat</td>\n",
       "      <td>186.0</td>\n",
       "      <td>5.0</td>\n",
       "      <td>115.0</td>\n",
       "      <td>10.0</td>\n",
       "      <td>India</td>\n",
       "      <td>Runs</td>\n",
       "      <td>Suryakumar Yadav</td>\n",
       "      <td>Suryakumar Yadav</td>\n",
       "      <td>61.0</td>\n",
       "      <td>Ravichandran Ashwin</td>\n",
       "      <td>3-22</td>\n",
       "    </tr>\n",
       "    <tr>\n",
       "      <th>30</th>\n",
       "      <td>SCG</td>\n",
       "      <td>New Zealand</td>\n",
       "      <td>Pakistan</td>\n",
       "      <td>Semi-final</td>\n",
       "      <td>New Zealand</td>\n",
       "      <td>Bat</td>\n",
       "      <td>152.0</td>\n",
       "      <td>4.0</td>\n",
       "      <td>153.0</td>\n",
       "      <td>3.0</td>\n",
       "      <td>Pakistan</td>\n",
       "      <td>Wickets</td>\n",
       "      <td>Mohammad Rizwan</td>\n",
       "      <td>Mohammad Rizwan</td>\n",
       "      <td>57.0</td>\n",
       "      <td>Shaheen Afridi</td>\n",
       "      <td>2-24</td>\n",
       "    </tr>\n",
       "    <tr>\n",
       "      <th>31</th>\n",
       "      <td>Adelaide Oval</td>\n",
       "      <td>India</td>\n",
       "      <td>England</td>\n",
       "      <td>Semi-final</td>\n",
       "      <td>England</td>\n",
       "      <td>Field</td>\n",
       "      <td>168.0</td>\n",
       "      <td>6.0</td>\n",
       "      <td>170.0</td>\n",
       "      <td>0.0</td>\n",
       "      <td>England</td>\n",
       "      <td>Wickets</td>\n",
       "      <td>Alex Hales</td>\n",
       "      <td>Alex Hales</td>\n",
       "      <td>86.0</td>\n",
       "      <td>Chris Jordan</td>\n",
       "      <td>3-43</td>\n",
       "    </tr>\n",
       "    <tr>\n",
       "      <th>32</th>\n",
       "      <td>MCG</td>\n",
       "      <td>Pakistan</td>\n",
       "      <td>England</td>\n",
       "      <td>Final</td>\n",
       "      <td>England</td>\n",
       "      <td>Field</td>\n",
       "      <td>137.0</td>\n",
       "      <td>8.0</td>\n",
       "      <td>138.0</td>\n",
       "      <td>5.0</td>\n",
       "      <td>England</td>\n",
       "      <td>Wickets</td>\n",
       "      <td>Sam Curran</td>\n",
       "      <td>Ben Stokes</td>\n",
       "      <td>52.0</td>\n",
       "      <td>Sam Curran</td>\n",
       "      <td>3-12</td>\n",
       "    </tr>\n",
       "  </tbody>\n",
       "</table>\n",
       "</div>"
      ],
      "text/plain": [
       "               venue         team1         team2       stage   toss winner  \\\n",
       "0                SCG   New Zealand     Australia    Super 12     Australia   \n",
       "1      Optus Stadium   Afghanistan       England    Super 12       England   \n",
       "2   Blundstone Arena       Ireland     Sri lanka    Super 12       Ireland   \n",
       "3                MCG      Pakistan         India    Super 12         India   \n",
       "4   Blundstone Arena    Bangladesh   Netherlands    Super 12   Netherlands   \n",
       "5   Blundstone Arena      Zimbabwe  South Africa    Super 12      Zimbabwe   \n",
       "6      Optus Stadium     Sri lanka     Australia    Super 12     Australia   \n",
       "7                MCG       Ireland       England    Super 12       England   \n",
       "8                MCG   New Zealand   Afghanistan    Super 12           NaN   \n",
       "9                SCG  South Africa    Bangladesh    Super 12  South Africa   \n",
       "10               SCG         India   Netherlands    Super 12         India   \n",
       "11     Optus Stadium      Zimbabwe      Pakistan    Super 12      Zimbabwe   \n",
       "12               MCG   Afghanistan       Ireland    Super 12           NaN   \n",
       "13               MCG     Australia       England    Super 12           NaN   \n",
       "14               SCG   New Zealand     Sri lanka    Super 12   New Zealand   \n",
       "15         The Gabba    Bangladesh      Zimbabwe    Super 12    Bangladesh   \n",
       "16     Optus Stadium   Netherlands      Pakistan    Super 12   Netherlands   \n",
       "17     Optus Stadium         India  South Africa    Super 12         India   \n",
       "18         The Gabba     Australia       Ireland    Super 12       Ireland   \n",
       "19         The Gabba   Afghanistan     Sri lanka    Super 12   Afghanistan   \n",
       "20         The Gabba       England   New Zealand    Super 12       England   \n",
       "21     Adelaide Oval      Zimbabwe   Netherlands    Super 12      Zimbabwe   \n",
       "22     Adelaide Oval         India    Bangladesh    Super 12    Bangladesh   \n",
       "23               SCG      Pakistan  South Africa    Super 12      Pakistan   \n",
       "24     Adelaide Oval   New Zealand       Ireland    Super 12       Ireland   \n",
       "25     Adelaide Oval     Australia   Afghanistan    Super 12   Afghanistan   \n",
       "26               SCG     Sri lanka       England    Super 12     Sri lanka   \n",
       "27     Adelaide Oval   Netherlands  South Africa    Super 12  South Africa   \n",
       "28     Adelaide Oval    Bangladesh      Pakistan    Super 12    Bangladesh   \n",
       "29               MCG         India      Zimbabwe    Super 12         India   \n",
       "30               SCG   New Zealand      Pakistan  Semi-final   New Zealand   \n",
       "31     Adelaide Oval         India       England  Semi-final       England   \n",
       "32               MCG      Pakistan       England       Final       England   \n",
       "\n",
       "   toss decision  first innings score  first innings wickets  \\\n",
       "0          Field                200.0                    3.0   \n",
       "1          Field                112.0                   10.0   \n",
       "2            Bat                128.0                    8.0   \n",
       "3          Field                159.0                    8.0   \n",
       "4          Field                144.0                    8.0   \n",
       "5            Bat                 79.0                    5.0   \n",
       "6          Field                157.0                    6.0   \n",
       "7          Field                157.0                   10.0   \n",
       "8            NaN                  NaN                    NaN   \n",
       "9            Bat                205.0                    5.0   \n",
       "10           Bat                179.0                    2.0   \n",
       "11           Bat                130.0                    8.0   \n",
       "12           NaN                  NaN                    NaN   \n",
       "13           NaN                  NaN                    NaN   \n",
       "14           Bat                167.0                    7.0   \n",
       "15           Bat                150.0                    7.0   \n",
       "16           Bat                 91.0                    9.0   \n",
       "17           Bat                133.0                    9.0   \n",
       "18         Field                179.0                    5.0   \n",
       "19           Bat                144.0                    8.0   \n",
       "20           Bat                179.0                    6.0   \n",
       "21           Bat                117.0                   10.0   \n",
       "22         Field                184.0                    6.0   \n",
       "23           Bat                185.0                    9.0   \n",
       "24         Field                185.0                    6.0   \n",
       "25         Field                168.0                    8.0   \n",
       "26           Bat                141.0                    8.0   \n",
       "27         Field                158.0                    4.0   \n",
       "28           Bat                127.0                    8.0   \n",
       "29           Bat                186.0                    5.0   \n",
       "30           Bat                152.0                    4.0   \n",
       "31         Field                168.0                    6.0   \n",
       "32         Field                137.0                    8.0   \n",
       "\n",
       "    second innings score  second innings wickets        winner   won by  \\\n",
       "0                  111.0                    10.0   New Zealand     Runs   \n",
       "1                  113.0                     5.0       England  Wickets   \n",
       "2                  133.0                     1.0     Sri lanka  Wickets   \n",
       "3                  160.0                     6.0         India  Wickets   \n",
       "4                  135.0                    10.0    Bangladesh     Runs   \n",
       "5                   51.0                     0.0           NaN      NaN   \n",
       "6                  158.0                     3.0     Australia  Wickets   \n",
       "7                  105.0                     5.0       Ireland     Runs   \n",
       "8                    NaN                     NaN           NaN      NaN   \n",
       "9                  101.0                    10.0  South Africa     Runs   \n",
       "10                 123.0                     9.0         India     Runs   \n",
       "11                 129.0                     8.0      Zimbabwe     Runs   \n",
       "12                   NaN                     NaN           NaN      NaN   \n",
       "13                   NaN                     NaN           NaN      NaN   \n",
       "14                 102.0                    10.0   New Zealand     Runs   \n",
       "15                 147.0                     8.0    Bangladesh     Runs   \n",
       "16                  95.0                     4.0      Pakistan  Wickets   \n",
       "17                 137.0                     5.0  South Africa  Wickets   \n",
       "18                 137.0                    10.0     Australia     Runs   \n",
       "19                 148.0                     4.0     Sri lanka  Wickets   \n",
       "20                 159.0                     6.0       England     Runs   \n",
       "21                 120.0                     5.0   Netherlands  Wickets   \n",
       "22                 145.0                     6.0         India     Runs   \n",
       "23                 108.0                     9.0      Pakistan     Runs   \n",
       "24                 150.0                     9.0   New Zealand     Runs   \n",
       "25                 164.0                     7.0     Australia     Runs   \n",
       "26                 144.0                     6.0       England  Wickets   \n",
       "27                 145.0                     8.0   Netherlands     Runs   \n",
       "28                 128.0                     5.0      Pakistan  Wickets   \n",
       "29                 115.0                    10.0         India     Runs   \n",
       "30                 153.0                     3.0      Pakistan  Wickets   \n",
       "31                 170.0                     0.0       England  Wickets   \n",
       "32                 138.0                     5.0       England  Wickets   \n",
       "\n",
       "   player of the match        top scorer  highest score          best bowler  \\\n",
       "0         Devon Conway      Devon Conway           92.0          Tim Southee   \n",
       "1           Sam Curran    Ibrahim Zadran           32.0           Sam Curran   \n",
       "2         Kusal Mendis      Kusal Mendis           68.0   Maheesh Theekshana   \n",
       "3          Virat Kohli       Virat Kohli           82.0        Hardik Pandya   \n",
       "4         Taskin Ahmed   Colin Ackermann           62.0         Taskin Ahmed   \n",
       "5                  NaN   Quinton de Kock           47.0          Lungi Ngidi   \n",
       "6       Marcus Stoinis    Marcus Stoinis           59.0        Glenn Maxwell   \n",
       "7     Andrew Balbirnie  Andrew Balbirnie           62.0     Liam Livingstone   \n",
       "8                  NaN               NaN            NaN                  NaN   \n",
       "9        Rilee Rossouw     Rilee Rossouw          109.0        Anrich Nortje   \n",
       "10    Suryakumar Yadav       Virat Kohli           62.0    Bhuvneshwar Kumar   \n",
       "11       Sikandar Raza       Shan Masood           44.0       Mohammad Wasim   \n",
       "12                 NaN               NaN            NaN                  NaN   \n",
       "13                 NaN               NaN            NaN                  NaN   \n",
       "14      Glenn Phillips    Glenn Phillips          104.0          Trent Boult   \n",
       "15        Taskin Ahmed    Najmul Hossain           71.0         Taskin Ahmed   \n",
       "16         Shadab Khan   Mohammad Rizwan           49.0          Shadab Khan   \n",
       "17         Lungi Ngidi  Suryakumar Yadav           68.0          Lungi Ngidi   \n",
       "18         Aaron Finch     Lorcan Tucker           71.0       Barry McCarthy   \n",
       "19   Wanindu Hasaranga          de Silva           66.0    Wanindu Hasaranga   \n",
       "20         Jos Buttler       Jos Buttler           73.0           Sam Curran   \n",
       "21          Max O'Dowd        Max O'Dowd           52.0    Paul van Meekeren   \n",
       "22         Virat Kohli       Virat Kohli           64.0         Hasan Mahmud   \n",
       "23         Shadab Khan       Shadab Khan           52.0        Anrich Nortje   \n",
       "24     Kane Williamson   Kane Williamson           61.0      Lockie Ferguson   \n",
       "25       Glenn Maxwell     Glenn Maxwell           54.0        Naveen-ul-Haq   \n",
       "26         Adil Rashid   Pathum Nissanka           67.0            Mark Wood   \n",
       "27     Colin Ackermann   Colin Ackermann           41.0       Brandon Glover   \n",
       "28      Shaheen Afridi    Najmul Hossain           54.0       Shaheen Afridi   \n",
       "29    Suryakumar Yadav  Suryakumar Yadav           61.0  Ravichandran Ashwin   \n",
       "30     Mohammad Rizwan   Mohammad Rizwan           57.0       Shaheen Afridi   \n",
       "31          Alex Hales        Alex Hales           86.0         Chris Jordan   \n",
       "32          Sam Curran        Ben Stokes           52.0           Sam Curran   \n",
       "\n",
       "   best bowling figure  \n",
       "0                  3-6  \n",
       "1                 5-10  \n",
       "2                 2-19  \n",
       "3                 3-30  \n",
       "4                 4-25  \n",
       "5                 2-20  \n",
       "6                  1-5  \n",
       "7                 3-17  \n",
       "8                  NaN  \n",
       "9                 4-10  \n",
       "10                2-19  \n",
       "11                4-24  \n",
       "12                 NaN  \n",
       "13                 NaN  \n",
       "14                4-13  \n",
       "15                3-19  \n",
       "16                3-22  \n",
       "17                4-29  \n",
       "18                3-29  \n",
       "19                3-13  \n",
       "20                2-26  \n",
       "21                3-29  \n",
       "22                3-47  \n",
       "23                4-41  \n",
       "24                3-22  \n",
       "25                3-21  \n",
       "26                3-26  \n",
       "27                 3-9  \n",
       "28                4-22  \n",
       "29                3-22  \n",
       "30                2-24  \n",
       "31                3-43  \n",
       "32                3-12  "
      ]
     },
     "execution_count": 3,
     "metadata": {},
     "output_type": "execute_result"
    }
   ],
   "source": [
    "df"
   ]
  },
  {
   "cell_type": "code",
   "execution_count": 4,
   "id": "48e9a715",
   "metadata": {},
   "outputs": [
    {
     "data": {
      "text/plain": [
       "(33, 17)"
      ]
     },
     "execution_count": 4,
     "metadata": {},
     "output_type": "execute_result"
    }
   ],
   "source": [
    "df.shape"
   ]
  },
  {
   "cell_type": "code",
   "execution_count": 5,
   "id": "b5c601fd",
   "metadata": {},
   "outputs": [
    {
     "name": "stdout",
     "output_type": "stream",
     "text": [
      "<class 'pandas.core.frame.DataFrame'>\n",
      "RangeIndex: 33 entries, 0 to 32\n",
      "Data columns (total 17 columns):\n",
      " #   Column                  Non-Null Count  Dtype  \n",
      "---  ------                  --------------  -----  \n",
      " 0   venue                   33 non-null     object \n",
      " 1   team1                   33 non-null     object \n",
      " 2   team2                   33 non-null     object \n",
      " 3   stage                   33 non-null     object \n",
      " 4   toss winner             30 non-null     object \n",
      " 5   toss decision           30 non-null     object \n",
      " 6   first innings score     30 non-null     float64\n",
      " 7   first innings wickets   30 non-null     float64\n",
      " 8   second innings score    30 non-null     float64\n",
      " 9   second innings wickets  30 non-null     float64\n",
      " 10  winner                  29 non-null     object \n",
      " 11  won by                  29 non-null     object \n",
      " 12  player of the match     29 non-null     object \n",
      " 13  top scorer              30 non-null     object \n",
      " 14  highest score           30 non-null     float64\n",
      " 15  best bowler             30 non-null     object \n",
      " 16  best bowling figure     30 non-null     object \n",
      "dtypes: float64(5), object(12)\n",
      "memory usage: 4.5+ KB\n"
     ]
    }
   ],
   "source": [
    "df.info()"
   ]
  },
  {
   "cell_type": "code",
   "execution_count": 6,
   "id": "6155de00",
   "metadata": {},
   "outputs": [
    {
     "data": {
      "text/html": [
       "<div>\n",
       "<style scoped>\n",
       "    .dataframe tbody tr th:only-of-type {\n",
       "        vertical-align: middle;\n",
       "    }\n",
       "\n",
       "    .dataframe tbody tr th {\n",
       "        vertical-align: top;\n",
       "    }\n",
       "\n",
       "    .dataframe thead th {\n",
       "        text-align: right;\n",
       "    }\n",
       "</style>\n",
       "<table border=\"1\" class=\"dataframe\">\n",
       "  <thead>\n",
       "    <tr style=\"text-align: right;\">\n",
       "      <th></th>\n",
       "      <th>venue</th>\n",
       "      <th>team1</th>\n",
       "      <th>team2</th>\n",
       "      <th>stage</th>\n",
       "      <th>toss winner</th>\n",
       "      <th>toss decision</th>\n",
       "      <th>winner</th>\n",
       "      <th>won by</th>\n",
       "      <th>player of the match</th>\n",
       "      <th>top scorer</th>\n",
       "      <th>best bowler</th>\n",
       "      <th>best bowling figure</th>\n",
       "    </tr>\n",
       "  </thead>\n",
       "  <tbody>\n",
       "    <tr>\n",
       "      <th>count</th>\n",
       "      <td>33</td>\n",
       "      <td>33</td>\n",
       "      <td>33</td>\n",
       "      <td>33</td>\n",
       "      <td>30</td>\n",
       "      <td>30</td>\n",
       "      <td>29</td>\n",
       "      <td>29</td>\n",
       "      <td>29</td>\n",
       "      <td>30</td>\n",
       "      <td>30</td>\n",
       "      <td>30</td>\n",
       "    </tr>\n",
       "    <tr>\n",
       "      <th>unique</th>\n",
       "      <td>6</td>\n",
       "      <td>12</td>\n",
       "      <td>12</td>\n",
       "      <td>3</td>\n",
       "      <td>12</td>\n",
       "      <td>2</td>\n",
       "      <td>11</td>\n",
       "      <td>2</td>\n",
       "      <td>24</td>\n",
       "      <td>24</td>\n",
       "      <td>24</td>\n",
       "      <td>26</td>\n",
       "    </tr>\n",
       "    <tr>\n",
       "      <th>top</th>\n",
       "      <td>SCG</td>\n",
       "      <td>India</td>\n",
       "      <td>England</td>\n",
       "      <td>Super 12</td>\n",
       "      <td>England</td>\n",
       "      <td>Bat</td>\n",
       "      <td>England</td>\n",
       "      <td>Runs</td>\n",
       "      <td>Shadab Khan</td>\n",
       "      <td>Virat Kohli</td>\n",
       "      <td>Sam Curran</td>\n",
       "      <td>3-22</td>\n",
       "    </tr>\n",
       "    <tr>\n",
       "      <th>freq</th>\n",
       "      <td>7</td>\n",
       "      <td>5</td>\n",
       "      <td>6</td>\n",
       "      <td>30</td>\n",
       "      <td>5</td>\n",
       "      <td>17</td>\n",
       "      <td>5</td>\n",
       "      <td>16</td>\n",
       "      <td>2</td>\n",
       "      <td>3</td>\n",
       "      <td>3</td>\n",
       "      <td>3</td>\n",
       "    </tr>\n",
       "  </tbody>\n",
       "</table>\n",
       "</div>"
      ],
      "text/plain": [
       "       venue  team1    team2     stage toss winner toss decision   winner  \\\n",
       "count     33     33       33        33          30            30       29   \n",
       "unique     6     12       12         3          12             2       11   \n",
       "top      SCG  India  England  Super 12     England           Bat  England   \n",
       "freq       7      5        6        30           5            17        5   \n",
       "\n",
       "       won by player of the match   top scorer best bowler best bowling figure  \n",
       "count      29                  29           30          30                  30  \n",
       "unique      2                  24           24          24                  26  \n",
       "top      Runs         Shadab Khan  Virat Kohli  Sam Curran                3-22  \n",
       "freq       16                   2            3           3                   3  "
      ]
     },
     "execution_count": 6,
     "metadata": {},
     "output_type": "execute_result"
    }
   ],
   "source": [
    "df.describe(include=object)"
   ]
  },
  {
   "cell_type": "code",
   "execution_count": 7,
   "id": "8e4de9ee",
   "metadata": {},
   "outputs": [
    {
     "data": {
      "text/html": [
       "<div>\n",
       "<style scoped>\n",
       "    .dataframe tbody tr th:only-of-type {\n",
       "        vertical-align: middle;\n",
       "    }\n",
       "\n",
       "    .dataframe tbody tr th {\n",
       "        vertical-align: top;\n",
       "    }\n",
       "\n",
       "    .dataframe thead th {\n",
       "        text-align: right;\n",
       "    }\n",
       "</style>\n",
       "<table border=\"1\" class=\"dataframe\">\n",
       "  <thead>\n",
       "    <tr style=\"text-align: right;\">\n",
       "      <th></th>\n",
       "      <th>first innings score</th>\n",
       "      <th>first innings wickets</th>\n",
       "      <th>second innings score</th>\n",
       "      <th>second innings wickets</th>\n",
       "      <th>highest score</th>\n",
       "    </tr>\n",
       "  </thead>\n",
       "  <tbody>\n",
       "    <tr>\n",
       "      <th>count</th>\n",
       "      <td>30.000000</td>\n",
       "      <td>30.000000</td>\n",
       "      <td>30.000000</td>\n",
       "      <td>30.000000</td>\n",
       "      <td>30.000000</td>\n",
       "    </tr>\n",
       "    <tr>\n",
       "      <th>mean</th>\n",
       "      <td>153.366667</td>\n",
       "      <td>6.866667</td>\n",
       "      <td>130.800000</td>\n",
       "      <td>6.233333</td>\n",
       "      <td>64.066667</td>\n",
       "    </tr>\n",
       "    <tr>\n",
       "      <th>std</th>\n",
       "      <td>30.440992</td>\n",
       "      <td>2.096521</td>\n",
       "      <td>25.511863</td>\n",
       "      <td>3.013571</td>\n",
       "      <td>17.264541</td>\n",
       "    </tr>\n",
       "    <tr>\n",
       "      <th>min</th>\n",
       "      <td>79.000000</td>\n",
       "      <td>2.000000</td>\n",
       "      <td>51.000000</td>\n",
       "      <td>0.000000</td>\n",
       "      <td>32.000000</td>\n",
       "    </tr>\n",
       "    <tr>\n",
       "      <th>25%</th>\n",
       "      <td>134.000000</td>\n",
       "      <td>5.250000</td>\n",
       "      <td>113.500000</td>\n",
       "      <td>5.000000</td>\n",
       "      <td>52.500000</td>\n",
       "    </tr>\n",
       "    <tr>\n",
       "      <th>50%</th>\n",
       "      <td>157.000000</td>\n",
       "      <td>7.500000</td>\n",
       "      <td>136.000000</td>\n",
       "      <td>6.000000</td>\n",
       "      <td>62.000000</td>\n",
       "    </tr>\n",
       "    <tr>\n",
       "      <th>75%</th>\n",
       "      <td>179.000000</td>\n",
       "      <td>8.000000</td>\n",
       "      <td>147.750000</td>\n",
       "      <td>9.000000</td>\n",
       "      <td>70.250000</td>\n",
       "    </tr>\n",
       "    <tr>\n",
       "      <th>max</th>\n",
       "      <td>205.000000</td>\n",
       "      <td>10.000000</td>\n",
       "      <td>170.000000</td>\n",
       "      <td>10.000000</td>\n",
       "      <td>109.000000</td>\n",
       "    </tr>\n",
       "  </tbody>\n",
       "</table>\n",
       "</div>"
      ],
      "text/plain": [
       "       first innings score  first innings wickets  second innings score  \\\n",
       "count            30.000000              30.000000             30.000000   \n",
       "mean            153.366667               6.866667            130.800000   \n",
       "std              30.440992               2.096521             25.511863   \n",
       "min              79.000000               2.000000             51.000000   \n",
       "25%             134.000000               5.250000            113.500000   \n",
       "50%             157.000000               7.500000            136.000000   \n",
       "75%             179.000000               8.000000            147.750000   \n",
       "max             205.000000              10.000000            170.000000   \n",
       "\n",
       "       second innings wickets  highest score  \n",
       "count               30.000000      30.000000  \n",
       "mean                 6.233333      64.066667  \n",
       "std                  3.013571      17.264541  \n",
       "min                  0.000000      32.000000  \n",
       "25%                  5.000000      52.500000  \n",
       "50%                  6.000000      62.000000  \n",
       "75%                  9.000000      70.250000  \n",
       "max                 10.000000     109.000000  "
      ]
     },
     "execution_count": 7,
     "metadata": {},
     "output_type": "execute_result"
    }
   ],
   "source": [
    "df.describe(include=float)"
   ]
  },
  {
   "cell_type": "code",
   "execution_count": 8,
   "id": "ed01c0da",
   "metadata": {},
   "outputs": [
    {
     "data": {
      "text/plain": [
       "venue                     0\n",
       "team1                     0\n",
       "team2                     0\n",
       "stage                     0\n",
       "toss winner               3\n",
       "toss decision             3\n",
       "first innings score       3\n",
       "first innings wickets     3\n",
       "second innings score      3\n",
       "second innings wickets    3\n",
       "winner                    4\n",
       "won by                    4\n",
       "player of the match       4\n",
       "top scorer                3\n",
       "highest score             3\n",
       "best bowler               3\n",
       "best bowling figure       3\n",
       "dtype: int64"
      ]
     },
     "execution_count": 8,
     "metadata": {},
     "output_type": "execute_result"
    }
   ],
   "source": [
    "df.isnull().sum()"
   ]
  },
  {
   "cell_type": "code",
   "execution_count": 14,
   "id": "fcf13e2b",
   "metadata": {},
   "outputs": [],
   "source": [
    "df=df.dropna()"
   ]
  },
  {
   "cell_type": "code",
   "execution_count": 15,
   "id": "686a52de",
   "metadata": {},
   "outputs": [
    {
     "data": {
      "text/plain": [
       "venue                     0\n",
       "team1                     0\n",
       "team2                     0\n",
       "stage                     0\n",
       "toss winner               0\n",
       "toss decision             0\n",
       "first innings score       0\n",
       "first innings wickets     0\n",
       "second innings score      0\n",
       "second innings wickets    0\n",
       "winner                    0\n",
       "won by                    0\n",
       "player of the match       0\n",
       "top scorer                0\n",
       "highest score             0\n",
       "best bowler               0\n",
       "best bowling figure       0\n",
       "dtype: int64"
      ]
     },
     "execution_count": 15,
     "metadata": {},
     "output_type": "execute_result"
    }
   ],
   "source": [
    "df.isnull().sum()"
   ]
  },
  {
   "cell_type": "code",
   "execution_count": 16,
   "id": "e5d20229",
   "metadata": {},
   "outputs": [
    {
     "data": {
      "text/plain": [
       "(29, 17)"
      ]
     },
     "execution_count": 16,
     "metadata": {},
     "output_type": "execute_result"
    }
   ],
   "source": [
    "df.shape"
   ]
  },
  {
   "cell_type": "code",
   "execution_count": 17,
   "id": "26faaeee",
   "metadata": {},
   "outputs": [
    {
     "data": {
      "text/html": [
       "<div>\n",
       "<style scoped>\n",
       "    .dataframe tbody tr th:only-of-type {\n",
       "        vertical-align: middle;\n",
       "    }\n",
       "\n",
       "    .dataframe tbody tr th {\n",
       "        vertical-align: top;\n",
       "    }\n",
       "\n",
       "    .dataframe thead th {\n",
       "        text-align: right;\n",
       "    }\n",
       "</style>\n",
       "<table border=\"1\" class=\"dataframe\">\n",
       "  <thead>\n",
       "    <tr style=\"text-align: right;\">\n",
       "      <th></th>\n",
       "      <th>venue</th>\n",
       "      <th>team1</th>\n",
       "      <th>team2</th>\n",
       "      <th>stage</th>\n",
       "      <th>toss winner</th>\n",
       "      <th>toss decision</th>\n",
       "      <th>first innings score</th>\n",
       "      <th>first innings wickets</th>\n",
       "      <th>second innings score</th>\n",
       "      <th>second innings wickets</th>\n",
       "      <th>winner</th>\n",
       "      <th>won by</th>\n",
       "      <th>player of the match</th>\n",
       "      <th>top scorer</th>\n",
       "      <th>highest score</th>\n",
       "      <th>best bowler</th>\n",
       "      <th>best bowling figure</th>\n",
       "    </tr>\n",
       "  </thead>\n",
       "  <tbody>\n",
       "    <tr>\n",
       "      <th>0</th>\n",
       "      <td>SCG</td>\n",
       "      <td>New Zealand</td>\n",
       "      <td>Australia</td>\n",
       "      <td>Super 12</td>\n",
       "      <td>Australia</td>\n",
       "      <td>Field</td>\n",
       "      <td>200.0</td>\n",
       "      <td>3.0</td>\n",
       "      <td>111.0</td>\n",
       "      <td>10.0</td>\n",
       "      <td>New Zealand</td>\n",
       "      <td>Runs</td>\n",
       "      <td>Devon Conway</td>\n",
       "      <td>Devon Conway</td>\n",
       "      <td>92.0</td>\n",
       "      <td>Tim Southee</td>\n",
       "      <td>3-6</td>\n",
       "    </tr>\n",
       "    <tr>\n",
       "      <th>1</th>\n",
       "      <td>Optus Stadium</td>\n",
       "      <td>Afghanistan</td>\n",
       "      <td>England</td>\n",
       "      <td>Super 12</td>\n",
       "      <td>England</td>\n",
       "      <td>Field</td>\n",
       "      <td>112.0</td>\n",
       "      <td>10.0</td>\n",
       "      <td>113.0</td>\n",
       "      <td>5.0</td>\n",
       "      <td>England</td>\n",
       "      <td>Wickets</td>\n",
       "      <td>Sam Curran</td>\n",
       "      <td>Ibrahim Zadran</td>\n",
       "      <td>32.0</td>\n",
       "      <td>Sam Curran</td>\n",
       "      <td>5-10</td>\n",
       "    </tr>\n",
       "    <tr>\n",
       "      <th>2</th>\n",
       "      <td>Blundstone Arena</td>\n",
       "      <td>Ireland</td>\n",
       "      <td>Sri lanka</td>\n",
       "      <td>Super 12</td>\n",
       "      <td>Ireland</td>\n",
       "      <td>Bat</td>\n",
       "      <td>128.0</td>\n",
       "      <td>8.0</td>\n",
       "      <td>133.0</td>\n",
       "      <td>1.0</td>\n",
       "      <td>Sri lanka</td>\n",
       "      <td>Wickets</td>\n",
       "      <td>Kusal Mendis</td>\n",
       "      <td>Kusal Mendis</td>\n",
       "      <td>68.0</td>\n",
       "      <td>Maheesh Theekshana</td>\n",
       "      <td>2-19</td>\n",
       "    </tr>\n",
       "    <tr>\n",
       "      <th>3</th>\n",
       "      <td>MCG</td>\n",
       "      <td>Pakistan</td>\n",
       "      <td>India</td>\n",
       "      <td>Super 12</td>\n",
       "      <td>India</td>\n",
       "      <td>Field</td>\n",
       "      <td>159.0</td>\n",
       "      <td>8.0</td>\n",
       "      <td>160.0</td>\n",
       "      <td>6.0</td>\n",
       "      <td>India</td>\n",
       "      <td>Wickets</td>\n",
       "      <td>Virat Kohli</td>\n",
       "      <td>Virat Kohli</td>\n",
       "      <td>82.0</td>\n",
       "      <td>Hardik Pandya</td>\n",
       "      <td>3-30</td>\n",
       "    </tr>\n",
       "    <tr>\n",
       "      <th>4</th>\n",
       "      <td>Blundstone Arena</td>\n",
       "      <td>Bangladesh</td>\n",
       "      <td>Netherlands</td>\n",
       "      <td>Super 12</td>\n",
       "      <td>Netherlands</td>\n",
       "      <td>Field</td>\n",
       "      <td>144.0</td>\n",
       "      <td>8.0</td>\n",
       "      <td>135.0</td>\n",
       "      <td>10.0</td>\n",
       "      <td>Bangladesh</td>\n",
       "      <td>Runs</td>\n",
       "      <td>Taskin Ahmed</td>\n",
       "      <td>Colin Ackermann</td>\n",
       "      <td>62.0</td>\n",
       "      <td>Taskin Ahmed</td>\n",
       "      <td>4-25</td>\n",
       "    </tr>\n",
       "  </tbody>\n",
       "</table>\n",
       "</div>"
      ],
      "text/plain": [
       "              venue        team1        team2     stage  toss winner  \\\n",
       "0               SCG  New Zealand    Australia  Super 12    Australia   \n",
       "1     Optus Stadium  Afghanistan      England  Super 12      England   \n",
       "2  Blundstone Arena      Ireland    Sri lanka  Super 12      Ireland   \n",
       "3               MCG     Pakistan        India  Super 12        India   \n",
       "4  Blundstone Arena   Bangladesh  Netherlands  Super 12  Netherlands   \n",
       "\n",
       "  toss decision  first innings score  first innings wickets  \\\n",
       "0         Field                200.0                    3.0   \n",
       "1         Field                112.0                   10.0   \n",
       "2           Bat                128.0                    8.0   \n",
       "3         Field                159.0                    8.0   \n",
       "4         Field                144.0                    8.0   \n",
       "\n",
       "   second innings score  second innings wickets       winner   won by  \\\n",
       "0                 111.0                    10.0  New Zealand     Runs   \n",
       "1                 113.0                     5.0      England  Wickets   \n",
       "2                 133.0                     1.0    Sri lanka  Wickets   \n",
       "3                 160.0                     6.0        India  Wickets   \n",
       "4                 135.0                    10.0   Bangladesh     Runs   \n",
       "\n",
       "  player of the match       top scorer  highest score         best bowler  \\\n",
       "0        Devon Conway     Devon Conway           92.0         Tim Southee   \n",
       "1          Sam Curran   Ibrahim Zadran           32.0          Sam Curran   \n",
       "2        Kusal Mendis     Kusal Mendis           68.0  Maheesh Theekshana   \n",
       "3         Virat Kohli      Virat Kohli           82.0       Hardik Pandya   \n",
       "4        Taskin Ahmed  Colin Ackermann           62.0        Taskin Ahmed   \n",
       "\n",
       "  best bowling figure  \n",
       "0                 3-6  \n",
       "1                5-10  \n",
       "2                2-19  \n",
       "3                3-30  \n",
       "4                4-25  "
      ]
     },
     "execution_count": 17,
     "metadata": {},
     "output_type": "execute_result"
    }
   ],
   "source": [
    "df.head()"
   ]
  },
  {
   "cell_type": "markdown",
   "id": "dd370ac3",
   "metadata": {},
   "source": [
    "# EDA"
   ]
  },
  {
   "cell_type": "markdown",
   "id": "4f9e40d1",
   "metadata": {},
   "source": [
    "# Now let’s look at the number of matches won by each team in the world cup"
   ]
  },
  {
   "cell_type": "code",
   "execution_count": 18,
   "id": "d875da45",
   "metadata": {},
   "outputs": [
    {
     "data": {
      "text/plain": [
       "England         5\n",
       "Pakistan        4\n",
       "India           4\n",
       "New Zealand     3\n",
       "Australia       3\n",
       "Bangladesh      2\n",
       "Netherlands     2\n",
       "South Africa    2\n",
       "Sri lanka       2\n",
       "Ireland         1\n",
       "Zimbabwe        1\n",
       "Name: winner, dtype: int64"
      ]
     },
     "execution_count": 18,
     "metadata": {},
     "output_type": "execute_result"
    }
   ],
   "source": [
    "df['winner'].value_counts()"
   ]
  },
  {
   "cell_type": "code",
   "execution_count": 38,
   "id": "c6544a64",
   "metadata": {},
   "outputs": [
    {
     "data": {
      "image/png": "[encoded data removed]",
      "text/plain": [
       "<Figure size 432x288 with 1 Axes>"
      ]
     },
     "metadata": {
      "needs_background": "light"
     },
     "output_type": "display_data"
    }
   ],
   "source": [
    "sns.histplot(x='winner',data=df)\n",
    "plt.title(\"The number of matches won by each teams in t20 World Cup 2022\")\n",
    "plt.xticks(rotation=90)\n",
    "plt.show()"
   ]
  },
  {
   "cell_type": "code",
   "execution_count": 1,
   "id": "5ba71a6f",
   "metadata": {},
   "outputs": [
    {
     "ename": "NameError",
     "evalue": "name 'px' is not defined",
     "output_type": "error",
     "traceback": [
      "\u001b[1;31m---------------------------------------------------------------------------\u001b[0m",
      "\u001b[1;31mNameError\u001b[0m                                 Traceback (most recent call last)",
      "\u001b[1;32m<ipython-input-1-5203fbc29c84>\u001b[0m in \u001b[0;36m<module>\u001b[1;34m\u001b[0m\n\u001b[1;32m----> 1\u001b[1;33m \u001b[0mfig\u001b[0m \u001b[1;33m=\u001b[0m \u001b[0mpx\u001b[0m\u001b[1;33m.\u001b[0m\u001b[0mbar\u001b[0m\u001b[1;33m(\u001b[0m\u001b[0mdf\u001b[0m\u001b[1;33m,\u001b[0m \u001b[0mx\u001b[0m\u001b[1;33m=\u001b[0m\u001b[0mdf\u001b[0m\u001b[1;33m[\u001b[0m\u001b[1;34m\"winner\"\u001b[0m\u001b[1;33m]\u001b[0m\u001b[1;33m,\u001b[0m\u001b[0mtitle\u001b[0m\u001b[1;33m=\u001b[0m\u001b[1;34m\"Number of Matches Won by teams in t20 World Cup 2022\"\u001b[0m\u001b[1;33m)\u001b[0m\u001b[1;33m\u001b[0m\u001b[1;33m\u001b[0m\u001b[0m\n\u001b[0m\u001b[0;32m      2\u001b[0m \u001b[0mfig\u001b[0m\u001b[1;33m.\u001b[0m\u001b[0mshow\u001b[0m\u001b[1;33m(\u001b[0m\u001b[1;33m)\u001b[0m\u001b[1;33m\u001b[0m\u001b[1;33m\u001b[0m\u001b[0m\n",
      "\u001b[1;31mNameError\u001b[0m: name 'px' is not defined"
     ]
    }
   ],
   "source": [
    "fig = px.bar(df, x=df[\"winner\"],title=\"Number of Matches Won by teams in t20 World Cup 2022\")\n",
    "fig.show()"
   ]
  },
  {
   "cell_type": "markdown",
   "id": "52db3fb1",
   "metadata": {},
   "source": [
    "# Now let’s have a look at the number of matches won by batting first or second in the t20 world cup 2022"
   ]
  },
  {
   "cell_type": "code",
   "execution_count": 73,
   "id": "99bf0a98",
   "metadata": {},
   "outputs": [
    {
     "data": {
      "text/plain": [
       "Runs       16\n",
       "Wickets    13\n",
       "Name: won by, dtype: int64"
      ]
     },
     "execution_count": 73,
     "metadata": {},
     "output_type": "execute_result"
    }
   ],
   "source": [
    "df[\"won by\"].value_counts()"
   ]
  },
  {
   "cell_type": "code",
   "execution_count": 81,
   "id": "455641f1",
   "metadata": {},
   "outputs": [],
   "source": [
    "won_by = df[\"won by\"].value_counts()\n",
    "label = won_by.index\n",
    "y= won_by.values\n",
    "colors = ['gold','lightgreen']"
   ]
  },
  {
   "cell_type": "code",
   "execution_count": 82,
   "id": "3c82a7fe",
   "metadata": {},
   "outputs": [
    {
     "data": {
      "image/png": "[encoded data removed]",
      "text/plain": [
       "<Figure size 432x288 with 1 Axes>"
      ]
     },
     "metadata": {},
     "output_type": "display_data"
    }
   ],
   "source": [
    "plt.pie(y,labels=label,autopct='%0.0f%%')\n",
    "\n",
    "plt.show()"
   ]
  },
  {
   "cell_type": "markdown",
   "id": "ed7d72dd",
   "metadata": {},
   "source": [
    "# Now let’s have a look at the top scorers in the t20 world cup 2022:"
   ]
  },
  {
   "cell_type": "code",
   "execution_count": 83,
   "id": "472c93b9",
   "metadata": {},
   "outputs": [
    {
     "data": {
      "text/html": [
       "<div>\n",
       "<style scoped>\n",
       "    .dataframe tbody tr th:only-of-type {\n",
       "        vertical-align: middle;\n",
       "    }\n",
       "\n",
       "    .dataframe tbody tr th {\n",
       "        vertical-align: top;\n",
       "    }\n",
       "\n",
       "    .dataframe thead th {\n",
       "        text-align: right;\n",
       "    }\n",
       "</style>\n",
       "<table border=\"1\" class=\"dataframe\">\n",
       "  <thead>\n",
       "    <tr style=\"text-align: right;\">\n",
       "      <th></th>\n",
       "      <th>venue</th>\n",
       "      <th>team1</th>\n",
       "      <th>team2</th>\n",
       "      <th>stage</th>\n",
       "      <th>toss winner</th>\n",
       "      <th>toss decision</th>\n",
       "      <th>first innings score</th>\n",
       "      <th>first innings wickets</th>\n",
       "      <th>second innings score</th>\n",
       "      <th>second innings wickets</th>\n",
       "      <th>winner</th>\n",
       "      <th>won by</th>\n",
       "      <th>player of the match</th>\n",
       "      <th>top scorer</th>\n",
       "      <th>highest score</th>\n",
       "      <th>best bowler</th>\n",
       "      <th>best bowling figure</th>\n",
       "    </tr>\n",
       "  </thead>\n",
       "  <tbody>\n",
       "    <tr>\n",
       "      <th>0</th>\n",
       "      <td>SCG</td>\n",
       "      <td>New Zealand</td>\n",
       "      <td>Australia</td>\n",
       "      <td>Super 12</td>\n",
       "      <td>Australia</td>\n",
       "      <td>Field</td>\n",
       "      <td>200.0</td>\n",
       "      <td>3.0</td>\n",
       "      <td>111.0</td>\n",
       "      <td>10.0</td>\n",
       "      <td>New Zealand</td>\n",
       "      <td>Runs</td>\n",
       "      <td>Devon Conway</td>\n",
       "      <td>Devon Conway</td>\n",
       "      <td>92.0</td>\n",
       "      <td>Tim Southee</td>\n",
       "      <td>3-6</td>\n",
       "    </tr>\n",
       "    <tr>\n",
       "      <th>1</th>\n",
       "      <td>Optus Stadium</td>\n",
       "      <td>Afghanistan</td>\n",
       "      <td>England</td>\n",
       "      <td>Super 12</td>\n",
       "      <td>England</td>\n",
       "      <td>Field</td>\n",
       "      <td>112.0</td>\n",
       "      <td>10.0</td>\n",
       "      <td>113.0</td>\n",
       "      <td>5.0</td>\n",
       "      <td>England</td>\n",
       "      <td>Wickets</td>\n",
       "      <td>Sam Curran</td>\n",
       "      <td>Ibrahim Zadran</td>\n",
       "      <td>32.0</td>\n",
       "      <td>Sam Curran</td>\n",
       "      <td>5-10</td>\n",
       "    </tr>\n",
       "    <tr>\n",
       "      <th>2</th>\n",
       "      <td>Blundstone Arena</td>\n",
       "      <td>Ireland</td>\n",
       "      <td>Sri lanka</td>\n",
       "      <td>Super 12</td>\n",
       "      <td>Ireland</td>\n",
       "      <td>Bat</td>\n",
       "      <td>128.0</td>\n",
       "      <td>8.0</td>\n",
       "      <td>133.0</td>\n",
       "      <td>1.0</td>\n",
       "      <td>Sri lanka</td>\n",
       "      <td>Wickets</td>\n",
       "      <td>Kusal Mendis</td>\n",
       "      <td>Kusal Mendis</td>\n",
       "      <td>68.0</td>\n",
       "      <td>Maheesh Theekshana</td>\n",
       "      <td>2-19</td>\n",
       "    </tr>\n",
       "    <tr>\n",
       "      <th>3</th>\n",
       "      <td>MCG</td>\n",
       "      <td>Pakistan</td>\n",
       "      <td>India</td>\n",
       "      <td>Super 12</td>\n",
       "      <td>India</td>\n",
       "      <td>Field</td>\n",
       "      <td>159.0</td>\n",
       "      <td>8.0</td>\n",
       "      <td>160.0</td>\n",
       "      <td>6.0</td>\n",
       "      <td>India</td>\n",
       "      <td>Wickets</td>\n",
       "      <td>Virat Kohli</td>\n",
       "      <td>Virat Kohli</td>\n",
       "      <td>82.0</td>\n",
       "      <td>Hardik Pandya</td>\n",
       "      <td>3-30</td>\n",
       "    </tr>\n",
       "    <tr>\n",
       "      <th>4</th>\n",
       "      <td>Blundstone Arena</td>\n",
       "      <td>Bangladesh</td>\n",
       "      <td>Netherlands</td>\n",
       "      <td>Super 12</td>\n",
       "      <td>Netherlands</td>\n",
       "      <td>Field</td>\n",
       "      <td>144.0</td>\n",
       "      <td>8.0</td>\n",
       "      <td>135.0</td>\n",
       "      <td>10.0</td>\n",
       "      <td>Bangladesh</td>\n",
       "      <td>Runs</td>\n",
       "      <td>Taskin Ahmed</td>\n",
       "      <td>Colin Ackermann</td>\n",
       "      <td>62.0</td>\n",
       "      <td>Taskin Ahmed</td>\n",
       "      <td>4-25</td>\n",
       "    </tr>\n",
       "  </tbody>\n",
       "</table>\n",
       "</div>"
      ],
      "text/plain": [
       "              venue        team1        team2     stage  toss winner  \\\n",
       "0               SCG  New Zealand    Australia  Super 12    Australia   \n",
       "1     Optus Stadium  Afghanistan      England  Super 12      England   \n",
       "2  Blundstone Arena      Ireland    Sri lanka  Super 12      Ireland   \n",
       "3               MCG     Pakistan        India  Super 12        India   \n",
       "4  Blundstone Arena   Bangladesh  Netherlands  Super 12  Netherlands   \n",
       "\n",
       "  toss decision  first innings score  first innings wickets  \\\n",
       "0         Field                200.0                    3.0   \n",
       "1         Field                112.0                   10.0   \n",
       "2           Bat                128.0                    8.0   \n",
       "3         Field                159.0                    8.0   \n",
       "4         Field                144.0                    8.0   \n",
       "\n",
       "   second innings score  second innings wickets       winner   won by  \\\n",
       "0                 111.0                    10.0  New Zealand     Runs   \n",
       "1                 113.0                     5.0      England  Wickets   \n",
       "2                 133.0                     1.0    Sri lanka  Wickets   \n",
       "3                 160.0                     6.0        India  Wickets   \n",
       "4                 135.0                    10.0   Bangladesh     Runs   \n",
       "\n",
       "  player of the match       top scorer  highest score         best bowler  \\\n",
       "0        Devon Conway     Devon Conway           92.0         Tim Southee   \n",
       "1          Sam Curran   Ibrahim Zadran           32.0          Sam Curran   \n",
       "2        Kusal Mendis     Kusal Mendis           68.0  Maheesh Theekshana   \n",
       "3         Virat Kohli      Virat Kohli           82.0       Hardik Pandya   \n",
       "4        Taskin Ahmed  Colin Ackermann           62.0        Taskin Ahmed   \n",
       "\n",
       "  best bowling figure  \n",
       "0                 3-6  \n",
       "1                5-10  \n",
       "2                2-19  \n",
       "3                3-30  \n",
       "4                4-25  "
      ]
     },
     "execution_count": 83,
     "metadata": {},
     "output_type": "execute_result"
    }
   ],
   "source": [
    "df.head()"
   ]
  },
  {
   "cell_type": "code",
   "execution_count": 88,
   "id": "c7370be0",
   "metadata": {},
   "outputs": [
    {
     "data": {
      "application/vnd.plotly.v1+json": {
       "config": {
        "plotlyServerURL": "https://plot.ly"
       },
       "data": [
        {
         "alignmentgroup": "True",
         "hovertemplate": "top scorer=%{x}<br>highest score=%{y}<extra></extra>",
         "legendgroup": "",
         "marker": {
          "color": "#636efa",
          "pattern": {
           "shape": ""
          }
         },
         "name": "",
         "offsetgroup": "",
         "orientation": "v",
         "showlegend": false,
         "textposition": "auto",
         "type": "bar",
         "x": [
          "Devon Conway",
          "Ibrahim Zadran",
          "Kusal Mendis",
          "Virat Kohli",
          "Colin Ackermann",
          "Marcus Stoinis",
          "Andrew Balbirnie",
          "Rilee Rossouw",
          "Virat Kohli",
          "Shan Masood",
          "Glenn Phillips",
          "Najmul Hossain",
          "Mohammad Rizwan",
          "Suryakumar Yadav",
          "Lorcan Tucker",
          "de Silva",
          "Jos Buttler",
          "Max O'Dowd",
          "Virat Kohli",
          "Shadab Khan",
          "Kane Williamson",
          "Glenn Maxwell",
          "Pathum Nissanka",
          "Colin Ackermann",
          "Najmul Hossain",
          "Suryakumar Yadav",
          "Mohammad Rizwan",
          "Alex Hales",
          "Ben Stokes"
         ],
         "xaxis": "x",
         "y": [
          92,
          32,
          68,
          82,
          62,
          59,
          62,
          109,
          62,
          44,
          104,
          71,
          49,
          68,
          71,
          66,
          73,
          52,
          64,
          52,
          61,
          54,
          67,
          41,
          54,
          61,
          57,
          86,
          52
         ],
         "yaxis": "y"
        }
       ],
       "layout": {
        "barmode": "relative",
        "legend": {
         "tracegroupgap": 0
        },
        "template": {
         "data": {
          "bar": [
           {
            "error_x": {
             "color": "#2a3f5f"
            },
            "error_y": {
             "color": "#2a3f5f"
            },
            "marker": {
             "line": {
              "color": "#E5ECF6",
              "width": 0.5
             },
             "pattern": {
              "fillmode": "overlay",
              "size": 10,
              "solidity": 0.2
             }
            },
            "type": "bar"
           }
          ],
          "barpolar": [
           {
            "marker": {
             "line": {
              "color": "#E5ECF6",
              "width": 0.5
             },
             "pattern": {
              "fillmode": "overlay",
              "size": 10,
              "solidity": 0.2
             }
            },
            "type": "barpolar"
           }
          ],
          "carpet": [
           {
            "aaxis": {
             "endlinecolor": "#2a3f5f",
             "gridcolor": "white",
             "linecolor": "white",
             "minorgridcolor": "white",
             "startlinecolor": "#2a3f5f"
            },
            "baxis": {
             "endlinecolor": "#2a3f5f",
             "gridcolor": "white",
             "linecolor": "white",
             "minorgridcolor": "white",
             "startlinecolor": "#2a3f5f"
            },
            "type": "carpet"
           }
          ],
          "choropleth": [
           {
            "colorbar": {
             "outlinewidth": 0,
             "ticks": ""
            },
            "type": "choropleth"
           }
          ],
          "contour": [
           {
            "colorbar": {
             "outlinewidth": 0,
             "ticks": ""
            },
            "colorscale": [
             [
              0,
              "#0d0887"
             ],
             [
              0.1111111111111111,
              "#46039f"
             ],
             [
              0.2222222222222222,
              "#7201a8"
             ],
             [
              0.3333333333333333,
              "#9c179e"
             ],
             [
              0.4444444444444444,
              "#bd3786"
             ],
             [
              0.5555555555555556,
              "#d8576b"
             ],
             [
              0.6666666666666666,
              "#ed7953"
             ],
             [
              0.7777777777777778,
              "#fb9f3a"
             ],
             [
              0.8888888888888888,
              "#fdca26"
             ],
             [
              1,
              "#f0f921"
             ]
            ],
            "type": "contour"
           }
          ],
          "contourcarpet": [
           {
            "colorbar": {
             "outlinewidth": 0,
             "ticks": ""
            },
            "type": "contourcarpet"
           }
          ],
          "heatmap": [
           {
            "colorbar": {
             "outlinewidth": 0,
             "ticks": ""
            },
            "colorscale": [
             [
              0,
              "#0d0887"
             ],
             [
              0.1111111111111111,
              "#46039f"
             ],
             [
              0.2222222222222222,
              "#7201a8"
             ],
             [
              0.3333333333333333,
              "#9c179e"
             ],
             [
              0.4444444444444444,
              "#bd3786"
             ],
             [
              0.5555555555555556,
              "#d8576b"
             ],
             [
              0.6666666666666666,
              "#ed7953"
             ],
             [
              0.7777777777777778,
              "#fb9f3a"
             ],
             [
              0.8888888888888888,
              "#fdca26"
             ],
             [
              1,
              "#f0f921"
             ]
            ],
            "type": "heatmap"
           }
          ],
          "heatmapgl": [
           {
            "colorbar": {
             "outlinewidth": 0,
             "ticks": ""
            },
            "colorscale": [
             [
              0,
              "#0d0887"
             ],
             [
              0.1111111111111111,
              "#46039f"
             ],
             [
              0.2222222222222222,
              "#7201a8"
             ],
             [
              0.3333333333333333,
              "#9c179e"
             ],
             [
              0.4444444444444444,
              "#bd3786"
             ],
             [
              0.5555555555555556,
              "#d8576b"
             ],
             [
              0.6666666666666666,
              "#ed7953"
             ],
             [
              0.7777777777777778,
              "#fb9f3a"
             ],
             [
              0.8888888888888888,
              "#fdca26"
             ],
             [
              1,
              "#f0f921"
             ]
            ],
            "type": "heatmapgl"
           }
          ],
          "histogram": [
           {
            "marker": {
             "pattern": {
              "fillmode": "overlay",
              "size": 10,
              "solidity": 0.2
             }
            },
            "type": "histogram"
           }
          ],
          "histogram2d": [
           {
            "colorbar": {
             "outlinewidth": 0,
             "ticks": ""
            },
            "colorscale": [
             [
              0,
              "#0d0887"
             ],
             [
              0.1111111111111111,
              "#46039f"
             ],
             [
              0.2222222222222222,
              "#7201a8"
             ],
             [
              0.3333333333333333,
              "#9c179e"
             ],
             [
              0.4444444444444444,
              "#bd3786"
             ],
             [
              0.5555555555555556,
              "#d8576b"
             ],
             [
              0.6666666666666666,
              "#ed7953"
             ],
             [
              0.7777777777777778,
              "#fb9f3a"
             ],
             [
              0.8888888888888888,
              "#fdca26"
             ],
             [
              1,
              "#f0f921"
             ]
            ],
            "type": "histogram2d"
           }
          ],
          "histogram2dcontour": [
           {
            "colorbar": {
             "outlinewidth": 0,
             "ticks": ""
            },
            "colorscale": [
             [
              0,
              "#0d0887"
             ],
             [
              0.1111111111111111,
              "#46039f"
             ],
             [
              0.2222222222222222,
              "#7201a8"
             ],
             [
              0.3333333333333333,
              "#9c179e"
             ],
             [
              0.4444444444444444,
              "#bd3786"
             ],
             [
              0.5555555555555556,
              "#d8576b"
             ],
             [
              0.6666666666666666,
              "#ed7953"
             ],
             [
              0.7777777777777778,
              "#fb9f3a"
             ],
             [
              0.8888888888888888,
              "#fdca26"
             ],
             [
              1,
              "#f0f921"
             ]
            ],
            "type": "histogram2dcontour"
           }
          ],
          "mesh3d": [
           {
            "colorbar": {
             "outlinewidth": 0,
             "ticks": ""
            },
            "type": "mesh3d"
           }
          ],
          "parcoords": [
           {
            "line": {
             "colorbar": {
              "outlinewidth": 0,
              "ticks": ""
             }
            },
            "type": "parcoords"
           }
          ],
          "pie": [
           {
            "automargin": true,
            "type": "pie"
           }
          ],
          "scatter": [
           {
            "fillpattern": {
             "fillmode": "overlay",
             "size": 10,
             "solidity": 0.2
            },
            "type": "scatter"
           }
          ],
          "scatter3d": [
           {
            "line": {
             "colorbar": {
              "outlinewidth": 0,
              "ticks": ""
             }
            },
            "marker": {
             "colorbar": {
              "outlinewidth": 0,
              "ticks": ""
             }
            },
            "type": "scatter3d"
           }
          ],
          "scattercarpet": [
           {
            "marker": {
             "colorbar": {
              "outlinewidth": 0,
              "ticks": ""
             }
            },
            "type": "scattercarpet"
           }
          ],
          "scattergeo": [
           {
            "marker": {
             "colorbar": {
              "outlinewidth": 0,
              "ticks": ""
             }
            },
            "type": "scattergeo"
           }
          ],
          "scattergl": [
           {
            "marker": {
             "colorbar": {
              "outlinewidth": 0,
              "ticks": ""
             }
            },
            "type": "scattergl"
           }
          ],
          "scattermapbox": [
           {
            "marker": {
             "colorbar": {
              "outlinewidth": 0,
              "ticks": ""
             }
            },
            "type": "scattermapbox"
           }
          ],
          "scatterpolar": [
           {
            "marker": {
             "colorbar": {
              "outlinewidth": 0,
              "ticks": ""
             }
            },
            "type": "scatterpolar"
           }
          ],
          "scatterpolargl": [
           {
            "marker": {
             "colorbar": {
              "outlinewidth": 0,
              "ticks": ""
             }
            },
            "type": "scatterpolargl"
           }
          ],
          "scatterternary": [
           {
            "marker": {
             "colorbar": {
              "outlinewidth": 0,
              "ticks": ""
             }
            },
            "type": "scatterternary"
           }
          ],
          "surface": [
           {
            "colorbar": {
             "outlinewidth": 0,
             "ticks": ""
            },
            "colorscale": [
             [
              0,
              "#0d0887"
             ],
             [
              0.1111111111111111,
              "#46039f"
             ],
             [
              0.2222222222222222,
              "#7201a8"
             ],
             [
              0.3333333333333333,
              "#9c179e"
             ],
             [
              0.4444444444444444,
              "#bd3786"
             ],
             [
              0.5555555555555556,
              "#d8576b"
             ],
             [
              0.6666666666666666,
              "#ed7953"
             ],
             [
              0.7777777777777778,
              "#fb9f3a"
             ],
             [
              0.8888888888888888,
              "#fdca26"
             ],
             [
              1,
              "#f0f921"
             ]
            ],
            "type": "surface"
           }
          ],
          "table": [
           {
            "cells": {
             "fill": {
              "color": "#EBF0F8"
             },
             "line": {
              "color": "white"
             }
            },
            "header": {
             "fill": {
              "color": "#C8D4E3"
             },
             "line": {
              "color": "white"
             }
            },
            "type": "table"
           }
          ]
         },
         "layout": {
          "annotationdefaults": {
           "arrowcolor": "#2a3f5f",
           "arrowhead": 0,
           "arrowwidth": 1
          },
          "autotypenumbers": "strict",
          "coloraxis": {
           "colorbar": {
            "outlinewidth": 0,
            "ticks": ""
           }
          },
          "colorscale": {
           "diverging": [
            [
             0,
             "#8e0152"
            ],
            [
             0.1,
             "#c51b7d"
            ],
            [
             0.2,
             "#de77ae"
            ],
            [
             0.3,
             "#f1b6da"
            ],
            [
             0.4,
             "#fde0ef"
            ],
            [
             0.5,
             "#f7f7f7"
            ],
            [
             0.6,
             "#e6f5d0"
            ],
            [
             0.7,
             "#b8e186"
            ],
            [
             0.8,
             "#7fbc41"
            ],
            [
             0.9,
             "#4d9221"
            ],
            [
             1,
             "#276419"
            ]
           ],
           "sequential": [
            [
             0,
             "#0d0887"
            ],
            [
             0.1111111111111111,
             "#46039f"
            ],
            [
             0.2222222222222222,
             "#7201a8"
            ],
            [
             0.3333333333333333,
             "#9c179e"
            ],
            [
             0.4444444444444444,
             "#bd3786"
            ],
            [
             0.5555555555555556,
             "#d8576b"
            ],
            [
             0.6666666666666666,
             "#ed7953"
            ],
            [
             0.7777777777777778,
             "#fb9f3a"
            ],
            [
             0.8888888888888888,
             "#fdca26"
            ],
            [
             1,
             "#f0f921"
            ]
           ],
           "sequentialminus": [
            [
             0,
             "#0d0887"
            ],
            [
             0.1111111111111111,
             "#46039f"
            ],
            [
             0.2222222222222222,
             "#7201a8"
            ],
            [
             0.3333333333333333,
             "#9c179e"
            ],
            [
             0.4444444444444444,
             "#bd3786"
            ],
            [
             0.5555555555555556,
             "#d8576b"
            ],
            [
             0.6666666666666666,
             "#ed7953"
            ],
            [
             0.7777777777777778,
             "#fb9f3a"
            ],
            [
             0.8888888888888888,
             "#fdca26"
            ],
            [
             1,
             "#f0f921"
            ]
           ]
          },
          "colorway": [
           "#636efa",
           "#EF553B",
           "#00cc96",
           "#ab63fa",
           "#FFA15A",
           "#19d3f3",
           "#FF6692",
           "#B6E880",
           "#FF97FF",
           "#FECB52"
          ],
          "font": {
           "color": "#2a3f5f"
          },
          "geo": {
           "bgcolor": "white",
           "lakecolor": "white",
           "landcolor": "#E5ECF6",
           "showlakes": true,
           "showland": true,
           "subunitcolor": "white"
          },
          "hoverlabel": {
           "align": "left"
          },
          "hovermode": "closest",
          "mapbox": {
           "style": "light"
          },
          "paper_bgcolor": "white",
          "plot_bgcolor": "#E5ECF6",
          "polar": {
           "angularaxis": {
            "gridcolor": "white",
            "linecolor": "white",
            "ticks": ""
           },
           "bgcolor": "#E5ECF6",
           "radialaxis": {
            "gridcolor": "white",
            "linecolor": "white",
            "ticks": ""
           }
          },
          "scene": {
           "xaxis": {
            "backgroundcolor": "#E5ECF6",
            "gridcolor": "white",
            "gridwidth": 2,
            "linecolor": "white",
            "showbackground": true,
            "ticks": "",
            "zerolinecolor": "white"
           },
           "yaxis": {
            "backgroundcolor": "#E5ECF6",
            "gridcolor": "white",
            "gridwidth": 2,
            "linecolor": "white",
            "showbackground": true,
            "ticks": "",
            "zerolinecolor": "white"
           },
           "zaxis": {
            "backgroundcolor": "#E5ECF6",
            "gridcolor": "white",
            "gridwidth": 2,
            "linecolor": "white",
            "showbackground": true,
            "ticks": "",
            "zerolinecolor": "white"
           }
          },
          "shapedefaults": {
           "line": {
            "color": "#2a3f5f"
           }
          },
          "ternary": {
           "aaxis": {
            "gridcolor": "white",
            "linecolor": "white",
            "ticks": ""
           },
           "baxis": {
            "gridcolor": "white",
            "linecolor": "white",
            "ticks": ""
           },
           "bgcolor": "#E5ECF6",
           "caxis": {
            "gridcolor": "white",
            "linecolor": "white",
            "ticks": ""
           }
          },
          "title": {
           "x": 0.05
          },
          "xaxis": {
           "automargin": true,
           "gridcolor": "white",
           "linecolor": "white",
           "ticks": "",
           "title": {
            "standoff": 15
           },
           "zerolinecolor": "white",
           "zerolinewidth": 2
          },
          "yaxis": {
           "automargin": true,
           "gridcolor": "white",
           "linecolor": "white",
           "ticks": "",
           "title": {
            "standoff": 15
           },
           "zerolinecolor": "white",
           "zerolinewidth": 2
          }
         }
        },
        "title": {
         "text": "the top scorers in the t20 world cup 2022"
        },
        "xaxis": {
         "anchor": "y",
         "domain": [
          0,
          1
         ],
         "title": {
          "text": "top scorer"
         }
        },
        "yaxis": {
         "anchor": "x",
         "domain": [
          0,
          1
         ],
         "title": {
          "text": "highest score"
         }
        }
       }
      },
      "text/html": [
       "<div>                            <div id=\"439db7c3-ffe9-4674-bb39-a847b369786a\" class=\"plotly-graph-div\" style=\"height:525px; width:100%;\"></div>            <script type=\"text/javascript\">                require([\"plotly\"], function(Plotly) {                    window.PLOTLYENV=window.PLOTLYENV || {};                                    if (document.getElementById(\"439db7c3-ffe9-4674-bb39-a847b369786a\")) {                    Plotly.newPlot(                        \"439db7c3-ffe9-4674-bb39-a847b369786a\",                        [{\"alignmentgroup\":\"True\",\"hovertemplate\":\"top scorer=%{x}<br>highest score=%{y}<extra></extra>\",\"legendgroup\":\"\",\"marker\":{\"color\":\"#636efa\",\"pattern\":{\"shape\":\"\"}},\"name\":\"\",\"offsetgroup\":\"\",\"orientation\":\"v\",\"showlegend\":false,\"textposition\":\"auto\",\"x\":[\"Devon Conway\",\"Ibrahim Zadran\",\"Kusal Mendis\",\"Virat Kohli\",\"Colin Ackermann\",\"Marcus Stoinis\",\"Andrew Balbirnie\",\"Rilee Rossouw\",\"Virat Kohli\",\"Shan Masood\",\"Glenn Phillips\",\"Najmul Hossain\",\"Mohammad Rizwan\",\"Suryakumar Yadav\",\"Lorcan Tucker\",\"de Silva\",\"Jos Buttler\",\"Max O'Dowd\",\"Virat Kohli\",\"Shadab Khan\",\"Kane Williamson\",\"Glenn Maxwell\",\"Pathum Nissanka\",\"Colin Ackermann\",\"Najmul Hossain\",\"Suryakumar Yadav\",\"Mohammad Rizwan\",\"Alex Hales\",\"Ben Stokes\"],\"xaxis\":\"x\",\"y\":[92.0,32.0,68.0,82.0,62.0,59.0,62.0,109.0,62.0,44.0,104.0,71.0,49.0,68.0,71.0,66.0,73.0,52.0,64.0,52.0,61.0,54.0,67.0,41.0,54.0,61.0,57.0,86.0,52.0],\"yaxis\":\"y\",\"type\":\"bar\"}],                        {\"template\":{\"data\":{\"histogram2dcontour\":[{\"type\":\"histogram2dcontour\",\"colorbar\":{\"outlinewidth\":0,\"ticks\":\"\"},\"colorscale\":[[0.0,\"#0d0887\"],[0.1111111111111111,\"#46039f\"],[0.2222222222222222,\"#7201a8\"],[0.3333333333333333,\"#9c179e\"],[0.4444444444444444,\"#bd3786\"],[0.5555555555555556,\"#d8576b\"],[0.6666666666666666,\"#ed7953\"],[0.7777777777777778,\"#fb9f3a\"],[0.8888888888888888,\"#fdca26\"],[1.0,\"#f0f921\"]]}],\"choropleth\":[{\"type\":\"choropleth\",\"colorbar\":{\"outlinewidth\":0,\"ticks\":\"\"}}],\"histogram2d\":[{\"type\":\"histogram2d\",\"colorbar\":{\"outlinewidth\":0,\"ticks\":\"\"},\"colorscale\":[[0.0,\"#0d0887\"],[0.1111111111111111,\"#46039f\"],[0.2222222222222222,\"#7201a8\"],[0.3333333333333333,\"#9c179e\"],[0.4444444444444444,\"#bd3786\"],[0.5555555555555556,\"#d8576b\"],[0.6666666666666666,\"#ed7953\"],[0.7777777777777778,\"#fb9f3a\"],[0.8888888888888888,\"#fdca26\"],[1.0,\"#f0f921\"]]}],\"heatmap\":[{\"type\":\"heatmap\",\"colorbar\":{\"outlinewidth\":0,\"ticks\":\"\"},\"colorscale\":[[0.0,\"#0d0887\"],[0.1111111111111111,\"#46039f\"],[0.2222222222222222,\"#7201a8\"],[0.3333333333333333,\"#9c179e\"],[0.4444444444444444,\"#bd3786\"],[0.5555555555555556,\"#d8576b\"],[0.6666666666666666,\"#ed7953\"],[0.7777777777777778,\"#fb9f3a\"],[0.8888888888888888,\"#fdca26\"],[1.0,\"#f0f921\"]]}],\"heatmapgl\":[{\"type\":\"heatmapgl\",\"colorbar\":{\"outlinewidth\":0,\"ticks\":\"\"},\"colorscale\":[[0.0,\"#0d0887\"],[0.1111111111111111,\"#46039f\"],[0.2222222222222222,\"#7201a8\"],[0.3333333333333333,\"#9c179e\"],[0.4444444444444444,\"#bd3786\"],[0.5555555555555556,\"#d8576b\"],[0.6666666666666666,\"#ed7953\"],[0.7777777777777778,\"#fb9f3a\"],[0.8888888888888888,\"#fdca26\"],[1.0,\"#f0f921\"]]}],\"contourcarpet\":[{\"type\":\"contourcarpet\",\"colorbar\":{\"outlinewidth\":0,\"ticks\":\"\"}}],\"contour\":[{\"type\":\"contour\",\"colorbar\":{\"outlinewidth\":0,\"ticks\":\"\"},\"colorscale\":[[0.0,\"#0d0887\"],[0.1111111111111111,\"#46039f\"],[0.2222222222222222,\"#7201a8\"],[0.3333333333333333,\"#9c179e\"],[0.4444444444444444,\"#bd3786\"],[0.5555555555555556,\"#d8576b\"],[0.6666666666666666,\"#ed7953\"],[0.7777777777777778,\"#fb9f3a\"],[0.8888888888888888,\"#fdca26\"],[1.0,\"#f0f921\"]]}],\"surface\":[{\"type\":\"surface\",\"colorbar\":{\"outlinewidth\":0,\"ticks\":\"\"},\"colorscale\":[[0.0,\"#0d0887\"],[0.1111111111111111,\"#46039f\"],[0.2222222222222222,\"#7201a8\"],[0.3333333333333333,\"#9c179e\"],[0.4444444444444444,\"#bd3786\"],[0.5555555555555556,\"#d8576b\"],[0.6666666666666666,\"#ed7953\"],[0.7777777777777778,\"#fb9f3a\"],[0.8888888888888888,\"#fdca26\"],[1.0,\"#f0f921\"]]}],\"mesh3d\":[{\"type\":\"mesh3d\",\"colorbar\":{\"outlinewidth\":0,\"ticks\":\"\"}}],\"scatter\":[{\"fillpattern\":{\"fillmode\":\"overlay\",\"size\":10,\"solidity\":0.2},\"type\":\"scatter\"}],\"parcoords\":[{\"type\":\"parcoords\",\"line\":{\"colorbar\":{\"outlinewidth\":0,\"ticks\":\"\"}}}],\"scatterpolargl\":[{\"type\":\"scatterpolargl\",\"marker\":{\"colorbar\":{\"outlinewidth\":0,\"ticks\":\"\"}}}],\"bar\":[{\"error_x\":{\"color\":\"#2a3f5f\"},\"error_y\":{\"color\":\"#2a3f5f\"},\"marker\":{\"line\":{\"color\":\"#E5ECF6\",\"width\":0.5},\"pattern\":{\"fillmode\":\"overlay\",\"size\":10,\"solidity\":0.2}},\"type\":\"bar\"}],\"scattergeo\":[{\"type\":\"scattergeo\",\"marker\":{\"colorbar\":{\"outlinewidth\":0,\"ticks\":\"\"}}}],\"scatterpolar\":[{\"type\":\"scatterpolar\",\"marker\":{\"colorbar\":{\"outlinewidth\":0,\"ticks\":\"\"}}}],\"histogram\":[{\"marker\":{\"pattern\":{\"fillmode\":\"overlay\",\"size\":10,\"solidity\":0.2}},\"type\":\"histogram\"}],\"scattergl\":[{\"type\":\"scattergl\",\"marker\":{\"colorbar\":{\"outlinewidth\":0,\"ticks\":\"\"}}}],\"scatter3d\":[{\"type\":\"scatter3d\",\"line\":{\"colorbar\":{\"outlinewidth\":0,\"ticks\":\"\"}},\"marker\":{\"colorbar\":{\"outlinewidth\":0,\"ticks\":\"\"}}}],\"scattermapbox\":[{\"type\":\"scattermapbox\",\"marker\":{\"colorbar\":{\"outlinewidth\":0,\"ticks\":\"\"}}}],\"scatterternary\":[{\"type\":\"scatterternary\",\"marker\":{\"colorbar\":{\"outlinewidth\":0,\"ticks\":\"\"}}}],\"scattercarpet\":[{\"type\":\"scattercarpet\",\"marker\":{\"colorbar\":{\"outlinewidth\":0,\"ticks\":\"\"}}}],\"carpet\":[{\"aaxis\":{\"endlinecolor\":\"#2a3f5f\",\"gridcolor\":\"white\",\"linecolor\":\"white\",\"minorgridcolor\":\"white\",\"startlinecolor\":\"#2a3f5f\"},\"baxis\":{\"endlinecolor\":\"#2a3f5f\",\"gridcolor\":\"white\",\"linecolor\":\"white\",\"minorgridcolor\":\"white\",\"startlinecolor\":\"#2a3f5f\"},\"type\":\"carpet\"}],\"table\":[{\"cells\":{\"fill\":{\"color\":\"#EBF0F8\"},\"line\":{\"color\":\"white\"}},\"header\":{\"fill\":{\"color\":\"#C8D4E3\"},\"line\":{\"color\":\"white\"}},\"type\":\"table\"}],\"barpolar\":[{\"marker\":{\"line\":{\"color\":\"#E5ECF6\",\"width\":0.5},\"pattern\":{\"fillmode\":\"overlay\",\"size\":10,\"solidity\":0.2}},\"type\":\"barpolar\"}],\"pie\":[{\"automargin\":true,\"type\":\"pie\"}]},\"layout\":{\"autotypenumbers\":\"strict\",\"colorway\":[\"#636efa\",\"#EF553B\",\"#00cc96\",\"#ab63fa\",\"#FFA15A\",\"#19d3f3\",\"#FF6692\",\"#B6E880\",\"#FF97FF\",\"#FECB52\"],\"font\":{\"color\":\"#2a3f5f\"},\"hovermode\":\"closest\",\"hoverlabel\":{\"align\":\"left\"},\"paper_bgcolor\":\"white\",\"plot_bgcolor\":\"#E5ECF6\",\"polar\":{\"bgcolor\":\"#E5ECF6\",\"angularaxis\":{\"gridcolor\":\"white\",\"linecolor\":\"white\",\"ticks\":\"\"},\"radialaxis\":{\"gridcolor\":\"white\",\"linecolor\":\"white\",\"ticks\":\"\"}},\"ternary\":{\"bgcolor\":\"#E5ECF6\",\"aaxis\":{\"gridcolor\":\"white\",\"linecolor\":\"white\",\"ticks\":\"\"},\"baxis\":{\"gridcolor\":\"white\",\"linecolor\":\"white\",\"ticks\":\"\"},\"caxis\":{\"gridcolor\":\"white\",\"linecolor\":\"white\",\"ticks\":\"\"}},\"coloraxis\":{\"colorbar\":{\"outlinewidth\":0,\"ticks\":\"\"}},\"colorscale\":{\"sequential\":[[0.0,\"#0d0887\"],[0.1111111111111111,\"#46039f\"],[0.2222222222222222,\"#7201a8\"],[0.3333333333333333,\"#9c179e\"],[0.4444444444444444,\"#bd3786\"],[0.5555555555555556,\"#d8576b\"],[0.6666666666666666,\"#ed7953\"],[0.7777777777777778,\"#fb9f3a\"],[0.8888888888888888,\"#fdca26\"],[1.0,\"#f0f921\"]],\"sequentialminus\":[[0.0,\"#0d0887\"],[0.1111111111111111,\"#46039f\"],[0.2222222222222222,\"#7201a8\"],[0.3333333333333333,\"#9c179e\"],[0.4444444444444444,\"#bd3786\"],[0.5555555555555556,\"#d8576b\"],[0.6666666666666666,\"#ed7953\"],[0.7777777777777778,\"#fb9f3a\"],[0.8888888888888888,\"#fdca26\"],[1.0,\"#f0f921\"]],\"diverging\":[[0,\"#8e0152\"],[0.1,\"#c51b7d\"],[0.2,\"#de77ae\"],[0.3,\"#f1b6da\"],[0.4,\"#fde0ef\"],[0.5,\"#f7f7f7\"],[0.6,\"#e6f5d0\"],[0.7,\"#b8e186\"],[0.8,\"#7fbc41\"],[0.9,\"#4d9221\"],[1,\"#276419\"]]},\"xaxis\":{\"gridcolor\":\"white\",\"linecolor\":\"white\",\"ticks\":\"\",\"title\":{\"standoff\":15},\"zerolinecolor\":\"white\",\"automargin\":true,\"zerolinewidth\":2},\"yaxis\":{\"gridcolor\":\"white\",\"linecolor\":\"white\",\"ticks\":\"\",\"title\":{\"standoff\":15},\"zerolinecolor\":\"white\",\"automargin\":true,\"zerolinewidth\":2},\"scene\":{\"xaxis\":{\"backgroundcolor\":\"#E5ECF6\",\"gridcolor\":\"white\",\"linecolor\":\"white\",\"showbackground\":true,\"ticks\":\"\",\"zerolinecolor\":\"white\",\"gridwidth\":2},\"yaxis\":{\"backgroundcolor\":\"#E5ECF6\",\"gridcolor\":\"white\",\"linecolor\":\"white\",\"showbackground\":true,\"ticks\":\"\",\"zerolinecolor\":\"white\",\"gridwidth\":2},\"zaxis\":{\"backgroundcolor\":\"#E5ECF6\",\"gridcolor\":\"white\",\"linecolor\":\"white\",\"showbackground\":true,\"ticks\":\"\",\"zerolinecolor\":\"white\",\"gridwidth\":2}},\"shapedefaults\":{\"line\":{\"color\":\"#2a3f5f\"}},\"annotationdefaults\":{\"arrowcolor\":\"#2a3f5f\",\"arrowhead\":0,\"arrowwidth\":1},\"geo\":{\"bgcolor\":\"white\",\"landcolor\":\"#E5ECF6\",\"subunitcolor\":\"white\",\"showland\":true,\"showlakes\":true,\"lakecolor\":\"white\"},\"title\":{\"x\":0.05},\"mapbox\":{\"style\":\"light\"}}},\"xaxis\":{\"anchor\":\"y\",\"domain\":[0.0,1.0],\"title\":{\"text\":\"top scorer\"}},\"yaxis\":{\"anchor\":\"x\",\"domain\":[0.0,1.0],\"title\":{\"text\":\"highest score\"}},\"legend\":{\"tracegroupgap\":0},\"title\":{\"text\":\"the top scorers in the t20 world cup 2022\"},\"barmode\":\"relative\"},                        {\"responsive\": true}                    ).then(function(){\n",
       "                            \n",
       "var gd = document.getElementById('439db7c3-ffe9-4674-bb39-a847b369786a');\n",
       "var x = new MutationObserver(function (mutations, observer) {{\n",
       "        var display = window.getComputedStyle(gd).display;\n",
       "        if (!display || display === 'none') {{\n",
       "            console.log([gd, 'removed!']);\n",
       "            Plotly.purge(gd);\n",
       "            observer.disconnect();\n",
       "        }}\n",
       "}});\n",
       "\n",
       "// Listen for the removal of the full notebook cells\n",
       "var notebookContainer = gd.closest('#notebook-container');\n",
       "if (notebookContainer) {{\n",
       "    x.observe(notebookContainer, {childList: true});\n",
       "}}\n",
       "\n",
       "// Listen for the clearing of the current output cell\n",
       "var outputEl = gd.closest('.output');\n",
       "if (outputEl) {{\n",
       "    x.observe(outputEl, {childList: true});\n",
       "}}\n",
       "\n",
       "                        })                };                });            </script>        </div>"
      ]
     },
     "metadata": {},
     "output_type": "display_data"
    }
   ],
   "source": [
    "fig= px.bar(df, x=df['top scorer'],y=df['highest score'], title='the top scorers in the t20 world cup 2022')\n",
    "fig.show()"
   ]
  },
  {
   "cell_type": "markdown",
   "id": "e1ac91b1",
   "metadata": {},
   "source": [
    "# Now let’s have a look at the number of player of the match awards in the world cup"
   ]
  },
  {
   "cell_type": "code",
   "execution_count": 89,
   "id": "58ed2725",
   "metadata": {},
   "outputs": [
    {
     "data": {
      "text/html": [
       "<div>\n",
       "<style scoped>\n",
       "    .dataframe tbody tr th:only-of-type {\n",
       "        vertical-align: middle;\n",
       "    }\n",
       "\n",
       "    .dataframe tbody tr th {\n",
       "        vertical-align: top;\n",
       "    }\n",
       "\n",
       "    .dataframe thead th {\n",
       "        text-align: right;\n",
       "    }\n",
       "</style>\n",
       "<table border=\"1\" class=\"dataframe\">\n",
       "  <thead>\n",
       "    <tr style=\"text-align: right;\">\n",
       "      <th></th>\n",
       "      <th>venue</th>\n",
       "      <th>team1</th>\n",
       "      <th>team2</th>\n",
       "      <th>stage</th>\n",
       "      <th>toss winner</th>\n",
       "      <th>toss decision</th>\n",
       "      <th>first innings score</th>\n",
       "      <th>first innings wickets</th>\n",
       "      <th>second innings score</th>\n",
       "      <th>second innings wickets</th>\n",
       "      <th>winner</th>\n",
       "      <th>won by</th>\n",
       "      <th>player of the match</th>\n",
       "      <th>top scorer</th>\n",
       "      <th>highest score</th>\n",
       "      <th>best bowler</th>\n",
       "      <th>best bowling figure</th>\n",
       "    </tr>\n",
       "  </thead>\n",
       "  <tbody>\n",
       "    <tr>\n",
       "      <th>0</th>\n",
       "      <td>SCG</td>\n",
       "      <td>New Zealand</td>\n",
       "      <td>Australia</td>\n",
       "      <td>Super 12</td>\n",
       "      <td>Australia</td>\n",
       "      <td>Field</td>\n",
       "      <td>200.0</td>\n",
       "      <td>3.0</td>\n",
       "      <td>111.0</td>\n",
       "      <td>10.0</td>\n",
       "      <td>New Zealand</td>\n",
       "      <td>Runs</td>\n",
       "      <td>Devon Conway</td>\n",
       "      <td>Devon Conway</td>\n",
       "      <td>92.0</td>\n",
       "      <td>Tim Southee</td>\n",
       "      <td>3-6</td>\n",
       "    </tr>\n",
       "    <tr>\n",
       "      <th>1</th>\n",
       "      <td>Optus Stadium</td>\n",
       "      <td>Afghanistan</td>\n",
       "      <td>England</td>\n",
       "      <td>Super 12</td>\n",
       "      <td>England</td>\n",
       "      <td>Field</td>\n",
       "      <td>112.0</td>\n",
       "      <td>10.0</td>\n",
       "      <td>113.0</td>\n",
       "      <td>5.0</td>\n",
       "      <td>England</td>\n",
       "      <td>Wickets</td>\n",
       "      <td>Sam Curran</td>\n",
       "      <td>Ibrahim Zadran</td>\n",
       "      <td>32.0</td>\n",
       "      <td>Sam Curran</td>\n",
       "      <td>5-10</td>\n",
       "    </tr>\n",
       "  </tbody>\n",
       "</table>\n",
       "</div>"
      ],
      "text/plain": [
       "           venue        team1      team2     stage toss winner toss decision  \\\n",
       "0            SCG  New Zealand  Australia  Super 12   Australia         Field   \n",
       "1  Optus Stadium  Afghanistan    England  Super 12     England         Field   \n",
       "\n",
       "   first innings score  first innings wickets  second innings score  \\\n",
       "0                200.0                    3.0                 111.0   \n",
       "1                112.0                   10.0                 113.0   \n",
       "\n",
       "   second innings wickets       winner   won by player of the match  \\\n",
       "0                    10.0  New Zealand     Runs        Devon Conway   \n",
       "1                     5.0      England  Wickets          Sam Curran   \n",
       "\n",
       "       top scorer  highest score  best bowler best bowling figure  \n",
       "0    Devon Conway           92.0  Tim Southee                 3-6  \n",
       "1  Ibrahim Zadran           32.0   Sam Curran                5-10  "
      ]
     },
     "execution_count": 89,
     "metadata": {},
     "output_type": "execute_result"
    }
   ],
   "source": [
    "df.head(2)"
   ]
  },
  {
   "cell_type": "code",
   "execution_count": 90,
   "id": "419798f9",
   "metadata": {},
   "outputs": [
    {
     "data": {
      "text/plain": [
       "Shadab Khan          2\n",
       "Suryakumar Yadav     2\n",
       "Virat Kohli          2\n",
       "Taskin Ahmed         2\n",
       "Sam Curran           2\n",
       "Glenn Maxwell        1\n",
       "Sikandar Raza        1\n",
       "Kusal Mendis         1\n",
       "Colin Ackermann      1\n",
       "Andrew Balbirnie     1\n",
       "Lungi Ngidi          1\n",
       "Wanindu Hasaranga    1\n",
       "Glenn Phillips       1\n",
       "Alex Hales           1\n",
       "Devon Conway         1\n",
       "Adil Rashid          1\n",
       "Marcus Stoinis       1\n",
       "Aaron Finch          1\n",
       "Jos Buttler          1\n",
       "Rilee Rossouw        1\n",
       "Shaheen Afridi       1\n",
       "Kane Williamson      1\n",
       "Max O'Dowd           1\n",
       "Mohammad Rizwan      1\n",
       "Name: player of the match, dtype: int64"
      ]
     },
     "execution_count": 90,
     "metadata": {},
     "output_type": "execute_result"
    }
   ],
   "source": [
    "df['player of the match'].value_counts()"
   ]
  },
  {
   "cell_type": "code",
   "execution_count": 92,
   "id": "4226d292",
   "metadata": {},
   "outputs": [
    {
     "data": {
      "application/vnd.plotly.v1+json": {
       "config": {
        "plotlyServerURL": "https://plot.ly"
       },
       "data": [
        {
         "alignmentgroup": "True",
         "hovertemplate": "player of the match=%{x}<br>count=%{y}<extra></extra>",
         "legendgroup": "",
         "marker": {
          "color": "#636efa",
          "pattern": {
           "shape": ""
          }
         },
         "name": "",
         "offsetgroup": "",
         "orientation": "v",
         "showlegend": false,
         "textposition": "auto",
         "type": "bar",
         "x": [
          "Devon Conway",
          "Sam Curran",
          "Kusal Mendis",
          "Virat Kohli",
          "Taskin Ahmed",
          "Marcus Stoinis",
          "Andrew Balbirnie",
          "Rilee Rossouw",
          "Suryakumar Yadav",
          "Sikandar Raza",
          "Glenn Phillips",
          "Taskin Ahmed",
          "Shadab Khan",
          "Lungi Ngidi",
          "Aaron Finch",
          "Wanindu Hasaranga",
          "Jos Buttler",
          "Max O'Dowd",
          "Virat Kohli",
          "Shadab Khan",
          "Kane Williamson",
          "Glenn Maxwell",
          "Adil Rashid",
          "Colin Ackermann",
          "Shaheen Afridi",
          "Suryakumar Yadav",
          "Mohammad Rizwan",
          "Alex Hales",
          "Sam Curran"
         ],
         "xaxis": "x",
         "y": [
          1,
          1,
          1,
          1,
          1,
          1,
          1,
          1,
          1,
          1,
          1,
          1,
          1,
          1,
          1,
          1,
          1,
          1,
          1,
          1,
          1,
          1,
          1,
          1,
          1,
          1,
          1,
          1,
          1
         ],
         "yaxis": "y"
        }
       ],
       "layout": {
        "barmode": "relative",
        "legend": {
         "tracegroupgap": 0
        },
        "template": {
         "data": {
          "bar": [
           {
            "error_x": {
             "color": "#2a3f5f"
            },
            "error_y": {
             "color": "#2a3f5f"
            },
            "marker": {
             "line": {
              "color": "#E5ECF6",
              "width": 0.5
             },
             "pattern": {
              "fillmode": "overlay",
              "size": 10,
              "solidity": 0.2
             }
            },
            "type": "bar"
           }
          ],
          "barpolar": [
           {
            "marker": {
             "line": {
              "color": "#E5ECF6",
              "width": 0.5
             },
             "pattern": {
              "fillmode": "overlay",
              "size": 10,
              "solidity": 0.2
             }
            },
            "type": "barpolar"
           }
          ],
          "carpet": [
           {
            "aaxis": {
             "endlinecolor": "#2a3f5f",
             "gridcolor": "white",
             "linecolor": "white",
             "minorgridcolor": "white",
             "startlinecolor": "#2a3f5f"
            },
            "baxis": {
             "endlinecolor": "#2a3f5f",
             "gridcolor": "white",
             "linecolor": "white",
             "minorgridcolor": "white",
             "startlinecolor": "#2a3f5f"
            },
            "type": "carpet"
           }
          ],
          "choropleth": [
           {
            "colorbar": {
             "outlinewidth": 0,
             "ticks": ""
            },
            "type": "choropleth"
           }
          ],
          "contour": [
           {
            "colorbar": {
             "outlinewidth": 0,
             "ticks": ""
            },
            "colorscale": [
             [
              0,
              "#0d0887"
             ],
             [
              0.1111111111111111,
              "#46039f"
             ],
             [
              0.2222222222222222,
              "#7201a8"
             ],
             [
              0.3333333333333333,
              "#9c179e"
             ],
             [
              0.4444444444444444,
              "#bd3786"
             ],
             [
              0.5555555555555556,
              "#d8576b"
             ],
             [
              0.6666666666666666,
              "#ed7953"
             ],
             [
              0.7777777777777778,
              "#fb9f3a"
             ],
             [
              0.8888888888888888,
              "#fdca26"
             ],
             [
              1,
              "#f0f921"
             ]
            ],
            "type": "contour"
           }
          ],
          "contourcarpet": [
           {
            "colorbar": {
             "outlinewidth": 0,
             "ticks": ""
            },
            "type": "contourcarpet"
           }
          ],
          "heatmap": [
           {
            "colorbar": {
             "outlinewidth": 0,
             "ticks": ""
            },
            "colorscale": [
             [
              0,
              "#0d0887"
             ],
             [
              0.1111111111111111,
              "#46039f"
             ],
             [
              0.2222222222222222,
              "#7201a8"
             ],
             [
              0.3333333333333333,
              "#9c179e"
             ],
             [
              0.4444444444444444,
              "#bd3786"
             ],
             [
              0.5555555555555556,
              "#d8576b"
             ],
             [
              0.6666666666666666,
              "#ed7953"
             ],
             [
              0.7777777777777778,
              "#fb9f3a"
             ],
             [
              0.8888888888888888,
              "#fdca26"
             ],
             [
              1,
              "#f0f921"
             ]
            ],
            "type": "heatmap"
           }
          ],
          "heatmapgl": [
           {
            "colorbar": {
             "outlinewidth": 0,
             "ticks": ""
            },
            "colorscale": [
             [
              0,
              "#0d0887"
             ],
             [
              0.1111111111111111,
              "#46039f"
             ],
             [
              0.2222222222222222,
              "#7201a8"
             ],
             [
              0.3333333333333333,
              "#9c179e"
             ],
             [
              0.4444444444444444,
              "#bd3786"
             ],
             [
              0.5555555555555556,
              "#d8576b"
             ],
             [
              0.6666666666666666,
              "#ed7953"
             ],
             [
              0.7777777777777778,
              "#fb9f3a"
             ],
             [
              0.8888888888888888,
              "#fdca26"
             ],
             [
              1,
              "#f0f921"
             ]
            ],
            "type": "heatmapgl"
           }
          ],
          "histogram": [
           {
            "marker": {
             "pattern": {
              "fillmode": "overlay",
              "size": 10,
              "solidity": 0.2
             }
            },
            "type": "histogram"
           }
          ],
          "histogram2d": [
           {
            "colorbar": {
             "outlinewidth": 0,
             "ticks": ""
            },
            "colorscale": [
             [
              0,
              "#0d0887"
             ],
             [
              0.1111111111111111,
              "#46039f"
             ],
             [
              0.2222222222222222,
              "#7201a8"
             ],
             [
              0.3333333333333333,
              "#9c179e"
             ],
             [
              0.4444444444444444,
              "#bd3786"
             ],
             [
              0.5555555555555556,
              "#d8576b"
             ],
             [
              0.6666666666666666,
              "#ed7953"
             ],
             [
              0.7777777777777778,
              "#fb9f3a"
             ],
             [
              0.8888888888888888,
              "#fdca26"
             ],
             [
              1,
              "#f0f921"
             ]
            ],
            "type": "histogram2d"
           }
          ],
          "histogram2dcontour": [
           {
            "colorbar": {
             "outlinewidth": 0,
             "ticks": ""
            },
            "colorscale": [
             [
              0,
              "#0d0887"
             ],
             [
              0.1111111111111111,
              "#46039f"
             ],
             [
              0.2222222222222222,
              "#7201a8"
             ],
             [
              0.3333333333333333,
              "#9c179e"
             ],
             [
              0.4444444444444444,
              "#bd3786"
             ],
             [
              0.5555555555555556,
              "#d8576b"
             ],
             [
              0.6666666666666666,
              "#ed7953"
             ],
             [
              0.7777777777777778,
              "#fb9f3a"
             ],
             [
              0.8888888888888888,
              "#fdca26"
             ],
             [
              1,
              "#f0f921"
             ]
            ],
            "type": "histogram2dcontour"
           }
          ],
          "mesh3d": [
           {
            "colorbar": {
             "outlinewidth": 0,
             "ticks": ""
            },
            "type": "mesh3d"
           }
          ],
          "parcoords": [
           {
            "line": {
             "colorbar": {
              "outlinewidth": 0,
              "ticks": ""
             }
            },
            "type": "parcoords"
           }
          ],
          "pie": [
           {
            "automargin": true,
            "type": "pie"
           }
          ],
          "scatter": [
           {
            "fillpattern": {
             "fillmode": "overlay",
             "size": 10,
             "solidity": 0.2
            },
            "type": "scatter"
           }
          ],
          "scatter3d": [
           {
            "line": {
             "colorbar": {
              "outlinewidth": 0,
              "ticks": ""
             }
            },
            "marker": {
             "colorbar": {
              "outlinewidth": 0,
              "ticks": ""
             }
            },
            "type": "scatter3d"
           }
          ],
          "scattercarpet": [
           {
            "marker": {
             "colorbar": {
              "outlinewidth": 0,
              "ticks": ""
             }
            },
            "type": "scattercarpet"
           }
          ],
          "scattergeo": [
           {
            "marker": {
             "colorbar": {
              "outlinewidth": 0,
              "ticks": ""
             }
            },
            "type": "scattergeo"
           }
          ],
          "scattergl": [
           {
            "marker": {
             "colorbar": {
              "outlinewidth": 0,
              "ticks": ""
             }
            },
            "type": "scattergl"
           }
          ],
          "scattermapbox": [
           {
            "marker": {
             "colorbar": {
              "outlinewidth": 0,
              "ticks": ""
             }
            },
            "type": "scattermapbox"
           }
          ],
          "scatterpolar": [
           {
            "marker": {
             "colorbar": {
              "outlinewidth": 0,
              "ticks": ""
             }
            },
            "type": "scatterpolar"
           }
          ],
          "scatterpolargl": [
           {
            "marker": {
             "colorbar": {
              "outlinewidth": 0,
              "ticks": ""
             }
            },
            "type": "scatterpolargl"
           }
          ],
          "scatterternary": [
           {
            "marker": {
             "colorbar": {
              "outlinewidth": 0,
              "ticks": ""
             }
            },
            "type": "scatterternary"
           }
          ],
          "surface": [
           {
            "colorbar": {
             "outlinewidth": 0,
             "ticks": ""
            },
            "colorscale": [
             [
              0,
              "#0d0887"
             ],
             [
              0.1111111111111111,
              "#46039f"
             ],
             [
              0.2222222222222222,
              "#7201a8"
             ],
             [
              0.3333333333333333,
              "#9c179e"
             ],
             [
              0.4444444444444444,
              "#bd3786"
             ],
             [
              0.5555555555555556,
              "#d8576b"
             ],
             [
              0.6666666666666666,
              "#ed7953"
             ],
             [
              0.7777777777777778,
              "#fb9f3a"
             ],
             [
              0.8888888888888888,
              "#fdca26"
             ],
             [
              1,
              "#f0f921"
             ]
            ],
            "type": "surface"
           }
          ],
          "table": [
           {
            "cells": {
             "fill": {
              "color": "#EBF0F8"
             },
             "line": {
              "color": "white"
             }
            },
            "header": {
             "fill": {
              "color": "#C8D4E3"
             },
             "line": {
              "color": "white"
             }
            },
            "type": "table"
           }
          ]
         },
         "layout": {
          "annotationdefaults": {
           "arrowcolor": "#2a3f5f",
           "arrowhead": 0,
           "arrowwidth": 1
          },
          "autotypenumbers": "strict",
          "coloraxis": {
           "colorbar": {
            "outlinewidth": 0,
            "ticks": ""
           }
          },
          "colorscale": {
           "diverging": [
            [
             0,
             "#8e0152"
            ],
            [
             0.1,
             "#c51b7d"
            ],
            [
             0.2,
             "#de77ae"
            ],
            [
             0.3,
             "#f1b6da"
            ],
            [
             0.4,
             "#fde0ef"
            ],
            [
             0.5,
             "#f7f7f7"
            ],
            [
             0.6,
             "#e6f5d0"
            ],
            [
             0.7,
             "#b8e186"
            ],
            [
             0.8,
             "#7fbc41"
            ],
            [
             0.9,
             "#4d9221"
            ],
            [
             1,
             "#276419"
            ]
           ],
           "sequential": [
            [
             0,
             "#0d0887"
            ],
            [
             0.1111111111111111,
             "#46039f"
            ],
            [
             0.2222222222222222,
             "#7201a8"
            ],
            [
             0.3333333333333333,
             "#9c179e"
            ],
            [
             0.4444444444444444,
             "#bd3786"
            ],
            [
             0.5555555555555556,
             "#d8576b"
            ],
            [
             0.6666666666666666,
             "#ed7953"
            ],
            [
             0.7777777777777778,
             "#fb9f3a"
            ],
            [
             0.8888888888888888,
             "#fdca26"
            ],
            [
             1,
             "#f0f921"
            ]
           ],
           "sequentialminus": [
            [
             0,
             "#0d0887"
            ],
            [
             0.1111111111111111,
             "#46039f"
            ],
            [
             0.2222222222222222,
             "#7201a8"
            ],
            [
             0.3333333333333333,
             "#9c179e"
            ],
            [
             0.4444444444444444,
             "#bd3786"
            ],
            [
             0.5555555555555556,
             "#d8576b"
            ],
            [
             0.6666666666666666,
             "#ed7953"
            ],
            [
             0.7777777777777778,
             "#fb9f3a"
            ],
            [
             0.8888888888888888,
             "#fdca26"
            ],
            [
             1,
             "#f0f921"
            ]
           ]
          },
          "colorway": [
           "#636efa",
           "#EF553B",
           "#00cc96",
           "#ab63fa",
           "#FFA15A",
           "#19d3f3",
           "#FF6692",
           "#B6E880",
           "#FF97FF",
           "#FECB52"
          ],
          "font": {
           "color": "#2a3f5f"
          },
          "geo": {
           "bgcolor": "white",
           "lakecolor": "white",
           "landcolor": "#E5ECF6",
           "showlakes": true,
           "showland": true,
           "subunitcolor": "white"
          },
          "hoverlabel": {
           "align": "left"
          },
          "hovermode": "closest",
          "mapbox": {
           "style": "light"
          },
          "paper_bgcolor": "white",
          "plot_bgcolor": "#E5ECF6",
          "polar": {
           "angularaxis": {
            "gridcolor": "white",
            "linecolor": "white",
            "ticks": ""
           },
           "bgcolor": "#E5ECF6",
           "radialaxis": {
            "gridcolor": "white",
            "linecolor": "white",
            "ticks": ""
           }
          },
          "scene": {
           "xaxis": {
            "backgroundcolor": "#E5ECF6",
            "gridcolor": "white",
            "gridwidth": 2,
            "linecolor": "white",
            "showbackground": true,
            "ticks": "",
            "zerolinecolor": "white"
           },
           "yaxis": {
            "backgroundcolor": "#E5ECF6",
            "gridcolor": "white",
            "gridwidth": 2,
            "linecolor": "white",
            "showbackground": true,
            "ticks": "",
            "zerolinecolor": "white"
           },
           "zaxis": {
            "backgroundcolor": "#E5ECF6",
            "gridcolor": "white",
            "gridwidth": 2,
            "linecolor": "white",
            "showbackground": true,
            "ticks": "",
            "zerolinecolor": "white"
           }
          },
          "shapedefaults": {
           "line": {
            "color": "#2a3f5f"
           }
          },
          "ternary": {
           "aaxis": {
            "gridcolor": "white",
            "linecolor": "white",
            "ticks": ""
           },
           "baxis": {
            "gridcolor": "white",
            "linecolor": "white",
            "ticks": ""
           },
           "bgcolor": "#E5ECF6",
           "caxis": {
            "gridcolor": "white",
            "linecolor": "white",
            "ticks": ""
           }
          },
          "title": {
           "x": 0.05
          },
          "xaxis": {
           "automargin": true,
           "gridcolor": "white",
           "linecolor": "white",
           "ticks": "",
           "title": {
            "standoff": 15
           },
           "zerolinecolor": "white",
           "zerolinewidth": 2
          },
          "yaxis": {
           "automargin": true,
           "gridcolor": "white",
           "linecolor": "white",
           "ticks": "",
           "title": {
            "standoff": 15
           },
           "zerolinecolor": "white",
           "zerolinewidth": 2
          }
         }
        },
        "title": {
         "text": "the number of player of the match awards in the world cup"
        },
        "xaxis": {
         "anchor": "y",
         "domain": [
          0,
          1
         ],
         "title": {
          "text": "player of the match"
         }
        },
        "yaxis": {
         "anchor": "x",
         "domain": [
          0,
          1
         ],
         "title": {
          "text": "count"
         }
        }
       }
      },
      "text/html": [
       "<div>                            <div id=\"548190df-7734-417d-9b0d-cfe23100ca7b\" class=\"plotly-graph-div\" style=\"height:525px; width:100%;\"></div>            <script type=\"text/javascript\">                require([\"plotly\"], function(Plotly) {                    window.PLOTLYENV=window.PLOTLYENV || {};                                    if (document.getElementById(\"548190df-7734-417d-9b0d-cfe23100ca7b\")) {                    Plotly.newPlot(                        \"548190df-7734-417d-9b0d-cfe23100ca7b\",                        [{\"alignmentgroup\":\"True\",\"hovertemplate\":\"player of the match=%{x}<br>count=%{y}<extra></extra>\",\"legendgroup\":\"\",\"marker\":{\"color\":\"#636efa\",\"pattern\":{\"shape\":\"\"}},\"name\":\"\",\"offsetgroup\":\"\",\"orientation\":\"v\",\"showlegend\":false,\"textposition\":\"auto\",\"x\":[\"Devon Conway\",\"Sam Curran\",\"Kusal Mendis\",\"Virat Kohli\",\"Taskin Ahmed\",\"Marcus Stoinis\",\"Andrew Balbirnie\",\"Rilee Rossouw\",\"Suryakumar Yadav\",\"Sikandar Raza\",\"Glenn Phillips\",\"Taskin Ahmed\",\"Shadab Khan\",\"Lungi Ngidi\",\"Aaron Finch\",\"Wanindu Hasaranga\",\"Jos Buttler\",\"Max O'Dowd\",\"Virat Kohli\",\"Shadab Khan\",\"Kane Williamson\",\"Glenn Maxwell\",\"Adil Rashid\",\"Colin Ackermann\",\"Shaheen Afridi\",\"Suryakumar Yadav\",\"Mohammad Rizwan\",\"Alex Hales\",\"Sam Curran\"],\"xaxis\":\"x\",\"y\":[1,1,1,1,1,1,1,1,1,1,1,1,1,1,1,1,1,1,1,1,1,1,1,1,1,1,1,1,1],\"yaxis\":\"y\",\"type\":\"bar\"}],                        {\"template\":{\"data\":{\"histogram2dcontour\":[{\"type\":\"histogram2dcontour\",\"colorbar\":{\"outlinewidth\":0,\"ticks\":\"\"},\"colorscale\":[[0.0,\"#0d0887\"],[0.1111111111111111,\"#46039f\"],[0.2222222222222222,\"#7201a8\"],[0.3333333333333333,\"#9c179e\"],[0.4444444444444444,\"#bd3786\"],[0.5555555555555556,\"#d8576b\"],[0.6666666666666666,\"#ed7953\"],[0.7777777777777778,\"#fb9f3a\"],[0.8888888888888888,\"#fdca26\"],[1.0,\"#f0f921\"]]}],\"choropleth\":[{\"type\":\"choropleth\",\"colorbar\":{\"outlinewidth\":0,\"ticks\":\"\"}}],\"histogram2d\":[{\"type\":\"histogram2d\",\"colorbar\":{\"outlinewidth\":0,\"ticks\":\"\"},\"colorscale\":[[0.0,\"#0d0887\"],[0.1111111111111111,\"#46039f\"],[0.2222222222222222,\"#7201a8\"],[0.3333333333333333,\"#9c179e\"],[0.4444444444444444,\"#bd3786\"],[0.5555555555555556,\"#d8576b\"],[0.6666666666666666,\"#ed7953\"],[0.7777777777777778,\"#fb9f3a\"],[0.8888888888888888,\"#fdca26\"],[1.0,\"#f0f921\"]]}],\"heatmap\":[{\"type\":\"heatmap\",\"colorbar\":{\"outlinewidth\":0,\"ticks\":\"\"},\"colorscale\":[[0.0,\"#0d0887\"],[0.1111111111111111,\"#46039f\"],[0.2222222222222222,\"#7201a8\"],[0.3333333333333333,\"#9c179e\"],[0.4444444444444444,\"#bd3786\"],[0.5555555555555556,\"#d8576b\"],[0.6666666666666666,\"#ed7953\"],[0.7777777777777778,\"#fb9f3a\"],[0.8888888888888888,\"#fdca26\"],[1.0,\"#f0f921\"]]}],\"heatmapgl\":[{\"type\":\"heatmapgl\",\"colorbar\":{\"outlinewidth\":0,\"ticks\":\"\"},\"colorscale\":[[0.0,\"#0d0887\"],[0.1111111111111111,\"#46039f\"],[0.2222222222222222,\"#7201a8\"],[0.3333333333333333,\"#9c179e\"],[0.4444444444444444,\"#bd3786\"],[0.5555555555555556,\"#d8576b\"],[0.6666666666666666,\"#ed7953\"],[0.7777777777777778,\"#fb9f3a\"],[0.8888888888888888,\"#fdca26\"],[1.0,\"#f0f921\"]]}],\"contourcarpet\":[{\"type\":\"contourcarpet\",\"colorbar\":{\"outlinewidth\":0,\"ticks\":\"\"}}],\"contour\":[{\"type\":\"contour\",\"colorbar\":{\"outlinewidth\":0,\"ticks\":\"\"},\"colorscale\":[[0.0,\"#0d0887\"],[0.1111111111111111,\"#46039f\"],[0.2222222222222222,\"#7201a8\"],[0.3333333333333333,\"#9c179e\"],[0.4444444444444444,\"#bd3786\"],[0.5555555555555556,\"#d8576b\"],[0.6666666666666666,\"#ed7953\"],[0.7777777777777778,\"#fb9f3a\"],[0.8888888888888888,\"#fdca26\"],[1.0,\"#f0f921\"]]}],\"surface\":[{\"type\":\"surface\",\"colorbar\":{\"outlinewidth\":0,\"ticks\":\"\"},\"colorscale\":[[0.0,\"#0d0887\"],[0.1111111111111111,\"#46039f\"],[0.2222222222222222,\"#7201a8\"],[0.3333333333333333,\"#9c179e\"],[0.4444444444444444,\"#bd3786\"],[0.5555555555555556,\"#d8576b\"],[0.6666666666666666,\"#ed7953\"],[0.7777777777777778,\"#fb9f3a\"],[0.8888888888888888,\"#fdca26\"],[1.0,\"#f0f921\"]]}],\"mesh3d\":[{\"type\":\"mesh3d\",\"colorbar\":{\"outlinewidth\":0,\"ticks\":\"\"}}],\"scatter\":[{\"fillpattern\":{\"fillmode\":\"overlay\",\"size\":10,\"solidity\":0.2},\"type\":\"scatter\"}],\"parcoords\":[{\"type\":\"parcoords\",\"line\":{\"colorbar\":{\"outlinewidth\":0,\"ticks\":\"\"}}}],\"scatterpolargl\":[{\"type\":\"scatterpolargl\",\"marker\":{\"colorbar\":{\"outlinewidth\":0,\"ticks\":\"\"}}}],\"bar\":[{\"error_x\":{\"color\":\"#2a3f5f\"},\"error_y\":{\"color\":\"#2a3f5f\"},\"marker\":{\"line\":{\"color\":\"#E5ECF6\",\"width\":0.5},\"pattern\":{\"fillmode\":\"overlay\",\"size\":10,\"solidity\":0.2}},\"type\":\"bar\"}],\"scattergeo\":[{\"type\":\"scattergeo\",\"marker\":{\"colorbar\":{\"outlinewidth\":0,\"ticks\":\"\"}}}],\"scatterpolar\":[{\"type\":\"scatterpolar\",\"marker\":{\"colorbar\":{\"outlinewidth\":0,\"ticks\":\"\"}}}],\"histogram\":[{\"marker\":{\"pattern\":{\"fillmode\":\"overlay\",\"size\":10,\"solidity\":0.2}},\"type\":\"histogram\"}],\"scattergl\":[{\"type\":\"scattergl\",\"marker\":{\"colorbar\":{\"outlinewidth\":0,\"ticks\":\"\"}}}],\"scatter3d\":[{\"type\":\"scatter3d\",\"line\":{\"colorbar\":{\"outlinewidth\":0,\"ticks\":\"\"}},\"marker\":{\"colorbar\":{\"outlinewidth\":0,\"ticks\":\"\"}}}],\"scattermapbox\":[{\"type\":\"scattermapbox\",\"marker\":{\"colorbar\":{\"outlinewidth\":0,\"ticks\":\"\"}}}],\"scatterternary\":[{\"type\":\"scatterternary\",\"marker\":{\"colorbar\":{\"outlinewidth\":0,\"ticks\":\"\"}}}],\"scattercarpet\":[{\"type\":\"scattercarpet\",\"marker\":{\"colorbar\":{\"outlinewidth\":0,\"ticks\":\"\"}}}],\"carpet\":[{\"aaxis\":{\"endlinecolor\":\"#2a3f5f\",\"gridcolor\":\"white\",\"linecolor\":\"white\",\"minorgridcolor\":\"white\",\"startlinecolor\":\"#2a3f5f\"},\"baxis\":{\"endlinecolor\":\"#2a3f5f\",\"gridcolor\":\"white\",\"linecolor\":\"white\",\"minorgridcolor\":\"white\",\"startlinecolor\":\"#2a3f5f\"},\"type\":\"carpet\"}],\"table\":[{\"cells\":{\"fill\":{\"color\":\"#EBF0F8\"},\"line\":{\"color\":\"white\"}},\"header\":{\"fill\":{\"color\":\"#C8D4E3\"},\"line\":{\"color\":\"white\"}},\"type\":\"table\"}],\"barpolar\":[{\"marker\":{\"line\":{\"color\":\"#E5ECF6\",\"width\":0.5},\"pattern\":{\"fillmode\":\"overlay\",\"size\":10,\"solidity\":0.2}},\"type\":\"barpolar\"}],\"pie\":[{\"automargin\":true,\"type\":\"pie\"}]},\"layout\":{\"autotypenumbers\":\"strict\",\"colorway\":[\"#636efa\",\"#EF553B\",\"#00cc96\",\"#ab63fa\",\"#FFA15A\",\"#19d3f3\",\"#FF6692\",\"#B6E880\",\"#FF97FF\",\"#FECB52\"],\"font\":{\"color\":\"#2a3f5f\"},\"hovermode\":\"closest\",\"hoverlabel\":{\"align\":\"left\"},\"paper_bgcolor\":\"white\",\"plot_bgcolor\":\"#E5ECF6\",\"polar\":{\"bgcolor\":\"#E5ECF6\",\"angularaxis\":{\"gridcolor\":\"white\",\"linecolor\":\"white\",\"ticks\":\"\"},\"radialaxis\":{\"gridcolor\":\"white\",\"linecolor\":\"white\",\"ticks\":\"\"}},\"ternary\":{\"bgcolor\":\"#E5ECF6\",\"aaxis\":{\"gridcolor\":\"white\",\"linecolor\":\"white\",\"ticks\":\"\"},\"baxis\":{\"gridcolor\":\"white\",\"linecolor\":\"white\",\"ticks\":\"\"},\"caxis\":{\"gridcolor\":\"white\",\"linecolor\":\"white\",\"ticks\":\"\"}},\"coloraxis\":{\"colorbar\":{\"outlinewidth\":0,\"ticks\":\"\"}},\"colorscale\":{\"sequential\":[[0.0,\"#0d0887\"],[0.1111111111111111,\"#46039f\"],[0.2222222222222222,\"#7201a8\"],[0.3333333333333333,\"#9c179e\"],[0.4444444444444444,\"#bd3786\"],[0.5555555555555556,\"#d8576b\"],[0.6666666666666666,\"#ed7953\"],[0.7777777777777778,\"#fb9f3a\"],[0.8888888888888888,\"#fdca26\"],[1.0,\"#f0f921\"]],\"sequentialminus\":[[0.0,\"#0d0887\"],[0.1111111111111111,\"#46039f\"],[0.2222222222222222,\"#7201a8\"],[0.3333333333333333,\"#9c179e\"],[0.4444444444444444,\"#bd3786\"],[0.5555555555555556,\"#d8576b\"],[0.6666666666666666,\"#ed7953\"],[0.7777777777777778,\"#fb9f3a\"],[0.8888888888888888,\"#fdca26\"],[1.0,\"#f0f921\"]],\"diverging\":[[0,\"#8e0152\"],[0.1,\"#c51b7d\"],[0.2,\"#de77ae\"],[0.3,\"#f1b6da\"],[0.4,\"#fde0ef\"],[0.5,\"#f7f7f7\"],[0.6,\"#e6f5d0\"],[0.7,\"#b8e186\"],[0.8,\"#7fbc41\"],[0.9,\"#4d9221\"],[1,\"#276419\"]]},\"xaxis\":{\"gridcolor\":\"white\",\"linecolor\":\"white\",\"ticks\":\"\",\"title\":{\"standoff\":15},\"zerolinecolor\":\"white\",\"automargin\":true,\"zerolinewidth\":2},\"yaxis\":{\"gridcolor\":\"white\",\"linecolor\":\"white\",\"ticks\":\"\",\"title\":{\"standoff\":15},\"zerolinecolor\":\"white\",\"automargin\":true,\"zerolinewidth\":2},\"scene\":{\"xaxis\":{\"backgroundcolor\":\"#E5ECF6\",\"gridcolor\":\"white\",\"linecolor\":\"white\",\"showbackground\":true,\"ticks\":\"\",\"zerolinecolor\":\"white\",\"gridwidth\":2},\"yaxis\":{\"backgroundcolor\":\"#E5ECF6\",\"gridcolor\":\"white\",\"linecolor\":\"white\",\"showbackground\":true,\"ticks\":\"\",\"zerolinecolor\":\"white\",\"gridwidth\":2},\"zaxis\":{\"backgroundcolor\":\"#E5ECF6\",\"gridcolor\":\"white\",\"linecolor\":\"white\",\"showbackground\":true,\"ticks\":\"\",\"zerolinecolor\":\"white\",\"gridwidth\":2}},\"shapedefaults\":{\"line\":{\"color\":\"#2a3f5f\"}},\"annotationdefaults\":{\"arrowcolor\":\"#2a3f5f\",\"arrowhead\":0,\"arrowwidth\":1},\"geo\":{\"bgcolor\":\"white\",\"landcolor\":\"#E5ECF6\",\"subunitcolor\":\"white\",\"showland\":true,\"showlakes\":true,\"lakecolor\":\"white\"},\"title\":{\"x\":0.05},\"mapbox\":{\"style\":\"light\"}}},\"xaxis\":{\"anchor\":\"y\",\"domain\":[0.0,1.0],\"title\":{\"text\":\"player of the match\"}},\"yaxis\":{\"anchor\":\"x\",\"domain\":[0.0,1.0],\"title\":{\"text\":\"count\"}},\"legend\":{\"tracegroupgap\":0},\"title\":{\"text\":\"the number of player of the match awards in the world cup\"},\"barmode\":\"relative\"},                        {\"responsive\": true}                    ).then(function(){\n",
       "                            \n",
       "var gd = document.getElementById('548190df-7734-417d-9b0d-cfe23100ca7b');\n",
       "var x = new MutationObserver(function (mutations, observer) {{\n",
       "        var display = window.getComputedStyle(gd).display;\n",
       "        if (!display || display === 'none') {{\n",
       "            console.log([gd, 'removed!']);\n",
       "            Plotly.purge(gd);\n",
       "            observer.disconnect();\n",
       "        }}\n",
       "}});\n",
       "\n",
       "// Listen for the removal of the full notebook cells\n",
       "var notebookContainer = gd.closest('#notebook-container');\n",
       "if (notebookContainer) {{\n",
       "    x.observe(notebookContainer, {childList: true});\n",
       "}}\n",
       "\n",
       "// Listen for the clearing of the current output cell\n",
       "var outputEl = gd.closest('.output');\n",
       "if (outputEl) {{\n",
       "    x.observe(outputEl, {childList: true});\n",
       "}}\n",
       "\n",
       "                        })                };                });            </script>        </div>"
      ]
     },
     "metadata": {},
     "output_type": "display_data"
    }
   ],
   "source": [
    "fig=px.bar(df,x=df['player of the match'], title='the number of player of the match awards in the world cup')\n",
    "fig.show()"
   ]
  },
  {
   "cell_type": "markdown",
   "id": "3fca31b0",
   "metadata": {},
   "source": [
    "# Now let’s have a look at the bowlers with the best bowling figures at the end of the matches"
   ]
  },
  {
   "cell_type": "code",
   "execution_count": 93,
   "id": "6288a7f7",
   "metadata": {},
   "outputs": [
    {
     "data": {
      "application/vnd.plotly.v1+json": {
       "config": {
        "plotlyServerURL": "https://plot.ly"
       },
       "data": [
        {
         "alignmentgroup": "True",
         "hovertemplate": "best bowler=%{x}<br>count=%{y}<extra></extra>",
         "legendgroup": "",
         "marker": {
          "color": "#636efa",
          "pattern": {
           "shape": ""
          }
         },
         "name": "",
         "offsetgroup": "",
         "orientation": "v",
         "showlegend": false,
         "textposition": "auto",
         "type": "bar",
         "x": [
          "Tim Southee",
          "Sam Curran",
          "Maheesh Theekshana",
          "Hardik Pandya",
          "Taskin Ahmed",
          "Glenn Maxwell",
          "Liam Livingstone",
          "Anrich Nortje",
          "Bhuvneshwar Kumar",
          "Mohammad Wasim",
          "Trent Boult",
          "Taskin Ahmed",
          "Shadab Khan",
          "Lungi Ngidi",
          "Barry McCarthy",
          "Wanindu Hasaranga",
          "Sam Curran",
          "Paul van Meekeren",
          "Hasan Mahmud",
          "Anrich Nortje",
          "Lockie Ferguson",
          "Naveen-ul-Haq",
          "Mark Wood",
          "Brandon Glover",
          "Shaheen Afridi",
          "Ravichandran Ashwin",
          "Shaheen Afridi",
          "Chris Jordan",
          "Sam Curran"
         ],
         "xaxis": "x",
         "y": [
          1,
          1,
          1,
          1,
          1,
          1,
          1,
          1,
          1,
          1,
          1,
          1,
          1,
          1,
          1,
          1,
          1,
          1,
          1,
          1,
          1,
          1,
          1,
          1,
          1,
          1,
          1,
          1,
          1
         ],
         "yaxis": "y"
        }
       ],
       "layout": {
        "barmode": "relative",
        "legend": {
         "tracegroupgap": 0
        },
        "template": {
         "data": {
          "bar": [
           {
            "error_x": {
             "color": "#2a3f5f"
            },
            "error_y": {
             "color": "#2a3f5f"
            },
            "marker": {
             "line": {
              "color": "#E5ECF6",
              "width": 0.5
             },
             "pattern": {
              "fillmode": "overlay",
              "size": 10,
              "solidity": 0.2
             }
            },
            "type": "bar"
           }
          ],
          "barpolar": [
           {
            "marker": {
             "line": {
              "color": "#E5ECF6",
              "width": 0.5
             },
             "pattern": {
              "fillmode": "overlay",
              "size": 10,
              "solidity": 0.2
             }
            },
            "type": "barpolar"
           }
          ],
          "carpet": [
           {
            "aaxis": {
             "endlinecolor": "#2a3f5f",
             "gridcolor": "white",
             "linecolor": "white",
             "minorgridcolor": "white",
             "startlinecolor": "#2a3f5f"
            },
            "baxis": {
             "endlinecolor": "#2a3f5f",
             "gridcolor": "white",
             "linecolor": "white",
             "minorgridcolor": "white",
             "startlinecolor": "#2a3f5f"
            },
            "type": "carpet"
           }
          ],
          "choropleth": [
           {
            "colorbar": {
             "outlinewidth": 0,
             "ticks": ""
            },
            "type": "choropleth"
           }
          ],
          "contour": [
           {
            "colorbar": {
             "outlinewidth": 0,
             "ticks": ""
            },
            "colorscale": [
             [
              0,
              "#0d0887"
             ],
             [
              0.1111111111111111,
              "#46039f"
             ],
             [
              0.2222222222222222,
              "#7201a8"
             ],
             [
              0.3333333333333333,
              "#9c179e"
             ],
             [
              0.4444444444444444,
              "#bd3786"
             ],
             [
              0.5555555555555556,
              "#d8576b"
             ],
             [
              0.6666666666666666,
              "#ed7953"
             ],
             [
              0.7777777777777778,
              "#fb9f3a"
             ],
             [
              0.8888888888888888,
              "#fdca26"
             ],
             [
              1,
              "#f0f921"
             ]
            ],
            "type": "contour"
           }
          ],
          "contourcarpet": [
           {
            "colorbar": {
             "outlinewidth": 0,
             "ticks": ""
            },
            "type": "contourcarpet"
           }
          ],
          "heatmap": [
           {
            "colorbar": {
             "outlinewidth": 0,
             "ticks": ""
            },
            "colorscale": [
             [
              0,
              "#0d0887"
             ],
             [
              0.1111111111111111,
              "#46039f"
             ],
             [
              0.2222222222222222,
              "#7201a8"
             ],
             [
              0.3333333333333333,
              "#9c179e"
             ],
             [
              0.4444444444444444,
              "#bd3786"
             ],
             [
              0.5555555555555556,
              "#d8576b"
             ],
             [
              0.6666666666666666,
              "#ed7953"
             ],
             [
              0.7777777777777778,
              "#fb9f3a"
             ],
             [
              0.8888888888888888,
              "#fdca26"
             ],
             [
              1,
              "#f0f921"
             ]
            ],
            "type": "heatmap"
           }
          ],
          "heatmapgl": [
           {
            "colorbar": {
             "outlinewidth": 0,
             "ticks": ""
            },
            "colorscale": [
             [
              0,
              "#0d0887"
             ],
             [
              0.1111111111111111,
              "#46039f"
             ],
             [
              0.2222222222222222,
              "#7201a8"
             ],
             [
              0.3333333333333333,
              "#9c179e"
             ],
             [
              0.4444444444444444,
              "#bd3786"
             ],
             [
              0.5555555555555556,
              "#d8576b"
             ],
             [
              0.6666666666666666,
              "#ed7953"
             ],
             [
              0.7777777777777778,
              "#fb9f3a"
             ],
             [
              0.8888888888888888,
              "#fdca26"
             ],
             [
              1,
              "#f0f921"
             ]
            ],
            "type": "heatmapgl"
           }
          ],
          "histogram": [
           {
            "marker": {
             "pattern": {
              "fillmode": "overlay",
              "size": 10,
              "solidity": 0.2
             }
            },
            "type": "histogram"
           }
          ],
          "histogram2d": [
           {
            "colorbar": {
             "outlinewidth": 0,
             "ticks": ""
            },
            "colorscale": [
             [
              0,
              "#0d0887"
             ],
             [
              0.1111111111111111,
              "#46039f"
             ],
             [
              0.2222222222222222,
              "#7201a8"
             ],
             [
              0.3333333333333333,
              "#9c179e"
             ],
             [
              0.4444444444444444,
              "#bd3786"
             ],
             [
              0.5555555555555556,
              "#d8576b"
             ],
             [
              0.6666666666666666,
              "#ed7953"
             ],
             [
              0.7777777777777778,
              "#fb9f3a"
             ],
             [
              0.8888888888888888,
              "#fdca26"
             ],
             [
              1,
              "#f0f921"
             ]
            ],
            "type": "histogram2d"
           }
          ],
          "histogram2dcontour": [
           {
            "colorbar": {
             "outlinewidth": 0,
             "ticks": ""
            },
            "colorscale": [
             [
              0,
              "#0d0887"
             ],
             [
              0.1111111111111111,
              "#46039f"
             ],
             [
              0.2222222222222222,
              "#7201a8"
             ],
             [
              0.3333333333333333,
              "#9c179e"
             ],
             [
              0.4444444444444444,
              "#bd3786"
             ],
             [
              0.5555555555555556,
              "#d8576b"
             ],
             [
              0.6666666666666666,
              "#ed7953"
             ],
             [
              0.7777777777777778,
              "#fb9f3a"
             ],
             [
              0.8888888888888888,
              "#fdca26"
             ],
             [
              1,
              "#f0f921"
             ]
            ],
            "type": "histogram2dcontour"
           }
          ],
          "mesh3d": [
           {
            "colorbar": {
             "outlinewidth": 0,
             "ticks": ""
            },
            "type": "mesh3d"
           }
          ],
          "parcoords": [
           {
            "line": {
             "colorbar": {
              "outlinewidth": 0,
              "ticks": ""
             }
            },
            "type": "parcoords"
           }
          ],
          "pie": [
           {
            "automargin": true,
            "type": "pie"
           }
          ],
          "scatter": [
           {
            "fillpattern": {
             "fillmode": "overlay",
             "size": 10,
             "solidity": 0.2
            },
            "type": "scatter"
           }
          ],
          "scatter3d": [
           {
            "line": {
             "colorbar": {
              "outlinewidth": 0,
              "ticks": ""
             }
            },
            "marker": {
             "colorbar": {
              "outlinewidth": 0,
              "ticks": ""
             }
            },
            "type": "scatter3d"
           }
          ],
          "scattercarpet": [
           {
            "marker": {
             "colorbar": {
              "outlinewidth": 0,
              "ticks": ""
             }
            },
            "type": "scattercarpet"
           }
          ],
          "scattergeo": [
           {
            "marker": {
             "colorbar": {
              "outlinewidth": 0,
              "ticks": ""
             }
            },
            "type": "scattergeo"
           }
          ],
          "scattergl": [
           {
            "marker": {
             "colorbar": {
              "outlinewidth": 0,
              "ticks": ""
             }
            },
            "type": "scattergl"
           }
          ],
          "scattermapbox": [
           {
            "marker": {
             "colorbar": {
              "outlinewidth": 0,
              "ticks": ""
             }
            },
            "type": "scattermapbox"
           }
          ],
          "scatterpolar": [
           {
            "marker": {
             "colorbar": {
              "outlinewidth": 0,
              "ticks": ""
             }
            },
            "type": "scatterpolar"
           }
          ],
          "scatterpolargl": [
           {
            "marker": {
             "colorbar": {
              "outlinewidth": 0,
              "ticks": ""
             }
            },
            "type": "scatterpolargl"
           }
          ],
          "scatterternary": [
           {
            "marker": {
             "colorbar": {
              "outlinewidth": 0,
              "ticks": ""
             }
            },
            "type": "scatterternary"
           }
          ],
          "surface": [
           {
            "colorbar": {
             "outlinewidth": 0,
             "ticks": ""
            },
            "colorscale": [
             [
              0,
              "#0d0887"
             ],
             [
              0.1111111111111111,
              "#46039f"
             ],
             [
              0.2222222222222222,
              "#7201a8"
             ],
             [
              0.3333333333333333,
              "#9c179e"
             ],
             [
              0.4444444444444444,
              "#bd3786"
             ],
             [
              0.5555555555555556,
              "#d8576b"
             ],
             [
              0.6666666666666666,
              "#ed7953"
             ],
             [
              0.7777777777777778,
              "#fb9f3a"
             ],
             [
              0.8888888888888888,
              "#fdca26"
             ],
             [
              1,
              "#f0f921"
             ]
            ],
            "type": "surface"
           }
          ],
          "table": [
           {
            "cells": {
             "fill": {
              "color": "#EBF0F8"
             },
             "line": {
              "color": "white"
             }
            },
            "header": {
             "fill": {
              "color": "#C8D4E3"
             },
             "line": {
              "color": "white"
             }
            },
            "type": "table"
           }
          ]
         },
         "layout": {
          "annotationdefaults": {
           "arrowcolor": "#2a3f5f",
           "arrowhead": 0,
           "arrowwidth": 1
          },
          "autotypenumbers": "strict",
          "coloraxis": {
           "colorbar": {
            "outlinewidth": 0,
            "ticks": ""
           }
          },
          "colorscale": {
           "diverging": [
            [
             0,
             "#8e0152"
            ],
            [
             0.1,
             "#c51b7d"
            ],
            [
             0.2,
             "#de77ae"
            ],
            [
             0.3,
             "#f1b6da"
            ],
            [
             0.4,
             "#fde0ef"
            ],
            [
             0.5,
             "#f7f7f7"
            ],
            [
             0.6,
             "#e6f5d0"
            ],
            [
             0.7,
             "#b8e186"
            ],
            [
             0.8,
             "#7fbc41"
            ],
            [
             0.9,
             "#4d9221"
            ],
            [
             1,
             "#276419"
            ]
           ],
           "sequential": [
            [
             0,
             "#0d0887"
            ],
            [
             0.1111111111111111,
             "#46039f"
            ],
            [
             0.2222222222222222,
             "#7201a8"
            ],
            [
             0.3333333333333333,
             "#9c179e"
            ],
            [
             0.4444444444444444,
             "#bd3786"
            ],
            [
             0.5555555555555556,
             "#d8576b"
            ],
            [
             0.6666666666666666,
             "#ed7953"
            ],
            [
             0.7777777777777778,
             "#fb9f3a"
            ],
            [
             0.8888888888888888,
             "#fdca26"
            ],
            [
             1,
             "#f0f921"
            ]
           ],
           "sequentialminus": [
            [
             0,
             "#0d0887"
            ],
            [
             0.1111111111111111,
             "#46039f"
            ],
            [
             0.2222222222222222,
             "#7201a8"
            ],
            [
             0.3333333333333333,
             "#9c179e"
            ],
            [
             0.4444444444444444,
             "#bd3786"
            ],
            [
             0.5555555555555556,
             "#d8576b"
            ],
            [
             0.6666666666666666,
             "#ed7953"
            ],
            [
             0.7777777777777778,
             "#fb9f3a"
            ],
            [
             0.8888888888888888,
             "#fdca26"
            ],
            [
             1,
             "#f0f921"
            ]
           ]
          },
          "colorway": [
           "#636efa",
           "#EF553B",
           "#00cc96",
           "#ab63fa",
           "#FFA15A",
           "#19d3f3",
           "#FF6692",
           "#B6E880",
           "#FF97FF",
           "#FECB52"
          ],
          "font": {
           "color": "#2a3f5f"
          },
          "geo": {
           "bgcolor": "white",
           "lakecolor": "white",
           "landcolor": "#E5ECF6",
           "showlakes": true,
           "showland": true,
           "subunitcolor": "white"
          },
          "hoverlabel": {
           "align": "left"
          },
          "hovermode": "closest",
          "mapbox": {
           "style": "light"
          },
          "paper_bgcolor": "white",
          "plot_bgcolor": "#E5ECF6",
          "polar": {
           "angularaxis": {
            "gridcolor": "white",
            "linecolor": "white",
            "ticks": ""
           },
           "bgcolor": "#E5ECF6",
           "radialaxis": {
            "gridcolor": "white",
            "linecolor": "white",
            "ticks": ""
           }
          },
          "scene": {
           "xaxis": {
            "backgroundcolor": "#E5ECF6",
            "gridcolor": "white",
            "gridwidth": 2,
            "linecolor": "white",
            "showbackground": true,
            "ticks": "",
            "zerolinecolor": "white"
           },
           "yaxis": {
            "backgroundcolor": "#E5ECF6",
            "gridcolor": "white",
            "gridwidth": 2,
            "linecolor": "white",
            "showbackground": true,
            "ticks": "",
            "zerolinecolor": "white"
           },
           "zaxis": {
            "backgroundcolor": "#E5ECF6",
            "gridcolor": "white",
            "gridwidth": 2,
            "linecolor": "white",
            "showbackground": true,
            "ticks": "",
            "zerolinecolor": "white"
           }
          },
          "shapedefaults": {
           "line": {
            "color": "#2a3f5f"
           }
          },
          "ternary": {
           "aaxis": {
            "gridcolor": "white",
            "linecolor": "white",
            "ticks": ""
           },
           "baxis": {
            "gridcolor": "white",
            "linecolor": "white",
            "ticks": ""
           },
           "bgcolor": "#E5ECF6",
           "caxis": {
            "gridcolor": "white",
            "linecolor": "white",
            "ticks": ""
           }
          },
          "title": {
           "x": 0.05
          },
          "xaxis": {
           "automargin": true,
           "gridcolor": "white",
           "linecolor": "white",
           "ticks": "",
           "title": {
            "standoff": 15
           },
           "zerolinecolor": "white",
           "zerolinewidth": 2
          },
          "yaxis": {
           "automargin": true,
           "gridcolor": "white",
           "linecolor": "white",
           "ticks": "",
           "title": {
            "standoff": 15
           },
           "zerolinecolor": "white",
           "zerolinewidth": 2
          }
         }
        },
        "title": {
         "text": "the bowlers with the best bowling figures at the end of the matches"
        },
        "xaxis": {
         "anchor": "y",
         "domain": [
          0,
          1
         ],
         "title": {
          "text": "best bowler"
         }
        },
        "yaxis": {
         "anchor": "x",
         "domain": [
          0,
          1
         ],
         "title": {
          "text": "count"
         }
        }
       }
      },
      "text/html": [
       "<div>                            <div id=\"9a9f64aa-ea82-42d4-b857-c616bc06b793\" class=\"plotly-graph-div\" style=\"height:525px; width:100%;\"></div>            <script type=\"text/javascript\">                require([\"plotly\"], function(Plotly) {                    window.PLOTLYENV=window.PLOTLYENV || {};                                    if (document.getElementById(\"9a9f64aa-ea82-42d4-b857-c616bc06b793\")) {                    Plotly.newPlot(                        \"9a9f64aa-ea82-42d4-b857-c616bc06b793\",                        [{\"alignmentgroup\":\"True\",\"hovertemplate\":\"best bowler=%{x}<br>count=%{y}<extra></extra>\",\"legendgroup\":\"\",\"marker\":{\"color\":\"#636efa\",\"pattern\":{\"shape\":\"\"}},\"name\":\"\",\"offsetgroup\":\"\",\"orientation\":\"v\",\"showlegend\":false,\"textposition\":\"auto\",\"x\":[\"Tim Southee\",\"Sam Curran\",\"Maheesh Theekshana\",\"Hardik Pandya\",\"Taskin Ahmed\",\"Glenn Maxwell\",\"Liam Livingstone\",\"Anrich Nortje\",\"Bhuvneshwar Kumar\",\"Mohammad Wasim\",\"Trent Boult\",\"Taskin Ahmed\",\"Shadab Khan\",\"Lungi Ngidi\",\"Barry McCarthy\",\"Wanindu Hasaranga\",\"Sam Curran\",\"Paul van Meekeren\",\"Hasan Mahmud\",\"Anrich Nortje\",\"Lockie Ferguson\",\"Naveen-ul-Haq\",\"Mark Wood\",\"Brandon Glover\",\"Shaheen Afridi\",\"Ravichandran Ashwin\",\"Shaheen Afridi\",\"Chris Jordan\",\"Sam Curran\"],\"xaxis\":\"x\",\"y\":[1,1,1,1,1,1,1,1,1,1,1,1,1,1,1,1,1,1,1,1,1,1,1,1,1,1,1,1,1],\"yaxis\":\"y\",\"type\":\"bar\"}],                        {\"template\":{\"data\":{\"histogram2dcontour\":[{\"type\":\"histogram2dcontour\",\"colorbar\":{\"outlinewidth\":0,\"ticks\":\"\"},\"colorscale\":[[0.0,\"#0d0887\"],[0.1111111111111111,\"#46039f\"],[0.2222222222222222,\"#7201a8\"],[0.3333333333333333,\"#9c179e\"],[0.4444444444444444,\"#bd3786\"],[0.5555555555555556,\"#d8576b\"],[0.6666666666666666,\"#ed7953\"],[0.7777777777777778,\"#fb9f3a\"],[0.8888888888888888,\"#fdca26\"],[1.0,\"#f0f921\"]]}],\"choropleth\":[{\"type\":\"choropleth\",\"colorbar\":{\"outlinewidth\":0,\"ticks\":\"\"}}],\"histogram2d\":[{\"type\":\"histogram2d\",\"colorbar\":{\"outlinewidth\":0,\"ticks\":\"\"},\"colorscale\":[[0.0,\"#0d0887\"],[0.1111111111111111,\"#46039f\"],[0.2222222222222222,\"#7201a8\"],[0.3333333333333333,\"#9c179e\"],[0.4444444444444444,\"#bd3786\"],[0.5555555555555556,\"#d8576b\"],[0.6666666666666666,\"#ed7953\"],[0.7777777777777778,\"#fb9f3a\"],[0.8888888888888888,\"#fdca26\"],[1.0,\"#f0f921\"]]}],\"heatmap\":[{\"type\":\"heatmap\",\"colorbar\":{\"outlinewidth\":0,\"ticks\":\"\"},\"colorscale\":[[0.0,\"#0d0887\"],[0.1111111111111111,\"#46039f\"],[0.2222222222222222,\"#7201a8\"],[0.3333333333333333,\"#9c179e\"],[0.4444444444444444,\"#bd3786\"],[0.5555555555555556,\"#d8576b\"],[0.6666666666666666,\"#ed7953\"],[0.7777777777777778,\"#fb9f3a\"],[0.8888888888888888,\"#fdca26\"],[1.0,\"#f0f921\"]]}],\"heatmapgl\":[{\"type\":\"heatmapgl\",\"colorbar\":{\"outlinewidth\":0,\"ticks\":\"\"},\"colorscale\":[[0.0,\"#0d0887\"],[0.1111111111111111,\"#46039f\"],[0.2222222222222222,\"#7201a8\"],[0.3333333333333333,\"#9c179e\"],[0.4444444444444444,\"#bd3786\"],[0.5555555555555556,\"#d8576b\"],[0.6666666666666666,\"#ed7953\"],[0.7777777777777778,\"#fb9f3a\"],[0.8888888888888888,\"#fdca26\"],[1.0,\"#f0f921\"]]}],\"contourcarpet\":[{\"type\":\"contourcarpet\",\"colorbar\":{\"outlinewidth\":0,\"ticks\":\"\"}}],\"contour\":[{\"type\":\"contour\",\"colorbar\":{\"outlinewidth\":0,\"ticks\":\"\"},\"colorscale\":[[0.0,\"#0d0887\"],[0.1111111111111111,\"#46039f\"],[0.2222222222222222,\"#7201a8\"],[0.3333333333333333,\"#9c179e\"],[0.4444444444444444,\"#bd3786\"],[0.5555555555555556,\"#d8576b\"],[0.6666666666666666,\"#ed7953\"],[0.7777777777777778,\"#fb9f3a\"],[0.8888888888888888,\"#fdca26\"],[1.0,\"#f0f921\"]]}],\"surface\":[{\"type\":\"surface\",\"colorbar\":{\"outlinewidth\":0,\"ticks\":\"\"},\"colorscale\":[[0.0,\"#0d0887\"],[0.1111111111111111,\"#46039f\"],[0.2222222222222222,\"#7201a8\"],[0.3333333333333333,\"#9c179e\"],[0.4444444444444444,\"#bd3786\"],[0.5555555555555556,\"#d8576b\"],[0.6666666666666666,\"#ed7953\"],[0.7777777777777778,\"#fb9f3a\"],[0.8888888888888888,\"#fdca26\"],[1.0,\"#f0f921\"]]}],\"mesh3d\":[{\"type\":\"mesh3d\",\"colorbar\":{\"outlinewidth\":0,\"ticks\":\"\"}}],\"scatter\":[{\"fillpattern\":{\"fillmode\":\"overlay\",\"size\":10,\"solidity\":0.2},\"type\":\"scatter\"}],\"parcoords\":[{\"type\":\"parcoords\",\"line\":{\"colorbar\":{\"outlinewidth\":0,\"ticks\":\"\"}}}],\"scatterpolargl\":[{\"type\":\"scatterpolargl\",\"marker\":{\"colorbar\":{\"outlinewidth\":0,\"ticks\":\"\"}}}],\"bar\":[{\"error_x\":{\"color\":\"#2a3f5f\"},\"error_y\":{\"color\":\"#2a3f5f\"},\"marker\":{\"line\":{\"color\":\"#E5ECF6\",\"width\":0.5},\"pattern\":{\"fillmode\":\"overlay\",\"size\":10,\"solidity\":0.2}},\"type\":\"bar\"}],\"scattergeo\":[{\"type\":\"scattergeo\",\"marker\":{\"colorbar\":{\"outlinewidth\":0,\"ticks\":\"\"}}}],\"scatterpolar\":[{\"type\":\"scatterpolar\",\"marker\":{\"colorbar\":{\"outlinewidth\":0,\"ticks\":\"\"}}}],\"histogram\":[{\"marker\":{\"pattern\":{\"fillmode\":\"overlay\",\"size\":10,\"solidity\":0.2}},\"type\":\"histogram\"}],\"scattergl\":[{\"type\":\"scattergl\",\"marker\":{\"colorbar\":{\"outlinewidth\":0,\"ticks\":\"\"}}}],\"scatter3d\":[{\"type\":\"scatter3d\",\"line\":{\"colorbar\":{\"outlinewidth\":0,\"ticks\":\"\"}},\"marker\":{\"colorbar\":{\"outlinewidth\":0,\"ticks\":\"\"}}}],\"scattermapbox\":[{\"type\":\"scattermapbox\",\"marker\":{\"colorbar\":{\"outlinewidth\":0,\"ticks\":\"\"}}}],\"scatterternary\":[{\"type\":\"scatterternary\",\"marker\":{\"colorbar\":{\"outlinewidth\":0,\"ticks\":\"\"}}}],\"scattercarpet\":[{\"type\":\"scattercarpet\",\"marker\":{\"colorbar\":{\"outlinewidth\":0,\"ticks\":\"\"}}}],\"carpet\":[{\"aaxis\":{\"endlinecolor\":\"#2a3f5f\",\"gridcolor\":\"white\",\"linecolor\":\"white\",\"minorgridcolor\":\"white\",\"startlinecolor\":\"#2a3f5f\"},\"baxis\":{\"endlinecolor\":\"#2a3f5f\",\"gridcolor\":\"white\",\"linecolor\":\"white\",\"minorgridcolor\":\"white\",\"startlinecolor\":\"#2a3f5f\"},\"type\":\"carpet\"}],\"table\":[{\"cells\":{\"fill\":{\"color\":\"#EBF0F8\"},\"line\":{\"color\":\"white\"}},\"header\":{\"fill\":{\"color\":\"#C8D4E3\"},\"line\":{\"color\":\"white\"}},\"type\":\"table\"}],\"barpolar\":[{\"marker\":{\"line\":{\"color\":\"#E5ECF6\",\"width\":0.5},\"pattern\":{\"fillmode\":\"overlay\",\"size\":10,\"solidity\":0.2}},\"type\":\"barpolar\"}],\"pie\":[{\"automargin\":true,\"type\":\"pie\"}]},\"layout\":{\"autotypenumbers\":\"strict\",\"colorway\":[\"#636efa\",\"#EF553B\",\"#00cc96\",\"#ab63fa\",\"#FFA15A\",\"#19d3f3\",\"#FF6692\",\"#B6E880\",\"#FF97FF\",\"#FECB52\"],\"font\":{\"color\":\"#2a3f5f\"},\"hovermode\":\"closest\",\"hoverlabel\":{\"align\":\"left\"},\"paper_bgcolor\":\"white\",\"plot_bgcolor\":\"#E5ECF6\",\"polar\":{\"bgcolor\":\"#E5ECF6\",\"angularaxis\":{\"gridcolor\":\"white\",\"linecolor\":\"white\",\"ticks\":\"\"},\"radialaxis\":{\"gridcolor\":\"white\",\"linecolor\":\"white\",\"ticks\":\"\"}},\"ternary\":{\"bgcolor\":\"#E5ECF6\",\"aaxis\":{\"gridcolor\":\"white\",\"linecolor\":\"white\",\"ticks\":\"\"},\"baxis\":{\"gridcolor\":\"white\",\"linecolor\":\"white\",\"ticks\":\"\"},\"caxis\":{\"gridcolor\":\"white\",\"linecolor\":\"white\",\"ticks\":\"\"}},\"coloraxis\":{\"colorbar\":{\"outlinewidth\":0,\"ticks\":\"\"}},\"colorscale\":{\"sequential\":[[0.0,\"#0d0887\"],[0.1111111111111111,\"#46039f\"],[0.2222222222222222,\"#7201a8\"],[0.3333333333333333,\"#9c179e\"],[0.4444444444444444,\"#bd3786\"],[0.5555555555555556,\"#d8576b\"],[0.6666666666666666,\"#ed7953\"],[0.7777777777777778,\"#fb9f3a\"],[0.8888888888888888,\"#fdca26\"],[1.0,\"#f0f921\"]],\"sequentialminus\":[[0.0,\"#0d0887\"],[0.1111111111111111,\"#46039f\"],[0.2222222222222222,\"#7201a8\"],[0.3333333333333333,\"#9c179e\"],[0.4444444444444444,\"#bd3786\"],[0.5555555555555556,\"#d8576b\"],[0.6666666666666666,\"#ed7953\"],[0.7777777777777778,\"#fb9f3a\"],[0.8888888888888888,\"#fdca26\"],[1.0,\"#f0f921\"]],\"diverging\":[[0,\"#8e0152\"],[0.1,\"#c51b7d\"],[0.2,\"#de77ae\"],[0.3,\"#f1b6da\"],[0.4,\"#fde0ef\"],[0.5,\"#f7f7f7\"],[0.6,\"#e6f5d0\"],[0.7,\"#b8e186\"],[0.8,\"#7fbc41\"],[0.9,\"#4d9221\"],[1,\"#276419\"]]},\"xaxis\":{\"gridcolor\":\"white\",\"linecolor\":\"white\",\"ticks\":\"\",\"title\":{\"standoff\":15},\"zerolinecolor\":\"white\",\"automargin\":true,\"zerolinewidth\":2},\"yaxis\":{\"gridcolor\":\"white\",\"linecolor\":\"white\",\"ticks\":\"\",\"title\":{\"standoff\":15},\"zerolinecolor\":\"white\",\"automargin\":true,\"zerolinewidth\":2},\"scene\":{\"xaxis\":{\"backgroundcolor\":\"#E5ECF6\",\"gridcolor\":\"white\",\"linecolor\":\"white\",\"showbackground\":true,\"ticks\":\"\",\"zerolinecolor\":\"white\",\"gridwidth\":2},\"yaxis\":{\"backgroundcolor\":\"#E5ECF6\",\"gridcolor\":\"white\",\"linecolor\":\"white\",\"showbackground\":true,\"ticks\":\"\",\"zerolinecolor\":\"white\",\"gridwidth\":2},\"zaxis\":{\"backgroundcolor\":\"#E5ECF6\",\"gridcolor\":\"white\",\"linecolor\":\"white\",\"showbackground\":true,\"ticks\":\"\",\"zerolinecolor\":\"white\",\"gridwidth\":2}},\"shapedefaults\":{\"line\":{\"color\":\"#2a3f5f\"}},\"annotationdefaults\":{\"arrowcolor\":\"#2a3f5f\",\"arrowhead\":0,\"arrowwidth\":1},\"geo\":{\"bgcolor\":\"white\",\"landcolor\":\"#E5ECF6\",\"subunitcolor\":\"white\",\"showland\":true,\"showlakes\":true,\"lakecolor\":\"white\"},\"title\":{\"x\":0.05},\"mapbox\":{\"style\":\"light\"}}},\"xaxis\":{\"anchor\":\"y\",\"domain\":[0.0,1.0],\"title\":{\"text\":\"best bowler\"}},\"yaxis\":{\"anchor\":\"x\",\"domain\":[0.0,1.0],\"title\":{\"text\":\"count\"}},\"legend\":{\"tracegroupgap\":0},\"title\":{\"text\":\"the bowlers with the best bowling figures at the end of the matches\"},\"barmode\":\"relative\"},                        {\"responsive\": true}                    ).then(function(){\n",
       "                            \n",
       "var gd = document.getElementById('9a9f64aa-ea82-42d4-b857-c616bc06b793');\n",
       "var x = new MutationObserver(function (mutations, observer) {{\n",
       "        var display = window.getComputedStyle(gd).display;\n",
       "        if (!display || display === 'none') {{\n",
       "            console.log([gd, 'removed!']);\n",
       "            Plotly.purge(gd);\n",
       "            observer.disconnect();\n",
       "        }}\n",
       "}});\n",
       "\n",
       "// Listen for the removal of the full notebook cells\n",
       "var notebookContainer = gd.closest('#notebook-container');\n",
       "if (notebookContainer) {{\n",
       "    x.observe(notebookContainer, {childList: true});\n",
       "}}\n",
       "\n",
       "// Listen for the clearing of the current output cell\n",
       "var outputEl = gd.closest('.output');\n",
       "if (outputEl) {{\n",
       "    x.observe(outputEl, {childList: true});\n",
       "}}\n",
       "\n",
       "                        })                };                });            </script>        </div>"
      ]
     },
     "metadata": {},
     "output_type": "display_data"
    }
   ],
   "source": [
    "fig=px.bar(df,x=df['best bowler'], title='the bowlers with the best bowling figures at the end of the matches')\n",
    "fig.show()"
   ]
  },
  {
   "cell_type": "markdown",
   "id": "951c8bd9",
   "metadata": {},
   "source": [
    "# Now let’s compare the runs scored in the first innings and second innings in every stadium of the t20 world cup 2022:"
   ]
  },
  {
   "cell_type": "code",
   "execution_count": 94,
   "id": "cc239a73",
   "metadata": {},
   "outputs": [
    {
     "data": {
      "text/html": [
       "<div>\n",
       "<style scoped>\n",
       "    .dataframe tbody tr th:only-of-type {\n",
       "        vertical-align: middle;\n",
       "    }\n",
       "\n",
       "    .dataframe tbody tr th {\n",
       "        vertical-align: top;\n",
       "    }\n",
       "\n",
       "    .dataframe thead th {\n",
       "        text-align: right;\n",
       "    }\n",
       "</style>\n",
       "<table border=\"1\" class=\"dataframe\">\n",
       "  <thead>\n",
       "    <tr style=\"text-align: right;\">\n",
       "      <th></th>\n",
       "      <th>venue</th>\n",
       "      <th>team1</th>\n",
       "      <th>team2</th>\n",
       "      <th>stage</th>\n",
       "      <th>toss winner</th>\n",
       "      <th>toss decision</th>\n",
       "      <th>first innings score</th>\n",
       "      <th>first innings wickets</th>\n",
       "      <th>second innings score</th>\n",
       "      <th>second innings wickets</th>\n",
       "      <th>winner</th>\n",
       "      <th>won by</th>\n",
       "      <th>player of the match</th>\n",
       "      <th>top scorer</th>\n",
       "      <th>highest score</th>\n",
       "      <th>best bowler</th>\n",
       "      <th>best bowling figure</th>\n",
       "    </tr>\n",
       "  </thead>\n",
       "  <tbody>\n",
       "    <tr>\n",
       "      <th>0</th>\n",
       "      <td>SCG</td>\n",
       "      <td>New Zealand</td>\n",
       "      <td>Australia</td>\n",
       "      <td>Super 12</td>\n",
       "      <td>Australia</td>\n",
       "      <td>Field</td>\n",
       "      <td>200.0</td>\n",
       "      <td>3.0</td>\n",
       "      <td>111.0</td>\n",
       "      <td>10.0</td>\n",
       "      <td>New Zealand</td>\n",
       "      <td>Runs</td>\n",
       "      <td>Devon Conway</td>\n",
       "      <td>Devon Conway</td>\n",
       "      <td>92.0</td>\n",
       "      <td>Tim Southee</td>\n",
       "      <td>3-6</td>\n",
       "    </tr>\n",
       "    <tr>\n",
       "      <th>1</th>\n",
       "      <td>Optus Stadium</td>\n",
       "      <td>Afghanistan</td>\n",
       "      <td>England</td>\n",
       "      <td>Super 12</td>\n",
       "      <td>England</td>\n",
       "      <td>Field</td>\n",
       "      <td>112.0</td>\n",
       "      <td>10.0</td>\n",
       "      <td>113.0</td>\n",
       "      <td>5.0</td>\n",
       "      <td>England</td>\n",
       "      <td>Wickets</td>\n",
       "      <td>Sam Curran</td>\n",
       "      <td>Ibrahim Zadran</td>\n",
       "      <td>32.0</td>\n",
       "      <td>Sam Curran</td>\n",
       "      <td>5-10</td>\n",
       "    </tr>\n",
       "  </tbody>\n",
       "</table>\n",
       "</div>"
      ],
      "text/plain": [
       "           venue        team1      team2     stage toss winner toss decision  \\\n",
       "0            SCG  New Zealand  Australia  Super 12   Australia         Field   \n",
       "1  Optus Stadium  Afghanistan    England  Super 12     England         Field   \n",
       "\n",
       "   first innings score  first innings wickets  second innings score  \\\n",
       "0                200.0                    3.0                 111.0   \n",
       "1                112.0                   10.0                 113.0   \n",
       "\n",
       "   second innings wickets       winner   won by player of the match  \\\n",
       "0                    10.0  New Zealand     Runs        Devon Conway   \n",
       "1                     5.0      England  Wickets          Sam Curran   \n",
       "\n",
       "       top scorer  highest score  best bowler best bowling figure  \n",
       "0    Devon Conway           92.0  Tim Southee                 3-6  \n",
       "1  Ibrahim Zadran           32.0   Sam Curran                5-10  "
      ]
     },
     "execution_count": 94,
     "metadata": {},
     "output_type": "execute_result"
    }
   ],
   "source": [
    "df.head(2)"
   ]
  },
  {
   "cell_type": "code",
   "execution_count": 102,
   "id": "ccfef856",
   "metadata": {},
   "outputs": [
    {
     "data": {
      "image/png": "[encoded data removed]",
      "text/plain": [
       "<Figure size 432x288 with 2 Axes>"
      ]
     },
     "metadata": {
      "needs_background": "light"
     },
     "output_type": "display_data"
    }
   ],
   "source": [
    "x=df['venue']\n",
    "y=df['first innings score']\n",
    "z=df['second innings score']\n",
    "\n",
    "plt.subplot(1,2,1)\n",
    "plt.bar(x,y)\n",
    "plt.xticks(rotation=90)\n",
    "plt.title(\"first innings\")\n",
    "plt.xlabel('score')\n",
    "plt.ylabel('venue')\n",
    "\n",
    "plt.subplot(1,2,2)\n",
    "plt.bar(x,z)\n",
    "plt.xticks(rotation=90)\n",
    "plt.title(\"second innings\")\n",
    "plt.xlabel('score')\n",
    "plt.ylabel('venue')\n",
    "plt.show()"
   ]
  },
  {
   "cell_type": "markdown",
   "id": "ed3fb1c2",
   "metadata": {},
   "source": [
    "# let’s compare the number of wickets lost in the first innings and second innings in every stadium of the t20 world cup 2022:"
   ]
  },
  {
   "cell_type": "code",
   "execution_count": 103,
   "id": "3482de63",
   "metadata": {},
   "outputs": [
    {
     "data": {
      "text/html": [
       "<div>\n",
       "<style scoped>\n",
       "    .dataframe tbody tr th:only-of-type {\n",
       "        vertical-align: middle;\n",
       "    }\n",
       "\n",
       "    .dataframe tbody tr th {\n",
       "        vertical-align: top;\n",
       "    }\n",
       "\n",
       "    .dataframe thead th {\n",
       "        text-align: right;\n",
       "    }\n",
       "</style>\n",
       "<table border=\"1\" class=\"dataframe\">\n",
       "  <thead>\n",
       "    <tr style=\"text-align: right;\">\n",
       "      <th></th>\n",
       "      <th>venue</th>\n",
       "      <th>team1</th>\n",
       "      <th>team2</th>\n",
       "      <th>stage</th>\n",
       "      <th>toss winner</th>\n",
       "      <th>toss decision</th>\n",
       "      <th>first innings score</th>\n",
       "      <th>first innings wickets</th>\n",
       "      <th>second innings score</th>\n",
       "      <th>second innings wickets</th>\n",
       "      <th>winner</th>\n",
       "      <th>won by</th>\n",
       "      <th>player of the match</th>\n",
       "      <th>top scorer</th>\n",
       "      <th>highest score</th>\n",
       "      <th>best bowler</th>\n",
       "      <th>best bowling figure</th>\n",
       "    </tr>\n",
       "  </thead>\n",
       "  <tbody>\n",
       "    <tr>\n",
       "      <th>0</th>\n",
       "      <td>SCG</td>\n",
       "      <td>New Zealand</td>\n",
       "      <td>Australia</td>\n",
       "      <td>Super 12</td>\n",
       "      <td>Australia</td>\n",
       "      <td>Field</td>\n",
       "      <td>200.0</td>\n",
       "      <td>3.0</td>\n",
       "      <td>111.0</td>\n",
       "      <td>10.0</td>\n",
       "      <td>New Zealand</td>\n",
       "      <td>Runs</td>\n",
       "      <td>Devon Conway</td>\n",
       "      <td>Devon Conway</td>\n",
       "      <td>92.0</td>\n",
       "      <td>Tim Southee</td>\n",
       "      <td>3-6</td>\n",
       "    </tr>\n",
       "    <tr>\n",
       "      <th>1</th>\n",
       "      <td>Optus Stadium</td>\n",
       "      <td>Afghanistan</td>\n",
       "      <td>England</td>\n",
       "      <td>Super 12</td>\n",
       "      <td>England</td>\n",
       "      <td>Field</td>\n",
       "      <td>112.0</td>\n",
       "      <td>10.0</td>\n",
       "      <td>113.0</td>\n",
       "      <td>5.0</td>\n",
       "      <td>England</td>\n",
       "      <td>Wickets</td>\n",
       "      <td>Sam Curran</td>\n",
       "      <td>Ibrahim Zadran</td>\n",
       "      <td>32.0</td>\n",
       "      <td>Sam Curran</td>\n",
       "      <td>5-10</td>\n",
       "    </tr>\n",
       "  </tbody>\n",
       "</table>\n",
       "</div>"
      ],
      "text/plain": [
       "           venue        team1      team2     stage toss winner toss decision  \\\n",
       "0            SCG  New Zealand  Australia  Super 12   Australia         Field   \n",
       "1  Optus Stadium  Afghanistan    England  Super 12     England         Field   \n",
       "\n",
       "   first innings score  first innings wickets  second innings score  \\\n",
       "0                200.0                    3.0                 111.0   \n",
       "1                112.0                   10.0                 113.0   \n",
       "\n",
       "   second innings wickets       winner   won by player of the match  \\\n",
       "0                    10.0  New Zealand     Runs        Devon Conway   \n",
       "1                     5.0      England  Wickets          Sam Curran   \n",
       "\n",
       "       top scorer  highest score  best bowler best bowling figure  \n",
       "0    Devon Conway           92.0  Tim Southee                 3-6  \n",
       "1  Ibrahim Zadran           32.0   Sam Curran                5-10  "
      ]
     },
     "execution_count": 103,
     "metadata": {},
     "output_type": "execute_result"
    }
   ],
   "source": [
    "df.head(2)"
   ]
  },
  {
   "cell_type": "code",
   "execution_count": 104,
   "id": "ff4a1f6e",
   "metadata": {},
   "outputs": [
    {
     "data": {
      "image/png": "[encoded data removed]",
      "text/plain": [
       "<Figure size 432x288 with 2 Axes>"
      ]
     },
     "metadata": {
      "needs_background": "light"
     },
     "output_type": "display_data"
    }
   ],
   "source": [
    "x=df['venue']\n",
    "y=df['first innings wickets']\n",
    "z=df['second innings wickets']\n",
    "\n",
    "plt.subplot(1,2,1)\n",
    "plt.bar(x,y)\n",
    "plt.xticks(rotation=90)\n",
    "plt.title(\"first innings\")\n",
    "plt.xlabel('wickets')\n",
    "plt.ylabel('venue')\n",
    "\n",
    "plt.subplot(1,2,2)\n",
    "plt.bar(x,z)\n",
    "plt.xticks(rotation=90)\n",
    "plt.title(\"second innings\")\n",
    "plt.xlabel('wickets')\n",
    "plt.ylabel('venue')\n",
    "plt.show()"
   ]
  },
  {
   "cell_type": "markdown",
   "id": "930a58f3",
   "metadata": {},
   "source": [
    "# Summary\n",
    "So some highlights of the t20 world cup 2022 we found from our analysis are:\n",
    "\n",
    "* England won the most number of matches\n",
    "* Virat Kohli scored highest in the most number of matches\n",
    "* Sam Curran was the best bowler in the most number of matches\n",
    "* More teams won by batting first\n",
    "* More teams decided to bat first\n",
    "* SCG was the best stadium to bat first\n",
    "* SCG was the best stadium to defend the target in the World Cup\n",
    "* The Optus Stadium was the best stadium to bowl first"
   ]
  }
 ],
 "metadata": {
  "kernelspec": {
   "display_name": "Python 3",
   "language": "python",
   "name": "python3"
  },
  "language_info": {
   "codemirror_mode": {
    "name": "ipython",
    "version": 3
   },
   "file_extension": ".py",
   "mimetype": "text/x-python",
   "name": "python",
   "nbconvert_exporter": "python",
   "pygments_lexer": "ipython3",
   "version": "3.8.8"
  }
 },
 "nbformat": 4,
 "nbformat_minor": 5
}
