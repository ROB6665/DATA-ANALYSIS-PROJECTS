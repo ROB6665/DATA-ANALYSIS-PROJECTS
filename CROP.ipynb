{
 "cells": [
  {
   "cell_type": "markdown",
   "id": "89eba935",
   "metadata": {},
   "source": [
    "# CROP DATA"
   ]
  },
  {
   "cell_type": "code",
   "execution_count": 1,
   "id": "400de00c",
   "metadata": {},
   "outputs": [],
   "source": [
    "import pandas as pd \n",
    "import numpy as np"
   ]
  },
  {
   "cell_type": "code",
   "execution_count": 2,
   "id": "cab4897b",
   "metadata": {},
   "outputs": [
    {
     "data": {
      "text/html": [
       "<div>\n",
       "<style scoped>\n",
       "    .dataframe tbody tr th:only-of-type {\n",
       "        vertical-align: middle;\n",
       "    }\n",
       "\n",
       "    .dataframe tbody tr th {\n",
       "        vertical-align: top;\n",
       "    }\n",
       "\n",
       "    .dataframe thead th {\n",
       "        text-align: right;\n",
       "    }\n",
       "</style>\n",
       "<table border=\"1\" class=\"dataframe\">\n",
       "  <thead>\n",
       "    <tr style=\"text-align: right;\">\n",
       "      <th></th>\n",
       "      <th>State_Name</th>\n",
       "      <th>District_Name</th>\n",
       "      <th>Crop_Year</th>\n",
       "      <th>Season</th>\n",
       "      <th>Crop</th>\n",
       "      <th>Area</th>\n",
       "      <th>Production</th>\n",
       "    </tr>\n",
       "  </thead>\n",
       "  <tbody>\n",
       "    <tr>\n",
       "      <th>0</th>\n",
       "      <td>Karnataka</td>\n",
       "      <td>UDUPI</td>\n",
       "      <td>2005</td>\n",
       "      <td>Rabi</td>\n",
       "      <td>Horse-gram</td>\n",
       "      <td>1122.0</td>\n",
       "      <td>836.0</td>\n",
       "    </tr>\n",
       "    <tr>\n",
       "      <th>1</th>\n",
       "      <td>Madhya Pradesh</td>\n",
       "      <td>GWALIOR</td>\n",
       "      <td>2003</td>\n",
       "      <td>Whole Year</td>\n",
       "      <td>Brinjal</td>\n",
       "      <td>194.0</td>\n",
       "      <td>0.0</td>\n",
       "    </tr>\n",
       "    <tr>\n",
       "      <th>2</th>\n",
       "      <td>Andhra Pradesh</td>\n",
       "      <td>CHITTOOR</td>\n",
       "      <td>2010</td>\n",
       "      <td>Rabi</td>\n",
       "      <td>Sesamum</td>\n",
       "      <td>334.0</td>\n",
       "      <td>118.0</td>\n",
       "    </tr>\n",
       "    <tr>\n",
       "      <th>3</th>\n",
       "      <td>Andhra Pradesh</td>\n",
       "      <td>KRISHNA</td>\n",
       "      <td>2014</td>\n",
       "      <td>Rabi</td>\n",
       "      <td>Tomato</td>\n",
       "      <td>538.0</td>\n",
       "      <td>7289.0</td>\n",
       "    </tr>\n",
       "    <tr>\n",
       "      <th>4</th>\n",
       "      <td>Uttar Pradesh</td>\n",
       "      <td>SULTANPUR</td>\n",
       "      <td>2011</td>\n",
       "      <td>Rabi</td>\n",
       "      <td>Coriander</td>\n",
       "      <td>59.0</td>\n",
       "      <td>33.0</td>\n",
       "    </tr>\n",
       "    <tr>\n",
       "      <th>...</th>\n",
       "      <td>...</td>\n",
       "      <td>...</td>\n",
       "      <td>...</td>\n",
       "      <td>...</td>\n",
       "      <td>...</td>\n",
       "      <td>...</td>\n",
       "      <td>...</td>\n",
       "    </tr>\n",
       "    <tr>\n",
       "      <th>73822</th>\n",
       "      <td>Uttar Pradesh</td>\n",
       "      <td>SULTANPUR</td>\n",
       "      <td>2001</td>\n",
       "      <td>Rabi</td>\n",
       "      <td>Rapeseed &amp;Mustard</td>\n",
       "      <td>3727.0</td>\n",
       "      <td>3239.0</td>\n",
       "    </tr>\n",
       "    <tr>\n",
       "      <th>73823</th>\n",
       "      <td>Chhattisgarh</td>\n",
       "      <td>DURG</td>\n",
       "      <td>2014</td>\n",
       "      <td>Rabi</td>\n",
       "      <td>Wheat</td>\n",
       "      <td>6364.0</td>\n",
       "      <td>7367.0</td>\n",
       "    </tr>\n",
       "    <tr>\n",
       "      <th>73824</th>\n",
       "      <td>Uttar Pradesh</td>\n",
       "      <td>RAE BARELI</td>\n",
       "      <td>2010</td>\n",
       "      <td>Summer</td>\n",
       "      <td>Moong(Green Gram)</td>\n",
       "      <td>489.0</td>\n",
       "      <td>224.0</td>\n",
       "    </tr>\n",
       "    <tr>\n",
       "      <th>73825</th>\n",
       "      <td>Assam</td>\n",
       "      <td>KAMRUP</td>\n",
       "      <td>1998</td>\n",
       "      <td>Rabi</td>\n",
       "      <td>Wheat</td>\n",
       "      <td>6431.0</td>\n",
       "      <td>6940.0</td>\n",
       "    </tr>\n",
       "    <tr>\n",
       "      <th>73826</th>\n",
       "      <td>Andhra Pradesh</td>\n",
       "      <td>GUNTUR</td>\n",
       "      <td>2005</td>\n",
       "      <td>Rabi</td>\n",
       "      <td>Urad</td>\n",
       "      <td>100125.0</td>\n",
       "      <td>78298.0</td>\n",
       "    </tr>\n",
       "  </tbody>\n",
       "</table>\n",
       "<p>73827 rows × 7 columns</p>\n",
       "</div>"
      ],
      "text/plain": [
       "           State_Name District_Name  Crop_Year       Season  \\\n",
       "0           Karnataka         UDUPI       2005  Rabi          \n",
       "1      Madhya Pradesh       GWALIOR       2003  Whole Year    \n",
       "2      Andhra Pradesh      CHITTOOR       2010  Rabi          \n",
       "3      Andhra Pradesh       KRISHNA       2014  Rabi          \n",
       "4       Uttar Pradesh     SULTANPUR       2011  Rabi          \n",
       "...               ...           ...        ...          ...   \n",
       "73822   Uttar Pradesh     SULTANPUR       2001  Rabi          \n",
       "73823    Chhattisgarh          DURG       2014  Rabi          \n",
       "73824   Uttar Pradesh    RAE BARELI       2010  Summer        \n",
       "73825           Assam        KAMRUP       1998  Rabi          \n",
       "73826  Andhra Pradesh        GUNTUR       2005  Rabi          \n",
       "\n",
       "                    Crop      Area  Production  \n",
       "0             Horse-gram    1122.0       836.0  \n",
       "1                Brinjal     194.0         0.0  \n",
       "2                Sesamum     334.0       118.0  \n",
       "3                 Tomato     538.0      7289.0  \n",
       "4              Coriander      59.0        33.0  \n",
       "...                  ...       ...         ...  \n",
       "73822  Rapeseed &Mustard    3727.0      3239.0  \n",
       "73823              Wheat    6364.0      7367.0  \n",
       "73824  Moong(Green Gram)     489.0       224.0  \n",
       "73825              Wheat    6431.0      6940.0  \n",
       "73826               Urad  100125.0     78298.0  \n",
       "\n",
       "[73827 rows x 7 columns]"
      ]
     },
     "execution_count": 2,
     "metadata": {},
     "output_type": "execute_result"
    }
   ],
   "source": [
    "df=pd.read_csv(\"apy_2 .csv\",index_col=0)\n",
    "df"
   ]
  },
  {
   "cell_type": "code",
   "execution_count": 3,
   "id": "9d335a59",
   "metadata": {},
   "outputs": [
    {
     "data": {
      "text/plain": [
       "(73827, 7)"
      ]
     },
     "execution_count": 3,
     "metadata": {},
     "output_type": "execute_result"
    }
   ],
   "source": [
    "df.shape"
   ]
  },
  {
   "cell_type": "code",
   "execution_count": 4,
   "id": "fc99ded7",
   "metadata": {},
   "outputs": [
    {
     "name": "stdout",
     "output_type": "stream",
     "text": [
      "<class 'pandas.core.frame.DataFrame'>\n",
      "Int64Index: 73827 entries, 0 to 73826\n",
      "Data columns (total 7 columns):\n",
      " #   Column         Non-Null Count  Dtype  \n",
      "---  ------         --------------  -----  \n",
      " 0   State_Name     73827 non-null  object \n",
      " 1   District_Name  73827 non-null  object \n",
      " 2   Crop_Year      73827 non-null  int64  \n",
      " 3   Season         73827 non-null  object \n",
      " 4   Crop           73827 non-null  object \n",
      " 5   Area           73827 non-null  float64\n",
      " 6   Production     72679 non-null  float64\n",
      "dtypes: float64(2), int64(1), object(4)\n",
      "memory usage: 4.5+ MB\n"
     ]
    }
   ],
   "source": [
    "df.info()"
   ]
  },
  {
   "cell_type": "markdown",
   "id": "105aaea9",
   "metadata": {},
   "source": [
    "### To see null values"
   ]
  },
  {
   "cell_type": "code",
   "execution_count": 5,
   "id": "8e258e42",
   "metadata": {},
   "outputs": [
    {
     "data": {
      "text/plain": [
       "State_Name          0\n",
       "District_Name       0\n",
       "Crop_Year           0\n",
       "Season              0\n",
       "Crop                0\n",
       "Area                0\n",
       "Production       1148\n",
       "dtype: int64"
      ]
     },
     "execution_count": 5,
     "metadata": {},
     "output_type": "execute_result"
    }
   ],
   "source": [
    " df.isna().sum()"
   ]
  },
  {
   "cell_type": "markdown",
   "id": "9d9b950c",
   "metadata": {},
   "source": [
    "### To see null value in percentage"
   ]
  },
  {
   "cell_type": "code",
   "execution_count": 6,
   "id": "92388d09",
   "metadata": {},
   "outputs": [
    {
     "data": {
      "text/plain": [
       "State_Name       0.000000\n",
       "District_Name    0.000000\n",
       "Crop_Year        0.000000\n",
       "Season           0.000000\n",
       "Crop             0.000000\n",
       "Area             0.000000\n",
       "Production       1.554987\n",
       "dtype: float64"
      ]
     },
     "execution_count": 6,
     "metadata": {},
     "output_type": "execute_result"
    }
   ],
   "source": [
    "df.isna().sum()/df.shape[0]*100"
   ]
  },
  {
   "cell_type": "code",
   "execution_count": 7,
   "id": "d7729538",
   "metadata": {},
   "outputs": [
    {
     "data": {
      "text/plain": [
       "442613.7775644958"
      ]
     },
     "execution_count": 7,
     "metadata": {},
     "output_type": "execute_result"
    }
   ],
   "source": [
    "df[\"Production\"].mean()"
   ]
  },
  {
   "cell_type": "code",
   "execution_count": 8,
   "id": "696f6347",
   "metadata": {},
   "outputs": [
    {
     "data": {
      "text/plain": [
       "724.0"
      ]
     },
     "execution_count": 8,
     "metadata": {},
     "output_type": "execute_result"
    }
   ],
   "source": [
    "df[\"Production\"].median()"
   ]
  },
  {
   "cell_type": "code",
   "execution_count": 9,
   "id": "fc42d01c",
   "metadata": {},
   "outputs": [
    {
     "data": {
      "text/plain": [
       "44.83887620478593"
      ]
     },
     "execution_count": 9,
     "metadata": {},
     "output_type": "execute_result"
    }
   ],
   "source": [
    "df[\"Production\"].skew()"
   ]
  },
  {
   "cell_type": "markdown",
   "id": "e3b2d942",
   "metadata": {},
   "source": [
    "### Drop the rows with missing values"
   ]
  },
  {
   "cell_type": "code",
   "execution_count": 10,
   "id": "35aa9709",
   "metadata": {},
   "outputs": [
    {
     "data": {
      "text/html": [
       "<div>\n",
       "<style scoped>\n",
       "    .dataframe tbody tr th:only-of-type {\n",
       "        vertical-align: middle;\n",
       "    }\n",
       "\n",
       "    .dataframe tbody tr th {\n",
       "        vertical-align: top;\n",
       "    }\n",
       "\n",
       "    .dataframe thead th {\n",
       "        text-align: right;\n",
       "    }\n",
       "</style>\n",
       "<table border=\"1\" class=\"dataframe\">\n",
       "  <thead>\n",
       "    <tr style=\"text-align: right;\">\n",
       "      <th></th>\n",
       "      <th>State_Name</th>\n",
       "      <th>District_Name</th>\n",
       "      <th>Crop_Year</th>\n",
       "      <th>Season</th>\n",
       "      <th>Crop</th>\n",
       "      <th>Area</th>\n",
       "      <th>Production</th>\n",
       "    </tr>\n",
       "  </thead>\n",
       "  <tbody>\n",
       "    <tr>\n",
       "      <th>0</th>\n",
       "      <td>Karnataka</td>\n",
       "      <td>UDUPI</td>\n",
       "      <td>2005</td>\n",
       "      <td>Rabi</td>\n",
       "      <td>Horse-gram</td>\n",
       "      <td>1122.0</td>\n",
       "      <td>836.0</td>\n",
       "    </tr>\n",
       "    <tr>\n",
       "      <th>1</th>\n",
       "      <td>Madhya Pradesh</td>\n",
       "      <td>GWALIOR</td>\n",
       "      <td>2003</td>\n",
       "      <td>Whole Year</td>\n",
       "      <td>Brinjal</td>\n",
       "      <td>194.0</td>\n",
       "      <td>0.0</td>\n",
       "    </tr>\n",
       "    <tr>\n",
       "      <th>2</th>\n",
       "      <td>Andhra Pradesh</td>\n",
       "      <td>CHITTOOR</td>\n",
       "      <td>2010</td>\n",
       "      <td>Rabi</td>\n",
       "      <td>Sesamum</td>\n",
       "      <td>334.0</td>\n",
       "      <td>118.0</td>\n",
       "    </tr>\n",
       "    <tr>\n",
       "      <th>3</th>\n",
       "      <td>Andhra Pradesh</td>\n",
       "      <td>KRISHNA</td>\n",
       "      <td>2014</td>\n",
       "      <td>Rabi</td>\n",
       "      <td>Tomato</td>\n",
       "      <td>538.0</td>\n",
       "      <td>7289.0</td>\n",
       "    </tr>\n",
       "    <tr>\n",
       "      <th>4</th>\n",
       "      <td>Uttar Pradesh</td>\n",
       "      <td>SULTANPUR</td>\n",
       "      <td>2011</td>\n",
       "      <td>Rabi</td>\n",
       "      <td>Coriander</td>\n",
       "      <td>59.0</td>\n",
       "      <td>33.0</td>\n",
       "    </tr>\n",
       "  </tbody>\n",
       "</table>\n",
       "</div>"
      ],
      "text/plain": [
       "       State_Name District_Name  Crop_Year       Season        Crop    Area  \\\n",
       "0       Karnataka         UDUPI       2005  Rabi         Horse-gram  1122.0   \n",
       "1  Madhya Pradesh       GWALIOR       2003  Whole Year      Brinjal   194.0   \n",
       "2  Andhra Pradesh      CHITTOOR       2010  Rabi            Sesamum   334.0   \n",
       "3  Andhra Pradesh       KRISHNA       2014  Rabi             Tomato   538.0   \n",
       "4   Uttar Pradesh     SULTANPUR       2011  Rabi          Coriander    59.0   \n",
       "\n",
       "   Production  \n",
       "0       836.0  \n",
       "1         0.0  \n",
       "2       118.0  \n",
       "3      7289.0  \n",
       "4        33.0  "
      ]
     },
     "execution_count": 10,
     "metadata": {},
     "output_type": "execute_result"
    }
   ],
   "source": [
    "df.dropna(axis=0,inplace=True)\n",
    "df.head()"
   ]
  },
  {
   "cell_type": "code",
   "execution_count": 11,
   "id": "cba779f2",
   "metadata": {},
   "outputs": [
    {
     "data": {
      "text/plain": [
       "(72679, 7)"
      ]
     },
     "execution_count": 11,
     "metadata": {},
     "output_type": "execute_result"
    }
   ],
   "source": [
    "df.shape"
   ]
  },
  {
   "cell_type": "code",
   "execution_count": 12,
   "id": "9a733cf4",
   "metadata": {},
   "outputs": [
    {
     "data": {
      "text/plain": [
       "State_Name       0\n",
       "District_Name    0\n",
       "Crop_Year        0\n",
       "Season           0\n",
       "Crop             0\n",
       "Area             0\n",
       "Production       0\n",
       "dtype: int64"
      ]
     },
     "execution_count": 12,
     "metadata": {},
     "output_type": "execute_result"
    }
   ],
   "source": [
    "df.isna().sum()"
   ]
  },
  {
   "cell_type": "markdown",
   "id": "9fd4e07f",
   "metadata": {},
   "source": [
    "## Q1. Which crop are produced during the Summer Season?\n"
   ]
  },
  {
   "cell_type": "code",
   "execution_count": 13,
   "id": "e5bd47af",
   "metadata": {},
   "outputs": [
    {
     "data": {
      "text/plain": [
       "array(['Rabi       ', 'Whole Year ', 'Kharif     ', 'Autumn     ',\n",
       "       'Winter     ', 'Summer     '], dtype=object)"
      ]
     },
     "execution_count": 13,
     "metadata": {},
     "output_type": "execute_result"
    }
   ],
   "source": [
    "df[\"Season\"].unique()"
   ]
  },
  {
   "cell_type": "code",
   "execution_count": 14,
   "id": "b4927632",
   "metadata": {},
   "outputs": [],
   "source": [
    "summer=df[df[\"Season\"]=='Summer     ']"
   ]
  },
  {
   "cell_type": "code",
   "execution_count": 15,
   "id": "1cde8626",
   "metadata": {},
   "outputs": [
    {
     "data": {
      "text/html": [
       "<div>\n",
       "<style scoped>\n",
       "    .dataframe tbody tr th:only-of-type {\n",
       "        vertical-align: middle;\n",
       "    }\n",
       "\n",
       "    .dataframe tbody tr th {\n",
       "        vertical-align: top;\n",
       "    }\n",
       "\n",
       "    .dataframe thead th {\n",
       "        text-align: right;\n",
       "    }\n",
       "</style>\n",
       "<table border=\"1\" class=\"dataframe\">\n",
       "  <thead>\n",
       "    <tr style=\"text-align: right;\">\n",
       "      <th></th>\n",
       "      <th>State_Name</th>\n",
       "      <th>District_Name</th>\n",
       "      <th>Crop_Year</th>\n",
       "      <th>Season</th>\n",
       "      <th>Crop</th>\n",
       "      <th>Area</th>\n",
       "      <th>Production</th>\n",
       "    </tr>\n",
       "  </thead>\n",
       "  <tbody>\n",
       "    <tr>\n",
       "      <th>20</th>\n",
       "      <td>Maharashtra</td>\n",
       "      <td>WARDHA</td>\n",
       "      <td>2006</td>\n",
       "      <td>Summer</td>\n",
       "      <td>Groundnut</td>\n",
       "      <td>2100.0</td>\n",
       "      <td>2700.0</td>\n",
       "    </tr>\n",
       "    <tr>\n",
       "      <th>23</th>\n",
       "      <td>Bihar</td>\n",
       "      <td>BEGUSARAI</td>\n",
       "      <td>2014</td>\n",
       "      <td>Summer</td>\n",
       "      <td>Maize</td>\n",
       "      <td>2057.0</td>\n",
       "      <td>8742.0</td>\n",
       "    </tr>\n",
       "    <tr>\n",
       "      <th>48</th>\n",
       "      <td>Odisha</td>\n",
       "      <td>SUNDARGARH</td>\n",
       "      <td>2007</td>\n",
       "      <td>Summer</td>\n",
       "      <td>Rice</td>\n",
       "      <td>2000.0</td>\n",
       "      <td>4000.0</td>\n",
       "    </tr>\n",
       "    <tr>\n",
       "      <th>67</th>\n",
       "      <td>Bihar</td>\n",
       "      <td>ARARIA</td>\n",
       "      <td>2000</td>\n",
       "      <td>Summer</td>\n",
       "      <td>Rice</td>\n",
       "      <td>14317.0</td>\n",
       "      <td>22609.0</td>\n",
       "    </tr>\n",
       "    <tr>\n",
       "      <th>82</th>\n",
       "      <td>West Bengal</td>\n",
       "      <td>DINAJPUR UTTAR</td>\n",
       "      <td>2013</td>\n",
       "      <td>Summer</td>\n",
       "      <td>Sesamum</td>\n",
       "      <td>1645.0</td>\n",
       "      <td>1009.0</td>\n",
       "    </tr>\n",
       "    <tr>\n",
       "      <th>...</th>\n",
       "      <td>...</td>\n",
       "      <td>...</td>\n",
       "      <td>...</td>\n",
       "      <td>...</td>\n",
       "      <td>...</td>\n",
       "      <td>...</td>\n",
       "      <td>...</td>\n",
       "    </tr>\n",
       "    <tr>\n",
       "      <th>73793</th>\n",
       "      <td>West Bengal</td>\n",
       "      <td>PURULIA</td>\n",
       "      <td>2004</td>\n",
       "      <td>Summer</td>\n",
       "      <td>Rice</td>\n",
       "      <td>1354.0</td>\n",
       "      <td>2836.0</td>\n",
       "    </tr>\n",
       "    <tr>\n",
       "      <th>73798</th>\n",
       "      <td>Odisha</td>\n",
       "      <td>JAGATSINGHAPUR</td>\n",
       "      <td>2010</td>\n",
       "      <td>Summer</td>\n",
       "      <td>Moong(Green Gram)</td>\n",
       "      <td>39925.0</td>\n",
       "      <td>15970.0</td>\n",
       "    </tr>\n",
       "    <tr>\n",
       "      <th>73806</th>\n",
       "      <td>Uttar Pradesh</td>\n",
       "      <td>KHERI</td>\n",
       "      <td>2000</td>\n",
       "      <td>Summer</td>\n",
       "      <td>Rice</td>\n",
       "      <td>137.0</td>\n",
       "      <td>334.0</td>\n",
       "    </tr>\n",
       "    <tr>\n",
       "      <th>73815</th>\n",
       "      <td>Uttar Pradesh</td>\n",
       "      <td>KHERI</td>\n",
       "      <td>2008</td>\n",
       "      <td>Summer</td>\n",
       "      <td>Sunflower</td>\n",
       "      <td>3.0</td>\n",
       "      <td>6.0</td>\n",
       "    </tr>\n",
       "    <tr>\n",
       "      <th>73824</th>\n",
       "      <td>Uttar Pradesh</td>\n",
       "      <td>RAE BARELI</td>\n",
       "      <td>2010</td>\n",
       "      <td>Summer</td>\n",
       "      <td>Moong(Green Gram)</td>\n",
       "      <td>489.0</td>\n",
       "      <td>224.0</td>\n",
       "    </tr>\n",
       "  </tbody>\n",
       "</table>\n",
       "<p>4513 rows × 7 columns</p>\n",
       "</div>"
      ],
      "text/plain": [
       "          State_Name   District_Name  Crop_Year       Season  \\\n",
       "20       Maharashtra          WARDHA       2006  Summer        \n",
       "23             Bihar       BEGUSARAI       2014  Summer        \n",
       "48            Odisha      SUNDARGARH       2007  Summer        \n",
       "67             Bihar          ARARIA       2000  Summer        \n",
       "82       West Bengal  DINAJPUR UTTAR       2013  Summer        \n",
       "...              ...             ...        ...          ...   \n",
       "73793    West Bengal         PURULIA       2004  Summer        \n",
       "73798         Odisha  JAGATSINGHAPUR       2010  Summer        \n",
       "73806  Uttar Pradesh           KHERI       2000  Summer        \n",
       "73815  Uttar Pradesh           KHERI       2008  Summer        \n",
       "73824  Uttar Pradesh      RAE BARELI       2010  Summer        \n",
       "\n",
       "                    Crop     Area  Production  \n",
       "20             Groundnut   2100.0      2700.0  \n",
       "23                 Maize   2057.0      8742.0  \n",
       "48                  Rice   2000.0      4000.0  \n",
       "67                  Rice  14317.0     22609.0  \n",
       "82               Sesamum   1645.0      1009.0  \n",
       "...                  ...      ...         ...  \n",
       "73793               Rice   1354.0      2836.0  \n",
       "73798  Moong(Green Gram)  39925.0     15970.0  \n",
       "73806               Rice    137.0       334.0  \n",
       "73815          Sunflower      3.0         6.0  \n",
       "73824  Moong(Green Gram)    489.0       224.0  \n",
       "\n",
       "[4513 rows x 7 columns]"
      ]
     },
     "execution_count": 15,
     "metadata": {},
     "output_type": "execute_result"
    }
   ],
   "source": [
    "summer"
   ]
  },
  {
   "cell_type": "code",
   "execution_count": 16,
   "id": "049bcdcc",
   "metadata": {},
   "outputs": [
    {
     "data": {
      "text/plain": [
       "array(['Groundnut', 'Maize', 'Rice', 'Sesamum', 'Wheat', 'Onion', 'Urad',\n",
       "       'Peas & beans (Pulses)', 'Sunflower', 'Ragi', 'Bajra',\n",
       "       'Moong(Green Gram)', 'Cotton(lint)', 'Jowar', 'Cowpea(Lobia)',\n",
       "       'Tobacco', 'Horse-gram', 'Dry chillies', 'Paddy', 'Turmeric',\n",
       "       'Arhar/Tur', 'Banana', 'Potato', 'Dry ginger', 'Brinjal',\n",
       "       'Sugarcane', 'Other  Rabi pulses', 'Small millets',\n",
       "       'Total foodgrain'], dtype=object)"
      ]
     },
     "execution_count": 16,
     "metadata": {},
     "output_type": "execute_result"
    }
   ],
   "source": [
    "summer[\"Crop\"].unique()"
   ]
  },
  {
   "cell_type": "markdown",
   "id": "400a2fd1",
   "metadata": {},
   "source": [
    "## Q2. During which year did Haryana hav the highest crop production ?"
   ]
  },
  {
   "cell_type": "code",
   "execution_count": 17,
   "id": "d4b0f66e",
   "metadata": {},
   "outputs": [
    {
     "data": {
      "text/plain": [
       "array(['Karnataka', 'Madhya Pradesh', 'Andhra Pradesh', 'Uttar Pradesh',\n",
       "       'Rajasthan', 'Assam', 'Bihar', 'Odisha', 'Chhattisgarh', 'Kerala',\n",
       "       'Telangana ', 'Maharashtra', 'Nagaland', 'Puducherry', 'Gujarat',\n",
       "       'Himachal Pradesh', 'Tamil Nadu', 'West Bengal',\n",
       "       'Jammu and Kashmir ', 'Arunachal Pradesh', 'Uttarakhand',\n",
       "       'Haryana', 'Mizoram', 'Manipur', 'Punjab', 'Jharkhand',\n",
       "       'Meghalaya', 'Andaman and Nicobar Islands', 'Sikkim', 'Tripura',\n",
       "       'Dadra and Nagar Haveli', 'Goa', 'Chandigarh'], dtype=object)"
      ]
     },
     "execution_count": 17,
     "metadata": {},
     "output_type": "execute_result"
    }
   ],
   "source": [
    "df[\"State_Name\"].unique()"
   ]
  },
  {
   "cell_type": "code",
   "execution_count": 18,
   "id": "502dbd10",
   "metadata": {},
   "outputs": [],
   "source": [
    "haryana=df[df[\"State_Name\"]==\"Haryana\"]"
   ]
  },
  {
   "cell_type": "code",
   "execution_count": 19,
   "id": "b142a213",
   "metadata": {},
   "outputs": [
    {
     "data": {
      "text/html": [
       "<div>\n",
       "<style scoped>\n",
       "    .dataframe tbody tr th:only-of-type {\n",
       "        vertical-align: middle;\n",
       "    }\n",
       "\n",
       "    .dataframe tbody tr th {\n",
       "        vertical-align: top;\n",
       "    }\n",
       "\n",
       "    .dataframe thead th {\n",
       "        text-align: right;\n",
       "    }\n",
       "</style>\n",
       "<table border=\"1\" class=\"dataframe\">\n",
       "  <thead>\n",
       "    <tr style=\"text-align: right;\">\n",
       "      <th></th>\n",
       "      <th>State_Name</th>\n",
       "      <th>District_Name</th>\n",
       "      <th>Crop_Year</th>\n",
       "      <th>Season</th>\n",
       "      <th>Crop</th>\n",
       "      <th>Area</th>\n",
       "      <th>Production</th>\n",
       "    </tr>\n",
       "  </thead>\n",
       "  <tbody>\n",
       "    <tr>\n",
       "      <th>77</th>\n",
       "      <td>Haryana</td>\n",
       "      <td>MEWAT</td>\n",
       "      <td>2006</td>\n",
       "      <td>Rabi</td>\n",
       "      <td>Gram</td>\n",
       "      <td>889.0</td>\n",
       "      <td>1000.0</td>\n",
       "    </tr>\n",
       "    <tr>\n",
       "      <th>114</th>\n",
       "      <td>Haryana</td>\n",
       "      <td>JIND</td>\n",
       "      <td>2008</td>\n",
       "      <td>Kharif</td>\n",
       "      <td>Cotton(lint)</td>\n",
       "      <td>45062.0</td>\n",
       "      <td>153000.0</td>\n",
       "    </tr>\n",
       "    <tr>\n",
       "      <th>132</th>\n",
       "      <td>Haryana</td>\n",
       "      <td>MAHENDRAGARH</td>\n",
       "      <td>2006</td>\n",
       "      <td>Kharif</td>\n",
       "      <td>Bajra</td>\n",
       "      <td>100975.0</td>\n",
       "      <td>158000.0</td>\n",
       "    </tr>\n",
       "    <tr>\n",
       "      <th>162</th>\n",
       "      <td>Haryana</td>\n",
       "      <td>JHAJJAR</td>\n",
       "      <td>2002</td>\n",
       "      <td>Whole Year</td>\n",
       "      <td>Banana</td>\n",
       "      <td>103.0</td>\n",
       "      <td>0.0</td>\n",
       "    </tr>\n",
       "    <tr>\n",
       "      <th>185</th>\n",
       "      <td>Haryana</td>\n",
       "      <td>BHIWANI</td>\n",
       "      <td>1997</td>\n",
       "      <td>Kharif</td>\n",
       "      <td>Other Kharif pulses</td>\n",
       "      <td>8800.0</td>\n",
       "      <td>3800.0</td>\n",
       "    </tr>\n",
       "    <tr>\n",
       "      <th>...</th>\n",
       "      <td>...</td>\n",
       "      <td>...</td>\n",
       "      <td>...</td>\n",
       "      <td>...</td>\n",
       "      <td>...</td>\n",
       "      <td>...</td>\n",
       "      <td>...</td>\n",
       "    </tr>\n",
       "    <tr>\n",
       "      <th>73392</th>\n",
       "      <td>Haryana</td>\n",
       "      <td>GURGAON</td>\n",
       "      <td>1999</td>\n",
       "      <td>Whole Year</td>\n",
       "      <td>Onion</td>\n",
       "      <td>851.0</td>\n",
       "      <td>11300.0</td>\n",
       "    </tr>\n",
       "    <tr>\n",
       "      <th>73558</th>\n",
       "      <td>Haryana</td>\n",
       "      <td>PANIPAT</td>\n",
       "      <td>2008</td>\n",
       "      <td>Kharif</td>\n",
       "      <td>Rice</td>\n",
       "      <td>77763.0</td>\n",
       "      <td>169000.0</td>\n",
       "    </tr>\n",
       "    <tr>\n",
       "      <th>73621</th>\n",
       "      <td>Haryana</td>\n",
       "      <td>JHAJJAR</td>\n",
       "      <td>2004</td>\n",
       "      <td>Rabi</td>\n",
       "      <td>Wheat</td>\n",
       "      <td>84057.0</td>\n",
       "      <td>302000.0</td>\n",
       "    </tr>\n",
       "    <tr>\n",
       "      <th>73635</th>\n",
       "      <td>Haryana</td>\n",
       "      <td>MAHENDRAGARH</td>\n",
       "      <td>2006</td>\n",
       "      <td>Rabi</td>\n",
       "      <td>Wheat</td>\n",
       "      <td>43627.0</td>\n",
       "      <td>175000.0</td>\n",
       "    </tr>\n",
       "    <tr>\n",
       "      <th>73772</th>\n",
       "      <td>Haryana</td>\n",
       "      <td>JHAJJAR</td>\n",
       "      <td>2006</td>\n",
       "      <td>Rabi</td>\n",
       "      <td>Rapeseed &amp;Mustard</td>\n",
       "      <td>41170.0</td>\n",
       "      <td>54000.0</td>\n",
       "    </tr>\n",
       "  </tbody>\n",
       "</table>\n",
       "<p>1374 rows × 7 columns</p>\n",
       "</div>"
      ],
      "text/plain": [
       "      State_Name District_Name  Crop_Year       Season                 Crop  \\\n",
       "77       Haryana         MEWAT       2006  Rabi                        Gram   \n",
       "114      Haryana          JIND       2008  Kharif              Cotton(lint)   \n",
       "132      Haryana  MAHENDRAGARH       2006  Kharif                     Bajra   \n",
       "162      Haryana       JHAJJAR       2002  Whole Year                Banana   \n",
       "185      Haryana       BHIWANI       1997  Kharif       Other Kharif pulses   \n",
       "...          ...           ...        ...          ...                  ...   \n",
       "73392    Haryana       GURGAON       1999  Whole Year                 Onion   \n",
       "73558    Haryana       PANIPAT       2008  Kharif                      Rice   \n",
       "73621    Haryana       JHAJJAR       2004  Rabi                       Wheat   \n",
       "73635    Haryana  MAHENDRAGARH       2006  Rabi                       Wheat   \n",
       "73772    Haryana       JHAJJAR       2006  Rabi           Rapeseed &Mustard   \n",
       "\n",
       "           Area  Production  \n",
       "77        889.0      1000.0  \n",
       "114     45062.0    153000.0  \n",
       "132    100975.0    158000.0  \n",
       "162       103.0         0.0  \n",
       "185      8800.0      3800.0  \n",
       "...         ...         ...  \n",
       "73392     851.0     11300.0  \n",
       "73558   77763.0    169000.0  \n",
       "73621   84057.0    302000.0  \n",
       "73635   43627.0    175000.0  \n",
       "73772   41170.0     54000.0  \n",
       "\n",
       "[1374 rows x 7 columns]"
      ]
     },
     "execution_count": 19,
     "metadata": {},
     "output_type": "execute_result"
    }
   ],
   "source": [
    "haryana"
   ]
  },
  {
   "cell_type": "code",
   "execution_count": 20,
   "id": "5785b0d9",
   "metadata": {},
   "outputs": [
    {
     "data": {
      "text/plain": [
       "Crop_Year\n",
       "2008    9647100.0\n",
       "2005    9328300.0\n",
       "2011    9021300.0\n",
       "2003    8437562.0\n",
       "2012    7996416.0\n",
       "2002    7837700.0\n",
       "2004    7523400.0\n",
       "2007    7323500.0\n",
       "1999    7188901.0\n",
       "2001    7009900.0\n",
       "1998    6653600.0\n",
       "2006    6566600.0\n",
       "2000    5872800.0\n",
       "2010    5548900.0\n",
       "2009    5214480.0\n",
       "1997    3376800.0\n",
       "Name: Production, dtype: float64"
      ]
     },
     "execution_count": 20,
     "metadata": {},
     "output_type": "execute_result"
    }
   ],
   "source": [
    "haryana.groupby([\"Crop_Year\"])[\"Production\"].sum().sort_values(ascending=False)"
   ]
  },
  {
   "cell_type": "markdown",
   "id": "178bb6e7",
   "metadata": {},
   "source": [
    "## Q3. The maximum and minimum area of production were in years ?"
   ]
  },
  {
   "cell_type": "code",
   "execution_count": 21,
   "id": "945e4930",
   "metadata": {},
   "outputs": [
    {
     "data": {
      "text/html": [
       "<div>\n",
       "<style scoped>\n",
       "    .dataframe tbody tr th:only-of-type {\n",
       "        vertical-align: middle;\n",
       "    }\n",
       "\n",
       "    .dataframe tbody tr th {\n",
       "        vertical-align: top;\n",
       "    }\n",
       "\n",
       "    .dataframe thead th {\n",
       "        text-align: right;\n",
       "    }\n",
       "</style>\n",
       "<table border=\"1\" class=\"dataframe\">\n",
       "  <thead>\n",
       "    <tr style=\"text-align: right;\">\n",
       "      <th></th>\n",
       "      <th>Crop_Year</th>\n",
       "      <th>sum</th>\n",
       "    </tr>\n",
       "  </thead>\n",
       "  <tbody>\n",
       "    <tr>\n",
       "      <th>18</th>\n",
       "      <td>2015</td>\n",
       "      <td>1313314.00</td>\n",
       "    </tr>\n",
       "    <tr>\n",
       "      <th>17</th>\n",
       "      <td>2014</td>\n",
       "      <td>34188857.84</td>\n",
       "    </tr>\n",
       "    <tr>\n",
       "      <th>16</th>\n",
       "      <td>2013</td>\n",
       "      <td>41895685.00</td>\n",
       "    </tr>\n",
       "    <tr>\n",
       "      <th>4</th>\n",
       "      <td>2001</td>\n",
       "      <td>43603438.77</td>\n",
       "    </tr>\n",
       "    <tr>\n",
       "      <th>15</th>\n",
       "      <td>2012</td>\n",
       "      <td>44369268.00</td>\n",
       "    </tr>\n",
       "    <tr>\n",
       "      <th>10</th>\n",
       "      <td>2007</td>\n",
       "      <td>44971304.38</td>\n",
       "    </tr>\n",
       "    <tr>\n",
       "      <th>8</th>\n",
       "      <td>2005</td>\n",
       "      <td>45296672.88</td>\n",
       "    </tr>\n",
       "    <tr>\n",
       "      <th>14</th>\n",
       "      <td>2011</td>\n",
       "      <td>45835655.41</td>\n",
       "    </tr>\n",
       "    <tr>\n",
       "      <th>5</th>\n",
       "      <td>2002</td>\n",
       "      <td>48328531.15</td>\n",
       "    </tr>\n",
       "    <tr>\n",
       "      <th>6</th>\n",
       "      <td>2003</td>\n",
       "      <td>48954140.97</td>\n",
       "    </tr>\n",
       "    <tr>\n",
       "      <th>1</th>\n",
       "      <td>1998</td>\n",
       "      <td>49317287.00</td>\n",
       "    </tr>\n",
       "    <tr>\n",
       "      <th>11</th>\n",
       "      <td>2008</td>\n",
       "      <td>49604477.00</td>\n",
       "    </tr>\n",
       "    <tr>\n",
       "      <th>3</th>\n",
       "      <td>2000</td>\n",
       "      <td>50530198.00</td>\n",
       "    </tr>\n",
       "    <tr>\n",
       "      <th>12</th>\n",
       "      <td>2009</td>\n",
       "      <td>50772638.00</td>\n",
       "    </tr>\n",
       "    <tr>\n",
       "      <th>13</th>\n",
       "      <td>2010</td>\n",
       "      <td>50813109.78</td>\n",
       "    </tr>\n",
       "    <tr>\n",
       "      <th>9</th>\n",
       "      <td>2006</td>\n",
       "      <td>51393712.02</td>\n",
       "    </tr>\n",
       "    <tr>\n",
       "      <th>2</th>\n",
       "      <td>1999</td>\n",
       "      <td>51841049.00</td>\n",
       "    </tr>\n",
       "    <tr>\n",
       "      <th>7</th>\n",
       "      <td>2004</td>\n",
       "      <td>53445367.24</td>\n",
       "    </tr>\n",
       "    <tr>\n",
       "      <th>0</th>\n",
       "      <td>1997</td>\n",
       "      <td>68245111.00</td>\n",
       "    </tr>\n",
       "  </tbody>\n",
       "</table>\n",
       "</div>"
      ],
      "text/plain": [
       "    Crop_Year          sum\n",
       "18       2015   1313314.00\n",
       "17       2014  34188857.84\n",
       "16       2013  41895685.00\n",
       "4        2001  43603438.77\n",
       "15       2012  44369268.00\n",
       "10       2007  44971304.38\n",
       "8        2005  45296672.88\n",
       "14       2011  45835655.41\n",
       "5        2002  48328531.15\n",
       "6        2003  48954140.97\n",
       "1        1998  49317287.00\n",
       "11       2008  49604477.00\n",
       "3        2000  50530198.00\n",
       "12       2009  50772638.00\n",
       "13       2010  50813109.78\n",
       "9        2006  51393712.02\n",
       "2        1999  51841049.00\n",
       "7        2004  53445367.24\n",
       "0        1997  68245111.00"
      ]
     },
     "execution_count": 21,
     "metadata": {},
     "output_type": "execute_result"
    }
   ],
   "source": [
    "min_max=df.groupby([\"Crop_Year\"])[\"Area\"].agg([\"sum\"]).reset_index().sort_values(by=\"sum\")\n",
    "min_max"
   ]
  },
  {
   "cell_type": "code",
   "execution_count": 22,
   "id": "832c568b",
   "metadata": {},
   "outputs": [
    {
     "data": {
      "text/plain": [
       "1313314.0"
      ]
     },
     "execution_count": 22,
     "metadata": {},
     "output_type": "execute_result"
    }
   ],
   "source": [
    "min_production=min_max[\"sum\"].min()\n",
    "min_production"
   ]
  },
  {
   "cell_type": "code",
   "execution_count": 23,
   "id": "a3e5ff1e",
   "metadata": {},
   "outputs": [
    {
     "data": {
      "text/plain": [
       "68245111.0"
      ]
     },
     "execution_count": 23,
     "metadata": {},
     "output_type": "execute_result"
    }
   ],
   "source": [
    "max_production=min_max[\"sum\"].max()\n",
    "max_production"
   ]
  },
  {
   "cell_type": "markdown",
   "id": "4e497264",
   "metadata": {},
   "source": [
    "## Q4. Which state in india had the second lowest corp production ? (Overall,for all years)"
   ]
  },
  {
   "cell_type": "code",
   "execution_count": 24,
   "id": "5c28d96d",
   "metadata": {},
   "outputs": [
    {
     "data": {
      "text/plain": [
       "State_Name\n",
       "Chandigarh                     1.580450e+04\n",
       "Mizoram                        4.579428e+05\n",
       "Sikkim                         5.507250e+05\n",
       "Dadra and Nagar Haveli         6.247060e+05\n",
       "Manipur                        1.658617e+06\n",
       "Arunachal Pradesh              2.035912e+06\n",
       "Jharkhand                      3.319141e+06\n",
       "Meghalaya                      3.639914e+06\n",
       "Nagaland                       3.925012e+06\n",
       "Jammu and Kashmir              4.018135e+06\n",
       "Tripura                        4.278173e+06\n",
       "Himachal Pradesh               5.198802e+06\n",
       "Chhattisgarh                   3.132986e+07\n",
       "Uttarakhand                    4.017398e+07\n",
       "Odisha                         4.563306e+07\n",
       "Puducherry                     7.326832e+07\n",
       "Rajasthan                      8.671658e+07\n",
       "Haryana                        1.145473e+08\n",
       "Bihar                          1.151581e+08\n",
       "Telangana                      1.202722e+08\n",
       "Madhya Pradesh                 1.337226e+08\n",
       "Goa                            1.421826e+08\n",
       "Gujarat                        1.538659e+08\n",
       "Punjab                         1.724376e+08\n",
       "Andaman and Nicobar Islands    2.032759e+08\n",
       "Karnataka                      2.637879e+08\n",
       "Maharashtra                    3.930627e+08\n",
       "Assam                          5.201106e+08\n",
       "West Bengal                    5.327023e+08\n",
       "Uttar Pradesh                  1.069989e+09\n",
       "Tamil Nadu                     1.787126e+09\n",
       "Andhra Pradesh                 3.141848e+09\n",
       "Kerala                         2.299779e+10\n",
       "Name: Production, dtype: float64"
      ]
     },
     "execution_count": 24,
     "metadata": {},
     "output_type": "execute_result"
    }
   ],
   "source": [
    "df.groupby([\"State_Name\"])[\"Production\"].sum().sort_values()"
   ]
  },
  {
   "cell_type": "markdown",
   "id": "07bdcc9d",
   "metadata": {},
   "source": [
    "## Q.5 What were the top three production crops in the year 2012 ?"
   ]
  },
  {
   "cell_type": "code",
   "execution_count": 25,
   "id": "b2bb937e",
   "metadata": {},
   "outputs": [],
   "source": [
    "df2012=df[df[\"Crop_Year\"]==2012]"
   ]
  },
  {
   "cell_type": "code",
   "execution_count": 26,
   "id": "09046a85",
   "metadata": {},
   "outputs": [
    {
     "data": {
      "text/plain": [
       "Crop\n",
       "Coconut           1.208299e+09\n",
       "Sugarcane         1.143474e+08\n",
       "Rice              3.371318e+07\n",
       "Wheat             2.448045e+07\n",
       "Potato            1.006466e+07\n",
       "                      ...     \n",
       "Pome Granet       8.720000e+02\n",
       "Blackgram         7.000000e+01\n",
       "Grapes            1.800000e+01\n",
       "Cardamom          1.200000e+01\n",
       "other oilseeds    1.000000e+00\n",
       "Name: Production, Length: 69, dtype: float64"
      ]
     },
     "execution_count": 26,
     "metadata": {},
     "output_type": "execute_result"
    }
   ],
   "source": [
    "df2012.groupby([\"Crop\"])[\"Production\"].sum().sort_values(ascending=False)"
   ]
  },
  {
   "cell_type": "markdown",
   "id": "aa9c810e",
   "metadata": {},
   "source": [
    "## Q6. What is the standard deviation for Area pf Production ?"
   ]
  },
  {
   "cell_type": "code",
   "execution_count": 27,
   "id": "5bbf9c31",
   "metadata": {},
   "outputs": [
    {
     "data": {
      "text/plain": [
       "49177.603127123424"
      ]
     },
     "execution_count": 27,
     "metadata": {},
     "output_type": "execute_result"
    }
   ],
   "source": [
    "df[\"Area\"].std()"
   ]
  },
  {
   "cell_type": "markdown",
   "id": "f31fa62a",
   "metadata": {},
   "source": [
    "## Q7. Which is the crop that gave the highest production to the state of andhra pradesh ? "
   ]
  },
  {
   "cell_type": "code",
   "execution_count": 28,
   "id": "911f086a",
   "metadata": {},
   "outputs": [],
   "source": [
    "Andra_Pradesh=df[df[\"State_Name\"]==\"Andhra Pradesh\"]"
   ]
  },
  {
   "cell_type": "code",
   "execution_count": 29,
   "id": "d78d83f0",
   "metadata": {},
   "outputs": [
    {
     "data": {
      "text/plain": [
       "Crop\n",
       "Coconut              780162000.0\n",
       "Sugarcane              3697441.0\n",
       "Rice                   1624324.0\n",
       "Maize                   950884.0\n",
       "Cotton(lint)            809620.0\n",
       "                        ...     \n",
       "Cucumber                     0.0\n",
       "Bottle Gourd                 0.0\n",
       "Other Vegetables             0.0\n",
       "other fibres                 0.0\n",
       "Peas  (vegetable)            0.0\n",
       "Name: Production, Length: 67, dtype: float64"
      ]
     },
     "execution_count": 29,
     "metadata": {},
     "output_type": "execute_result"
    }
   ],
   "source": [
    "Andra_Pradesh.groupby([\"Crop\"])[\"Production\"].max().sort_values(ascending=False)"
   ]
  },
  {
   "cell_type": "markdown",
   "id": "3f67038f",
   "metadata": {},
   "source": [
    "## Q8.What is the total production of Kharif season ?"
   ]
  },
  {
   "cell_type": "code",
   "execution_count": 60,
   "id": "95876e6c",
   "metadata": {},
   "outputs": [
    {
     "data": {
      "text/plain": [
       "array(['Rabi       ', 'Whole Year ', 'Kharif     ', 'Autumn     ',\n",
       "       'Winter     ', 'Summer     '], dtype=object)"
      ]
     },
     "execution_count": 60,
     "metadata": {},
     "output_type": "execute_result"
    }
   ],
   "source": [
    "df[\"Season\"].unique()"
   ]
  },
  {
   "cell_type": "code",
   "execution_count": 61,
   "id": "193ff212",
   "metadata": {},
   "outputs": [
    {
     "data": {
      "text/html": [
       "<div>\n",
       "<style scoped>\n",
       "    .dataframe tbody tr th:only-of-type {\n",
       "        vertical-align: middle;\n",
       "    }\n",
       "\n",
       "    .dataframe tbody tr th {\n",
       "        vertical-align: top;\n",
       "    }\n",
       "\n",
       "    .dataframe thead th {\n",
       "        text-align: right;\n",
       "    }\n",
       "</style>\n",
       "<table border=\"1\" class=\"dataframe\">\n",
       "  <thead>\n",
       "    <tr style=\"text-align: right;\">\n",
       "      <th></th>\n",
       "      <th>State_Name</th>\n",
       "      <th>District_Name</th>\n",
       "      <th>Crop_Year</th>\n",
       "      <th>Season</th>\n",
       "      <th>Crop</th>\n",
       "      <th>Area</th>\n",
       "      <th>Production</th>\n",
       "    </tr>\n",
       "  </thead>\n",
       "  <tbody>\n",
       "    <tr>\n",
       "      <th>6</th>\n",
       "      <td>Assam</td>\n",
       "      <td>KAMRUP</td>\n",
       "      <td>2006</td>\n",
       "      <td>Kharif</td>\n",
       "      <td>Niger seed</td>\n",
       "      <td>654.0</td>\n",
       "      <td>327.0</td>\n",
       "    </tr>\n",
       "    <tr>\n",
       "      <th>11</th>\n",
       "      <td>Madhya Pradesh</td>\n",
       "      <td>MORENA</td>\n",
       "      <td>2008</td>\n",
       "      <td>Kharif</td>\n",
       "      <td>Groundnut</td>\n",
       "      <td>139.0</td>\n",
       "      <td>126.0</td>\n",
       "    </tr>\n",
       "    <tr>\n",
       "      <th>18</th>\n",
       "      <td>Uttar Pradesh</td>\n",
       "      <td>KUSHI NAGAR</td>\n",
       "      <td>1997</td>\n",
       "      <td>Kharif</td>\n",
       "      <td>Groundnut</td>\n",
       "      <td>153.0</td>\n",
       "      <td>123.0</td>\n",
       "    </tr>\n",
       "    <tr>\n",
       "      <th>21</th>\n",
       "      <td>Karnataka</td>\n",
       "      <td>CHIKBALLAPUR</td>\n",
       "      <td>2010</td>\n",
       "      <td>Kharif</td>\n",
       "      <td>Peas &amp; beans (Pulses)</td>\n",
       "      <td>488.0</td>\n",
       "      <td>6545.0</td>\n",
       "    </tr>\n",
       "    <tr>\n",
       "      <th>25</th>\n",
       "      <td>Puducherry</td>\n",
       "      <td>MAHE</td>\n",
       "      <td>1998</td>\n",
       "      <td>Kharif</td>\n",
       "      <td>Tapioca</td>\n",
       "      <td>18.0</td>\n",
       "      <td>180.0</td>\n",
       "    </tr>\n",
       "    <tr>\n",
       "      <th>...</th>\n",
       "      <td>...</td>\n",
       "      <td>...</td>\n",
       "      <td>...</td>\n",
       "      <td>...</td>\n",
       "      <td>...</td>\n",
       "      <td>...</td>\n",
       "      <td>...</td>\n",
       "    </tr>\n",
       "    <tr>\n",
       "      <th>73800</th>\n",
       "      <td>Bihar</td>\n",
       "      <td>ARWAL</td>\n",
       "      <td>2003</td>\n",
       "      <td>Kharif</td>\n",
       "      <td>Sunflower</td>\n",
       "      <td>8.0</td>\n",
       "      <td>11.0</td>\n",
       "    </tr>\n",
       "    <tr>\n",
       "      <th>73809</th>\n",
       "      <td>Sikkim</td>\n",
       "      <td>EAST DISTRICT</td>\n",
       "      <td>2014</td>\n",
       "      <td>Kharif</td>\n",
       "      <td>Other Kharif pulses</td>\n",
       "      <td>470.0</td>\n",
       "      <td>450.0</td>\n",
       "    </tr>\n",
       "    <tr>\n",
       "      <th>73810</th>\n",
       "      <td>Maharashtra</td>\n",
       "      <td>WARDHA</td>\n",
       "      <td>2002</td>\n",
       "      <td>Kharif</td>\n",
       "      <td>Urad</td>\n",
       "      <td>800.0</td>\n",
       "      <td>200.0</td>\n",
       "    </tr>\n",
       "    <tr>\n",
       "      <th>73811</th>\n",
       "      <td>Madhya Pradesh</td>\n",
       "      <td>BURHANPUR</td>\n",
       "      <td>2011</td>\n",
       "      <td>Kharif</td>\n",
       "      <td>Rice</td>\n",
       "      <td>1550.0</td>\n",
       "      <td>2412.0</td>\n",
       "    </tr>\n",
       "    <tr>\n",
       "      <th>73820</th>\n",
       "      <td>Rajasthan</td>\n",
       "      <td>NAGAUR</td>\n",
       "      <td>2004</td>\n",
       "      <td>Kharif</td>\n",
       "      <td>Jowar</td>\n",
       "      <td>46356.0</td>\n",
       "      <td>19860.0</td>\n",
       "    </tr>\n",
       "  </tbody>\n",
       "</table>\n",
       "<p>28253 rows × 7 columns</p>\n",
       "</div>"
      ],
      "text/plain": [
       "           State_Name  District_Name  Crop_Year       Season  \\\n",
       "6               Assam         KAMRUP       2006  Kharif        \n",
       "11     Madhya Pradesh         MORENA       2008  Kharif        \n",
       "18      Uttar Pradesh    KUSHI NAGAR       1997  Kharif        \n",
       "21          Karnataka   CHIKBALLAPUR       2010  Kharif        \n",
       "25         Puducherry           MAHE       1998  Kharif        \n",
       "...               ...            ...        ...          ...   \n",
       "73800           Bihar          ARWAL       2003  Kharif        \n",
       "73809          Sikkim  EAST DISTRICT       2014  Kharif        \n",
       "73810     Maharashtra         WARDHA       2002  Kharif        \n",
       "73811  Madhya Pradesh      BURHANPUR       2011  Kharif        \n",
       "73820       Rajasthan         NAGAUR       2004  Kharif        \n",
       "\n",
       "                        Crop     Area  Production  \n",
       "6                 Niger seed    654.0       327.0  \n",
       "11                 Groundnut    139.0       126.0  \n",
       "18                 Groundnut    153.0       123.0  \n",
       "21     Peas & beans (Pulses)    488.0      6545.0  \n",
       "25                   Tapioca     18.0       180.0  \n",
       "...                      ...      ...         ...  \n",
       "73800              Sunflower      8.0        11.0  \n",
       "73809    Other Kharif pulses    470.0       450.0  \n",
       "73810                   Urad    800.0       200.0  \n",
       "73811                   Rice   1550.0      2412.0  \n",
       "73820                  Jowar  46356.0     19860.0  \n",
       "\n",
       "[28253 rows x 7 columns]"
      ]
     },
     "execution_count": 61,
     "metadata": {},
     "output_type": "execute_result"
    }
   ],
   "source": [
    "Kharif = df[df[\"Season\"]==\"Kharif     \"]\n",
    "Kharif"
   ]
  },
  {
   "cell_type": "code",
   "execution_count": 62,
   "id": "dfd1059b",
   "metadata": {},
   "outputs": [
    {
     "data": {
      "text/plain": [
       "1282056680.69"
      ]
     },
     "execution_count": 62,
     "metadata": {},
     "output_type": "execute_result"
    }
   ],
   "source": [
    "Kharif[\"Production\"].sum()"
   ]
  },
  {
   "cell_type": "markdown",
   "id": "c125dded",
   "metadata": {},
   "source": [
    "## Q9. Which state has the lowest area of production ?"
   ]
  },
  {
   "cell_type": "code",
   "execution_count": 63,
   "id": "8cc4f9ab",
   "metadata": {},
   "outputs": [
    {
     "data": {
      "text/plain": [
       "State_Name\n",
       "Chandigarh                     2.791000e+03\n",
       "Andaman and Nicobar Islands    8.531894e+04\n",
       "Dadra and Nagar Haveli         1.182820e+05\n",
       "Puducherry                     1.206340e+05\n",
       "Goa                            2.702040e+05\n",
       "Mizoram                        2.711313e+05\n",
       "Sikkim                         3.922050e+05\n",
       "Manipur                        6.121800e+05\n",
       "Meghalaya                      1.270237e+06\n",
       "Arunachal Pradesh              1.283609e+06\n",
       "Tripura                        1.605874e+06\n",
       "Nagaland                       1.800631e+06\n",
       "Jammu and Kashmir              2.744164e+06\n",
       "Jharkhand                      2.748473e+06\n",
       "Himachal Pradesh               2.897344e+06\n",
       "Uttarakhand                    5.714422e+06\n",
       "Kerala                         8.871677e+06\n",
       "Assam                          2.065623e+07\n",
       "Telangana                      2.225371e+07\n",
       "Chhattisgarh                   2.547540e+07\n",
       "Haryana                        2.756965e+07\n",
       "Tamil Nadu                     2.922639e+07\n",
       "Odisha                         3.132268e+07\n",
       "Punjab                         3.692255e+07\n",
       "Andhra Pradesh                 3.864198e+07\n",
       "Bihar                          3.881541e+07\n",
       "Gujarat                        4.835700e+07\n",
       "Karnataka                      5.735193e+07\n",
       "West Bengal                    6.637353e+07\n",
       "Rajasthan                      8.258156e+07\n",
       "Maharashtra                    9.356024e+07\n",
       "Madhya Pradesh                 9.968280e+07\n",
       "Uttar Pradesh                  1.251196e+08\n",
       "Name: Area, dtype: float64"
      ]
     },
     "execution_count": 63,
     "metadata": {},
     "output_type": "execute_result"
    }
   ],
   "source": [
    "df.groupby([\"State_Name\"])[\"Area\"].sum().sort_values()"
   ]
  },
  {
   "cell_type": "markdown",
   "id": "7b2d90d0",
   "metadata": {},
   "source": [
    "## Q10. What is the mean for the area of production ?"
   ]
  },
  {
   "cell_type": "code",
   "execution_count": 64,
   "id": "7cae834f",
   "metadata": {},
   "outputs": [
    {
     "data": {
      "text/plain": [
       "12035.385977242398"
      ]
     },
     "execution_count": 64,
     "metadata": {},
     "output_type": "execute_result"
    }
   ],
   "source": [
    "df[\"Area\"].mean()"
   ]
  },
  {
   "cell_type": "markdown",
   "id": "c40f55ec",
   "metadata": {},
   "source": [
    "## Q11. What is the only crop that has the highest production during Autumn, Summer and Winter ?"
   ]
  },
  {
   "cell_type": "code",
   "execution_count": 65,
   "id": "049d7776",
   "metadata": {},
   "outputs": [
    {
     "data": {
      "text/plain": [
       "array(['Rabi       ', 'Whole Year ', 'Kharif     ', 'Autumn     ',\n",
       "       'Winter     ', 'Summer     '], dtype=object)"
      ]
     },
     "execution_count": 65,
     "metadata": {},
     "output_type": "execute_result"
    }
   ],
   "source": [
    "df[\"Season\"].unique()"
   ]
  },
  {
   "cell_type": "code",
   "execution_count": 66,
   "id": "78d5eee4",
   "metadata": {},
   "outputs": [
    {
     "name": "stdout",
     "output_type": "stream",
     "text": [
      "Season = \n"
     ]
    },
    {
     "data": {
      "text/plain": [
       "Series([], Name: Production, dtype: float64)"
      ]
     },
     "execution_count": 66,
     "metadata": {},
     "output_type": "execute_result"
    }
   ],
   "source": [
    "x=input(\"Season = \")\n",
    "Season=df[df[\"Season\"]==x]\n",
    "Season.groupby([\"Crop\"])[\"Production\"].sum().sort_values(ascending=False)"
   ]
  },
  {
   "cell_type": "code",
   "execution_count": null,
   "id": "4abe9f32",
   "metadata": {},
   "outputs": [],
   "source": []
  }
 ],
 "metadata": {
  "kernelspec": {
   "display_name": "Python 3 (ipykernel)",
   "language": "python",
   "name": "python3"
  },
  "language_info": {
   "codemirror_mode": {
    "name": "ipython",
    "version": 3
   },
   "file_extension": ".py",
   "mimetype": "text/x-python",
   "name": "python",
   "nbconvert_exporter": "python",
   "pygments_lexer": "ipython3",
   "version": "3.10.9"
  }
 },
 "nbformat": 4,
 "nbformat_minor": 5
}
