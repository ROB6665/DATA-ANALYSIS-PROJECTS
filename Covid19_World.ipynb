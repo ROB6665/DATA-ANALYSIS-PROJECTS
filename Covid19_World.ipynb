{
 "cells": [
  {
   "cell_type": "code",
   "execution_count": 1,
   "id": "de48fbc5",
   "metadata": {},
   "outputs": [],
   "source": [
    "import numpy as np\n",
    "import pandas as pd\n",
    "import seaborn as sns\n",
    "import matplotlib.pyplot as plt"
   ]
  },
  {
   "cell_type": "code",
   "execution_count": 2,
   "id": "fa27c4c2",
   "metadata": {},
   "outputs": [],
   "source": [
    "df= pd.read_csv(\"transformed_data.csv\")\n",
    "df1= pd.read_csv(\"raw_data.csv\")"
   ]
  },
  {
   "cell_type": "code",
   "execution_count": 3,
   "id": "caa63434",
   "metadata": {},
   "outputs": [
    {
     "data": {
      "text/html": [
       "<div>\n",
       "<style scoped>\n",
       "    .dataframe tbody tr th:only-of-type {\n",
       "        vertical-align: middle;\n",
       "    }\n",
       "\n",
       "    .dataframe tbody tr th {\n",
       "        vertical-align: top;\n",
       "    }\n",
       "\n",
       "    .dataframe thead th {\n",
       "        text-align: right;\n",
       "    }\n",
       "</style>\n",
       "<table border=\"1\" class=\"dataframe\">\n",
       "  <thead>\n",
       "    <tr style=\"text-align: right;\">\n",
       "      <th></th>\n",
       "      <th>CODE</th>\n",
       "      <th>COUNTRY</th>\n",
       "      <th>DATE</th>\n",
       "      <th>HDI</th>\n",
       "      <th>TC</th>\n",
       "      <th>TD</th>\n",
       "      <th>STI</th>\n",
       "      <th>POP</th>\n",
       "      <th>GDPCAP</th>\n",
       "    </tr>\n",
       "  </thead>\n",
       "  <tbody>\n",
       "    <tr>\n",
       "      <th>0</th>\n",
       "      <td>AFG</td>\n",
       "      <td>Afghanistan</td>\n",
       "      <td>2019-12-31</td>\n",
       "      <td>0.498</td>\n",
       "      <td>0.000000</td>\n",
       "      <td>0.000000</td>\n",
       "      <td>0.000000</td>\n",
       "      <td>17.477233</td>\n",
       "      <td>7.497754</td>\n",
       "    </tr>\n",
       "    <tr>\n",
       "      <th>1</th>\n",
       "      <td>AFG</td>\n",
       "      <td>Afghanistan</td>\n",
       "      <td>2020-01-01</td>\n",
       "      <td>0.498</td>\n",
       "      <td>0.000000</td>\n",
       "      <td>0.000000</td>\n",
       "      <td>0.000000</td>\n",
       "      <td>17.477233</td>\n",
       "      <td>7.497754</td>\n",
       "    </tr>\n",
       "    <tr>\n",
       "      <th>2</th>\n",
       "      <td>AFG</td>\n",
       "      <td>Afghanistan</td>\n",
       "      <td>2020-01-02</td>\n",
       "      <td>0.498</td>\n",
       "      <td>0.000000</td>\n",
       "      <td>0.000000</td>\n",
       "      <td>0.000000</td>\n",
       "      <td>17.477233</td>\n",
       "      <td>7.497754</td>\n",
       "    </tr>\n",
       "    <tr>\n",
       "      <th>3</th>\n",
       "      <td>AFG</td>\n",
       "      <td>Afghanistan</td>\n",
       "      <td>2020-01-03</td>\n",
       "      <td>0.498</td>\n",
       "      <td>0.000000</td>\n",
       "      <td>0.000000</td>\n",
       "      <td>0.000000</td>\n",
       "      <td>17.477233</td>\n",
       "      <td>7.497754</td>\n",
       "    </tr>\n",
       "    <tr>\n",
       "      <th>4</th>\n",
       "      <td>AFG</td>\n",
       "      <td>Afghanistan</td>\n",
       "      <td>2020-01-04</td>\n",
       "      <td>0.498</td>\n",
       "      <td>0.000000</td>\n",
       "      <td>0.000000</td>\n",
       "      <td>0.000000</td>\n",
       "      <td>17.477233</td>\n",
       "      <td>7.497754</td>\n",
       "    </tr>\n",
       "    <tr>\n",
       "      <th>...</th>\n",
       "      <td>...</td>\n",
       "      <td>...</td>\n",
       "      <td>...</td>\n",
       "      <td>...</td>\n",
       "      <td>...</td>\n",
       "      <td>...</td>\n",
       "      <td>...</td>\n",
       "      <td>...</td>\n",
       "      <td>...</td>\n",
       "    </tr>\n",
       "    <tr>\n",
       "      <th>50413</th>\n",
       "      <td>ZWE</td>\n",
       "      <td>Zimbabwe</td>\n",
       "      <td>2020-10-15</td>\n",
       "      <td>0.535</td>\n",
       "      <td>8.994048</td>\n",
       "      <td>5.442418</td>\n",
       "      <td>4.341855</td>\n",
       "      <td>16.514381</td>\n",
       "      <td>7.549491</td>\n",
       "    </tr>\n",
       "    <tr>\n",
       "      <th>50414</th>\n",
       "      <td>ZWE</td>\n",
       "      <td>Zimbabwe</td>\n",
       "      <td>2020-10-16</td>\n",
       "      <td>0.535</td>\n",
       "      <td>8.996528</td>\n",
       "      <td>5.442418</td>\n",
       "      <td>4.341855</td>\n",
       "      <td>16.514381</td>\n",
       "      <td>7.549491</td>\n",
       "    </tr>\n",
       "    <tr>\n",
       "      <th>50415</th>\n",
       "      <td>ZWE</td>\n",
       "      <td>Zimbabwe</td>\n",
       "      <td>2020-10-17</td>\n",
       "      <td>0.535</td>\n",
       "      <td>8.999496</td>\n",
       "      <td>5.442418</td>\n",
       "      <td>4.341855</td>\n",
       "      <td>16.514381</td>\n",
       "      <td>7.549491</td>\n",
       "    </tr>\n",
       "    <tr>\n",
       "      <th>50416</th>\n",
       "      <td>ZWE</td>\n",
       "      <td>Zimbabwe</td>\n",
       "      <td>2020-10-18</td>\n",
       "      <td>0.535</td>\n",
       "      <td>9.000853</td>\n",
       "      <td>5.442418</td>\n",
       "      <td>4.341855</td>\n",
       "      <td>16.514381</td>\n",
       "      <td>7.549491</td>\n",
       "    </tr>\n",
       "    <tr>\n",
       "      <th>50417</th>\n",
       "      <td>ZWE</td>\n",
       "      <td>Zimbabwe</td>\n",
       "      <td>2020-10-19</td>\n",
       "      <td>0.535</td>\n",
       "      <td>9.005405</td>\n",
       "      <td>5.442418</td>\n",
       "      <td>4.341855</td>\n",
       "      <td>16.514381</td>\n",
       "      <td>7.549491</td>\n",
       "    </tr>\n",
       "  </tbody>\n",
       "</table>\n",
       "<p>50418 rows × 9 columns</p>\n",
       "</div>"
      ],
      "text/plain": [
       "      CODE      COUNTRY        DATE    HDI        TC        TD       STI  \\\n",
       "0      AFG  Afghanistan  2019-12-31  0.498  0.000000  0.000000  0.000000   \n",
       "1      AFG  Afghanistan  2020-01-01  0.498  0.000000  0.000000  0.000000   \n",
       "2      AFG  Afghanistan  2020-01-02  0.498  0.000000  0.000000  0.000000   \n",
       "3      AFG  Afghanistan  2020-01-03  0.498  0.000000  0.000000  0.000000   \n",
       "4      AFG  Afghanistan  2020-01-04  0.498  0.000000  0.000000  0.000000   \n",
       "...    ...          ...         ...    ...       ...       ...       ...   \n",
       "50413  ZWE     Zimbabwe  2020-10-15  0.535  8.994048  5.442418  4.341855   \n",
       "50414  ZWE     Zimbabwe  2020-10-16  0.535  8.996528  5.442418  4.341855   \n",
       "50415  ZWE     Zimbabwe  2020-10-17  0.535  8.999496  5.442418  4.341855   \n",
       "50416  ZWE     Zimbabwe  2020-10-18  0.535  9.000853  5.442418  4.341855   \n",
       "50417  ZWE     Zimbabwe  2020-10-19  0.535  9.005405  5.442418  4.341855   \n",
       "\n",
       "             POP    GDPCAP  \n",
       "0      17.477233  7.497754  \n",
       "1      17.477233  7.497754  \n",
       "2      17.477233  7.497754  \n",
       "3      17.477233  7.497754  \n",
       "4      17.477233  7.497754  \n",
       "...          ...       ...  \n",
       "50413  16.514381  7.549491  \n",
       "50414  16.514381  7.549491  \n",
       "50415  16.514381  7.549491  \n",
       "50416  16.514381  7.549491  \n",
       "50417  16.514381  7.549491  \n",
       "\n",
       "[50418 rows x 9 columns]"
      ]
     },
     "execution_count": 3,
     "metadata": {},
     "output_type": "execute_result"
    }
   ],
   "source": [
    "df"
   ]
  },
  {
   "cell_type": "code",
   "execution_count": 4,
   "id": "d95500d8",
   "metadata": {},
   "outputs": [
    {
     "data": {
      "text/html": [
       "<div>\n",
       "<style scoped>\n",
       "    .dataframe tbody tr th:only-of-type {\n",
       "        vertical-align: middle;\n",
       "    }\n",
       "\n",
       "    .dataframe tbody tr th {\n",
       "        vertical-align: top;\n",
       "    }\n",
       "\n",
       "    .dataframe thead th {\n",
       "        text-align: right;\n",
       "    }\n",
       "</style>\n",
       "<table border=\"1\" class=\"dataframe\">\n",
       "  <thead>\n",
       "    <tr style=\"text-align: right;\">\n",
       "      <th></th>\n",
       "      <th>iso_code</th>\n",
       "      <th>location</th>\n",
       "      <th>date</th>\n",
       "      <th>total_cases</th>\n",
       "      <th>total_deaths</th>\n",
       "      <th>stringency_index</th>\n",
       "      <th>population</th>\n",
       "      <th>gdp_per_capita</th>\n",
       "      <th>human_development_index</th>\n",
       "      <th>Unnamed: 9</th>\n",
       "      <th>Unnamed: 10</th>\n",
       "      <th>Unnamed: 11</th>\n",
       "      <th>Unnamed: 12</th>\n",
       "      <th>Unnamed: 13</th>\n",
       "    </tr>\n",
       "  </thead>\n",
       "  <tbody>\n",
       "    <tr>\n",
       "      <th>0</th>\n",
       "      <td>AFG</td>\n",
       "      <td>Afghanistan</td>\n",
       "      <td>2019-12-31</td>\n",
       "      <td>0.0</td>\n",
       "      <td>0.0</td>\n",
       "      <td>0.00</td>\n",
       "      <td>38928341</td>\n",
       "      <td>1803.987</td>\n",
       "      <td>0.498</td>\n",
       "      <td>#NUM!</td>\n",
       "      <td>#NUM!</td>\n",
       "      <td>#NUM!</td>\n",
       "      <td>17.477233</td>\n",
       "      <td>7.497754494</td>\n",
       "    </tr>\n",
       "    <tr>\n",
       "      <th>1</th>\n",
       "      <td>AFG</td>\n",
       "      <td>Afghanistan</td>\n",
       "      <td>2020-01-01</td>\n",
       "      <td>0.0</td>\n",
       "      <td>0.0</td>\n",
       "      <td>0.00</td>\n",
       "      <td>38928341</td>\n",
       "      <td>1803.987</td>\n",
       "      <td>0.498</td>\n",
       "      <td>#NUM!</td>\n",
       "      <td>#NUM!</td>\n",
       "      <td>#NUM!</td>\n",
       "      <td>17.477233</td>\n",
       "      <td>7.497754494</td>\n",
       "    </tr>\n",
       "    <tr>\n",
       "      <th>2</th>\n",
       "      <td>AFG</td>\n",
       "      <td>Afghanistan</td>\n",
       "      <td>2020-01-02</td>\n",
       "      <td>0.0</td>\n",
       "      <td>0.0</td>\n",
       "      <td>0.00</td>\n",
       "      <td>38928341</td>\n",
       "      <td>1803.987</td>\n",
       "      <td>0.498</td>\n",
       "      <td>#NUM!</td>\n",
       "      <td>#NUM!</td>\n",
       "      <td>#NUM!</td>\n",
       "      <td>17.477233</td>\n",
       "      <td>7.497754494</td>\n",
       "    </tr>\n",
       "    <tr>\n",
       "      <th>3</th>\n",
       "      <td>AFG</td>\n",
       "      <td>Afghanistan</td>\n",
       "      <td>2020-01-03</td>\n",
       "      <td>0.0</td>\n",
       "      <td>0.0</td>\n",
       "      <td>0.00</td>\n",
       "      <td>38928341</td>\n",
       "      <td>1803.987</td>\n",
       "      <td>0.498</td>\n",
       "      <td>#NUM!</td>\n",
       "      <td>#NUM!</td>\n",
       "      <td>#NUM!</td>\n",
       "      <td>17.477233</td>\n",
       "      <td>7.497754494</td>\n",
       "    </tr>\n",
       "    <tr>\n",
       "      <th>4</th>\n",
       "      <td>AFG</td>\n",
       "      <td>Afghanistan</td>\n",
       "      <td>2020-01-04</td>\n",
       "      <td>0.0</td>\n",
       "      <td>0.0</td>\n",
       "      <td>0.00</td>\n",
       "      <td>38928341</td>\n",
       "      <td>1803.987</td>\n",
       "      <td>0.498</td>\n",
       "      <td>#NUM!</td>\n",
       "      <td>#NUM!</td>\n",
       "      <td>#NUM!</td>\n",
       "      <td>17.477233</td>\n",
       "      <td>7.497754494</td>\n",
       "    </tr>\n",
       "    <tr>\n",
       "      <th>...</th>\n",
       "      <td>...</td>\n",
       "      <td>...</td>\n",
       "      <td>...</td>\n",
       "      <td>...</td>\n",
       "      <td>...</td>\n",
       "      <td>...</td>\n",
       "      <td>...</td>\n",
       "      <td>...</td>\n",
       "      <td>...</td>\n",
       "      <td>...</td>\n",
       "      <td>...</td>\n",
       "      <td>...</td>\n",
       "      <td>...</td>\n",
       "      <td>...</td>\n",
       "    </tr>\n",
       "    <tr>\n",
       "      <th>50413</th>\n",
       "      <td>ZWE</td>\n",
       "      <td>Zimbabwe</td>\n",
       "      <td>2020-10-15</td>\n",
       "      <td>8055.0</td>\n",
       "      <td>231.0</td>\n",
       "      <td>76.85</td>\n",
       "      <td>14862927</td>\n",
       "      <td>1899.775</td>\n",
       "      <td>0.535</td>\n",
       "      <td>8.994048296</td>\n",
       "      <td>5.442417711</td>\n",
       "      <td>4.34185547</td>\n",
       "      <td>16.514381</td>\n",
       "      <td>7.549490737</td>\n",
       "    </tr>\n",
       "    <tr>\n",
       "      <th>50414</th>\n",
       "      <td>ZWE</td>\n",
       "      <td>Zimbabwe</td>\n",
       "      <td>2020-10-16</td>\n",
       "      <td>8075.0</td>\n",
       "      <td>231.0</td>\n",
       "      <td>76.85</td>\n",
       "      <td>14862927</td>\n",
       "      <td>1899.775</td>\n",
       "      <td>0.535</td>\n",
       "      <td>8.996528148</td>\n",
       "      <td>5.442417711</td>\n",
       "      <td>4.34185547</td>\n",
       "      <td>16.514381</td>\n",
       "      <td>7.549490737</td>\n",
       "    </tr>\n",
       "    <tr>\n",
       "      <th>50415</th>\n",
       "      <td>ZWE</td>\n",
       "      <td>Zimbabwe</td>\n",
       "      <td>2020-10-17</td>\n",
       "      <td>8099.0</td>\n",
       "      <td>231.0</td>\n",
       "      <td>76.85</td>\n",
       "      <td>14862927</td>\n",
       "      <td>1899.775</td>\n",
       "      <td>0.535</td>\n",
       "      <td>8.999495876</td>\n",
       "      <td>5.442417711</td>\n",
       "      <td>4.34185547</td>\n",
       "      <td>16.514381</td>\n",
       "      <td>7.549490737</td>\n",
       "    </tr>\n",
       "    <tr>\n",
       "      <th>50416</th>\n",
       "      <td>ZWE</td>\n",
       "      <td>Zimbabwe</td>\n",
       "      <td>2020-10-18</td>\n",
       "      <td>8110.0</td>\n",
       "      <td>231.0</td>\n",
       "      <td>76.85</td>\n",
       "      <td>14862927</td>\n",
       "      <td>1899.775</td>\n",
       "      <td>0.535</td>\n",
       "      <td>9.000853147</td>\n",
       "      <td>5.442417711</td>\n",
       "      <td>4.34185547</td>\n",
       "      <td>16.514381</td>\n",
       "      <td>7.549490737</td>\n",
       "    </tr>\n",
       "    <tr>\n",
       "      <th>50417</th>\n",
       "      <td>ZWE</td>\n",
       "      <td>Zimbabwe</td>\n",
       "      <td>2020-10-19</td>\n",
       "      <td>8147.0</td>\n",
       "      <td>231.0</td>\n",
       "      <td>76.85</td>\n",
       "      <td>14862927</td>\n",
       "      <td>1899.775</td>\n",
       "      <td>0.535</td>\n",
       "      <td>9.00540504</td>\n",
       "      <td>5.442417711</td>\n",
       "      <td>4.34185547</td>\n",
       "      <td>16.514381</td>\n",
       "      <td>7.549490737</td>\n",
       "    </tr>\n",
       "  </tbody>\n",
       "</table>\n",
       "<p>50418 rows × 14 columns</p>\n",
       "</div>"
      ],
      "text/plain": [
       "      iso_code     location        date  total_cases  total_deaths  \\\n",
       "0          AFG  Afghanistan  2019-12-31          0.0           0.0   \n",
       "1          AFG  Afghanistan  2020-01-01          0.0           0.0   \n",
       "2          AFG  Afghanistan  2020-01-02          0.0           0.0   \n",
       "3          AFG  Afghanistan  2020-01-03          0.0           0.0   \n",
       "4          AFG  Afghanistan  2020-01-04          0.0           0.0   \n",
       "...        ...          ...         ...          ...           ...   \n",
       "50413      ZWE     Zimbabwe  2020-10-15       8055.0         231.0   \n",
       "50414      ZWE     Zimbabwe  2020-10-16       8075.0         231.0   \n",
       "50415      ZWE     Zimbabwe  2020-10-17       8099.0         231.0   \n",
       "50416      ZWE     Zimbabwe  2020-10-18       8110.0         231.0   \n",
       "50417      ZWE     Zimbabwe  2020-10-19       8147.0         231.0   \n",
       "\n",
       "       stringency_index  population  gdp_per_capita  human_development_index  \\\n",
       "0                  0.00    38928341        1803.987                    0.498   \n",
       "1                  0.00    38928341        1803.987                    0.498   \n",
       "2                  0.00    38928341        1803.987                    0.498   \n",
       "3                  0.00    38928341        1803.987                    0.498   \n",
       "4                  0.00    38928341        1803.987                    0.498   \n",
       "...                 ...         ...             ...                      ...   \n",
       "50413             76.85    14862927        1899.775                    0.535   \n",
       "50414             76.85    14862927        1899.775                    0.535   \n",
       "50415             76.85    14862927        1899.775                    0.535   \n",
       "50416             76.85    14862927        1899.775                    0.535   \n",
       "50417             76.85    14862927        1899.775                    0.535   \n",
       "\n",
       "        Unnamed: 9  Unnamed: 10 Unnamed: 11  Unnamed: 12  Unnamed: 13  \n",
       "0            #NUM!        #NUM!       #NUM!    17.477233  7.497754494  \n",
       "1            #NUM!        #NUM!       #NUM!    17.477233  7.497754494  \n",
       "2            #NUM!        #NUM!       #NUM!    17.477233  7.497754494  \n",
       "3            #NUM!        #NUM!       #NUM!    17.477233  7.497754494  \n",
       "4            #NUM!        #NUM!       #NUM!    17.477233  7.497754494  \n",
       "...            ...          ...         ...          ...          ...  \n",
       "50413  8.994048296  5.442417711  4.34185547    16.514381  7.549490737  \n",
       "50414  8.996528148  5.442417711  4.34185547    16.514381  7.549490737  \n",
       "50415  8.999495876  5.442417711  4.34185547    16.514381  7.549490737  \n",
       "50416  9.000853147  5.442417711  4.34185547    16.514381  7.549490737  \n",
       "50417   9.00540504  5.442417711  4.34185547    16.514381  7.549490737  \n",
       "\n",
       "[50418 rows x 14 columns]"
      ]
     },
     "execution_count": 4,
     "metadata": {},
     "output_type": "execute_result"
    }
   ],
   "source": [
    "df1"
   ]
  },
  {
   "cell_type": "code",
   "execution_count": 5,
   "id": "0b768264",
   "metadata": {},
   "outputs": [
    {
     "name": "stdout",
     "output_type": "stream",
     "text": [
      "<class 'pandas.core.frame.DataFrame'>\n",
      "RangeIndex: 50418 entries, 0 to 50417\n",
      "Data columns (total 9 columns):\n",
      " #   Column   Non-Null Count  Dtype  \n",
      "---  ------   --------------  -----  \n",
      " 0   CODE     50418 non-null  object \n",
      " 1   COUNTRY  50418 non-null  object \n",
      " 2   DATE     50418 non-null  object \n",
      " 3   HDI      44216 non-null  float64\n",
      " 4   TC       50418 non-null  float64\n",
      " 5   TD       50418 non-null  float64\n",
      " 6   STI      50418 non-null  float64\n",
      " 7   POP      50418 non-null  float64\n",
      " 8   GDPCAP   50418 non-null  float64\n",
      "dtypes: float64(6), object(3)\n",
      "memory usage: 3.5+ MB\n"
     ]
    }
   ],
   "source": [
    "df.info()"
   ]
  },
  {
   "cell_type": "code",
   "execution_count": 6,
   "id": "6f3a8255",
   "metadata": {},
   "outputs": [
    {
     "name": "stdout",
     "output_type": "stream",
     "text": [
      "<class 'pandas.core.frame.DataFrame'>\n",
      "RangeIndex: 50418 entries, 0 to 50417\n",
      "Data columns (total 14 columns):\n",
      " #   Column                   Non-Null Count  Dtype  \n",
      "---  ------                   --------------  -----  \n",
      " 0   iso_code                 50418 non-null  object \n",
      " 1   location                 50418 non-null  object \n",
      " 2   date                     50418 non-null  object \n",
      " 3   total_cases              47324 non-null  float64\n",
      " 4   total_deaths             39228 non-null  float64\n",
      " 5   stringency_index         43292 non-null  float64\n",
      " 6   population               50418 non-null  int64  \n",
      " 7   gdp_per_capita           44706 non-null  float64\n",
      " 8   human_development_index  44216 non-null  float64\n",
      " 9   Unnamed: 9               50418 non-null  object \n",
      " 10  Unnamed: 10              50418 non-null  object \n",
      " 11  Unnamed: 11              50418 non-null  object \n",
      " 12  Unnamed: 12              50418 non-null  float64\n",
      " 13  Unnamed: 13              50418 non-null  object \n",
      "dtypes: float64(6), int64(1), object(7)\n",
      "memory usage: 5.4+ MB\n"
     ]
    }
   ],
   "source": [
    "df1.info()"
   ]
  },
  {
   "cell_type": "code",
   "execution_count": 7,
   "id": "19044214",
   "metadata": {},
   "outputs": [
    {
     "data": {
      "text/plain": [
       "CODE          0\n",
       "COUNTRY       0\n",
       "DATE          0\n",
       "HDI        6202\n",
       "TC            0\n",
       "TD            0\n",
       "STI           0\n",
       "POP           0\n",
       "GDPCAP        0\n",
       "dtype: int64"
      ]
     },
     "execution_count": 7,
     "metadata": {},
     "output_type": "execute_result"
    }
   ],
   "source": [
    "df.isnull().sum()"
   ]
  },
  {
   "cell_type": "code",
   "execution_count": 8,
   "id": "7e81601b",
   "metadata": {},
   "outputs": [
    {
     "data": {
      "text/plain": [
       "iso_code                       0\n",
       "location                       0\n",
       "date                           0\n",
       "total_cases                 3094\n",
       "total_deaths               11190\n",
       "stringency_index            7126\n",
       "population                     0\n",
       "gdp_per_capita              5712\n",
       "human_development_index     6202\n",
       "Unnamed: 9                     0\n",
       "Unnamed: 10                    0\n",
       "Unnamed: 11                    0\n",
       "Unnamed: 12                    0\n",
       "Unnamed: 13                    0\n",
       "dtype: int64"
      ]
     },
     "execution_count": 8,
     "metadata": {},
     "output_type": "execute_result"
    }
   ],
   "source": [
    "df1.isnull().sum()"
   ]
  },
  {
   "cell_type": "code",
   "execution_count": 11,
   "id": "219d62f5",
   "metadata": {},
   "outputs": [
    {
     "name": "stdout",
     "output_type": "stream",
     "text": [
      "  Country Code      Country       HDI  Total Cases  Total Deaths  \\\n",
      "0          AFG  Afghanistan  0.498000    5126433.0      165875.0   \n",
      "1          ALB      Albania  0.600765    1071951.0       31056.0   \n",
      "2          DZA      Algeria  0.754000    4893999.0      206429.0   \n",
      "3          AND      Andorra  0.659551     223576.0        9850.0   \n",
      "4          AGO       Angola  0.418952     304005.0       11820.0   \n",
      "\n",
      "   Stringency Index  Population  \n",
      "0          3.049673   17.477233  \n",
      "1          3.005624   14.872537  \n",
      "2          3.195168   17.596309  \n",
      "3          2.677654   11.254996  \n",
      "4          2.965560   17.307957  \n"
     ]
    }
   ],
   "source": [
    "code = df[\"CODE\"].unique().tolist()\n",
    "country = df[\"COUNTRY\"].unique().tolist()\n",
    "hdi = []\n",
    "tc = []\n",
    "td = []\n",
    "sti = []\n",
    "population = df[\"POP\"].unique().tolist()\n",
    "gdp = []\n",
    "\n",
    "for i in country:\n",
    "    hdi.append((df.loc[df[\"COUNTRY\"] == i, \"HDI\"]).sum()/294)\n",
    "    tc.append((df1.loc[df1[\"location\"] == i, \"total_cases\"]).sum())\n",
    "    td.append((df1.loc[df1[\"location\"] == i, \"total_deaths\"]).sum())\n",
    "    sti.append((df.loc[df[\"COUNTRY\"] == i, \"STI\"]).sum()/294)\n",
    "    population.append((df1.loc[df1[\"location\"] == i, \"population\"]).sum()/294)\n",
    "\n",
    "aggregated_data = pd.DataFrame(list(zip(code, country, hdi, tc, td, sti, population)), \n",
    "                               columns = [\"Country Code\", \"Country\", \"HDI\", \n",
    "                                          \"Total Cases\", \"Total Deaths\", \n",
    "                                          \"Stringency Index\", \"Population\"])\n",
    "print(aggregated_data.head())"
   ]
  },
  {
   "cell_type": "code",
   "execution_count": 12,
   "id": "b1738600",
   "metadata": {},
   "outputs": [
    {
     "name": "stdout",
     "output_type": "stream",
     "text": [
      "    Country Code        Country      HDI  Total Cases  Total Deaths  \\\n",
      "200          USA  United States  0.92400  746014098.0    26477574.0   \n",
      "27           BRA         Brazil  0.75900  425704517.0    14340567.0   \n",
      "90           IND          India  0.64000  407771615.0     7247327.0   \n",
      "157          RUS         Russia  0.81600  132888951.0     2131571.0   \n",
      "150          PER           Peru  0.59949   74882695.0     3020038.0   \n",
      "\n",
      "     Stringency Index  Population  \n",
      "200          3.350949   19.617637  \n",
      "27           3.136028   19.174732  \n",
      "90           3.610552   21.045353  \n",
      "157          3.380088   18.798668  \n",
      "150          3.430126   17.311165  \n"
     ]
    }
   ],
   "source": [
    "\n",
    "df = aggregated_data.sort_values(by=[\"Total Cases\"], ascending=False)\n",
    "print(df.head())"
   ]
  },
  {
   "cell_type": "code",
   "execution_count": 14,
   "id": "57f322e5",
   "metadata": {},
   "outputs": [],
   "source": [
    "df=pd.DataFrame(df)"
   ]
  },
  {
   "cell_type": "code",
   "execution_count": 22,
   "id": "71e8613b",
   "metadata": {},
   "outputs": [
    {
     "data": {
      "text/html": [
       "<div>\n",
       "<style scoped>\n",
       "    .dataframe tbody tr th:only-of-type {\n",
       "        vertical-align: middle;\n",
       "    }\n",
       "\n",
       "    .dataframe tbody tr th {\n",
       "        vertical-align: top;\n",
       "    }\n",
       "\n",
       "    .dataframe thead th {\n",
       "        text-align: right;\n",
       "    }\n",
       "</style>\n",
       "<table border=\"1\" class=\"dataframe\">\n",
       "  <thead>\n",
       "    <tr style=\"text-align: right;\">\n",
       "      <th></th>\n",
       "      <th>index</th>\n",
       "      <th>Country Code</th>\n",
       "      <th>Country</th>\n",
       "      <th>HDI</th>\n",
       "      <th>Total Cases</th>\n",
       "      <th>Total Deaths</th>\n",
       "      <th>Stringency Index</th>\n",
       "      <th>Population</th>\n",
       "    </tr>\n",
       "  </thead>\n",
       "  <tbody>\n",
       "    <tr>\n",
       "      <th>0</th>\n",
       "      <td>200</td>\n",
       "      <td>USA</td>\n",
       "      <td>United States</td>\n",
       "      <td>0.924000</td>\n",
       "      <td>746014098.0</td>\n",
       "      <td>26477574.0</td>\n",
       "      <td>3.350949</td>\n",
       "      <td>19.617637</td>\n",
       "    </tr>\n",
       "    <tr>\n",
       "      <th>1</th>\n",
       "      <td>27</td>\n",
       "      <td>BRA</td>\n",
       "      <td>Brazil</td>\n",
       "      <td>0.759000</td>\n",
       "      <td>425704517.0</td>\n",
       "      <td>14340567.0</td>\n",
       "      <td>3.136028</td>\n",
       "      <td>19.174732</td>\n",
       "    </tr>\n",
       "    <tr>\n",
       "      <th>2</th>\n",
       "      <td>90</td>\n",
       "      <td>IND</td>\n",
       "      <td>India</td>\n",
       "      <td>0.640000</td>\n",
       "      <td>407771615.0</td>\n",
       "      <td>7247327.0</td>\n",
       "      <td>3.610552</td>\n",
       "      <td>21.045353</td>\n",
       "    </tr>\n",
       "    <tr>\n",
       "      <th>3</th>\n",
       "      <td>157</td>\n",
       "      <td>RUS</td>\n",
       "      <td>Russia</td>\n",
       "      <td>0.816000</td>\n",
       "      <td>132888951.0</td>\n",
       "      <td>2131571.0</td>\n",
       "      <td>3.380088</td>\n",
       "      <td>18.798668</td>\n",
       "    </tr>\n",
       "    <tr>\n",
       "      <th>4</th>\n",
       "      <td>150</td>\n",
       "      <td>PER</td>\n",
       "      <td>Peru</td>\n",
       "      <td>0.599490</td>\n",
       "      <td>74882695.0</td>\n",
       "      <td>3020038.0</td>\n",
       "      <td>3.430126</td>\n",
       "      <td>17.311165</td>\n",
       "    </tr>\n",
       "    <tr>\n",
       "      <th>...</th>\n",
       "      <td>...</td>\n",
       "      <td>...</td>\n",
       "      <td>...</td>\n",
       "      <td>...</td>\n",
       "      <td>...</td>\n",
       "      <td>...</td>\n",
       "      <td>...</td>\n",
       "      <td>...</td>\n",
       "    </tr>\n",
       "    <tr>\n",
       "      <th>205</th>\n",
       "      <td>204</td>\n",
       "      <td>VAT</td>\n",
       "      <td>Vatican</td>\n",
       "      <td>0.000000</td>\n",
       "      <td>2415.0</td>\n",
       "      <td>0.0</td>\n",
       "      <td>0.000000</td>\n",
       "      <td>6.695799</td>\n",
       "    </tr>\n",
       "    <tr>\n",
       "      <th>206</th>\n",
       "      <td>130</td>\n",
       "      <td>MSR</td>\n",
       "      <td>Montserrat</td>\n",
       "      <td>0.000000</td>\n",
       "      <td>2383.0</td>\n",
       "      <td>177.0</td>\n",
       "      <td>2.477077</td>\n",
       "      <td>8.516993</td>\n",
       "    </tr>\n",
       "    <tr>\n",
       "      <th>207</th>\n",
       "      <td>5</td>\n",
       "      <td>AIA</td>\n",
       "      <td>Anguilla</td>\n",
       "      <td>0.000000</td>\n",
       "      <td>614.0</td>\n",
       "      <td>0.0</td>\n",
       "      <td>2.326181</td>\n",
       "      <td>9.615939</td>\n",
       "    </tr>\n",
       "    <tr>\n",
       "      <th>208</th>\n",
       "      <td>173</td>\n",
       "      <td>SLB</td>\n",
       "      <td>Solomon Islands</td>\n",
       "      <td>0.007429</td>\n",
       "      <td>11.0</td>\n",
       "      <td>0.0</td>\n",
       "      <td>0.000000</td>\n",
       "      <td>13.439912</td>\n",
       "    </tr>\n",
       "    <tr>\n",
       "      <th>209</th>\n",
       "      <td>87</td>\n",
       "      <td>HKG</td>\n",
       "      <td>Hong Kong</td>\n",
       "      <td>0.161847</td>\n",
       "      <td>0.0</td>\n",
       "      <td>0.0</td>\n",
       "      <td>0.643980</td>\n",
       "      <td>15.830012</td>\n",
       "    </tr>\n",
       "  </tbody>\n",
       "</table>\n",
       "<p>210 rows × 8 columns</p>\n",
       "</div>"
      ],
      "text/plain": [
       "     index Country Code          Country       HDI  Total Cases  Total Deaths  \\\n",
       "0      200          USA    United States  0.924000  746014098.0    26477574.0   \n",
       "1       27          BRA           Brazil  0.759000  425704517.0    14340567.0   \n",
       "2       90          IND            India  0.640000  407771615.0     7247327.0   \n",
       "3      157          RUS           Russia  0.816000  132888951.0     2131571.0   \n",
       "4      150          PER             Peru  0.599490   74882695.0     3020038.0   \n",
       "..     ...          ...              ...       ...          ...           ...   \n",
       "205    204          VAT          Vatican  0.000000       2415.0           0.0   \n",
       "206    130          MSR       Montserrat  0.000000       2383.0         177.0   \n",
       "207      5          AIA         Anguilla  0.000000        614.0           0.0   \n",
       "208    173          SLB  Solomon Islands  0.007429         11.0           0.0   \n",
       "209     87          HKG        Hong Kong  0.161847          0.0           0.0   \n",
       "\n",
       "     Stringency Index  Population  \n",
       "0            3.350949   19.617637  \n",
       "1            3.136028   19.174732  \n",
       "2            3.610552   21.045353  \n",
       "3            3.380088   18.798668  \n",
       "4            3.430126   17.311165  \n",
       "..                ...         ...  \n",
       "205          0.000000    6.695799  \n",
       "206          2.477077    8.516993  \n",
       "207          2.326181    9.615939  \n",
       "208          0.000000   13.439912  \n",
       "209          0.643980   15.830012  \n",
       "\n",
       "[210 rows x 8 columns]"
      ]
     },
     "execution_count": 22,
     "metadata": {},
     "output_type": "execute_result"
    }
   ],
   "source": [
    "df.reset_index()"
   ]
  },
  {
   "cell_type": "code",
   "execution_count": 24,
   "id": "438fe3b6",
   "metadata": {},
   "outputs": [
    {
     "data": {
      "text/plain": [
       "Country\n",
       "United States      746014098.0\n",
       "Brazil             425704517.0\n",
       "India              407771615.0\n",
       "Russia             132888951.0\n",
       "Peru                74882695.0\n",
       "                      ...     \n",
       "Vatican                 2415.0\n",
       "Montserrat              2383.0\n",
       "Anguilla                 614.0\n",
       "Solomon Islands           11.0\n",
       "Hong Kong                  0.0\n",
       "Name: Total Cases, Length: 210, dtype: float64"
      ]
     },
     "execution_count": 24,
     "metadata": {},
     "output_type": "execute_result"
    }
   ],
   "source": [
    "df.groupby(['Country'])['Total Cases'].max().sort_values(ascending=False)"
   ]
  },
  {
   "cell_type": "code",
   "execution_count": 35,
   "id": "ef14f4f1",
   "metadata": {},
   "outputs": [
    {
     "data": {
      "image/png": "[encoded data removed]",
      "text/plain": [
       "<Figure size 432x288 with 1 Axes>"
      ]
     },
     "metadata": {
      "needs_background": "light"
     },
     "output_type": "display_data"
    }
   ],
   "source": [
    "plt.bar(df['Country'].head(10),df['Total Cases'].head(10))\n",
    "plt.xticks(rotation=90)\n",
    "plt.show()"
   ]
  },
  {
   "cell_type": "code",
   "execution_count": 55,
   "id": "ba9882e1",
   "metadata": {},
   "outputs": [
    {
     "data": {
      "text/plain": [
       "Country\n",
       "United States                       26477574.0\n",
       "Brazil                              14340567.0\n",
       "Mexico                               7295850.0\n",
       "United Kingdom                       7249573.0\n",
       "India                                7247327.0\n",
       "                                       ...    \n",
       "Saint Kitts and Nevis                      0.0\n",
       "Saint Lucia                                0.0\n",
       "Saint Vincent and the Grenadines           0.0\n",
       "Seychelles                                 0.0\n",
       "New Caledonia                              0.0\n",
       "Name: Total Deaths, Length: 210, dtype: float64"
      ]
     },
     "execution_count": 55,
     "metadata": {},
     "output_type": "execute_result"
    }
   ],
   "source": [
    "df.groupby(['Country'])['Total Deaths'].max().sort_values(ascending=False)"
   ]
  },
  {
   "cell_type": "code",
   "execution_count": 57,
   "id": "c55e5d51",
   "metadata": {},
   "outputs": [
    {
     "data": {
      "image/png": "[encoded data removed]",
      "text/plain": [
       "<Figure size 432x288 with 1 Axes>"
      ]
     },
     "metadata": {
      "needs_background": "light"
     },
     "output_type": "display_data"
    }
   ],
   "source": [
    "plt.bar(df['Country'].head(10),df['Total Deaths'].head(10))\n",
    "plt.xticks(rotation=90)\n",
    "plt.show()"
   ]
  },
  {
   "cell_type": "code",
   "execution_count": 61,
   "id": "95ef7283",
   "metadata": {},
   "outputs": [
    {
     "data": {
      "image/png": "[encoded data removed]",
      "text/plain": [
       "<Figure size 432x288 with 1 Axes>"
      ]
     },
     "metadata": {
      "needs_background": "light"
     },
     "output_type": "display_data"
    }
   ],
   "source": [
    "plt.bar(df['Country'].head(10),df['Total Cases'].head(10),color='y',label=\"Total Cases\")\n",
    "plt.bar(df['Country'].head(10),df['Total Deaths'].head(10),color='black',label=\"Total Deaths\")\n",
    "plt.legend()\n",
    "plt.xticks(rotation=90)\n",
    "plt.show()"
   ]
  },
  {
   "cell_type": "code",
   "execution_count": 62,
   "id": "f7fa6b38",
   "metadata": {},
   "outputs": [],
   "source": [
    "import pandas as pd\n",
    "import plotly.express as px\n",
    "import plotly.graph_objects as go"
   ]
  },
  {
   "cell_type": "code",
   "execution_count": 64,
   "id": "e1452c24",
   "metadata": {},
   "outputs": [
    {
     "data": {
      "application/vnd.plotly.v1+json": {
       "config": {
        "plotlyServerURL": "https://plot.ly"
       },
       "data": [
        {
         "alignmentgroup": "True",
         "customdata": [
          [
           19.61763693,
           26477574
          ],
          [
           19.17473208,
           14340567
          ],
          [
           21.04535251,
           7247327
          ],
          [
           18.79866817,
           2131571
          ],
          [
           17.3111646,
           3020038
          ],
          [
           18.67480153,
           7295850
          ],
          [
           17.66042712,
           5510624
          ],
          [
           17.8982664,
           1357682
          ],
          [
           17.74503716,
           1936134
          ],
          [
           18.03334044,
           7249573
          ],
          [
           18.24624346,
           2914070
          ],
          [
           16.76604717,
           1283880
          ],
          [
           17.91752278,
           6664225
          ],
          [
           17.99409688,
           5633444
          ],
          [
           17.62651421,
           1077426
          ],
          [
           18.24375196,
           1640691
          ],
          [
           18.25035574,
           1049757
          ],
          [
           17.36552634,
           442507
          ],
          [
           19.21318595,
           789557
          ],
          [
           18.91957173,
           484534
          ],
          [
           17.50993717,
           744253
          ],
          [
           18.51217534,
           448665
          ],
          [
           21.08743924,
           1066939
          ],
          [
           19.42689854,
           916111
          ],
          [
           17.44628825,
           1455549
          ],
          [
           14.87366884,
           23820
          ],
          [
           15.97371025,
           126278
          ],
          [
           17.59363088,
           343334
          ],
          [
           16.26562008,
           1798461
          ],
          [
           16.68585306,
           1083749
          ],
          [
           16.74812767,
           161480
          ],
          [
           16.6566263,
           1142410
          ],
          [
           18.44375647,
           644416
          ],
          [
           16.1279737,
           941063
          ],
          [
           16.27279152,
           578559
          ],
          [
           16.77238152,
           464952
          ],
          [
           16.19948244,
           209024
          ],
          [
           15.26725623,
           69104
          ],
          [
           16.06145345,
           88409
          ],
          [
           15.27755412,
           222435
          ],
          [
           16.10707515,
           58035
          ],
          [
           15.44604869,
           73391
          ],
          [
           16.13757538,
           302612
          ],
          [
           17.44905184,
           304001
          ],
          [
           15.58201085,
           4691
          ],
          [
           17.42400819,
           142270
          ],
          [
           18.65556675,
           194918
          ],
          [
           16.70118056,
           281588
          ],
          [
           15.97360361,
           320693
          ],
          [
           14.34706955,
           22413
          ],
          [
           16.10851066,
           200844
          ],
          [
           19.1440641,
           125473
          ],
          [
           14.9017918,
           102039
          ],
          [
           17.18751281,
           27737
          ],
          [
           15.41242964,
           310201
          ],
          [
           16.18659339,
           79880
          ],
          [
           17.4772331,
           165875
          ],
          [
           16.01344599,
           134945
          ],
          [
           17.25184806,
           29143
          ],
          [
           17.59630906,
           206429
          ],
          [
           18.56012597,
           77686
          ],
          [
           17.1631645,
           40840
          ],
          [
           15.21025983,
           129946
          ],
          [
           15.44359631,
           50352
          ],
          [
           17.32613614,
           31903
          ],
          [
           15.69102752,
           114922
          ],
          [
           16.13191719,
           59495
          ],
          [
           15.73310882,
           87503
          ],
          [
           14.86662585,
           54940
          ],
          [
           17.75260041,
           63333
          ],
          [
           17.80025043,
           59485
          ],
          [
           15.44502871,
           21522
          ],
          [
           15.57202326,
           113280
          ],
          [
           17.05418434,
           65029
          ],
          [
           15.68518756,
           71957
          ],
          [
           17.09438451,
           56606
          ],
          [
           15.78017657,
           42850
          ],
          [
           15.73616766,
           22983
          ],
          [
           15.00360243,
           70578
          ],
          [
           17.08805131,
           14220
          ],
          [
           15.5058355,
           47158
          ],
          [
           15.75402845,
           72850
          ],
          [
           15.74286198,
           29730
          ],
          [
           17.29261899,
           24012
          ],
          [
           14.54950213,
           74066
          ],
          [
           16.08354044,
           110142
          ],
          [
           17.59626861,
           102825
          ],
          [
           16.63354636,
           30320
          ],
          [
           15.52763465,
           58377
          ],
          [
           17.13661869,
           17744
          ],
          [
           16.15953083,
           44805
          ],
          [
           14.47446683,
           47571
          ],
          [
           15.22778158,
           28757
          ],
          [
           18.31043503,
           32040
          ],
          [
           16.39062287,
           7283
          ],
          [
           13.34706731,
           21907
          ],
          [
           16.72698889,
           26475
          ],
          [
           16.07075684,
           9730
          ],
          [
           14.87253667,
           31056
          ],
          [
           14.61559461,
           6877
          ],
          [
           16.24934608,
           23891
          ],
          [
           16.28518664,
           19025
          ],
          [
           13.20032762,
           3054
          ],
          [
           15.35230466,
           19810
          ],
          [
           15.51289396,
           6055
          ],
          [
           13.80344,
           8006
          ],
          [
           16.13820607,
           5653
          ],
          [
           14.7480352,
           6634
          ],
          [
           13.35039417,
           11356
          ],
          [
           18.06114425,
           11162
          ],
          [
           17.81205473,
           13973
          ],
          [
           16.51438055,
           15984
          ],
          [
           15.39030816,
           7108
          ],
          [
           16.24266591,
           16774
          ],
          [
           14.15411267,
           8947
          ],
          [
           14.54736486,
           22165
          ],
          [
           16.76676599,
           15480
          ],
          [
           15.70629361,
           16410
          ],
          [
           17.25770384,
           3396
          ],
          [
           16.5814031,
           15001
          ],
          [
           14.81698436,
           14345
          ],
          [
           15.52354271,
           9298
          ],
          [
           13.22850199,
           4749
          ],
          [
           17.63850561,
           3748
          ],
          [
           16.87952045,
           2108
          ],
          [
           14.09808385,
           11802
          ],
          [
           13.96407193,
           8179
          ],
          [
           15.199095,
           4013
          ],
          [
           12.74037063,
           1968
          ],
          [
           16.82370654,
           18813
          ],
          [
           16.37677691,
           1744
          ],
          [
           14.90109198,
           5653
          ],
          [
           13.28215639,
           6961
          ],
          [
           16.23086427,
           6063
          ],
          [
           14.49252734,
           4199
          ],
          [
           17.3079574,
           11820
          ],
          [
           15.89207108,
           10036
          ],
          [
           16.67774898,
           12098
          ],
          [
           14.45007584,
           5376
          ],
          [
           15.38874766,
           4145
          ],
          [
           12.99802163,
           2409
          ],
          [
           16.31063137,
           4374
          ],
          [
           15.06073864,
           6083
          ],
          [
           12.88219574,
           5998
          ],
          [
           13.68300607,
           3735
          ],
          [
           16.85541655,
           10248
          ],
          [
           14.69789863,
           7201
          ],
          [
           17.21088998,
           64304
          ],
          [
           14.15161916,
           4519
          ],
          [
           11.25499635,
           9850
          ],
          [
           11.5783948,
           1624
          ],
          [
           14.67061714,
           895
          ],
          [
           17.00213737,
           11676
          ],
          [
           15.92920098,
           4197
          ],
          [
           13.57542301,
           5783
          ],
          [
           12.03636915,
           2715
          ],
          [
           15.43641784,
           10087
          ],
          [
           16.61436742,
           12212
          ],
          [
           10.43229061,
           8596
          ],
          [
           18.39370601,
           2318
          ],
          [
           12.2975619,
           2198
          ],
          [
           14.57736817,
           2680
          ],
          [
           12.89325457,
           1613
          ],
          [
           11.55620524,
           1833
          ],
          [
           16.98590072,
           1423
          ],
          [
           12.54576825,
           260
          ],
          [
           17.9054155,
           3733
          ],
          [
           14.05591783,
           1988
          ],
          [
           11.52359831,
           5527
          ],
          [
           11.35078294,
           4310
          ],
          [
           10.79681667,
           0
          ],
          [
           13.67578287,
           920
          ],
          [
           11.11322372,
           2450
          ],
          [
           16.29127395,
           188
          ],
          [
           10.66620744,
           3146
          ],
          [
           10.42498602,
           0
          ],
          [
           10.56405989,
           476
          ],
          [
           15.00283311,
           0
          ],
          [
           15.08145118,
           0
          ],
          [
           16.63205462,
           0
          ],
          [
           16.00683186,
           417
          ],
          [
           11.09315857,
           213
          ],
          [
           12.98879313,
           475
          ],
          [
           11.03928322,
           1631
          ],
          [
           12.56852934,
           1321
          ],
          [
           13.55623711,
           0
          ],
          [
           10.57755385,
           192
          ],
          [
           10.54894022,
           198
          ],
          [
           12.00823128,
           207
          ],
          [
           11.49618614,
           0
          ],
          [
           11.49198779,
           568
          ],
          [
           11.61680789,
           0
          ],
          [
           10.96053104,
           396
          ],
          [
           10.1743159,
           48
          ],
          [
           13.7061911,
           132
          ],
          [
           14.09196129,
           0
          ],
          [
           10.31682162,
           183
          ],
          [
           12.56196578,
           0
          ],
          [
           11.63087738,
           0
          ],
          [
           12.1206727,
           0
          ],
          [
           15.80003079,
           0
          ],
          [
           11.18429639,
           0
          ],
          [
           10.88166329,
           0
          ],
          [
           10.94679853,
           0
          ],
          [
           8.15564927,
           0
          ],
          [
           6.695798917,
           0
          ],
          [
           8.516993171,
           177
          ],
          [
           9.615938805,
           0
          ],
          [
           13.43991197,
           0
          ],
          [
           15.8300119,
           0
          ]
         ],
         "hovertemplate": "Country=%{x}<br>Total Cases=%{y}<br>Population=%{customdata[0]}<br>Total Deaths=%{customdata[1]}<br>Stringency Index=%{marker.color}<extra></extra>",
         "legendgroup": "",
         "marker": {
          "color": [
           3.3509486690850343,
           3.136027957462585,
           3.6105521148129256,
           3.380088191482993,
           3.4301264381156464,
           3.0192894045204084,
           3.393922273142857,
           3.3643329908979593,
           3.3579230454251703,
           3.3538831399625852,
           3.207064113278912,
           2.989193634731293,
           3.629838088122449,
           3.3857936759115645,
           3.4754380163809526,
           3.28451614412585,
           3.0414184019965984,
           3.2633605816360545,
           3.38580207355102,
           3.186409532867346,
           3.6382597844795925,
           3.67810238272449,
           3.8925538979353735,
           3.6401493643061213,
           3.286389158969388,
           3.561580438853742,
           3.5793130338673467,
           3.0981180947312925,
           3.4200551236938774,
           3.4756814307823136,
           3.279181903081632,
           2.922922530493197,
           3.079215255792518,
           2.75164141155102,
           3.2593630045034017,
           3.3440225178673466,
           3.329886860812925,
           3.6756516780068034,
           1.7777885856122446,
           3.347952237411565,
           3.2094847001292517,
           3.730139465272109,
           3.266071855346939,
           2.854065180411564,
           3.7307369099183667,
           3.2886413599217685,
           3.178413736503401,
           3.4795448106666664,
           3.12802378279932,
           3.672654081911565,
           3.310703392435374,
           3.504160797792516,
           0,
           3.677210356482993,
           3.3750440923061227,
           3.2069219557006803,
           3.0496734543605446,
           2.999125721982993,
           2.845124538520408,
           3.195168482772109,
           3.106953683829932,
           3.235751674234694,
           2.9956552940374146,
           3.052990643608844,
           3.130970957227891,
           3.1833747295,
           3.5610048554761904,
           3.0738407065272106,
           3.0402436258537415,
           3.422536914673469,
           3.332929539568027,
           3.2563697529931965,
           3.069241891969387,
           3.6220902177993195,
           3.228307817353741,
           2.9765738832653064,
           3.171279047295919,
           3.4019439833571425,
           3.0345279388299318,
           2.8512348956428575,
           3.1960380252551017,
           2.8532486089081637,
           3.411850270965986,
           3.6216474627346935,
           0,
           3.01363418397619,
           3.196909016653061,
           2.66599380340136,
           3.101641431479592,
           2.957421466741496,
           3.1346855279761905,
           3.1763816652925168,
           3.1440618902551023,
           3.0745801085034015,
           3.0001857734659865,
           2.905672398506803,
           2.645104184595238,
           2.240074461547619,
           3.0056236545748294,
           3.1221241128979584,
           2.7754449377074826,
           2.8630195453367344,
           0,
           2.6605094333877557,
           2.8965280817040817,
           2.910019280119047,
           3.179010039955782,
           2.996030525765306,
           0,
           3.060495103527211,
           3.1433438754523806,
           3.1611319515748297,
           2.9648505104047618,
           3.1526094456394556,
           0,
           3.0012790250646257,
           2.7483170985986396,
           1.7787903315544213,
           2.8819963542414953,
           2.5585456688027213,
           2.79028876255102,
           3.029772100969388,
           2.988857297673469,
           3.177188289904762,
           3.2125340412482988,
           2.5380262833979588,
           3.061297157204082,
           3.6389395285034007,
           3.174260733585034,
           2.7711030407380943,
           3.0920467206394555,
           3.239694818312925,
           3.167167094068027,
           2.71822275794898,
           0,
           2.965559714153062,
           2.5651667428537417,
           2.829461847836735,
           3.0254631613775507,
           3.233197103585034,
           0,
           2.7188522499115644,
           2.777736691469387,
           0,
           3.110623018248299,
           2.8844738915544217,
           3.1054073187108853,
           2.3695679034965984,
           3.0174295116428564,
           2.6776539695340142,
           2.7689076071326535,
           2.8325677352210885,
           2.2517598853673464,
           2.9374114366496604,
           3.139448600384354,
           2.8180347343673473,
           3.148329587809524,
           2.983968134125851,
           3.080051874061225,
           3.710868429755102,
           0,
           2.2233248549795923,
           2.8959699335272107,
           0,
           2.963287182741497,
           0,
           2.402485587190476,
           2.5070728676870746,
           0,
           0,
           0,
           0,
           0,
           1.689712130088435,
           0,
           2.2786489774285714,
           2.2971052494115645,
           3.0700195609013603,
           3.2501682509489793,
           2.875571929306122,
           2.67551761532653,
           1.5389167769829932,
           2.8664489886020412,
           2.846286835465986,
           2.9471776484217687,
           3.187371286312924,
           0,
           0,
           0,
           2.5486704868707477,
           0,
           0,
           0,
           0,
           3.427270103061224,
           2.5767618823639458,
           2.2406592542244894,
           0,
           0,
           0,
           2.516711985833333,
           2.6819666489727885,
           0,
           2.5884353651666667,
           2.1229575531768705,
           0,
           2.477076521632654,
           2.3261806732925168,
           0,
           0.6439803426292516
          ],
          "coloraxis": "coloraxis",
          "pattern": {
           "shape": ""
          }
         },
         "name": "",
         "offsetgroup": "",
         "orientation": "v",
         "showlegend": false,
         "textposition": "auto",
         "type": "bar",
         "x": [
          "United States",
          "Brazil",
          "India",
          "Russia",
          "Peru",
          "Mexico",
          "Spain",
          "South Africa",
          "Colombia",
          "United Kingdom",
          "Iran",
          "Chile",
          "Italy",
          "France",
          "Argentina",
          "Germany",
          "Turkey",
          "Saudi Arabia",
          "Pakistan",
          "Bangladesh",
          "Iraq",
          "Philippines",
          "China",
          "Indonesia",
          "Canada",
          "Qatar",
          "Israel",
          "Ukraine",
          "Belgium",
          "Ecuador",
          "Kazakhstan",
          "Netherlands",
          "Egypt",
          "Sweden",
          "Bolivia",
          "Romania",
          "Dominican Republic",
          "Kuwait",
          "Belarus",
          "Panama",
          "United Arab Emirates",
          "Oman",
          "Portugal",
          "Poland",
          "Singapore",
          "Morocco",
          "Japan",
          "Guatemala",
          "Switzerland",
          "Bahrain",
          "Honduras",
          "Nigeria",
          "Armenia",
          "Nepal",
          "Ireland",
          "Czech Republic",
          "Afghanistan",
          "Austria",
          "Ghana",
          "Algeria",
          "Ethiopia",
          "Venezuela",
          "Moldova",
          "Costa Rica",
          "Uzbekistan",
          "Kyrgyzstan",
          "Azerbaijan",
          "Serbia",
          "Puerto Rico",
          "South Korea",
          "Kenya",
          "Palestine",
          "Denmark",
          "Australia",
          "El Salvador",
          "Cameroon",
          "Paraguay",
          "Lebanon",
          "Bosnia and Herzegovina",
          "Cote d'Ivoire",
          "Norway",
          "Bulgaria",
          "Libya",
          "Malaysia",
          "Macedonia",
          "Hungary",
          "Sudan",
          "Senegal",
          "Finland",
          "Madagascar",
          "Greece",
          "Kosovo",
          "Croatia",
          "Democratic Republic of Congo",
          "Guinea",
          "Luxembourg",
          "Zambia",
          "Tajikistan",
          "Albania",
          "Gabon",
          "Haiti",
          "Tunisia",
          "Maldives",
          "Mauritania",
          "Slovakia",
          "Djibouti",
          "Jordan",
          "Namibia",
          "Montenegro",
          "Thailand",
          "Myanmar",
          "Zimbabwe",
          "Central African Republic",
          "Cuba",
          "Equatorial Guinea",
          "Slovenia",
          "Malawi",
          "Nicaragua",
          "Mozambique",
          "Somalia",
          "Lithuania",
          "Congo",
          "Cape Verde",
          "Uganda",
          "Sri Lanka",
          "Estonia",
          "Swaziland",
          "Georgia",
          "Iceland",
          "Mali",
          "Rwanda",
          "Jamaica",
          "Suriname",
          "South Sudan",
          "Guinea-Bissau",
          "Angola",
          "Sierra Leone",
          "Syria",
          "Latvia",
          "New Zealand",
          "Malta",
          "Benin",
          "Uruguay",
          "Bahamas",
          "Cyprus",
          "Burkina Faso",
          "Gambia",
          "Yemen",
          "Trinidad and Tobago",
          "Andorra",
          "Aruba",
          "Botswana",
          "Niger",
          "Togo",
          "Guyana",
          "Guam",
          "Liberia",
          "Chad",
          "San Marino",
          "Vietnam",
          "Sao Tome and Principe",
          "Lesotho",
          "Belize",
          "United States Virgin Islands",
          "Taiwan",
          "French Polynesia",
          "Tanzania",
          "Mauritius",
          "Jersey",
          "Isle of Man",
          "Faeroe Islands",
          "Comoros",
          "Guernsey",
          "Burundi",
          "Sint Maarten (Dutch part)",
          "Gibraltar",
          "Turks and Caicos Islands",
          "Mongolia",
          "Eritrea",
          "Cambodia",
          "Papua New Guinea",
          "Cayman Islands",
          "Brunei",
          "Bermuda",
          "Barbados",
          "Bhutan",
          "Monaco",
          "Liechtenstein",
          "Curacao",
          "Seychelles",
          "Antigua and Barbuda",
          "Saint Vincent and the Grenadines",
          "Northern Mariana Islands",
          "Bonaire Sint Eustatius and Saba",
          "Fiji",
          "Timor",
          "British Virgin Islands",
          "New Caledonia",
          "Grenada",
          "Saint Lucia",
          "Laos",
          "Dominica",
          "Saint Kitts and Nevis",
          "Greenland",
          "Falkland Islands",
          "Vatican",
          "Montserrat",
          "Anguilla",
          "Solomon Islands",
          "Hong Kong"
         ],
         "xaxis": "x",
         "y": [
          746014098,
          425704517,
          407771615,
          132888951,
          74882695,
          74347548,
          73717676,
          63027659,
          60543682,
          59475032,
          52421884,
          51268034,
          50752853,
          50084335,
          47155234,
          42447678,
          41431948,
          38585191,
          37738077,
          35266178,
          25280332,
          22409936,
          21632319,
          21570149,
          20902374,
          16351440,
          16202474,
          15805665,
          15192468,
          14408757,
          13194863,
          13026629,
          12422845,
          11910109,
          11858838,
          10672859,
          10649646,
          10622205,
          10595186,
          10371724,
          10247326,
          10060093,
          9266263,
          9239657,
          8191161,
          7839270,
          7659484,
          7644426,
          7552067,
          6549995,
          6545499,
          6107371,
          5474629,
          5243653,
          5239798,
          5213980,
          5126433,
          4909197,
          4900649,
          4893999,
          4876417,
          4839834,
          4632482,
          4631835,
          4421215,
          4287847,
          4236782,
          3984174,
          3586463,
          3333075,
          3277734,
          3249458,
          3030088,
          3012377,
          2573206,
          2476502,
          2265640,
          2220699,
          2200057,
          2132883,
          1985889,
          1890380,
          1817274,
          1774181,
          1724220,
          1708798,
          1663545,
          1586747,
          1458484,
          1443321,
          1421470,
          1345940,
          1314031,
          1271391,
          1195836,
          1146724,
          1129913,
          1117391,
          1071951,
          1031803,
          1023155,
          1000626,
          844040,
          799222,
          798665,
          781771,
          716514,
          681299,
          675912,
          655703,
          644209,
          593699,
          593048,
          581546,
          557355,
          547075,
          536447,
          524410,
          510578,
          491145,
          488057,
          473368,
          463888,
          448728,
          446643,
          445402,
          444238,
          431689,
          421210,
          390637,
          388775,
          370890,
          358632,
          333500,
          306564,
          304005,
          268396,
          267902,
          255964,
          253203,
          251261,
          245893,
          239884,
          237908,
          236673,
          231452,
          229521,
          228925,
          225550,
          223576,
          215110,
          205758,
          199978,
          169903,
          166917,
          160975,
          159880,
          154173,
          134994,
          122618,
          121909,
          107948,
          106383,
          98536,
          97074,
          95388,
          91526,
          69524,
          66777,
          64935,
          56893,
          52437,
          49814,
          49745,
          48026,
          45340,
          44432,
          42465,
          40026,
          39539,
          35966,
          33173,
          30140,
          28876,
          24998,
          22847,
          21511,
          19885,
          19777,
          14701,
          12619,
          7824,
          7784,
          5080,
          4742,
          4697,
          4605,
          4495,
          4470,
          4450,
          4039,
          3977,
          3246,
          2678,
          2467,
          2415,
          2383,
          614,
          11,
          0
         ],
         "yaxis": "y"
        }
       ],
       "layout": {
        "barmode": "relative",
        "coloraxis": {
         "colorbar": {
          "title": {
           "text": "Stringency Index"
          }
         },
         "colorscale": [
          [
           0,
           "#0d0887"
          ],
          [
           0.1111111111111111,
           "#46039f"
          ],
          [
           0.2222222222222222,
           "#7201a8"
          ],
          [
           0.3333333333333333,
           "#9c179e"
          ],
          [
           0.4444444444444444,
           "#bd3786"
          ],
          [
           0.5555555555555556,
           "#d8576b"
          ],
          [
           0.6666666666666666,
           "#ed7953"
          ],
          [
           0.7777777777777778,
           "#fb9f3a"
          ],
          [
           0.8888888888888888,
           "#fdca26"
          ],
          [
           1,
           "#f0f921"
          ]
         ]
        },
        "height": 400,
        "legend": {
         "tracegroupgap": 0
        },
        "template": {
         "data": {
          "bar": [
           {
            "error_x": {
             "color": "#2a3f5f"
            },
            "error_y": {
             "color": "#2a3f5f"
            },
            "marker": {
             "line": {
              "color": "#E5ECF6",
              "width": 0.5
             },
             "pattern": {
              "fillmode": "overlay",
              "size": 10,
              "solidity": 0.2
             }
            },
            "type": "bar"
           }
          ],
          "barpolar": [
           {
            "marker": {
             "line": {
              "color": "#E5ECF6",
              "width": 0.5
             },
             "pattern": {
              "fillmode": "overlay",
              "size": 10,
              "solidity": 0.2
             }
            },
            "type": "barpolar"
           }
          ],
          "carpet": [
           {
            "aaxis": {
             "endlinecolor": "#2a3f5f",
             "gridcolor": "white",
             "linecolor": "white",
             "minorgridcolor": "white",
             "startlinecolor": "#2a3f5f"
            },
            "baxis": {
             "endlinecolor": "#2a3f5f",
             "gridcolor": "white",
             "linecolor": "white",
             "minorgridcolor": "white",
             "startlinecolor": "#2a3f5f"
            },
            "type": "carpet"
           }
          ],
          "choropleth": [
           {
            "colorbar": {
             "outlinewidth": 0,
             "ticks": ""
            },
            "type": "choropleth"
           }
          ],
          "contour": [
           {
            "colorbar": {
             "outlinewidth": 0,
             "ticks": ""
            },
            "colorscale": [
             [
              0,
              "#0d0887"
             ],
             [
              0.1111111111111111,
              "#46039f"
             ],
             [
              0.2222222222222222,
              "#7201a8"
             ],
             [
              0.3333333333333333,
              "#9c179e"
             ],
             [
              0.4444444444444444,
              "#bd3786"
             ],
             [
              0.5555555555555556,
              "#d8576b"
             ],
             [
              0.6666666666666666,
              "#ed7953"
             ],
             [
              0.7777777777777778,
              "#fb9f3a"
             ],
             [
              0.8888888888888888,
              "#fdca26"
             ],
             [
              1,
              "#f0f921"
             ]
            ],
            "type": "contour"
           }
          ],
          "contourcarpet": [
           {
            "colorbar": {
             "outlinewidth": 0,
             "ticks": ""
            },
            "type": "contourcarpet"
           }
          ],
          "heatmap": [
           {
            "colorbar": {
             "outlinewidth": 0,
             "ticks": ""
            },
            "colorscale": [
             [
              0,
              "#0d0887"
             ],
             [
              0.1111111111111111,
              "#46039f"
             ],
             [
              0.2222222222222222,
              "#7201a8"
             ],
             [
              0.3333333333333333,
              "#9c179e"
             ],
             [
              0.4444444444444444,
              "#bd3786"
             ],
             [
              0.5555555555555556,
              "#d8576b"
             ],
             [
              0.6666666666666666,
              "#ed7953"
             ],
             [
              0.7777777777777778,
              "#fb9f3a"
             ],
             [
              0.8888888888888888,
              "#fdca26"
             ],
             [
              1,
              "#f0f921"
             ]
            ],
            "type": "heatmap"
           }
          ],
          "heatmapgl": [
           {
            "colorbar": {
             "outlinewidth": 0,
             "ticks": ""
            },
            "colorscale": [
             [
              0,
              "#0d0887"
             ],
             [
              0.1111111111111111,
              "#46039f"
             ],
             [
              0.2222222222222222,
              "#7201a8"
             ],
             [
              0.3333333333333333,
              "#9c179e"
             ],
             [
              0.4444444444444444,
              "#bd3786"
             ],
             [
              0.5555555555555556,
              "#d8576b"
             ],
             [
              0.6666666666666666,
              "#ed7953"
             ],
             [
              0.7777777777777778,
              "#fb9f3a"
             ],
             [
              0.8888888888888888,
              "#fdca26"
             ],
             [
              1,
              "#f0f921"
             ]
            ],
            "type": "heatmapgl"
           }
          ],
          "histogram": [
           {
            "marker": {
             "pattern": {
              "fillmode": "overlay",
              "size": 10,
              "solidity": 0.2
             }
            },
            "type": "histogram"
           }
          ],
          "histogram2d": [
           {
            "colorbar": {
             "outlinewidth": 0,
             "ticks": ""
            },
            "colorscale": [
             [
              0,
              "#0d0887"
             ],
             [
              0.1111111111111111,
              "#46039f"
             ],
             [
              0.2222222222222222,
              "#7201a8"
             ],
             [
              0.3333333333333333,
              "#9c179e"
             ],
             [
              0.4444444444444444,
              "#bd3786"
             ],
             [
              0.5555555555555556,
              "#d8576b"
             ],
             [
              0.6666666666666666,
              "#ed7953"
             ],
             [
              0.7777777777777778,
              "#fb9f3a"
             ],
             [
              0.8888888888888888,
              "#fdca26"
             ],
             [
              1,
              "#f0f921"
             ]
            ],
            "type": "histogram2d"
           }
          ],
          "histogram2dcontour": [
           {
            "colorbar": {
             "outlinewidth": 0,
             "ticks": ""
            },
            "colorscale": [
             [
              0,
              "#0d0887"
             ],
             [
              0.1111111111111111,
              "#46039f"
             ],
             [
              0.2222222222222222,
              "#7201a8"
             ],
             [
              0.3333333333333333,
              "#9c179e"
             ],
             [
              0.4444444444444444,
              "#bd3786"
             ],
             [
              0.5555555555555556,
              "#d8576b"
             ],
             [
              0.6666666666666666,
              "#ed7953"
             ],
             [
              0.7777777777777778,
              "#fb9f3a"
             ],
             [
              0.8888888888888888,
              "#fdca26"
             ],
             [
              1,
              "#f0f921"
             ]
            ],
            "type": "histogram2dcontour"
           }
          ],
          "mesh3d": [
           {
            "colorbar": {
             "outlinewidth": 0,
             "ticks": ""
            },
            "type": "mesh3d"
           }
          ],
          "parcoords": [
           {
            "line": {
             "colorbar": {
              "outlinewidth": 0,
              "ticks": ""
             }
            },
            "type": "parcoords"
           }
          ],
          "pie": [
           {
            "automargin": true,
            "type": "pie"
           }
          ],
          "scatter": [
           {
            "fillpattern": {
             "fillmode": "overlay",
             "size": 10,
             "solidity": 0.2
            },
            "type": "scatter"
           }
          ],
          "scatter3d": [
           {
            "line": {
             "colorbar": {
              "outlinewidth": 0,
              "ticks": ""
             }
            },
            "marker": {
             "colorbar": {
              "outlinewidth": 0,
              "ticks": ""
             }
            },
            "type": "scatter3d"
           }
          ],
          "scattercarpet": [
           {
            "marker": {
             "colorbar": {
              "outlinewidth": 0,
              "ticks": ""
             }
            },
            "type": "scattercarpet"
           }
          ],
          "scattergeo": [
           {
            "marker": {
             "colorbar": {
              "outlinewidth": 0,
              "ticks": ""
             }
            },
            "type": "scattergeo"
           }
          ],
          "scattergl": [
           {
            "marker": {
             "colorbar": {
              "outlinewidth": 0,
              "ticks": ""
             }
            },
            "type": "scattergl"
           }
          ],
          "scattermapbox": [
           {
            "marker": {
             "colorbar": {
              "outlinewidth": 0,
              "ticks": ""
             }
            },
            "type": "scattermapbox"
           }
          ],
          "scatterpolar": [
           {
            "marker": {
             "colorbar": {
              "outlinewidth": 0,
              "ticks": ""
             }
            },
            "type": "scatterpolar"
           }
          ],
          "scatterpolargl": [
           {
            "marker": {
             "colorbar": {
              "outlinewidth": 0,
              "ticks": ""
             }
            },
            "type": "scatterpolargl"
           }
          ],
          "scatterternary": [
           {
            "marker": {
             "colorbar": {
              "outlinewidth": 0,
              "ticks": ""
             }
            },
            "type": "scatterternary"
           }
          ],
          "surface": [
           {
            "colorbar": {
             "outlinewidth": 0,
             "ticks": ""
            },
            "colorscale": [
             [
              0,
              "#0d0887"
             ],
             [
              0.1111111111111111,
              "#46039f"
             ],
             [
              0.2222222222222222,
              "#7201a8"
             ],
             [
              0.3333333333333333,
              "#9c179e"
             ],
             [
              0.4444444444444444,
              "#bd3786"
             ],
             [
              0.5555555555555556,
              "#d8576b"
             ],
             [
              0.6666666666666666,
              "#ed7953"
             ],
             [
              0.7777777777777778,
              "#fb9f3a"
             ],
             [
              0.8888888888888888,
              "#fdca26"
             ],
             [
              1,
              "#f0f921"
             ]
            ],
            "type": "surface"
           }
          ],
          "table": [
           {
            "cells": {
             "fill": {
              "color": "#EBF0F8"
             },
             "line": {
              "color": "white"
             }
            },
            "header": {
             "fill": {
              "color": "#C8D4E3"
             },
             "line": {
              "color": "white"
             }
            },
            "type": "table"
           }
          ]
         },
         "layout": {
          "annotationdefaults": {
           "arrowcolor": "#2a3f5f",
           "arrowhead": 0,
           "arrowwidth": 1
          },
          "autotypenumbers": "strict",
          "coloraxis": {
           "colorbar": {
            "outlinewidth": 0,
            "ticks": ""
           }
          },
          "colorscale": {
           "diverging": [
            [
             0,
             "#8e0152"
            ],
            [
             0.1,
             "#c51b7d"
            ],
            [
             0.2,
             "#de77ae"
            ],
            [
             0.3,
             "#f1b6da"
            ],
            [
             0.4,
             "#fde0ef"
            ],
            [
             0.5,
             "#f7f7f7"
            ],
            [
             0.6,
             "#e6f5d0"
            ],
            [
             0.7,
             "#b8e186"
            ],
            [
             0.8,
             "#7fbc41"
            ],
            [
             0.9,
             "#4d9221"
            ],
            [
             1,
             "#276419"
            ]
           ],
           "sequential": [
            [
             0,
             "#0d0887"
            ],
            [
             0.1111111111111111,
             "#46039f"
            ],
            [
             0.2222222222222222,
             "#7201a8"
            ],
            [
             0.3333333333333333,
             "#9c179e"
            ],
            [
             0.4444444444444444,
             "#bd3786"
            ],
            [
             0.5555555555555556,
             "#d8576b"
            ],
            [
             0.6666666666666666,
             "#ed7953"
            ],
            [
             0.7777777777777778,
             "#fb9f3a"
            ],
            [
             0.8888888888888888,
             "#fdca26"
            ],
            [
             1,
             "#f0f921"
            ]
           ],
           "sequentialminus": [
            [
             0,
             "#0d0887"
            ],
            [
             0.1111111111111111,
             "#46039f"
            ],
            [
             0.2222222222222222,
             "#7201a8"
            ],
            [
             0.3333333333333333,
             "#9c179e"
            ],
            [
             0.4444444444444444,
             "#bd3786"
            ],
            [
             0.5555555555555556,
             "#d8576b"
            ],
            [
             0.6666666666666666,
             "#ed7953"
            ],
            [
             0.7777777777777778,
             "#fb9f3a"
            ],
            [
             0.8888888888888888,
             "#fdca26"
            ],
            [
             1,
             "#f0f921"
            ]
           ]
          },
          "colorway": [
           "#636efa",
           "#EF553B",
           "#00cc96",
           "#ab63fa",
           "#FFA15A",
           "#19d3f3",
           "#FF6692",
           "#B6E880",
           "#FF97FF",
           "#FECB52"
          ],
          "font": {
           "color": "#2a3f5f"
          },
          "geo": {
           "bgcolor": "white",
           "lakecolor": "white",
           "landcolor": "#E5ECF6",
           "showlakes": true,
           "showland": true,
           "subunitcolor": "white"
          },
          "hoverlabel": {
           "align": "left"
          },
          "hovermode": "closest",
          "mapbox": {
           "style": "light"
          },
          "paper_bgcolor": "white",
          "plot_bgcolor": "#E5ECF6",
          "polar": {
           "angularaxis": {
            "gridcolor": "white",
            "linecolor": "white",
            "ticks": ""
           },
           "bgcolor": "#E5ECF6",
           "radialaxis": {
            "gridcolor": "white",
            "linecolor": "white",
            "ticks": ""
           }
          },
          "scene": {
           "xaxis": {
            "backgroundcolor": "#E5ECF6",
            "gridcolor": "white",
            "gridwidth": 2,
            "linecolor": "white",
            "showbackground": true,
            "ticks": "",
            "zerolinecolor": "white"
           },
           "yaxis": {
            "backgroundcolor": "#E5ECF6",
            "gridcolor": "white",
            "gridwidth": 2,
            "linecolor": "white",
            "showbackground": true,
            "ticks": "",
            "zerolinecolor": "white"
           },
           "zaxis": {
            "backgroundcolor": "#E5ECF6",
            "gridcolor": "white",
            "gridwidth": 2,
            "linecolor": "white",
            "showbackground": true,
            "ticks": "",
            "zerolinecolor": "white"
           }
          },
          "shapedefaults": {
           "line": {
            "color": "#2a3f5f"
           }
          },
          "ternary": {
           "aaxis": {
            "gridcolor": "white",
            "linecolor": "white",
            "ticks": ""
           },
           "baxis": {
            "gridcolor": "white",
            "linecolor": "white",
            "ticks": ""
           },
           "bgcolor": "#E5ECF6",
           "caxis": {
            "gridcolor": "white",
            "linecolor": "white",
            "ticks": ""
           }
          },
          "title": {
           "x": 0.05
          },
          "xaxis": {
           "automargin": true,
           "gridcolor": "white",
           "linecolor": "white",
           "ticks": "",
           "title": {
            "standoff": 15
           },
           "zerolinecolor": "white",
           "zerolinewidth": 2
          },
          "yaxis": {
           "automargin": true,
           "gridcolor": "white",
           "linecolor": "white",
           "ticks": "",
           "title": {
            "standoff": 15
           },
           "zerolinecolor": "white",
           "zerolinewidth": 2
          }
         }
        },
        "title": {
         "text": "Stringency Index during Covid-19"
        },
        "xaxis": {
         "anchor": "y",
         "domain": [
          0,
          1
         ],
         "title": {
          "text": "Country"
         }
        },
        "yaxis": {
         "anchor": "x",
         "domain": [
          0,
          1
         ],
         "title": {
          "text": "Total Cases"
         }
        }
       }
      },
      "text/html": [
       "<div>                            <div id=\"a11839ee-8717-4ed5-bcd0-101072996cc2\" class=\"plotly-graph-div\" style=\"height:400px; width:100%;\"></div>            <script type=\"text/javascript\">                require([\"plotly\"], function(Plotly) {                    window.PLOTLYENV=window.PLOTLYENV || {};                                    if (document.getElementById(\"a11839ee-8717-4ed5-bcd0-101072996cc2\")) {                    Plotly.newPlot(                        \"a11839ee-8717-4ed5-bcd0-101072996cc2\",                        [{\"alignmentgroup\":\"True\",\"customdata\":[[19.61763693,26477574.0],[19.17473208,14340567.0],[21.04535251,7247327.0],[18.79866817,2131571.0],[17.3111646,3020038.0],[18.67480153,7295850.0],[17.66042712,5510624.0],[17.8982664,1357682.0],[17.74503716,1936134.0],[18.03334044,7249573.0],[18.24624346,2914070.0],[16.76604717,1283880.0],[17.91752278,6664225.0],[17.99409688,5633444.0],[17.62651421,1077426.0],[18.24375196,1640691.0],[18.25035574,1049757.0],[17.36552634,442507.0],[19.21318595,789557.0],[18.91957173,484534.0],[17.50993717,744253.0],[18.51217534,448665.0],[21.08743924,1066939.0],[19.42689854,916111.0],[17.44628825,1455549.0],[14.87366884,23820.0],[15.97371025,126278.0],[17.59363088,343334.0],[16.26562008,1798461.0],[16.68585306,1083749.0],[16.74812767,161480.0],[16.6566263,1142410.0],[18.44375647,644416.0],[16.1279737,941063.0],[16.27279152,578559.0],[16.77238152,464952.0],[16.19948244,209024.0],[15.26725623,69104.0],[16.06145345,88409.0],[15.27755412,222435.0],[16.10707515,58035.0],[15.44604869,73391.0],[16.13757538,302612.0],[17.44905184,304001.0],[15.58201085,4691.0],[17.42400819,142270.0],[18.65556675,194918.0],[16.70118056,281588.0],[15.97360361,320693.0],[14.34706955,22413.0],[16.10851066,200844.0],[19.1440641,125473.0],[14.9017918,102039.0],[17.18751281,27737.0],[15.41242964,310201.0],[16.18659339,79880.0],[17.4772331,165875.0],[16.01344599,134945.0],[17.25184806,29143.0],[17.59630906,206429.0],[18.56012597,77686.0],[17.1631645,40840.0],[15.21025983,129946.0],[15.44359631,50352.0],[17.32613614,31903.0],[15.69102752,114922.0],[16.13191719,59495.0],[15.73310882,87503.0],[14.86662585,54940.0],[17.75260041,63333.0],[17.80025043,59485.0],[15.44502871,21522.0],[15.57202326,113280.0],[17.05418434,65029.0],[15.68518756,71957.0],[17.09438451,56606.0],[15.78017657,42850.0],[15.73616766,22983.0],[15.00360243,70578.0],[17.08805131,14220.0],[15.5058355,47158.0],[15.75402845,72850.0],[15.74286198,29730.0],[17.29261899,24012.0],[14.54950213,74066.0],[16.08354044,110142.0],[17.59626861,102825.0],[16.63354636,30320.0],[15.52763465,58377.0],[17.13661869,17744.0],[16.15953083,44805.0],[14.47446683,47571.0],[15.22778158,28757.0],[18.31043503,32040.0],[16.39062287,7283.0],[13.34706731,21907.0],[16.72698889,26475.0],[16.07075684,9730.0],[14.87253667,31056.0],[14.61559461,6877.0],[16.24934608,23891.0],[16.28518664,19025.0],[13.20032762,3054.0],[15.35230466,19810.0],[15.51289396,6055.0],[13.80344,8006.0],[16.13820607,5653.0],[14.7480352,6634.0],[13.35039417,11356.0],[18.06114425,11162.0],[17.81205473,13973.0],[16.51438055,15984.0],[15.39030816,7108.0],[16.24266591,16774.0],[14.15411267,8947.0],[14.54736486,22165.0],[16.76676599,15480.0],[15.70629361,16410.0],[17.25770384,3396.0],[16.5814031,15001.0],[14.81698436,14345.0],[15.52354271,9298.0],[13.22850199,4749.0],[17.63850561,3748.0],[16.87952045,2108.0],[14.09808385,11802.0],[13.96407193,8179.0],[15.199095,4013.0],[12.74037063,1968.0],[16.82370654,18813.0],[16.37677691,1744.0],[14.90109198,5653.0],[13.28215639,6961.0],[16.23086427,6063.0],[14.49252734,4199.0],[17.3079574,11820.0],[15.89207108,10036.0],[16.67774898,12098.0],[14.45007584,5376.0],[15.38874766,4145.0],[12.99802163,2409.0],[16.31063137,4374.0],[15.06073864,6083.0],[12.88219574,5998.0],[13.68300607,3735.0],[16.85541655,10248.0],[14.69789863,7201.0],[17.21088998,64304.0],[14.15161916,4519.0],[11.25499635,9850.0],[11.5783948,1624.0],[14.67061714,895.0],[17.00213737,11676.0],[15.92920098,4197.0],[13.57542301,5783.0],[12.03636915,2715.0],[15.43641784,10087.0],[16.61436742,12212.0],[10.43229061,8596.0],[18.39370601,2318.0],[12.2975619,2198.0],[14.57736817,2680.0],[12.89325457,1613.0],[11.55620524,1833.0],[16.98590072,1423.0],[12.54576825,260.0],[17.9054155,3733.0],[14.05591783,1988.0],[11.52359831,5527.0],[11.35078294,4310.0],[10.79681667,0.0],[13.67578287,920.0],[11.11322372,2450.0],[16.29127395,188.0],[10.66620744,3146.0],[10.42498602,0.0],[10.56405989,476.0],[15.00283311,0.0],[15.08145118,0.0],[16.63205462,0.0],[16.00683186,417.0],[11.09315857,213.0],[12.98879313,475.0],[11.03928322,1631.0],[12.56852934,1321.0],[13.55623711,0.0],[10.57755385,192.0],[10.54894022,198.0],[12.00823128,207.0],[11.49618614,0.0],[11.49198779,568.0],[11.61680789,0.0],[10.96053104,396.0],[10.1743159,48.0],[13.7061911,132.0],[14.09196129,0.0],[10.31682162,183.0],[12.56196578,0.0],[11.63087738,0.0],[12.1206727,0.0],[15.80003079,0.0],[11.18429639,0.0],[10.88166329,0.0],[10.94679853,0.0],[8.15564927,0.0],[6.695798917,0.0],[8.516993171,177.0],[9.615938805,0.0],[13.43991197,0.0],[15.8300119,0.0]],\"hovertemplate\":\"Country=%{x}<br>Total Cases=%{y}<br>Population=%{customdata[0]}<br>Total Deaths=%{customdata[1]}<br>Stringency Index=%{marker.color}<extra></extra>\",\"legendgroup\":\"\",\"marker\":{\"color\":[3.3509486690850343,3.136027957462585,3.6105521148129256,3.380088191482993,3.4301264381156464,3.0192894045204084,3.393922273142857,3.3643329908979593,3.3579230454251703,3.3538831399625852,3.207064113278912,2.989193634731293,3.629838088122449,3.3857936759115645,3.4754380163809526,3.28451614412585,3.0414184019965984,3.2633605816360545,3.38580207355102,3.186409532867346,3.6382597844795925,3.67810238272449,3.8925538979353735,3.6401493643061213,3.286389158969388,3.561580438853742,3.5793130338673467,3.0981180947312925,3.4200551236938774,3.4756814307823136,3.279181903081632,2.922922530493197,3.079215255792518,2.75164141155102,3.2593630045034017,3.3440225178673466,3.329886860812925,3.6756516780068034,1.7777885856122446,3.347952237411565,3.2094847001292517,3.730139465272109,3.266071855346939,2.854065180411564,3.7307369099183667,3.2886413599217685,3.178413736503401,3.4795448106666664,3.12802378279932,3.672654081911565,3.310703392435374,3.504160797792516,0.0,3.677210356482993,3.3750440923061227,3.2069219557006803,3.0496734543605446,2.999125721982993,2.845124538520408,3.195168482772109,3.106953683829932,3.235751674234694,2.9956552940374146,3.052990643608844,3.130970957227891,3.1833747295,3.5610048554761904,3.0738407065272106,3.0402436258537415,3.422536914673469,3.332929539568027,3.2563697529931965,3.069241891969387,3.6220902177993195,3.228307817353741,2.9765738832653064,3.171279047295919,3.4019439833571425,3.0345279388299318,2.8512348956428575,3.1960380252551017,2.8532486089081637,3.411850270965986,3.6216474627346935,0.0,3.01363418397619,3.196909016653061,2.66599380340136,3.101641431479592,2.957421466741496,3.1346855279761905,3.1763816652925168,3.1440618902551023,3.0745801085034015,3.0001857734659865,2.905672398506803,2.645104184595238,2.240074461547619,3.0056236545748294,3.1221241128979584,2.7754449377074826,2.8630195453367344,0.0,2.6605094333877557,2.8965280817040817,2.910019280119047,3.179010039955782,2.996030525765306,0.0,3.060495103527211,3.1433438754523806,3.1611319515748297,2.9648505104047618,3.1526094456394556,0.0,3.0012790250646257,2.7483170985986396,1.7787903315544213,2.8819963542414953,2.5585456688027213,2.79028876255102,3.029772100969388,2.988857297673469,3.177188289904762,3.2125340412482988,2.5380262833979588,3.061297157204082,3.6389395285034007,3.174260733585034,2.7711030407380943,3.0920467206394555,3.239694818312925,3.167167094068027,2.71822275794898,0.0,2.965559714153062,2.5651667428537417,2.829461847836735,3.0254631613775507,3.233197103585034,0.0,2.7188522499115644,2.777736691469387,0.0,3.110623018248299,2.8844738915544217,3.1054073187108853,2.3695679034965984,3.0174295116428564,2.6776539695340142,2.7689076071326535,2.8325677352210885,2.2517598853673464,2.9374114366496604,3.139448600384354,2.8180347343673473,3.148329587809524,2.983968134125851,3.080051874061225,3.710868429755102,0.0,2.2233248549795923,2.8959699335272107,0.0,2.963287182741497,0.0,2.402485587190476,2.5070728676870746,0.0,0.0,0.0,0.0,0.0,1.689712130088435,0.0,2.2786489774285714,2.2971052494115645,3.0700195609013603,3.2501682509489793,2.875571929306122,2.67551761532653,1.5389167769829932,2.8664489886020412,2.846286835465986,2.9471776484217687,3.187371286312924,0.0,0.0,0.0,2.5486704868707477,0.0,0.0,0.0,0.0,3.427270103061224,2.5767618823639458,2.2406592542244894,0.0,0.0,0.0,2.516711985833333,2.6819666489727885,0.0,2.5884353651666667,2.1229575531768705,0.0,2.477076521632654,2.3261806732925168,0.0,0.6439803426292516],\"coloraxis\":\"coloraxis\",\"pattern\":{\"shape\":\"\"}},\"name\":\"\",\"offsetgroup\":\"\",\"orientation\":\"v\",\"showlegend\":false,\"textposition\":\"auto\",\"x\":[\"United States\",\"Brazil\",\"India\",\"Russia\",\"Peru\",\"Mexico\",\"Spain\",\"South Africa\",\"Colombia\",\"United Kingdom\",\"Iran\",\"Chile\",\"Italy\",\"France\",\"Argentina\",\"Germany\",\"Turkey\",\"Saudi Arabia\",\"Pakistan\",\"Bangladesh\",\"Iraq\",\"Philippines\",\"China\",\"Indonesia\",\"Canada\",\"Qatar\",\"Israel\",\"Ukraine\",\"Belgium\",\"Ecuador\",\"Kazakhstan\",\"Netherlands\",\"Egypt\",\"Sweden\",\"Bolivia\",\"Romania\",\"Dominican Republic\",\"Kuwait\",\"Belarus\",\"Panama\",\"United Arab Emirates\",\"Oman\",\"Portugal\",\"Poland\",\"Singapore\",\"Morocco\",\"Japan\",\"Guatemala\",\"Switzerland\",\"Bahrain\",\"Honduras\",\"Nigeria\",\"Armenia\",\"Nepal\",\"Ireland\",\"Czech Republic\",\"Afghanistan\",\"Austria\",\"Ghana\",\"Algeria\",\"Ethiopia\",\"Venezuela\",\"Moldova\",\"Costa Rica\",\"Uzbekistan\",\"Kyrgyzstan\",\"Azerbaijan\",\"Serbia\",\"Puerto Rico\",\"South Korea\",\"Kenya\",\"Palestine\",\"Denmark\",\"Australia\",\"El Salvador\",\"Cameroon\",\"Paraguay\",\"Lebanon\",\"Bosnia and Herzegovina\",\"Cote d'Ivoire\",\"Norway\",\"Bulgaria\",\"Libya\",\"Malaysia\",\"Macedonia\",\"Hungary\",\"Sudan\",\"Senegal\",\"Finland\",\"Madagascar\",\"Greece\",\"Kosovo\",\"Croatia\",\"Democratic Republic of Congo\",\"Guinea\",\"Luxembourg\",\"Zambia\",\"Tajikistan\",\"Albania\",\"Gabon\",\"Haiti\",\"Tunisia\",\"Maldives\",\"Mauritania\",\"Slovakia\",\"Djibouti\",\"Jordan\",\"Namibia\",\"Montenegro\",\"Thailand\",\"Myanmar\",\"Zimbabwe\",\"Central African Republic\",\"Cuba\",\"Equatorial Guinea\",\"Slovenia\",\"Malawi\",\"Nicaragua\",\"Mozambique\",\"Somalia\",\"Lithuania\",\"Congo\",\"Cape Verde\",\"Uganda\",\"Sri Lanka\",\"Estonia\",\"Swaziland\",\"Georgia\",\"Iceland\",\"Mali\",\"Rwanda\",\"Jamaica\",\"Suriname\",\"South Sudan\",\"Guinea-Bissau\",\"Angola\",\"Sierra Leone\",\"Syria\",\"Latvia\",\"New Zealand\",\"Malta\",\"Benin\",\"Uruguay\",\"Bahamas\",\"Cyprus\",\"Burkina Faso\",\"Gambia\",\"Yemen\",\"Trinidad and Tobago\",\"Andorra\",\"Aruba\",\"Botswana\",\"Niger\",\"Togo\",\"Guyana\",\"Guam\",\"Liberia\",\"Chad\",\"San Marino\",\"Vietnam\",\"Sao Tome and Principe\",\"Lesotho\",\"Belize\",\"United States Virgin Islands\",\"Taiwan\",\"French Polynesia\",\"Tanzania\",\"Mauritius\",\"Jersey\",\"Isle of Man\",\"Faeroe Islands\",\"Comoros\",\"Guernsey\",\"Burundi\",\"Sint Maarten (Dutch part)\",\"Gibraltar\",\"Turks and Caicos Islands\",\"Mongolia\",\"Eritrea\",\"Cambodia\",\"Papua New Guinea\",\"Cayman Islands\",\"Brunei\",\"Bermuda\",\"Barbados\",\"Bhutan\",\"Monaco\",\"Liechtenstein\",\"Curacao\",\"Seychelles\",\"Antigua and Barbuda\",\"Saint Vincent and the Grenadines\",\"Northern Mariana Islands\",\"Bonaire Sint Eustatius and Saba\",\"Fiji\",\"Timor\",\"British Virgin Islands\",\"New Caledonia\",\"Grenada\",\"Saint Lucia\",\"Laos\",\"Dominica\",\"Saint Kitts and Nevis\",\"Greenland\",\"Falkland Islands\",\"Vatican\",\"Montserrat\",\"Anguilla\",\"Solomon Islands\",\"Hong Kong\"],\"xaxis\":\"x\",\"y\":[746014098.0,425704517.0,407771615.0,132888951.0,74882695.0,74347548.0,73717676.0,63027659.0,60543682.0,59475032.0,52421884.0,51268034.0,50752853.0,50084335.0,47155234.0,42447678.0,41431948.0,38585191.0,37738077.0,35266178.0,25280332.0,22409936.0,21632319.0,21570149.0,20902374.0,16351440.0,16202474.0,15805665.0,15192468.0,14408757.0,13194863.0,13026629.0,12422845.0,11910109.0,11858838.0,10672859.0,10649646.0,10622205.0,10595186.0,10371724.0,10247326.0,10060093.0,9266263.0,9239657.0,8191161.0,7839270.0,7659484.0,7644426.0,7552067.0,6549995.0,6545499.0,6107371.0,5474629.0,5243653.0,5239798.0,5213980.0,5126433.0,4909197.0,4900649.0,4893999.0,4876417.0,4839834.0,4632482.0,4631835.0,4421215.0,4287847.0,4236782.0,3984174.0,3586463.0,3333075.0,3277734.0,3249458.0,3030088.0,3012377.0,2573206.0,2476502.0,2265640.0,2220699.0,2200057.0,2132883.0,1985889.0,1890380.0,1817274.0,1774181.0,1724220.0,1708798.0,1663545.0,1586747.0,1458484.0,1443321.0,1421470.0,1345940.0,1314031.0,1271391.0,1195836.0,1146724.0,1129913.0,1117391.0,1071951.0,1031803.0,1023155.0,1000626.0,844040.0,799222.0,798665.0,781771.0,716514.0,681299.0,675912.0,655703.0,644209.0,593699.0,593048.0,581546.0,557355.0,547075.0,536447.0,524410.0,510578.0,491145.0,488057.0,473368.0,463888.0,448728.0,446643.0,445402.0,444238.0,431689.0,421210.0,390637.0,388775.0,370890.0,358632.0,333500.0,306564.0,304005.0,268396.0,267902.0,255964.0,253203.0,251261.0,245893.0,239884.0,237908.0,236673.0,231452.0,229521.0,228925.0,225550.0,223576.0,215110.0,205758.0,199978.0,169903.0,166917.0,160975.0,159880.0,154173.0,134994.0,122618.0,121909.0,107948.0,106383.0,98536.0,97074.0,95388.0,91526.0,69524.0,66777.0,64935.0,56893.0,52437.0,49814.0,49745.0,48026.0,45340.0,44432.0,42465.0,40026.0,39539.0,35966.0,33173.0,30140.0,28876.0,24998.0,22847.0,21511.0,19885.0,19777.0,14701.0,12619.0,7824.0,7784.0,5080.0,4742.0,4697.0,4605.0,4495.0,4470.0,4450.0,4039.0,3977.0,3246.0,2678.0,2467.0,2415.0,2383.0,614.0,11.0,0.0],\"yaxis\":\"y\",\"type\":\"bar\"}],                        {\"template\":{\"data\":{\"histogram2dcontour\":[{\"type\":\"histogram2dcontour\",\"colorbar\":{\"outlinewidth\":0,\"ticks\":\"\"},\"colorscale\":[[0.0,\"#0d0887\"],[0.1111111111111111,\"#46039f\"],[0.2222222222222222,\"#7201a8\"],[0.3333333333333333,\"#9c179e\"],[0.4444444444444444,\"#bd3786\"],[0.5555555555555556,\"#d8576b\"],[0.6666666666666666,\"#ed7953\"],[0.7777777777777778,\"#fb9f3a\"],[0.8888888888888888,\"#fdca26\"],[1.0,\"#f0f921\"]]}],\"choropleth\":[{\"type\":\"choropleth\",\"colorbar\":{\"outlinewidth\":0,\"ticks\":\"\"}}],\"histogram2d\":[{\"type\":\"histogram2d\",\"colorbar\":{\"outlinewidth\":0,\"ticks\":\"\"},\"colorscale\":[[0.0,\"#0d0887\"],[0.1111111111111111,\"#46039f\"],[0.2222222222222222,\"#7201a8\"],[0.3333333333333333,\"#9c179e\"],[0.4444444444444444,\"#bd3786\"],[0.5555555555555556,\"#d8576b\"],[0.6666666666666666,\"#ed7953\"],[0.7777777777777778,\"#fb9f3a\"],[0.8888888888888888,\"#fdca26\"],[1.0,\"#f0f921\"]]}],\"heatmap\":[{\"type\":\"heatmap\",\"colorbar\":{\"outlinewidth\":0,\"ticks\":\"\"},\"colorscale\":[[0.0,\"#0d0887\"],[0.1111111111111111,\"#46039f\"],[0.2222222222222222,\"#7201a8\"],[0.3333333333333333,\"#9c179e\"],[0.4444444444444444,\"#bd3786\"],[0.5555555555555556,\"#d8576b\"],[0.6666666666666666,\"#ed7953\"],[0.7777777777777778,\"#fb9f3a\"],[0.8888888888888888,\"#fdca26\"],[1.0,\"#f0f921\"]]}],\"heatmapgl\":[{\"type\":\"heatmapgl\",\"colorbar\":{\"outlinewidth\":0,\"ticks\":\"\"},\"colorscale\":[[0.0,\"#0d0887\"],[0.1111111111111111,\"#46039f\"],[0.2222222222222222,\"#7201a8\"],[0.3333333333333333,\"#9c179e\"],[0.4444444444444444,\"#bd3786\"],[0.5555555555555556,\"#d8576b\"],[0.6666666666666666,\"#ed7953\"],[0.7777777777777778,\"#fb9f3a\"],[0.8888888888888888,\"#fdca26\"],[1.0,\"#f0f921\"]]}],\"contourcarpet\":[{\"type\":\"contourcarpet\",\"colorbar\":{\"outlinewidth\":0,\"ticks\":\"\"}}],\"contour\":[{\"type\":\"contour\",\"colorbar\":{\"outlinewidth\":0,\"ticks\":\"\"},\"colorscale\":[[0.0,\"#0d0887\"],[0.1111111111111111,\"#46039f\"],[0.2222222222222222,\"#7201a8\"],[0.3333333333333333,\"#9c179e\"],[0.4444444444444444,\"#bd3786\"],[0.5555555555555556,\"#d8576b\"],[0.6666666666666666,\"#ed7953\"],[0.7777777777777778,\"#fb9f3a\"],[0.8888888888888888,\"#fdca26\"],[1.0,\"#f0f921\"]]}],\"surface\":[{\"type\":\"surface\",\"colorbar\":{\"outlinewidth\":0,\"ticks\":\"\"},\"colorscale\":[[0.0,\"#0d0887\"],[0.1111111111111111,\"#46039f\"],[0.2222222222222222,\"#7201a8\"],[0.3333333333333333,\"#9c179e\"],[0.4444444444444444,\"#bd3786\"],[0.5555555555555556,\"#d8576b\"],[0.6666666666666666,\"#ed7953\"],[0.7777777777777778,\"#fb9f3a\"],[0.8888888888888888,\"#fdca26\"],[1.0,\"#f0f921\"]]}],\"mesh3d\":[{\"type\":\"mesh3d\",\"colorbar\":{\"outlinewidth\":0,\"ticks\":\"\"}}],\"scatter\":[{\"fillpattern\":{\"fillmode\":\"overlay\",\"size\":10,\"solidity\":0.2},\"type\":\"scatter\"}],\"parcoords\":[{\"type\":\"parcoords\",\"line\":{\"colorbar\":{\"outlinewidth\":0,\"ticks\":\"\"}}}],\"scatterpolargl\":[{\"type\":\"scatterpolargl\",\"marker\":{\"colorbar\":{\"outlinewidth\":0,\"ticks\":\"\"}}}],\"bar\":[{\"error_x\":{\"color\":\"#2a3f5f\"},\"error_y\":{\"color\":\"#2a3f5f\"},\"marker\":{\"line\":{\"color\":\"#E5ECF6\",\"width\":0.5},\"pattern\":{\"fillmode\":\"overlay\",\"size\":10,\"solidity\":0.2}},\"type\":\"bar\"}],\"scattergeo\":[{\"type\":\"scattergeo\",\"marker\":{\"colorbar\":{\"outlinewidth\":0,\"ticks\":\"\"}}}],\"scatterpolar\":[{\"type\":\"scatterpolar\",\"marker\":{\"colorbar\":{\"outlinewidth\":0,\"ticks\":\"\"}}}],\"histogram\":[{\"marker\":{\"pattern\":{\"fillmode\":\"overlay\",\"size\":10,\"solidity\":0.2}},\"type\":\"histogram\"}],\"scattergl\":[{\"type\":\"scattergl\",\"marker\":{\"colorbar\":{\"outlinewidth\":0,\"ticks\":\"\"}}}],\"scatter3d\":[{\"type\":\"scatter3d\",\"line\":{\"colorbar\":{\"outlinewidth\":0,\"ticks\":\"\"}},\"marker\":{\"colorbar\":{\"outlinewidth\":0,\"ticks\":\"\"}}}],\"scattermapbox\":[{\"type\":\"scattermapbox\",\"marker\":{\"colorbar\":{\"outlinewidth\":0,\"ticks\":\"\"}}}],\"scatterternary\":[{\"type\":\"scatterternary\",\"marker\":{\"colorbar\":{\"outlinewidth\":0,\"ticks\":\"\"}}}],\"scattercarpet\":[{\"type\":\"scattercarpet\",\"marker\":{\"colorbar\":{\"outlinewidth\":0,\"ticks\":\"\"}}}],\"carpet\":[{\"aaxis\":{\"endlinecolor\":\"#2a3f5f\",\"gridcolor\":\"white\",\"linecolor\":\"white\",\"minorgridcolor\":\"white\",\"startlinecolor\":\"#2a3f5f\"},\"baxis\":{\"endlinecolor\":\"#2a3f5f\",\"gridcolor\":\"white\",\"linecolor\":\"white\",\"minorgridcolor\":\"white\",\"startlinecolor\":\"#2a3f5f\"},\"type\":\"carpet\"}],\"table\":[{\"cells\":{\"fill\":{\"color\":\"#EBF0F8\"},\"line\":{\"color\":\"white\"}},\"header\":{\"fill\":{\"color\":\"#C8D4E3\"},\"line\":{\"color\":\"white\"}},\"type\":\"table\"}],\"barpolar\":[{\"marker\":{\"line\":{\"color\":\"#E5ECF6\",\"width\":0.5},\"pattern\":{\"fillmode\":\"overlay\",\"size\":10,\"solidity\":0.2}},\"type\":\"barpolar\"}],\"pie\":[{\"automargin\":true,\"type\":\"pie\"}]},\"layout\":{\"autotypenumbers\":\"strict\",\"colorway\":[\"#636efa\",\"#EF553B\",\"#00cc96\",\"#ab63fa\",\"#FFA15A\",\"#19d3f3\",\"#FF6692\",\"#B6E880\",\"#FF97FF\",\"#FECB52\"],\"font\":{\"color\":\"#2a3f5f\"},\"hovermode\":\"closest\",\"hoverlabel\":{\"align\":\"left\"},\"paper_bgcolor\":\"white\",\"plot_bgcolor\":\"#E5ECF6\",\"polar\":{\"bgcolor\":\"#E5ECF6\",\"angularaxis\":{\"gridcolor\":\"white\",\"linecolor\":\"white\",\"ticks\":\"\"},\"radialaxis\":{\"gridcolor\":\"white\",\"linecolor\":\"white\",\"ticks\":\"\"}},\"ternary\":{\"bgcolor\":\"#E5ECF6\",\"aaxis\":{\"gridcolor\":\"white\",\"linecolor\":\"white\",\"ticks\":\"\"},\"baxis\":{\"gridcolor\":\"white\",\"linecolor\":\"white\",\"ticks\":\"\"},\"caxis\":{\"gridcolor\":\"white\",\"linecolor\":\"white\",\"ticks\":\"\"}},\"coloraxis\":{\"colorbar\":{\"outlinewidth\":0,\"ticks\":\"\"}},\"colorscale\":{\"sequential\":[[0.0,\"#0d0887\"],[0.1111111111111111,\"#46039f\"],[0.2222222222222222,\"#7201a8\"],[0.3333333333333333,\"#9c179e\"],[0.4444444444444444,\"#bd3786\"],[0.5555555555555556,\"#d8576b\"],[0.6666666666666666,\"#ed7953\"],[0.7777777777777778,\"#fb9f3a\"],[0.8888888888888888,\"#fdca26\"],[1.0,\"#f0f921\"]],\"sequentialminus\":[[0.0,\"#0d0887\"],[0.1111111111111111,\"#46039f\"],[0.2222222222222222,\"#7201a8\"],[0.3333333333333333,\"#9c179e\"],[0.4444444444444444,\"#bd3786\"],[0.5555555555555556,\"#d8576b\"],[0.6666666666666666,\"#ed7953\"],[0.7777777777777778,\"#fb9f3a\"],[0.8888888888888888,\"#fdca26\"],[1.0,\"#f0f921\"]],\"diverging\":[[0,\"#8e0152\"],[0.1,\"#c51b7d\"],[0.2,\"#de77ae\"],[0.3,\"#f1b6da\"],[0.4,\"#fde0ef\"],[0.5,\"#f7f7f7\"],[0.6,\"#e6f5d0\"],[0.7,\"#b8e186\"],[0.8,\"#7fbc41\"],[0.9,\"#4d9221\"],[1,\"#276419\"]]},\"xaxis\":{\"gridcolor\":\"white\",\"linecolor\":\"white\",\"ticks\":\"\",\"title\":{\"standoff\":15},\"zerolinecolor\":\"white\",\"automargin\":true,\"zerolinewidth\":2},\"yaxis\":{\"gridcolor\":\"white\",\"linecolor\":\"white\",\"ticks\":\"\",\"title\":{\"standoff\":15},\"zerolinecolor\":\"white\",\"automargin\":true,\"zerolinewidth\":2},\"scene\":{\"xaxis\":{\"backgroundcolor\":\"#E5ECF6\",\"gridcolor\":\"white\",\"linecolor\":\"white\",\"showbackground\":true,\"ticks\":\"\",\"zerolinecolor\":\"white\",\"gridwidth\":2},\"yaxis\":{\"backgroundcolor\":\"#E5ECF6\",\"gridcolor\":\"white\",\"linecolor\":\"white\",\"showbackground\":true,\"ticks\":\"\",\"zerolinecolor\":\"white\",\"gridwidth\":2},\"zaxis\":{\"backgroundcolor\":\"#E5ECF6\",\"gridcolor\":\"white\",\"linecolor\":\"white\",\"showbackground\":true,\"ticks\":\"\",\"zerolinecolor\":\"white\",\"gridwidth\":2}},\"shapedefaults\":{\"line\":{\"color\":\"#2a3f5f\"}},\"annotationdefaults\":{\"arrowcolor\":\"#2a3f5f\",\"arrowhead\":0,\"arrowwidth\":1},\"geo\":{\"bgcolor\":\"white\",\"landcolor\":\"#E5ECF6\",\"subunitcolor\":\"white\",\"showland\":true,\"showlakes\":true,\"lakecolor\":\"white\"},\"title\":{\"x\":0.05},\"mapbox\":{\"style\":\"light\"}}},\"xaxis\":{\"anchor\":\"y\",\"domain\":[0.0,1.0],\"title\":{\"text\":\"Country\"}},\"yaxis\":{\"anchor\":\"x\",\"domain\":[0.0,1.0],\"title\":{\"text\":\"Total Cases\"}},\"coloraxis\":{\"colorbar\":{\"title\":{\"text\":\"Stringency Index\"}},\"colorscale\":[[0.0,\"#0d0887\"],[0.1111111111111111,\"#46039f\"],[0.2222222222222222,\"#7201a8\"],[0.3333333333333333,\"#9c179e\"],[0.4444444444444444,\"#bd3786\"],[0.5555555555555556,\"#d8576b\"],[0.6666666666666666,\"#ed7953\"],[0.7777777777777778,\"#fb9f3a\"],[0.8888888888888888,\"#fdca26\"],[1.0,\"#f0f921\"]]},\"legend\":{\"tracegroupgap\":0},\"title\":{\"text\":\"Stringency Index during Covid-19\"},\"barmode\":\"relative\",\"height\":400},                        {\"responsive\": true}                    ).then(function(){\n",
       "                            \n",
       "var gd = document.getElementById('a11839ee-8717-4ed5-bcd0-101072996cc2');\n",
       "var x = new MutationObserver(function (mutations, observer) {{\n",
       "        var display = window.getComputedStyle(gd).display;\n",
       "        if (!display || display === 'none') {{\n",
       "            console.log([gd, 'removed!']);\n",
       "            Plotly.purge(gd);\n",
       "            observer.disconnect();\n",
       "        }}\n",
       "}});\n",
       "\n",
       "// Listen for the removal of the full notebook cells\n",
       "var notebookContainer = gd.closest('#notebook-container');\n",
       "if (notebookContainer) {{\n",
       "    x.observe(notebookContainer, {childList: true});\n",
       "}}\n",
       "\n",
       "// Listen for the clearing of the current output cell\n",
       "var outputEl = gd.closest('.output');\n",
       "if (outputEl) {{\n",
       "    x.observe(outputEl, {childList: true});\n",
       "}}\n",
       "\n",
       "                        })                };                });            </script>        </div>"
      ]
     },
     "metadata": {},
     "output_type": "display_data"
    }
   ],
   "source": [
    "fig = px.bar(df, x='Country', y='Total Cases',\n",
    "             hover_data=['Population', 'Total Deaths'], \n",
    "             color='Stringency Index', height=400, \n",
    "             title= \"Stringency Index during Covid-19\")\n",
    "fig.show()"
   ]
  },
  {
   "cell_type": "code",
   "execution_count": 69,
   "id": "7e289c50",
   "metadata": {},
   "outputs": [
    {
     "data": {
      "application/vnd.plotly.v1+json": {
       "config": {
        "plotlyServerURL": "https://plot.ly"
       },
       "data": [
        {
         "alignmentgroup": "True",
         "customdata": [
          [
           19.61763693,
           26477574
          ],
          [
           19.17473208,
           14340567
          ],
          [
           21.04535251,
           7247327
          ],
          [
           18.79866817,
           2131571
          ],
          [
           17.3111646,
           3020038
          ],
          [
           18.67480153,
           7295850
          ],
          [
           17.66042712,
           5510624
          ],
          [
           17.8982664,
           1357682
          ],
          [
           17.74503716,
           1936134
          ],
          [
           18.03334044,
           7249573
          ],
          [
           18.24624346,
           2914070
          ],
          [
           16.76604717,
           1283880
          ],
          [
           17.91752278,
           6664225
          ],
          [
           17.99409688,
           5633444
          ],
          [
           17.62651421,
           1077426
          ],
          [
           18.24375196,
           1640691
          ],
          [
           18.25035574,
           1049757
          ],
          [
           17.36552634,
           442507
          ],
          [
           19.21318595,
           789557
          ],
          [
           18.91957173,
           484534
          ],
          [
           17.50993717,
           744253
          ],
          [
           18.51217534,
           448665
          ],
          [
           21.08743924,
           1066939
          ],
          [
           19.42689854,
           916111
          ],
          [
           17.44628825,
           1455549
          ],
          [
           14.87366884,
           23820
          ],
          [
           15.97371025,
           126278
          ],
          [
           17.59363088,
           343334
          ],
          [
           16.26562008,
           1798461
          ],
          [
           16.68585306,
           1083749
          ],
          [
           16.74812767,
           161480
          ],
          [
           16.6566263,
           1142410
          ],
          [
           18.44375647,
           644416
          ],
          [
           16.1279737,
           941063
          ],
          [
           16.27279152,
           578559
          ],
          [
           16.77238152,
           464952
          ],
          [
           16.19948244,
           209024
          ],
          [
           15.26725623,
           69104
          ],
          [
           16.06145345,
           88409
          ],
          [
           15.27755412,
           222435
          ],
          [
           16.10707515,
           58035
          ],
          [
           15.44604869,
           73391
          ],
          [
           16.13757538,
           302612
          ],
          [
           17.44905184,
           304001
          ],
          [
           15.58201085,
           4691
          ],
          [
           17.42400819,
           142270
          ],
          [
           18.65556675,
           194918
          ],
          [
           16.70118056,
           281588
          ],
          [
           15.97360361,
           320693
          ],
          [
           14.34706955,
           22413
          ],
          [
           16.10851066,
           200844
          ],
          [
           19.1440641,
           125473
          ],
          [
           14.9017918,
           102039
          ],
          [
           17.18751281,
           27737
          ],
          [
           15.41242964,
           310201
          ],
          [
           16.18659339,
           79880
          ],
          [
           17.4772331,
           165875
          ],
          [
           16.01344599,
           134945
          ],
          [
           17.25184806,
           29143
          ],
          [
           17.59630906,
           206429
          ],
          [
           18.56012597,
           77686
          ],
          [
           17.1631645,
           40840
          ],
          [
           15.21025983,
           129946
          ],
          [
           15.44359631,
           50352
          ],
          [
           17.32613614,
           31903
          ],
          [
           15.69102752,
           114922
          ],
          [
           16.13191719,
           59495
          ],
          [
           15.73310882,
           87503
          ],
          [
           14.86662585,
           54940
          ],
          [
           17.75260041,
           63333
          ],
          [
           17.80025043,
           59485
          ],
          [
           15.44502871,
           21522
          ],
          [
           15.57202326,
           113280
          ],
          [
           17.05418434,
           65029
          ],
          [
           15.68518756,
           71957
          ],
          [
           17.09438451,
           56606
          ],
          [
           15.78017657,
           42850
          ],
          [
           15.73616766,
           22983
          ],
          [
           15.00360243,
           70578
          ],
          [
           17.08805131,
           14220
          ],
          [
           15.5058355,
           47158
          ],
          [
           15.75402845,
           72850
          ],
          [
           15.74286198,
           29730
          ],
          [
           17.29261899,
           24012
          ],
          [
           14.54950213,
           74066
          ],
          [
           16.08354044,
           110142
          ],
          [
           17.59626861,
           102825
          ],
          [
           16.63354636,
           30320
          ],
          [
           15.52763465,
           58377
          ],
          [
           17.13661869,
           17744
          ],
          [
           16.15953083,
           44805
          ],
          [
           14.47446683,
           47571
          ],
          [
           15.22778158,
           28757
          ],
          [
           18.31043503,
           32040
          ],
          [
           16.39062287,
           7283
          ],
          [
           13.34706731,
           21907
          ],
          [
           16.72698889,
           26475
          ],
          [
           16.07075684,
           9730
          ],
          [
           14.87253667,
           31056
          ],
          [
           14.61559461,
           6877
          ],
          [
           16.24934608,
           23891
          ],
          [
           16.28518664,
           19025
          ],
          [
           13.20032762,
           3054
          ],
          [
           15.35230466,
           19810
          ],
          [
           15.51289396,
           6055
          ],
          [
           13.80344,
           8006
          ],
          [
           16.13820607,
           5653
          ],
          [
           14.7480352,
           6634
          ],
          [
           13.35039417,
           11356
          ],
          [
           18.06114425,
           11162
          ],
          [
           17.81205473,
           13973
          ],
          [
           16.51438055,
           15984
          ],
          [
           15.39030816,
           7108
          ],
          [
           16.24266591,
           16774
          ],
          [
           14.15411267,
           8947
          ],
          [
           14.54736486,
           22165
          ],
          [
           16.76676599,
           15480
          ],
          [
           15.70629361,
           16410
          ],
          [
           17.25770384,
           3396
          ],
          [
           16.5814031,
           15001
          ],
          [
           14.81698436,
           14345
          ],
          [
           15.52354271,
           9298
          ],
          [
           13.22850199,
           4749
          ],
          [
           17.63850561,
           3748
          ],
          [
           16.87952045,
           2108
          ],
          [
           14.09808385,
           11802
          ],
          [
           13.96407193,
           8179
          ],
          [
           15.199095,
           4013
          ],
          [
           12.74037063,
           1968
          ],
          [
           16.82370654,
           18813
          ],
          [
           16.37677691,
           1744
          ],
          [
           14.90109198,
           5653
          ],
          [
           13.28215639,
           6961
          ],
          [
           16.23086427,
           6063
          ],
          [
           14.49252734,
           4199
          ],
          [
           17.3079574,
           11820
          ],
          [
           15.89207108,
           10036
          ],
          [
           16.67774898,
           12098
          ],
          [
           14.45007584,
           5376
          ],
          [
           15.38874766,
           4145
          ],
          [
           12.99802163,
           2409
          ],
          [
           16.31063137,
           4374
          ],
          [
           15.06073864,
           6083
          ],
          [
           12.88219574,
           5998
          ],
          [
           13.68300607,
           3735
          ],
          [
           16.85541655,
           10248
          ],
          [
           14.69789863,
           7201
          ],
          [
           17.21088998,
           64304
          ],
          [
           14.15161916,
           4519
          ],
          [
           11.25499635,
           9850
          ],
          [
           11.5783948,
           1624
          ],
          [
           14.67061714,
           895
          ],
          [
           17.00213737,
           11676
          ],
          [
           15.92920098,
           4197
          ],
          [
           13.57542301,
           5783
          ],
          [
           12.03636915,
           2715
          ],
          [
           15.43641784,
           10087
          ],
          [
           16.61436742,
           12212
          ],
          [
           10.43229061,
           8596
          ],
          [
           18.39370601,
           2318
          ],
          [
           12.2975619,
           2198
          ],
          [
           14.57736817,
           2680
          ],
          [
           12.89325457,
           1613
          ],
          [
           11.55620524,
           1833
          ],
          [
           16.98590072,
           1423
          ],
          [
           12.54576825,
           260
          ],
          [
           17.9054155,
           3733
          ],
          [
           14.05591783,
           1988
          ],
          [
           11.52359831,
           5527
          ],
          [
           11.35078294,
           4310
          ],
          [
           10.79681667,
           0
          ],
          [
           13.67578287,
           920
          ],
          [
           11.11322372,
           2450
          ],
          [
           16.29127395,
           188
          ],
          [
           10.66620744,
           3146
          ],
          [
           10.42498602,
           0
          ],
          [
           10.56405989,
           476
          ],
          [
           15.00283311,
           0
          ],
          [
           15.08145118,
           0
          ],
          [
           16.63205462,
           0
          ],
          [
           16.00683186,
           417
          ],
          [
           11.09315857,
           213
          ],
          [
           12.98879313,
           475
          ],
          [
           11.03928322,
           1631
          ],
          [
           12.56852934,
           1321
          ],
          [
           13.55623711,
           0
          ],
          [
           10.57755385,
           192
          ],
          [
           10.54894022,
           198
          ],
          [
           12.00823128,
           207
          ],
          [
           11.49618614,
           0
          ],
          [
           11.49198779,
           568
          ],
          [
           11.61680789,
           0
          ],
          [
           10.96053104,
           396
          ],
          [
           10.1743159,
           48
          ],
          [
           13.7061911,
           132
          ],
          [
           14.09196129,
           0
          ],
          [
           10.31682162,
           183
          ],
          [
           12.56196578,
           0
          ],
          [
           11.63087738,
           0
          ],
          [
           12.1206727,
           0
          ],
          [
           15.80003079,
           0
          ],
          [
           11.18429639,
           0
          ],
          [
           10.88166329,
           0
          ],
          [
           10.94679853,
           0
          ],
          [
           8.15564927,
           0
          ],
          [
           6.695798917,
           0
          ],
          [
           8.516993171,
           177
          ],
          [
           9.615938805,
           0
          ],
          [
           13.43991197,
           0
          ],
          [
           15.8300119,
           0
          ]
         ],
         "hovertemplate": "Country=%{x}<br>Total Cases=%{y}<br>Population=%{customdata[0]}<br>Total Deaths=%{customdata[1]}<br>HDI=%{marker.color}<extra></extra>",
         "legendgroup": "",
         "marker": {
          "color": [
           0.9240000000000003,
           0.7590000000000001,
           0.64,
           0.816,
           0.5994897959183674,
           0.774,
           0.887969387755102,
           0.6086530612244898,
           0.5818469387755102,
           0.9219999999999999,
           0.798,
           0.6566224489795919,
           0.8799999999999999,
           0.901,
           0.7071428571428571,
           0.9360000000000003,
           0.591904761904762,
           0.6731156462585033,
           0.5620000000000002,
           0.47771428571428576,
           0.6850000000000002,
           0.699,
           0.7519999999999999,
           0.694,
           0.926,
           0.856,
           0.9030000000000002,
           0.5747448979591837,
           0.9097687074829933,
           0.7519999999999999,
           0.6013605442176871,
           0.9310000000000002,
           0.6959999999999998,
           0.9234795918367349,
           0.5232857142857141,
           0.811,
           0.7359999999999999,
           0.8029999999999999,
           0.8079999999999998,
           0.6038265306122448,
           0.8629999999999998,
           0.8209999999999998,
           0.6712619047619045,
           0.6708163265306123,
           0.9320000000000002,
           0.5807891156462585,
           0.9089999999999999,
           0.5438775510204084,
           0.9439999999999998,
           0.846,
           0.461700680272109,
           0.5319999999999999,
           0.7550000000000001,
           0.574,
           0.9379999999999997,
           0.888,
           0.4980000000000001,
           0.908,
           0.4429931972789114,
           0.754,
           0.34803741496598645,
           0.5668673469387754,
           0.5333333333333333,
           0.6103537414965988,
           0.5264625850340137,
           0.49142857142857127,
           0.7569999999999998,
           0.634418367346939,
           0,
           0.9030000000000002,
           0.4575510204081633,
           0.5296666666666668,
           0.9290000000000002,
           0.9389999999999997,
           0.4928911564625853,
           0.4217278911564626,
           0.5420204081632652,
           0.7569999999999998,
           0.582530612244898,
           0.36816326530612237,
           0.9530000000000001,
           0.6194285714285716,
           0.5523129251700679,
           0.8019999999999998,
           0.7569999999999998,
           0.6555782312925167,
           0.3756462585034013,
           0.403656462585034,
           0.92,
           0.37601020408163266,
           0.87,
           0,
           0.8309999999999997,
           0.3435272108843537,
           0.3419081632653061,
           0.904,
           0.42999999999999994,
           0.38027210884353746,
           0.6007653061224489,
           0.5253061224489796,
           0.3624897959183674,
           0.565,
           0.5462857142857142,
           0.3873469387755101,
           0.6630612244897962,
           0.34809523809523807,
           0.5674999999999999,
           0.48194897959183686,
           0.5980408163265306,
           0.7550000000000001,
           0.4167891156462586,
           0.38760204081632654,
           0.27212925170068025,
           0.5787857142857142,
           0.44023469387755104,
           0.6948571428571431,
           0.3326020408163265,
           0.4811904761904763,
           0.31362925170068023,
           0,
           0.8579999999999999,
           0.44934693877551013,
           0.47381632653061223,
           0.3720816326530612,
           0.77,
           0.8710000000000002,
           0.43799999999999994,
           0.7800000000000001,
           0.9350000000000004,
           0.30209523809523803,
           0.3903265306122449,
           0.5502448979591836,
           0.5240816326530612,
           0.2599863945578231,
           0.32035714285714284,
           0.41895238095238085,
           0.2878843537414965,
           0.3846802721088435,
           0.6741428571428569,
           0.917,
           0.7675034013605443,
           0.3801190476190475,
           0.5988979591836735,
           0.5928979591836737,
           0.6561836734693877,
           0.31796938775510203,
           0.33795918367346944,
           0.29672108843537415,
           0.5893333333333335,
           0.6595510204081633,
           0,
           0.49263265306122433,
           0.25646938775510203,
           0.39350340136054424,
           0.4871632653061225,
           0,
           0.3210714285714285,
           0.29406802721088443,
           0,
           0.694,
           0.3886598639455783,
           0.2794557823129252,
           0.5057142857142858,
           0,
           0,
           0,
           0.3970952380952382,
           0.5750340136054423,
           0,
           0,
           0,
           0.29256122448979593,
           0,
           0.2865102040816326,
           0,
           0,
           0,
           0.5544897959183672,
           0.3172789115646259,
           0.582,
           0.3941224489795919,
           0,
           0.647003401360544,
           0,
           0.5877551020408164,
           0.464204081632653,
           0,
           0.6979047619047621,
           0,
           0.5936836734693878,
           0.5677551020408164,
           0.5311836734693878,
           0,
           0,
           0.6653877551020407,
           0.45068027210884354,
           0,
           0,
           0.5540544217687077,
           0.5564387755102042,
           0.4272414965986394,
           0.5131462585034013,
           0.5504217687074832,
           0,
           0,
           0,
           0,
           0,
           0.007428571428571429,
           0.1618469387755102
          ],
          "coloraxis": "coloraxis",
          "pattern": {
           "shape": ""
          }
         },
         "name": "",
         "offsetgroup": "",
         "orientation": "v",
         "showlegend": false,
         "textposition": "auto",
         "type": "bar",
         "x": [
          "United States",
          "Brazil",
          "India",
          "Russia",
          "Peru",
          "Mexico",
          "Spain",
          "South Africa",
          "Colombia",
          "United Kingdom",
          "Iran",
          "Chile",
          "Italy",
          "France",
          "Argentina",
          "Germany",
          "Turkey",
          "Saudi Arabia",
          "Pakistan",
          "Bangladesh",
          "Iraq",
          "Philippines",
          "China",
          "Indonesia",
          "Canada",
          "Qatar",
          "Israel",
          "Ukraine",
          "Belgium",
          "Ecuador",
          "Kazakhstan",
          "Netherlands",
          "Egypt",
          "Sweden",
          "Bolivia",
          "Romania",
          "Dominican Republic",
          "Kuwait",
          "Belarus",
          "Panama",
          "United Arab Emirates",
          "Oman",
          "Portugal",
          "Poland",
          "Singapore",
          "Morocco",
          "Japan",
          "Guatemala",
          "Switzerland",
          "Bahrain",
          "Honduras",
          "Nigeria",
          "Armenia",
          "Nepal",
          "Ireland",
          "Czech Republic",
          "Afghanistan",
          "Austria",
          "Ghana",
          "Algeria",
          "Ethiopia",
          "Venezuela",
          "Moldova",
          "Costa Rica",
          "Uzbekistan",
          "Kyrgyzstan",
          "Azerbaijan",
          "Serbia",
          "Puerto Rico",
          "South Korea",
          "Kenya",
          "Palestine",
          "Denmark",
          "Australia",
          "El Salvador",
          "Cameroon",
          "Paraguay",
          "Lebanon",
          "Bosnia and Herzegovina",
          "Cote d'Ivoire",
          "Norway",
          "Bulgaria",
          "Libya",
          "Malaysia",
          "Macedonia",
          "Hungary",
          "Sudan",
          "Senegal",
          "Finland",
          "Madagascar",
          "Greece",
          "Kosovo",
          "Croatia",
          "Democratic Republic of Congo",
          "Guinea",
          "Luxembourg",
          "Zambia",
          "Tajikistan",
          "Albania",
          "Gabon",
          "Haiti",
          "Tunisia",
          "Maldives",
          "Mauritania",
          "Slovakia",
          "Djibouti",
          "Jordan",
          "Namibia",
          "Montenegro",
          "Thailand",
          "Myanmar",
          "Zimbabwe",
          "Central African Republic",
          "Cuba",
          "Equatorial Guinea",
          "Slovenia",
          "Malawi",
          "Nicaragua",
          "Mozambique",
          "Somalia",
          "Lithuania",
          "Congo",
          "Cape Verde",
          "Uganda",
          "Sri Lanka",
          "Estonia",
          "Swaziland",
          "Georgia",
          "Iceland",
          "Mali",
          "Rwanda",
          "Jamaica",
          "Suriname",
          "South Sudan",
          "Guinea-Bissau",
          "Angola",
          "Sierra Leone",
          "Syria",
          "Latvia",
          "New Zealand",
          "Malta",
          "Benin",
          "Uruguay",
          "Bahamas",
          "Cyprus",
          "Burkina Faso",
          "Gambia",
          "Yemen",
          "Trinidad and Tobago",
          "Andorra",
          "Aruba",
          "Botswana",
          "Niger",
          "Togo",
          "Guyana",
          "Guam",
          "Liberia",
          "Chad",
          "San Marino",
          "Vietnam",
          "Sao Tome and Principe",
          "Lesotho",
          "Belize",
          "United States Virgin Islands",
          "Taiwan",
          "French Polynesia",
          "Tanzania",
          "Mauritius",
          "Jersey",
          "Isle of Man",
          "Faeroe Islands",
          "Comoros",
          "Guernsey",
          "Burundi",
          "Sint Maarten (Dutch part)",
          "Gibraltar",
          "Turks and Caicos Islands",
          "Mongolia",
          "Eritrea",
          "Cambodia",
          "Papua New Guinea",
          "Cayman Islands",
          "Brunei",
          "Bermuda",
          "Barbados",
          "Bhutan",
          "Monaco",
          "Liechtenstein",
          "Curacao",
          "Seychelles",
          "Antigua and Barbuda",
          "Saint Vincent and the Grenadines",
          "Northern Mariana Islands",
          "Bonaire Sint Eustatius and Saba",
          "Fiji",
          "Timor",
          "British Virgin Islands",
          "New Caledonia",
          "Grenada",
          "Saint Lucia",
          "Laos",
          "Dominica",
          "Saint Kitts and Nevis",
          "Greenland",
          "Falkland Islands",
          "Vatican",
          "Montserrat",
          "Anguilla",
          "Solomon Islands",
          "Hong Kong"
         ],
         "xaxis": "x",
         "y": [
          746014098,
          425704517,
          407771615,
          132888951,
          74882695,
          74347548,
          73717676,
          63027659,
          60543682,
          59475032,
          52421884,
          51268034,
          50752853,
          50084335,
          47155234,
          42447678,
          41431948,
          38585191,
          37738077,
          35266178,
          25280332,
          22409936,
          21632319,
          21570149,
          20902374,
          16351440,
          16202474,
          15805665,
          15192468,
          14408757,
          13194863,
          13026629,
          12422845,
          11910109,
          11858838,
          10672859,
          10649646,
          10622205,
          10595186,
          10371724,
          10247326,
          10060093,
          9266263,
          9239657,
          8191161,
          7839270,
          7659484,
          7644426,
          7552067,
          6549995,
          6545499,
          6107371,
          5474629,
          5243653,
          5239798,
          5213980,
          5126433,
          4909197,
          4900649,
          4893999,
          4876417,
          4839834,
          4632482,
          4631835,
          4421215,
          4287847,
          4236782,
          3984174,
          3586463,
          3333075,
          3277734,
          3249458,
          3030088,
          3012377,
          2573206,
          2476502,
          2265640,
          2220699,
          2200057,
          2132883,
          1985889,
          1890380,
          1817274,
          1774181,
          1724220,
          1708798,
          1663545,
          1586747,
          1458484,
          1443321,
          1421470,
          1345940,
          1314031,
          1271391,
          1195836,
          1146724,
          1129913,
          1117391,
          1071951,
          1031803,
          1023155,
          1000626,
          844040,
          799222,
          798665,
          781771,
          716514,
          681299,
          675912,
          655703,
          644209,
          593699,
          593048,
          581546,
          557355,
          547075,
          536447,
          524410,
          510578,
          491145,
          488057,
          473368,
          463888,
          448728,
          446643,
          445402,
          444238,
          431689,
          421210,
          390637,
          388775,
          370890,
          358632,
          333500,
          306564,
          304005,
          268396,
          267902,
          255964,
          253203,
          251261,
          245893,
          239884,
          237908,
          236673,
          231452,
          229521,
          228925,
          225550,
          223576,
          215110,
          205758,
          199978,
          169903,
          166917,
          160975,
          159880,
          154173,
          134994,
          122618,
          121909,
          107948,
          106383,
          98536,
          97074,
          95388,
          91526,
          69524,
          66777,
          64935,
          56893,
          52437,
          49814,
          49745,
          48026,
          45340,
          44432,
          42465,
          40026,
          39539,
          35966,
          33173,
          30140,
          28876,
          24998,
          22847,
          21511,
          19885,
          19777,
          14701,
          12619,
          7824,
          7784,
          5080,
          4742,
          4697,
          4605,
          4495,
          4470,
          4450,
          4039,
          3977,
          3246,
          2678,
          2467,
          2415,
          2383,
          614,
          11,
          0
         ],
         "yaxis": "y"
        }
       ],
       "layout": {
        "barmode": "relative",
        "coloraxis": {
         "colorbar": {
          "title": {
           "text": "HDI"
          }
         },
         "colorscale": [
          [
           0,
           "#0d0887"
          ],
          [
           0.1111111111111111,
           "#46039f"
          ],
          [
           0.2222222222222222,
           "#7201a8"
          ],
          [
           0.3333333333333333,
           "#9c179e"
          ],
          [
           0.4444444444444444,
           "#bd3786"
          ],
          [
           0.5555555555555556,
           "#d8576b"
          ],
          [
           0.6666666666666666,
           "#ed7953"
          ],
          [
           0.7777777777777778,
           "#fb9f3a"
          ],
          [
           0.8888888888888888,
           "#fdca26"
          ],
          [
           1,
           "#f0f921"
          ]
         ]
        },
        "height": 400,
        "legend": {
         "tracegroupgap": 0
        },
        "template": {
         "data": {
          "bar": [
           {
            "error_x": {
             "color": "#2a3f5f"
            },
            "error_y": {
             "color": "#2a3f5f"
            },
            "marker": {
             "line": {
              "color": "#E5ECF6",
              "width": 0.5
             },
             "pattern": {
              "fillmode": "overlay",
              "size": 10,
              "solidity": 0.2
             }
            },
            "type": "bar"
           }
          ],
          "barpolar": [
           {
            "marker": {
             "line": {
              "color": "#E5ECF6",
              "width": 0.5
             },
             "pattern": {
              "fillmode": "overlay",
              "size": 10,
              "solidity": 0.2
             }
            },
            "type": "barpolar"
           }
          ],
          "carpet": [
           {
            "aaxis": {
             "endlinecolor": "#2a3f5f",
             "gridcolor": "white",
             "linecolor": "white",
             "minorgridcolor": "white",
             "startlinecolor": "#2a3f5f"
            },
            "baxis": {
             "endlinecolor": "#2a3f5f",
             "gridcolor": "white",
             "linecolor": "white",
             "minorgridcolor": "white",
             "startlinecolor": "#2a3f5f"
            },
            "type": "carpet"
           }
          ],
          "choropleth": [
           {
            "colorbar": {
             "outlinewidth": 0,
             "ticks": ""
            },
            "type": "choropleth"
           }
          ],
          "contour": [
           {
            "colorbar": {
             "outlinewidth": 0,
             "ticks": ""
            },
            "colorscale": [
             [
              0,
              "#0d0887"
             ],
             [
              0.1111111111111111,
              "#46039f"
             ],
             [
              0.2222222222222222,
              "#7201a8"
             ],
             [
              0.3333333333333333,
              "#9c179e"
             ],
             [
              0.4444444444444444,
              "#bd3786"
             ],
             [
              0.5555555555555556,
              "#d8576b"
             ],
             [
              0.6666666666666666,
              "#ed7953"
             ],
             [
              0.7777777777777778,
              "#fb9f3a"
             ],
             [
              0.8888888888888888,
              "#fdca26"
             ],
             [
              1,
              "#f0f921"
             ]
            ],
            "type": "contour"
           }
          ],
          "contourcarpet": [
           {
            "colorbar": {
             "outlinewidth": 0,
             "ticks": ""
            },
            "type": "contourcarpet"
           }
          ],
          "heatmap": [
           {
            "colorbar": {
             "outlinewidth": 0,
             "ticks": ""
            },
            "colorscale": [
             [
              0,
              "#0d0887"
             ],
             [
              0.1111111111111111,
              "#46039f"
             ],
             [
              0.2222222222222222,
              "#7201a8"
             ],
             [
              0.3333333333333333,
              "#9c179e"
             ],
             [
              0.4444444444444444,
              "#bd3786"
             ],
             [
              0.5555555555555556,
              "#d8576b"
             ],
             [
              0.6666666666666666,
              "#ed7953"
             ],
             [
              0.7777777777777778,
              "#fb9f3a"
             ],
             [
              0.8888888888888888,
              "#fdca26"
             ],
             [
              1,
              "#f0f921"
             ]
            ],
            "type": "heatmap"
           }
          ],
          "heatmapgl": [
           {
            "colorbar": {
             "outlinewidth": 0,
             "ticks": ""
            },
            "colorscale": [
             [
              0,
              "#0d0887"
             ],
             [
              0.1111111111111111,
              "#46039f"
             ],
             [
              0.2222222222222222,
              "#7201a8"
             ],
             [
              0.3333333333333333,
              "#9c179e"
             ],
             [
              0.4444444444444444,
              "#bd3786"
             ],
             [
              0.5555555555555556,
              "#d8576b"
             ],
             [
              0.6666666666666666,
              "#ed7953"
             ],
             [
              0.7777777777777778,
              "#fb9f3a"
             ],
             [
              0.8888888888888888,
              "#fdca26"
             ],
             [
              1,
              "#f0f921"
             ]
            ],
            "type": "heatmapgl"
           }
          ],
          "histogram": [
           {
            "marker": {
             "pattern": {
              "fillmode": "overlay",
              "size": 10,
              "solidity": 0.2
             }
            },
            "type": "histogram"
           }
          ],
          "histogram2d": [
           {
            "colorbar": {
             "outlinewidth": 0,
             "ticks": ""
            },
            "colorscale": [
             [
              0,
              "#0d0887"
             ],
             [
              0.1111111111111111,
              "#46039f"
             ],
             [
              0.2222222222222222,
              "#7201a8"
             ],
             [
              0.3333333333333333,
              "#9c179e"
             ],
             [
              0.4444444444444444,
              "#bd3786"
             ],
             [
              0.5555555555555556,
              "#d8576b"
             ],
             [
              0.6666666666666666,
              "#ed7953"
             ],
             [
              0.7777777777777778,
              "#fb9f3a"
             ],
             [
              0.8888888888888888,
              "#fdca26"
             ],
             [
              1,
              "#f0f921"
             ]
            ],
            "type": "histogram2d"
           }
          ],
          "histogram2dcontour": [
           {
            "colorbar": {
             "outlinewidth": 0,
             "ticks": ""
            },
            "colorscale": [
             [
              0,
              "#0d0887"
             ],
             [
              0.1111111111111111,
              "#46039f"
             ],
             [
              0.2222222222222222,
              "#7201a8"
             ],
             [
              0.3333333333333333,
              "#9c179e"
             ],
             [
              0.4444444444444444,
              "#bd3786"
             ],
             [
              0.5555555555555556,
              "#d8576b"
             ],
             [
              0.6666666666666666,
              "#ed7953"
             ],
             [
              0.7777777777777778,
              "#fb9f3a"
             ],
             [
              0.8888888888888888,
              "#fdca26"
             ],
             [
              1,
              "#f0f921"
             ]
            ],
            "type": "histogram2dcontour"
           }
          ],
          "mesh3d": [
           {
            "colorbar": {
             "outlinewidth": 0,
             "ticks": ""
            },
            "type": "mesh3d"
           }
          ],
          "parcoords": [
           {
            "line": {
             "colorbar": {
              "outlinewidth": 0,
              "ticks": ""
             }
            },
            "type": "parcoords"
           }
          ],
          "pie": [
           {
            "automargin": true,
            "type": "pie"
           }
          ],
          "scatter": [
           {
            "fillpattern": {
             "fillmode": "overlay",
             "size": 10,
             "solidity": 0.2
            },
            "type": "scatter"
           }
          ],
          "scatter3d": [
           {
            "line": {
             "colorbar": {
              "outlinewidth": 0,
              "ticks": ""
             }
            },
            "marker": {
             "colorbar": {
              "outlinewidth": 0,
              "ticks": ""
             }
            },
            "type": "scatter3d"
           }
          ],
          "scattercarpet": [
           {
            "marker": {
             "colorbar": {
              "outlinewidth": 0,
              "ticks": ""
             }
            },
            "type": "scattercarpet"
           }
          ],
          "scattergeo": [
           {
            "marker": {
             "colorbar": {
              "outlinewidth": 0,
              "ticks": ""
             }
            },
            "type": "scattergeo"
           }
          ],
          "scattergl": [
           {
            "marker": {
             "colorbar": {
              "outlinewidth": 0,
              "ticks": ""
             }
            },
            "type": "scattergl"
           }
          ],
          "scattermapbox": [
           {
            "marker": {
             "colorbar": {
              "outlinewidth": 0,
              "ticks": ""
             }
            },
            "type": "scattermapbox"
           }
          ],
          "scatterpolar": [
           {
            "marker": {
             "colorbar": {
              "outlinewidth": 0,
              "ticks": ""
             }
            },
            "type": "scatterpolar"
           }
          ],
          "scatterpolargl": [
           {
            "marker": {
             "colorbar": {
              "outlinewidth": 0,
              "ticks": ""
             }
            },
            "type": "scatterpolargl"
           }
          ],
          "scatterternary": [
           {
            "marker": {
             "colorbar": {
              "outlinewidth": 0,
              "ticks": ""
             }
            },
            "type": "scatterternary"
           }
          ],
          "surface": [
           {
            "colorbar": {
             "outlinewidth": 0,
             "ticks": ""
            },
            "colorscale": [
             [
              0,
              "#0d0887"
             ],
             [
              0.1111111111111111,
              "#46039f"
             ],
             [
              0.2222222222222222,
              "#7201a8"
             ],
             [
              0.3333333333333333,
              "#9c179e"
             ],
             [
              0.4444444444444444,
              "#bd3786"
             ],
             [
              0.5555555555555556,
              "#d8576b"
             ],
             [
              0.6666666666666666,
              "#ed7953"
             ],
             [
              0.7777777777777778,
              "#fb9f3a"
             ],
             [
              0.8888888888888888,
              "#fdca26"
             ],
             [
              1,
              "#f0f921"
             ]
            ],
            "type": "surface"
           }
          ],
          "table": [
           {
            "cells": {
             "fill": {
              "color": "#EBF0F8"
             },
             "line": {
              "color": "white"
             }
            },
            "header": {
             "fill": {
              "color": "#C8D4E3"
             },
             "line": {
              "color": "white"
             }
            },
            "type": "table"
           }
          ]
         },
         "layout": {
          "annotationdefaults": {
           "arrowcolor": "#2a3f5f",
           "arrowhead": 0,
           "arrowwidth": 1
          },
          "autotypenumbers": "strict",
          "coloraxis": {
           "colorbar": {
            "outlinewidth": 0,
            "ticks": ""
           }
          },
          "colorscale": {
           "diverging": [
            [
             0,
             "#8e0152"
            ],
            [
             0.1,
             "#c51b7d"
            ],
            [
             0.2,
             "#de77ae"
            ],
            [
             0.3,
             "#f1b6da"
            ],
            [
             0.4,
             "#fde0ef"
            ],
            [
             0.5,
             "#f7f7f7"
            ],
            [
             0.6,
             "#e6f5d0"
            ],
            [
             0.7,
             "#b8e186"
            ],
            [
             0.8,
             "#7fbc41"
            ],
            [
             0.9,
             "#4d9221"
            ],
            [
             1,
             "#276419"
            ]
           ],
           "sequential": [
            [
             0,
             "#0d0887"
            ],
            [
             0.1111111111111111,
             "#46039f"
            ],
            [
             0.2222222222222222,
             "#7201a8"
            ],
            [
             0.3333333333333333,
             "#9c179e"
            ],
            [
             0.4444444444444444,
             "#bd3786"
            ],
            [
             0.5555555555555556,
             "#d8576b"
            ],
            [
             0.6666666666666666,
             "#ed7953"
            ],
            [
             0.7777777777777778,
             "#fb9f3a"
            ],
            [
             0.8888888888888888,
             "#fdca26"
            ],
            [
             1,
             "#f0f921"
            ]
           ],
           "sequentialminus": [
            [
             0,
             "#0d0887"
            ],
            [
             0.1111111111111111,
             "#46039f"
            ],
            [
             0.2222222222222222,
             "#7201a8"
            ],
            [
             0.3333333333333333,
             "#9c179e"
            ],
            [
             0.4444444444444444,
             "#bd3786"
            ],
            [
             0.5555555555555556,
             "#d8576b"
            ],
            [
             0.6666666666666666,
             "#ed7953"
            ],
            [
             0.7777777777777778,
             "#fb9f3a"
            ],
            [
             0.8888888888888888,
             "#fdca26"
            ],
            [
             1,
             "#f0f921"
            ]
           ]
          },
          "colorway": [
           "#636efa",
           "#EF553B",
           "#00cc96",
           "#ab63fa",
           "#FFA15A",
           "#19d3f3",
           "#FF6692",
           "#B6E880",
           "#FF97FF",
           "#FECB52"
          ],
          "font": {
           "color": "#2a3f5f"
          },
          "geo": {
           "bgcolor": "white",
           "lakecolor": "white",
           "landcolor": "#E5ECF6",
           "showlakes": true,
           "showland": true,
           "subunitcolor": "white"
          },
          "hoverlabel": {
           "align": "left"
          },
          "hovermode": "closest",
          "mapbox": {
           "style": "light"
          },
          "paper_bgcolor": "white",
          "plot_bgcolor": "#E5ECF6",
          "polar": {
           "angularaxis": {
            "gridcolor": "white",
            "linecolor": "white",
            "ticks": ""
           },
           "bgcolor": "#E5ECF6",
           "radialaxis": {
            "gridcolor": "white",
            "linecolor": "white",
            "ticks": ""
           }
          },
          "scene": {
           "xaxis": {
            "backgroundcolor": "#E5ECF6",
            "gridcolor": "white",
            "gridwidth": 2,
            "linecolor": "white",
            "showbackground": true,
            "ticks": "",
            "zerolinecolor": "white"
           },
           "yaxis": {
            "backgroundcolor": "#E5ECF6",
            "gridcolor": "white",
            "gridwidth": 2,
            "linecolor": "white",
            "showbackground": true,
            "ticks": "",
            "zerolinecolor": "white"
           },
           "zaxis": {
            "backgroundcolor": "#E5ECF6",
            "gridcolor": "white",
            "gridwidth": 2,
            "linecolor": "white",
            "showbackground": true,
            "ticks": "",
            "zerolinecolor": "white"
           }
          },
          "shapedefaults": {
           "line": {
            "color": "#2a3f5f"
           }
          },
          "ternary": {
           "aaxis": {
            "gridcolor": "white",
            "linecolor": "white",
            "ticks": ""
           },
           "baxis": {
            "gridcolor": "white",
            "linecolor": "white",
            "ticks": ""
           },
           "bgcolor": "#E5ECF6",
           "caxis": {
            "gridcolor": "white",
            "linecolor": "white",
            "ticks": ""
           }
          },
          "title": {
           "x": 0.05
          },
          "xaxis": {
           "automargin": true,
           "gridcolor": "white",
           "linecolor": "white",
           "ticks": "",
           "title": {
            "standoff": 15
           },
           "zerolinecolor": "white",
           "zerolinewidth": 2
          },
          "yaxis": {
           "automargin": true,
           "gridcolor": "white",
           "linecolor": "white",
           "ticks": "",
           "title": {
            "standoff": 15
           },
           "zerolinecolor": "white",
           "zerolinewidth": 2
          }
         }
        },
        "title": {
         "text": "Human Development Index during Covid-19"
        },
        "xaxis": {
         "anchor": "y",
         "domain": [
          0,
          1
         ],
         "title": {
          "text": "Country"
         }
        },
        "yaxis": {
         "anchor": "x",
         "domain": [
          0,
          1
         ],
         "title": {
          "text": "Total Cases"
         }
        }
       }
      },
      "text/html": [
       "<div>                            <div id=\"fba042f3-6d5e-4c80-895f-03a110e8f249\" class=\"plotly-graph-div\" style=\"height:400px; width:100%;\"></div>            <script type=\"text/javascript\">                require([\"plotly\"], function(Plotly) {                    window.PLOTLYENV=window.PLOTLYENV || {};                                    if (document.getElementById(\"fba042f3-6d5e-4c80-895f-03a110e8f249\")) {                    Plotly.newPlot(                        \"fba042f3-6d5e-4c80-895f-03a110e8f249\",                        [{\"alignmentgroup\":\"True\",\"customdata\":[[19.61763693,26477574.0],[19.17473208,14340567.0],[21.04535251,7247327.0],[18.79866817,2131571.0],[17.3111646,3020038.0],[18.67480153,7295850.0],[17.66042712,5510624.0],[17.8982664,1357682.0],[17.74503716,1936134.0],[18.03334044,7249573.0],[18.24624346,2914070.0],[16.76604717,1283880.0],[17.91752278,6664225.0],[17.99409688,5633444.0],[17.62651421,1077426.0],[18.24375196,1640691.0],[18.25035574,1049757.0],[17.36552634,442507.0],[19.21318595,789557.0],[18.91957173,484534.0],[17.50993717,744253.0],[18.51217534,448665.0],[21.08743924,1066939.0],[19.42689854,916111.0],[17.44628825,1455549.0],[14.87366884,23820.0],[15.97371025,126278.0],[17.59363088,343334.0],[16.26562008,1798461.0],[16.68585306,1083749.0],[16.74812767,161480.0],[16.6566263,1142410.0],[18.44375647,644416.0],[16.1279737,941063.0],[16.27279152,578559.0],[16.77238152,464952.0],[16.19948244,209024.0],[15.26725623,69104.0],[16.06145345,88409.0],[15.27755412,222435.0],[16.10707515,58035.0],[15.44604869,73391.0],[16.13757538,302612.0],[17.44905184,304001.0],[15.58201085,4691.0],[17.42400819,142270.0],[18.65556675,194918.0],[16.70118056,281588.0],[15.97360361,320693.0],[14.34706955,22413.0],[16.10851066,200844.0],[19.1440641,125473.0],[14.9017918,102039.0],[17.18751281,27737.0],[15.41242964,310201.0],[16.18659339,79880.0],[17.4772331,165875.0],[16.01344599,134945.0],[17.25184806,29143.0],[17.59630906,206429.0],[18.56012597,77686.0],[17.1631645,40840.0],[15.21025983,129946.0],[15.44359631,50352.0],[17.32613614,31903.0],[15.69102752,114922.0],[16.13191719,59495.0],[15.73310882,87503.0],[14.86662585,54940.0],[17.75260041,63333.0],[17.80025043,59485.0],[15.44502871,21522.0],[15.57202326,113280.0],[17.05418434,65029.0],[15.68518756,71957.0],[17.09438451,56606.0],[15.78017657,42850.0],[15.73616766,22983.0],[15.00360243,70578.0],[17.08805131,14220.0],[15.5058355,47158.0],[15.75402845,72850.0],[15.74286198,29730.0],[17.29261899,24012.0],[14.54950213,74066.0],[16.08354044,110142.0],[17.59626861,102825.0],[16.63354636,30320.0],[15.52763465,58377.0],[17.13661869,17744.0],[16.15953083,44805.0],[14.47446683,47571.0],[15.22778158,28757.0],[18.31043503,32040.0],[16.39062287,7283.0],[13.34706731,21907.0],[16.72698889,26475.0],[16.07075684,9730.0],[14.87253667,31056.0],[14.61559461,6877.0],[16.24934608,23891.0],[16.28518664,19025.0],[13.20032762,3054.0],[15.35230466,19810.0],[15.51289396,6055.0],[13.80344,8006.0],[16.13820607,5653.0],[14.7480352,6634.0],[13.35039417,11356.0],[18.06114425,11162.0],[17.81205473,13973.0],[16.51438055,15984.0],[15.39030816,7108.0],[16.24266591,16774.0],[14.15411267,8947.0],[14.54736486,22165.0],[16.76676599,15480.0],[15.70629361,16410.0],[17.25770384,3396.0],[16.5814031,15001.0],[14.81698436,14345.0],[15.52354271,9298.0],[13.22850199,4749.0],[17.63850561,3748.0],[16.87952045,2108.0],[14.09808385,11802.0],[13.96407193,8179.0],[15.199095,4013.0],[12.74037063,1968.0],[16.82370654,18813.0],[16.37677691,1744.0],[14.90109198,5653.0],[13.28215639,6961.0],[16.23086427,6063.0],[14.49252734,4199.0],[17.3079574,11820.0],[15.89207108,10036.0],[16.67774898,12098.0],[14.45007584,5376.0],[15.38874766,4145.0],[12.99802163,2409.0],[16.31063137,4374.0],[15.06073864,6083.0],[12.88219574,5998.0],[13.68300607,3735.0],[16.85541655,10248.0],[14.69789863,7201.0],[17.21088998,64304.0],[14.15161916,4519.0],[11.25499635,9850.0],[11.5783948,1624.0],[14.67061714,895.0],[17.00213737,11676.0],[15.92920098,4197.0],[13.57542301,5783.0],[12.03636915,2715.0],[15.43641784,10087.0],[16.61436742,12212.0],[10.43229061,8596.0],[18.39370601,2318.0],[12.2975619,2198.0],[14.57736817,2680.0],[12.89325457,1613.0],[11.55620524,1833.0],[16.98590072,1423.0],[12.54576825,260.0],[17.9054155,3733.0],[14.05591783,1988.0],[11.52359831,5527.0],[11.35078294,4310.0],[10.79681667,0.0],[13.67578287,920.0],[11.11322372,2450.0],[16.29127395,188.0],[10.66620744,3146.0],[10.42498602,0.0],[10.56405989,476.0],[15.00283311,0.0],[15.08145118,0.0],[16.63205462,0.0],[16.00683186,417.0],[11.09315857,213.0],[12.98879313,475.0],[11.03928322,1631.0],[12.56852934,1321.0],[13.55623711,0.0],[10.57755385,192.0],[10.54894022,198.0],[12.00823128,207.0],[11.49618614,0.0],[11.49198779,568.0],[11.61680789,0.0],[10.96053104,396.0],[10.1743159,48.0],[13.7061911,132.0],[14.09196129,0.0],[10.31682162,183.0],[12.56196578,0.0],[11.63087738,0.0],[12.1206727,0.0],[15.80003079,0.0],[11.18429639,0.0],[10.88166329,0.0],[10.94679853,0.0],[8.15564927,0.0],[6.695798917,0.0],[8.516993171,177.0],[9.615938805,0.0],[13.43991197,0.0],[15.8300119,0.0]],\"hovertemplate\":\"Country=%{x}<br>Total Cases=%{y}<br>Population=%{customdata[0]}<br>Total Deaths=%{customdata[1]}<br>HDI=%{marker.color}<extra></extra>\",\"legendgroup\":\"\",\"marker\":{\"color\":[0.9240000000000003,0.7590000000000001,0.64,0.816,0.5994897959183674,0.774,0.887969387755102,0.6086530612244898,0.5818469387755102,0.9219999999999999,0.798,0.6566224489795919,0.8799999999999999,0.901,0.7071428571428571,0.9360000000000003,0.591904761904762,0.6731156462585033,0.5620000000000002,0.47771428571428576,0.6850000000000002,0.699,0.7519999999999999,0.694,0.926,0.856,0.9030000000000002,0.5747448979591837,0.9097687074829933,0.7519999999999999,0.6013605442176871,0.9310000000000002,0.6959999999999998,0.9234795918367349,0.5232857142857141,0.811,0.7359999999999999,0.8029999999999999,0.8079999999999998,0.6038265306122448,0.8629999999999998,0.8209999999999998,0.6712619047619045,0.6708163265306123,0.9320000000000002,0.5807891156462585,0.9089999999999999,0.5438775510204084,0.9439999999999998,0.846,0.461700680272109,0.5319999999999999,0.7550000000000001,0.574,0.9379999999999997,0.888,0.4980000000000001,0.908,0.4429931972789114,0.754,0.34803741496598645,0.5668673469387754,0.5333333333333333,0.6103537414965988,0.5264625850340137,0.49142857142857127,0.7569999999999998,0.634418367346939,0.0,0.9030000000000002,0.4575510204081633,0.5296666666666668,0.9290000000000002,0.9389999999999997,0.4928911564625853,0.4217278911564626,0.5420204081632652,0.7569999999999998,0.582530612244898,0.36816326530612237,0.9530000000000001,0.6194285714285716,0.5523129251700679,0.8019999999999998,0.7569999999999998,0.6555782312925167,0.3756462585034013,0.403656462585034,0.92,0.37601020408163266,0.87,0.0,0.8309999999999997,0.3435272108843537,0.3419081632653061,0.904,0.42999999999999994,0.38027210884353746,0.6007653061224489,0.5253061224489796,0.3624897959183674,0.565,0.5462857142857142,0.3873469387755101,0.6630612244897962,0.34809523809523807,0.5674999999999999,0.48194897959183686,0.5980408163265306,0.7550000000000001,0.4167891156462586,0.38760204081632654,0.27212925170068025,0.5787857142857142,0.44023469387755104,0.6948571428571431,0.3326020408163265,0.4811904761904763,0.31362925170068023,0.0,0.8579999999999999,0.44934693877551013,0.47381632653061223,0.3720816326530612,0.77,0.8710000000000002,0.43799999999999994,0.7800000000000001,0.9350000000000004,0.30209523809523803,0.3903265306122449,0.5502448979591836,0.5240816326530612,0.2599863945578231,0.32035714285714284,0.41895238095238085,0.2878843537414965,0.3846802721088435,0.6741428571428569,0.917,0.7675034013605443,0.3801190476190475,0.5988979591836735,0.5928979591836737,0.6561836734693877,0.31796938775510203,0.33795918367346944,0.29672108843537415,0.5893333333333335,0.6595510204081633,0.0,0.49263265306122433,0.25646938775510203,0.39350340136054424,0.4871632653061225,0.0,0.3210714285714285,0.29406802721088443,0.0,0.694,0.3886598639455783,0.2794557823129252,0.5057142857142858,0.0,0.0,0.0,0.3970952380952382,0.5750340136054423,0.0,0.0,0.0,0.29256122448979593,0.0,0.2865102040816326,0.0,0.0,0.0,0.5544897959183672,0.3172789115646259,0.582,0.3941224489795919,0.0,0.647003401360544,0.0,0.5877551020408164,0.464204081632653,0.0,0.6979047619047621,0.0,0.5936836734693878,0.5677551020408164,0.5311836734693878,0.0,0.0,0.6653877551020407,0.45068027210884354,0.0,0.0,0.5540544217687077,0.5564387755102042,0.4272414965986394,0.5131462585034013,0.5504217687074832,0.0,0.0,0.0,0.0,0.0,0.007428571428571429,0.1618469387755102],\"coloraxis\":\"coloraxis\",\"pattern\":{\"shape\":\"\"}},\"name\":\"\",\"offsetgroup\":\"\",\"orientation\":\"v\",\"showlegend\":false,\"textposition\":\"auto\",\"x\":[\"United States\",\"Brazil\",\"India\",\"Russia\",\"Peru\",\"Mexico\",\"Spain\",\"South Africa\",\"Colombia\",\"United Kingdom\",\"Iran\",\"Chile\",\"Italy\",\"France\",\"Argentina\",\"Germany\",\"Turkey\",\"Saudi Arabia\",\"Pakistan\",\"Bangladesh\",\"Iraq\",\"Philippines\",\"China\",\"Indonesia\",\"Canada\",\"Qatar\",\"Israel\",\"Ukraine\",\"Belgium\",\"Ecuador\",\"Kazakhstan\",\"Netherlands\",\"Egypt\",\"Sweden\",\"Bolivia\",\"Romania\",\"Dominican Republic\",\"Kuwait\",\"Belarus\",\"Panama\",\"United Arab Emirates\",\"Oman\",\"Portugal\",\"Poland\",\"Singapore\",\"Morocco\",\"Japan\",\"Guatemala\",\"Switzerland\",\"Bahrain\",\"Honduras\",\"Nigeria\",\"Armenia\",\"Nepal\",\"Ireland\",\"Czech Republic\",\"Afghanistan\",\"Austria\",\"Ghana\",\"Algeria\",\"Ethiopia\",\"Venezuela\",\"Moldova\",\"Costa Rica\",\"Uzbekistan\",\"Kyrgyzstan\",\"Azerbaijan\",\"Serbia\",\"Puerto Rico\",\"South Korea\",\"Kenya\",\"Palestine\",\"Denmark\",\"Australia\",\"El Salvador\",\"Cameroon\",\"Paraguay\",\"Lebanon\",\"Bosnia and Herzegovina\",\"Cote d'Ivoire\",\"Norway\",\"Bulgaria\",\"Libya\",\"Malaysia\",\"Macedonia\",\"Hungary\",\"Sudan\",\"Senegal\",\"Finland\",\"Madagascar\",\"Greece\",\"Kosovo\",\"Croatia\",\"Democratic Republic of Congo\",\"Guinea\",\"Luxembourg\",\"Zambia\",\"Tajikistan\",\"Albania\",\"Gabon\",\"Haiti\",\"Tunisia\",\"Maldives\",\"Mauritania\",\"Slovakia\",\"Djibouti\",\"Jordan\",\"Namibia\",\"Montenegro\",\"Thailand\",\"Myanmar\",\"Zimbabwe\",\"Central African Republic\",\"Cuba\",\"Equatorial Guinea\",\"Slovenia\",\"Malawi\",\"Nicaragua\",\"Mozambique\",\"Somalia\",\"Lithuania\",\"Congo\",\"Cape Verde\",\"Uganda\",\"Sri Lanka\",\"Estonia\",\"Swaziland\",\"Georgia\",\"Iceland\",\"Mali\",\"Rwanda\",\"Jamaica\",\"Suriname\",\"South Sudan\",\"Guinea-Bissau\",\"Angola\",\"Sierra Leone\",\"Syria\",\"Latvia\",\"New Zealand\",\"Malta\",\"Benin\",\"Uruguay\",\"Bahamas\",\"Cyprus\",\"Burkina Faso\",\"Gambia\",\"Yemen\",\"Trinidad and Tobago\",\"Andorra\",\"Aruba\",\"Botswana\",\"Niger\",\"Togo\",\"Guyana\",\"Guam\",\"Liberia\",\"Chad\",\"San Marino\",\"Vietnam\",\"Sao Tome and Principe\",\"Lesotho\",\"Belize\",\"United States Virgin Islands\",\"Taiwan\",\"French Polynesia\",\"Tanzania\",\"Mauritius\",\"Jersey\",\"Isle of Man\",\"Faeroe Islands\",\"Comoros\",\"Guernsey\",\"Burundi\",\"Sint Maarten (Dutch part)\",\"Gibraltar\",\"Turks and Caicos Islands\",\"Mongolia\",\"Eritrea\",\"Cambodia\",\"Papua New Guinea\",\"Cayman Islands\",\"Brunei\",\"Bermuda\",\"Barbados\",\"Bhutan\",\"Monaco\",\"Liechtenstein\",\"Curacao\",\"Seychelles\",\"Antigua and Barbuda\",\"Saint Vincent and the Grenadines\",\"Northern Mariana Islands\",\"Bonaire Sint Eustatius and Saba\",\"Fiji\",\"Timor\",\"British Virgin Islands\",\"New Caledonia\",\"Grenada\",\"Saint Lucia\",\"Laos\",\"Dominica\",\"Saint Kitts and Nevis\",\"Greenland\",\"Falkland Islands\",\"Vatican\",\"Montserrat\",\"Anguilla\",\"Solomon Islands\",\"Hong Kong\"],\"xaxis\":\"x\",\"y\":[746014098.0,425704517.0,407771615.0,132888951.0,74882695.0,74347548.0,73717676.0,63027659.0,60543682.0,59475032.0,52421884.0,51268034.0,50752853.0,50084335.0,47155234.0,42447678.0,41431948.0,38585191.0,37738077.0,35266178.0,25280332.0,22409936.0,21632319.0,21570149.0,20902374.0,16351440.0,16202474.0,15805665.0,15192468.0,14408757.0,13194863.0,13026629.0,12422845.0,11910109.0,11858838.0,10672859.0,10649646.0,10622205.0,10595186.0,10371724.0,10247326.0,10060093.0,9266263.0,9239657.0,8191161.0,7839270.0,7659484.0,7644426.0,7552067.0,6549995.0,6545499.0,6107371.0,5474629.0,5243653.0,5239798.0,5213980.0,5126433.0,4909197.0,4900649.0,4893999.0,4876417.0,4839834.0,4632482.0,4631835.0,4421215.0,4287847.0,4236782.0,3984174.0,3586463.0,3333075.0,3277734.0,3249458.0,3030088.0,3012377.0,2573206.0,2476502.0,2265640.0,2220699.0,2200057.0,2132883.0,1985889.0,1890380.0,1817274.0,1774181.0,1724220.0,1708798.0,1663545.0,1586747.0,1458484.0,1443321.0,1421470.0,1345940.0,1314031.0,1271391.0,1195836.0,1146724.0,1129913.0,1117391.0,1071951.0,1031803.0,1023155.0,1000626.0,844040.0,799222.0,798665.0,781771.0,716514.0,681299.0,675912.0,655703.0,644209.0,593699.0,593048.0,581546.0,557355.0,547075.0,536447.0,524410.0,510578.0,491145.0,488057.0,473368.0,463888.0,448728.0,446643.0,445402.0,444238.0,431689.0,421210.0,390637.0,388775.0,370890.0,358632.0,333500.0,306564.0,304005.0,268396.0,267902.0,255964.0,253203.0,251261.0,245893.0,239884.0,237908.0,236673.0,231452.0,229521.0,228925.0,225550.0,223576.0,215110.0,205758.0,199978.0,169903.0,166917.0,160975.0,159880.0,154173.0,134994.0,122618.0,121909.0,107948.0,106383.0,98536.0,97074.0,95388.0,91526.0,69524.0,66777.0,64935.0,56893.0,52437.0,49814.0,49745.0,48026.0,45340.0,44432.0,42465.0,40026.0,39539.0,35966.0,33173.0,30140.0,28876.0,24998.0,22847.0,21511.0,19885.0,19777.0,14701.0,12619.0,7824.0,7784.0,5080.0,4742.0,4697.0,4605.0,4495.0,4470.0,4450.0,4039.0,3977.0,3246.0,2678.0,2467.0,2415.0,2383.0,614.0,11.0,0.0],\"yaxis\":\"y\",\"type\":\"bar\"}],                        {\"template\":{\"data\":{\"histogram2dcontour\":[{\"type\":\"histogram2dcontour\",\"colorbar\":{\"outlinewidth\":0,\"ticks\":\"\"},\"colorscale\":[[0.0,\"#0d0887\"],[0.1111111111111111,\"#46039f\"],[0.2222222222222222,\"#7201a8\"],[0.3333333333333333,\"#9c179e\"],[0.4444444444444444,\"#bd3786\"],[0.5555555555555556,\"#d8576b\"],[0.6666666666666666,\"#ed7953\"],[0.7777777777777778,\"#fb9f3a\"],[0.8888888888888888,\"#fdca26\"],[1.0,\"#f0f921\"]]}],\"choropleth\":[{\"type\":\"choropleth\",\"colorbar\":{\"outlinewidth\":0,\"ticks\":\"\"}}],\"histogram2d\":[{\"type\":\"histogram2d\",\"colorbar\":{\"outlinewidth\":0,\"ticks\":\"\"},\"colorscale\":[[0.0,\"#0d0887\"],[0.1111111111111111,\"#46039f\"],[0.2222222222222222,\"#7201a8\"],[0.3333333333333333,\"#9c179e\"],[0.4444444444444444,\"#bd3786\"],[0.5555555555555556,\"#d8576b\"],[0.6666666666666666,\"#ed7953\"],[0.7777777777777778,\"#fb9f3a\"],[0.8888888888888888,\"#fdca26\"],[1.0,\"#f0f921\"]]}],\"heatmap\":[{\"type\":\"heatmap\",\"colorbar\":{\"outlinewidth\":0,\"ticks\":\"\"},\"colorscale\":[[0.0,\"#0d0887\"],[0.1111111111111111,\"#46039f\"],[0.2222222222222222,\"#7201a8\"],[0.3333333333333333,\"#9c179e\"],[0.4444444444444444,\"#bd3786\"],[0.5555555555555556,\"#d8576b\"],[0.6666666666666666,\"#ed7953\"],[0.7777777777777778,\"#fb9f3a\"],[0.8888888888888888,\"#fdca26\"],[1.0,\"#f0f921\"]]}],\"heatmapgl\":[{\"type\":\"heatmapgl\",\"colorbar\":{\"outlinewidth\":0,\"ticks\":\"\"},\"colorscale\":[[0.0,\"#0d0887\"],[0.1111111111111111,\"#46039f\"],[0.2222222222222222,\"#7201a8\"],[0.3333333333333333,\"#9c179e\"],[0.4444444444444444,\"#bd3786\"],[0.5555555555555556,\"#d8576b\"],[0.6666666666666666,\"#ed7953\"],[0.7777777777777778,\"#fb9f3a\"],[0.8888888888888888,\"#fdca26\"],[1.0,\"#f0f921\"]]}],\"contourcarpet\":[{\"type\":\"contourcarpet\",\"colorbar\":{\"outlinewidth\":0,\"ticks\":\"\"}}],\"contour\":[{\"type\":\"contour\",\"colorbar\":{\"outlinewidth\":0,\"ticks\":\"\"},\"colorscale\":[[0.0,\"#0d0887\"],[0.1111111111111111,\"#46039f\"],[0.2222222222222222,\"#7201a8\"],[0.3333333333333333,\"#9c179e\"],[0.4444444444444444,\"#bd3786\"],[0.5555555555555556,\"#d8576b\"],[0.6666666666666666,\"#ed7953\"],[0.7777777777777778,\"#fb9f3a\"],[0.8888888888888888,\"#fdca26\"],[1.0,\"#f0f921\"]]}],\"surface\":[{\"type\":\"surface\",\"colorbar\":{\"outlinewidth\":0,\"ticks\":\"\"},\"colorscale\":[[0.0,\"#0d0887\"],[0.1111111111111111,\"#46039f\"],[0.2222222222222222,\"#7201a8\"],[0.3333333333333333,\"#9c179e\"],[0.4444444444444444,\"#bd3786\"],[0.5555555555555556,\"#d8576b\"],[0.6666666666666666,\"#ed7953\"],[0.7777777777777778,\"#fb9f3a\"],[0.8888888888888888,\"#fdca26\"],[1.0,\"#f0f921\"]]}],\"mesh3d\":[{\"type\":\"mesh3d\",\"colorbar\":{\"outlinewidth\":0,\"ticks\":\"\"}}],\"scatter\":[{\"fillpattern\":{\"fillmode\":\"overlay\",\"size\":10,\"solidity\":0.2},\"type\":\"scatter\"}],\"parcoords\":[{\"type\":\"parcoords\",\"line\":{\"colorbar\":{\"outlinewidth\":0,\"ticks\":\"\"}}}],\"scatterpolargl\":[{\"type\":\"scatterpolargl\",\"marker\":{\"colorbar\":{\"outlinewidth\":0,\"ticks\":\"\"}}}],\"bar\":[{\"error_x\":{\"color\":\"#2a3f5f\"},\"error_y\":{\"color\":\"#2a3f5f\"},\"marker\":{\"line\":{\"color\":\"#E5ECF6\",\"width\":0.5},\"pattern\":{\"fillmode\":\"overlay\",\"size\":10,\"solidity\":0.2}},\"type\":\"bar\"}],\"scattergeo\":[{\"type\":\"scattergeo\",\"marker\":{\"colorbar\":{\"outlinewidth\":0,\"ticks\":\"\"}}}],\"scatterpolar\":[{\"type\":\"scatterpolar\",\"marker\":{\"colorbar\":{\"outlinewidth\":0,\"ticks\":\"\"}}}],\"histogram\":[{\"marker\":{\"pattern\":{\"fillmode\":\"overlay\",\"size\":10,\"solidity\":0.2}},\"type\":\"histogram\"}],\"scattergl\":[{\"type\":\"scattergl\",\"marker\":{\"colorbar\":{\"outlinewidth\":0,\"ticks\":\"\"}}}],\"scatter3d\":[{\"type\":\"scatter3d\",\"line\":{\"colorbar\":{\"outlinewidth\":0,\"ticks\":\"\"}},\"marker\":{\"colorbar\":{\"outlinewidth\":0,\"ticks\":\"\"}}}],\"scattermapbox\":[{\"type\":\"scattermapbox\",\"marker\":{\"colorbar\":{\"outlinewidth\":0,\"ticks\":\"\"}}}],\"scatterternary\":[{\"type\":\"scatterternary\",\"marker\":{\"colorbar\":{\"outlinewidth\":0,\"ticks\":\"\"}}}],\"scattercarpet\":[{\"type\":\"scattercarpet\",\"marker\":{\"colorbar\":{\"outlinewidth\":0,\"ticks\":\"\"}}}],\"carpet\":[{\"aaxis\":{\"endlinecolor\":\"#2a3f5f\",\"gridcolor\":\"white\",\"linecolor\":\"white\",\"minorgridcolor\":\"white\",\"startlinecolor\":\"#2a3f5f\"},\"baxis\":{\"endlinecolor\":\"#2a3f5f\",\"gridcolor\":\"white\",\"linecolor\":\"white\",\"minorgridcolor\":\"white\",\"startlinecolor\":\"#2a3f5f\"},\"type\":\"carpet\"}],\"table\":[{\"cells\":{\"fill\":{\"color\":\"#EBF0F8\"},\"line\":{\"color\":\"white\"}},\"header\":{\"fill\":{\"color\":\"#C8D4E3\"},\"line\":{\"color\":\"white\"}},\"type\":\"table\"}],\"barpolar\":[{\"marker\":{\"line\":{\"color\":\"#E5ECF6\",\"width\":0.5},\"pattern\":{\"fillmode\":\"overlay\",\"size\":10,\"solidity\":0.2}},\"type\":\"barpolar\"}],\"pie\":[{\"automargin\":true,\"type\":\"pie\"}]},\"layout\":{\"autotypenumbers\":\"strict\",\"colorway\":[\"#636efa\",\"#EF553B\",\"#00cc96\",\"#ab63fa\",\"#FFA15A\",\"#19d3f3\",\"#FF6692\",\"#B6E880\",\"#FF97FF\",\"#FECB52\"],\"font\":{\"color\":\"#2a3f5f\"},\"hovermode\":\"closest\",\"hoverlabel\":{\"align\":\"left\"},\"paper_bgcolor\":\"white\",\"plot_bgcolor\":\"#E5ECF6\",\"polar\":{\"bgcolor\":\"#E5ECF6\",\"angularaxis\":{\"gridcolor\":\"white\",\"linecolor\":\"white\",\"ticks\":\"\"},\"radialaxis\":{\"gridcolor\":\"white\",\"linecolor\":\"white\",\"ticks\":\"\"}},\"ternary\":{\"bgcolor\":\"#E5ECF6\",\"aaxis\":{\"gridcolor\":\"white\",\"linecolor\":\"white\",\"ticks\":\"\"},\"baxis\":{\"gridcolor\":\"white\",\"linecolor\":\"white\",\"ticks\":\"\"},\"caxis\":{\"gridcolor\":\"white\",\"linecolor\":\"white\",\"ticks\":\"\"}},\"coloraxis\":{\"colorbar\":{\"outlinewidth\":0,\"ticks\":\"\"}},\"colorscale\":{\"sequential\":[[0.0,\"#0d0887\"],[0.1111111111111111,\"#46039f\"],[0.2222222222222222,\"#7201a8\"],[0.3333333333333333,\"#9c179e\"],[0.4444444444444444,\"#bd3786\"],[0.5555555555555556,\"#d8576b\"],[0.6666666666666666,\"#ed7953\"],[0.7777777777777778,\"#fb9f3a\"],[0.8888888888888888,\"#fdca26\"],[1.0,\"#f0f921\"]],\"sequentialminus\":[[0.0,\"#0d0887\"],[0.1111111111111111,\"#46039f\"],[0.2222222222222222,\"#7201a8\"],[0.3333333333333333,\"#9c179e\"],[0.4444444444444444,\"#bd3786\"],[0.5555555555555556,\"#d8576b\"],[0.6666666666666666,\"#ed7953\"],[0.7777777777777778,\"#fb9f3a\"],[0.8888888888888888,\"#fdca26\"],[1.0,\"#f0f921\"]],\"diverging\":[[0,\"#8e0152\"],[0.1,\"#c51b7d\"],[0.2,\"#de77ae\"],[0.3,\"#f1b6da\"],[0.4,\"#fde0ef\"],[0.5,\"#f7f7f7\"],[0.6,\"#e6f5d0\"],[0.7,\"#b8e186\"],[0.8,\"#7fbc41\"],[0.9,\"#4d9221\"],[1,\"#276419\"]]},\"xaxis\":{\"gridcolor\":\"white\",\"linecolor\":\"white\",\"ticks\":\"\",\"title\":{\"standoff\":15},\"zerolinecolor\":\"white\",\"automargin\":true,\"zerolinewidth\":2},\"yaxis\":{\"gridcolor\":\"white\",\"linecolor\":\"white\",\"ticks\":\"\",\"title\":{\"standoff\":15},\"zerolinecolor\":\"white\",\"automargin\":true,\"zerolinewidth\":2},\"scene\":{\"xaxis\":{\"backgroundcolor\":\"#E5ECF6\",\"gridcolor\":\"white\",\"linecolor\":\"white\",\"showbackground\":true,\"ticks\":\"\",\"zerolinecolor\":\"white\",\"gridwidth\":2},\"yaxis\":{\"backgroundcolor\":\"#E5ECF6\",\"gridcolor\":\"white\",\"linecolor\":\"white\",\"showbackground\":true,\"ticks\":\"\",\"zerolinecolor\":\"white\",\"gridwidth\":2},\"zaxis\":{\"backgroundcolor\":\"#E5ECF6\",\"gridcolor\":\"white\",\"linecolor\":\"white\",\"showbackground\":true,\"ticks\":\"\",\"zerolinecolor\":\"white\",\"gridwidth\":2}},\"shapedefaults\":{\"line\":{\"color\":\"#2a3f5f\"}},\"annotationdefaults\":{\"arrowcolor\":\"#2a3f5f\",\"arrowhead\":0,\"arrowwidth\":1},\"geo\":{\"bgcolor\":\"white\",\"landcolor\":\"#E5ECF6\",\"subunitcolor\":\"white\",\"showland\":true,\"showlakes\":true,\"lakecolor\":\"white\"},\"title\":{\"x\":0.05},\"mapbox\":{\"style\":\"light\"}}},\"xaxis\":{\"anchor\":\"y\",\"domain\":[0.0,1.0],\"title\":{\"text\":\"Country\"}},\"yaxis\":{\"anchor\":\"x\",\"domain\":[0.0,1.0],\"title\":{\"text\":\"Total Cases\"}},\"coloraxis\":{\"colorbar\":{\"title\":{\"text\":\"HDI\"}},\"colorscale\":[[0.0,\"#0d0887\"],[0.1111111111111111,\"#46039f\"],[0.2222222222222222,\"#7201a8\"],[0.3333333333333333,\"#9c179e\"],[0.4444444444444444,\"#bd3786\"],[0.5555555555555556,\"#d8576b\"],[0.6666666666666666,\"#ed7953\"],[0.7777777777777778,\"#fb9f3a\"],[0.8888888888888888,\"#fdca26\"],[1.0,\"#f0f921\"]]},\"legend\":{\"tracegroupgap\":0},\"title\":{\"text\":\"Human Development Index during Covid-19\"},\"barmode\":\"relative\",\"height\":400},                        {\"responsive\": true}                    ).then(function(){\n",
       "                            \n",
       "var gd = document.getElementById('fba042f3-6d5e-4c80-895f-03a110e8f249');\n",
       "var x = new MutationObserver(function (mutations, observer) {{\n",
       "        var display = window.getComputedStyle(gd).display;\n",
       "        if (!display || display === 'none') {{\n",
       "            console.log([gd, 'removed!']);\n",
       "            Plotly.purge(gd);\n",
       "            observer.disconnect();\n",
       "        }}\n",
       "}});\n",
       "\n",
       "// Listen for the removal of the full notebook cells\n",
       "var notebookContainer = gd.closest('#notebook-container');\n",
       "if (notebookContainer) {{\n",
       "    x.observe(notebookContainer, {childList: true});\n",
       "}}\n",
       "\n",
       "// Listen for the clearing of the current output cell\n",
       "var outputEl = gd.closest('.output');\n",
       "if (outputEl) {{\n",
       "    x.observe(outputEl, {childList: true});\n",
       "}}\n",
       "\n",
       "                        })                };                });            </script>        </div>"
      ]
     },
     "metadata": {},
     "output_type": "display_data"
    }
   ],
   "source": [
    "fig = px.bar(df, x='Country', y='Total Cases',\n",
    "             hover_data=['Population', 'Total Deaths'], \n",
    "             color='HDI', height=400, \n",
    "             title=\"Human Development Index during Covid-19\")\n",
    "fig.show()"
   ]
  }
 ],
 "metadata": {
  "kernelspec": {
   "display_name": "Python 3",
   "language": "python",
   "name": "python3"
  },
  "language_info": {
   "codemirror_mode": {
    "name": "ipython",
    "version": 3
   },
   "file_extension": ".py",
   "mimetype": "text/x-python",
   "name": "python",
   "nbconvert_exporter": "python",
   "pygments_lexer": "ipython3",
   "version": "3.8.8"
  }
 },
 "nbformat": 4,
 "nbformat_minor": 5
}
